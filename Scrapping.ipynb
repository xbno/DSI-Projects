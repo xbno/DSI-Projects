{
 "cells": [
  {
   "cell_type": "markdown",
   "metadata": {
    "deletable": true,
    "editable": true
   },
   "source": [
    "# Webscrapping steps"
   ]
  },
  {
   "cell_type": "markdown",
   "metadata": {
    "deletable": true,
    "editable": true
   },
   "source": [
    "#### Big Picture\n",
    "- get list of urls for all jobs\n",
    "    - meaning scroll through all urls\n",
    "- pull data for a subset ~50?\n",
    "- figure out how to parse those\n",
    "- \n",
    "\n",
    "#### Webscrapping\n",
    "1. go to indeed.com\n",
    "2. standardize search with keyword and location\n",
    "3. click go\n",
    "land: https://www.indeed.com/jobs?q=data&l=Boston%2C+MA\n",
    "4. find listing title, save salary range data\n",
    "5. follow link, append to list of visited listings\n",
    "6. confirm on indeed.com for structure\n",
    "7. scrape based on title, post id, body text, posting date, location, company, apply count, etc.\n",
    "8. append into dataframe\n",
    "9. step back to\n",
    "land: https://www.indeed.com/jobs?q=data&l=Boston%2C+MA\n",
    "10. click next title that is not in visited listings\n",
    "11. repeat steps 4-9\n",
    "12. when all links visited, click page 2\n",
    "land: https://www.indeed.com/jobs?q=data&l=Boston%2C+MA&start=10&pp=AAoAAAFbxSxt-AAAAAENOBA0AQAAxlWukuPRDQFNTykCzO5UTAUO6mGXqsg4Er23KZvD0A\n",
    "13. repeat 4-9\n",
    "14. when all links visited, click page +1\n",
    "land: https://www.indeed.com/jobs?q=data&l=Boston%2C+MA&start=20&pp=ABQAAAFbxSxt-AAAAAENN8auAQEBCGUOQf1bV9sc-lkcHOtTF7KWHslcHFliSxaclu09sE0nkVySI-Z2jxuaH8DoPDibwyxk\n",
    "\n",
    "#### Do same with another website if more data needed\n",
    "1. check other job sites to see formatting structure\n",
    "2. determine which is the best/easiest if needed"
   ]
  },
  {
   "cell_type": "markdown",
   "metadata": {
    "deletable": true,
    "editable": true
   },
   "source": [
    "## Imports"
   ]
  },
  {
   "cell_type": "code",
   "execution_count": 429,
   "metadata": {
    "collapsed": false,
    "deletable": true,
    "editable": true
   },
   "outputs": [
    {
     "name": "stdout",
     "output_type": "stream",
     "text": [
      "Requirement already satisfied: lxml in c:\\users\\xbn2\\anaconda3\\lib\\site-packages\n"
     ]
    }
   ],
   "source": [
    "!pip install lxml"
   ]
  },
  {
   "cell_type": "code",
   "execution_count": 430,
   "metadata": {
    "collapsed": false,
    "deletable": true,
    "editable": true
   },
   "outputs": [],
   "source": [
    "import pandas as pd\n",
    "pd.set_option('display.max_colwidth', -1)\n",
    "from pprint import pprint\n",
    "import requests\n",
    "from lxml import html"
   ]
  },
  {
   "cell_type": "markdown",
   "metadata": {
    "deletable": true,
    "editable": true
   },
   "source": [
    "## Link selection\n",
    "    - All postings including word data:"
   ]
  },
  {
   "cell_type": "code",
   "execution_count": 431,
   "metadata": {
    "collapsed": false,
    "deletable": true,
    "editable": true
   },
   "outputs": [],
   "source": [
    "search = 'data'\n",
    "#indeed = 'https://www.indeed.com/jobs?q=data&l=Boston%2C+MA'\n",
    "link = 'https://www.indeed.com/jobs?q=nlp&l=Boston%2C+MA&start='"
   ]
  },
  {
   "cell_type": "markdown",
   "metadata": {
    "deletable": true,
    "editable": true
   },
   "source": [
    "    - Postings including only the phrase: \"data science\""
   ]
  },
  {
   "cell_type": "code",
   "execution_count": 432,
   "metadata": {
    "collapsed": false,
    "deletable": true,
    "editable": true
   },
   "outputs": [
    {
     "name": "stdout",
     "output_type": "stream",
     "text": [
      "https://www.indeed.com/jobs?as_and=&as_phr=data+science&as_any=&as_not=&as_ttl=&as_cmp=&jt=all&st=&salary=35k-75k&radius=50&l=Boston%2C+MA&fromage=any&limit=50&sort=&psf=advsrch\n"
     ]
    }
   ],
   "source": [
    "#generate links\n",
    "phrase = 'data+science'\n",
    "loc = 'Boston%2C+MA'\n",
    "by = '50'\n",
    "sal = '35k-75k'\n",
    "anyy = '' #'sql+python+sklearn'\n",
    "link = 'https://www.indeed.com/jobs?as_and=&as_phr=' + str(phrase) + '&as_any=' + str(anyy) + '&as_not=&as_ttl=&as_cmp=&jt=all&st=&salary=' + str(sal) + '&radius=50&l=' + str(loc) + '&fromage=any&limit=' + str(by) + '&sort=&psf=advsrch'\n",
    "print(link)"
   ]
  },
  {
   "cell_type": "markdown",
   "metadata": {
    "deletable": true,
    "editable": true
   },
   "source": [
    "## Pulling URLs steps"
   ]
  },
  {
   "cell_type": "code",
   "execution_count": 433,
   "metadata": {
    "collapsed": false,
    "deletable": true,
    "editable": true
   },
   "outputs": [],
   "source": [
    "import requests\n",
    "response = requests.get(link)\n",
    "HTML = response.text"
   ]
  },
  {
   "cell_type": "code",
   "execution_count": 434,
   "metadata": {
    "collapsed": false,
    "deletable": true,
    "editable": true
   },
   "outputs": [
    {
     "name": "stdout",
     "output_type": "stream",
     "text": [
      "Requirement already satisfied: lxml in c:\\users\\xbn2\\anaconda3\\lib\\site-packages\n"
     ]
    }
   ],
   "source": [
    "!pip install lxml\n",
    "from lxml import html\n",
    "tree = html.fromstring(HTML)"
   ]
  },
  {
   "cell_type": "markdown",
   "metadata": {
    "deletable": true,
    "editable": true
   },
   "source": [
    "## Test modification of link"
   ]
  },
  {
   "cell_type": "code",
   "execution_count": 435,
   "metadata": {
    "collapsed": false,
    "deletable": true,
    "editable": true
   },
   "outputs": [
    {
     "data": {
      "text/plain": [
       "'https://www.indeed.com/jobs?q=data source&l=Boston, MA&start='"
      ]
     },
     "execution_count": 435,
     "metadata": {},
     "output_type": "execute_result"
    }
   ],
   "source": [
    "#test links\n",
    "search_term = 'data source'\n",
    "location = 'Boston, MA'\n",
    "link = 'https://www.indeed.com/jobs?q=' + search_term + '&l=' + location + '&start='\n",
    "link"
   ]
  },
  {
   "cell_type": "markdown",
   "metadata": {
    "deletable": true,
    "editable": true
   },
   "source": [
    "## Functions"
   ]
  },
  {
   "cell_type": "code",
   "execution_count": 436,
   "metadata": {
    "collapsed": true,
    "deletable": true,
    "editable": true
   },
   "outputs": [],
   "source": [
    "#function: give link get tree\n",
    "def page(link):\n",
    "    response = requests.get(link)\n",
    "    HTML = response.text\n",
    "    return html.fromstring(HTML)"
   ]
  },
  {
   "cell_type": "code",
   "execution_count": 437,
   "metadata": {
    "collapsed": true,
    "deletable": true,
    "editable": true
   },
   "outputs": [],
   "source": [
    "#function: give True if last page\n",
    "def last_page(link):\n",
    "    s = page(link).xpath(main_xpath['end'])\n",
    "    #print(s)\n",
    "    s = s[-1]\n",
    "    #print(s)\n",
    "    if s.split()[-2] == 'Next':\n",
    "        return False\n",
    "    else:\n",
    "        return True"
   ]
  },
  {
   "cell_type": "code",
   "execution_count": 438,
   "metadata": {
    "collapsed": true,
    "deletable": true,
    "editable": true
   },
   "outputs": [],
   "source": [
    "#copied off the web\n",
    "def go_ahead(question, default=\"yes\"):\n",
    "    import sys\n",
    "    \"\"\"Ask a yes/no question via raw_input() and return their answer.\n",
    "\n",
    "    \"question\" is a string that is presented to the user.\n",
    "    \"default\" is the presumed answer if the user just hits <Enter>.\n",
    "        It must be \"yes\" (the default), \"no\" or None (meaning\n",
    "        an answer is required of the user).\n",
    "\n",
    "    The \"answer\" return value is True for \"yes\" or False for \"no\".\n",
    "    \"\"\"\n",
    "    valid = {\"yes\": True, \"y\": True, \"ye\": True,\n",
    "             \"no\": False, \"n\": False}\n",
    "    if default is None:\n",
    "        prompt = \" [y/n] \"\n",
    "    elif default == \"yes\":\n",
    "        prompt = \" [Y/n] \"\n",
    "    elif default == \"no\":\n",
    "        prompt = \" [y/N] \"\n",
    "    else:\n",
    "        raise ValueError(\"invalid default answer: '%s'\" % default)\n",
    "\n",
    "    while True:\n",
    "        sys.stdout.write(question + prompt)\n",
    "        choice = input().lower()\n",
    "        if default is not None and choice == '':\n",
    "            return valid[default]\n",
    "        elif choice in valid:\n",
    "            return valid[choice]\n",
    "        else:\n",
    "            sys.stdout.write(\"Please respond with 'yes' or 'no' \"\n",
    "                             \"(or 'y' or 'n').\\n\")"
   ]
  },
  {
   "cell_type": "code",
   "execution_count": 439,
   "metadata": {
    "collapsed": false,
    "deletable": true,
    "editable": true
   },
   "outputs": [],
   "source": [
    "def search(search_term,location='Boston, MA'):\n",
    "    master_dict = {}\n",
    "    i = 0\n",
    "    search_term = search_term\n",
    "    \n",
    "    #construct link\n",
    "    link = 'https://www.indeed.com/jobs?q=' + search_term + '&l=' + location + '&start='\n",
    "    link_numbered = link\n",
    "\n",
    "    #notify user of total postings\n",
    "    print(' ----- ' + str(page(link).xpath(main_xpath['job_count'])[0].split()[-1]) + ' listings ----- ')\n",
    "\n",
    "    #ask for the go ahead\n",
    "    if go_ahead('Continue?') == True:\n",
    "        while last_page(link_numbered) == False:\n",
    "            #generate next numbered link\n",
    "            link_numbered = link + str(i)\n",
    "\n",
    "            #print current state of jobs\n",
    "            print(page(link_numbered).xpath(main_xpath['job_count']))\n",
    "\n",
    "            #lists of\n",
    "            titles = page(link_numbered).xpath(main_xpath['job_title'])\n",
    "            urls = page(link_numbered).xpath(main_xpath['job_url'])\n",
    "\n",
    "            #add the data\n",
    "            for job, url in zip(titles,urls):\n",
    "                master_dict[job] = url\n",
    "\n",
    "            #followup\n",
    "            i += 10\n",
    "        print(' ----- Done ----- ')\n",
    "    else:\n",
    "        print(' ----- Cancelled ----- ')\n",
    "    return master_dict"
   ]
  },
  {
   "cell_type": "code",
   "execution_count": 440,
   "metadata": {
    "collapsed": true,
    "deletable": true,
    "editable": true
   },
   "outputs": [],
   "source": [
    "def search_num(search_term,location='Boston MA'):\n",
    "    master_dict = {}\n",
    "    i = 0\n",
    "    search_term = search_term\n",
    "    \n",
    "    #construct link\n",
    "    link = 'https://www.indeed.com/jobs?q=' + search_term + '&l=' + location + '&start='\n",
    "    #link = 'https://www.indeed.com/jobs?q=' + search_term + '&l=' + location + '&start='\n",
    "    link_numbered = link\n",
    "\n",
    "    #notify user of total postings\n",
    "    status = page(link).xpath(main_xpath['job_count'])[0].split()[-1]\n",
    "    last_status = ''\n",
    "    print(' ----- ' + str(status) + ' listings ----- ')\n",
    "    postings = page(link).xpath(main_xpath['job_count'])[0].split()[-1].replace(',','')\n",
    "    \n",
    "\n",
    "    #ask for the go ahead\n",
    "    if go_ahead('Continue?') == True:\n",
    "        #while last_status != page(link_numbered).xpath(main_xpath['job_count'])[0].split()[-1]:\n",
    "        while i < int(postings):\n",
    "            #generate last status\n",
    "            #last_status = page(link_numbered).xpath(main_xpath['job_count'])[0].split()[-1]        \n",
    "            \n",
    "            #generate next numbered link\n",
    "            link_numbered = link + str(i)\n",
    "\n",
    "            #print current state of jobs\n",
    "            print(page(link_numbered).xpath(main_xpath['job_count']))\n",
    "\n",
    "            #lists of\n",
    "            titles = page(link_numbered).xpath(main_xpath['job_title'])\n",
    "            urls = page(link_numbered).xpath(main_xpath['job_url'])\n",
    "            ids = page(link_numbered).xpath(main_xpath['job_id'])\n",
    "\n",
    "            #add the data\n",
    "            for job, url, iden in zip(titles,urls,ids):\n",
    "                master_dict[iden] = url\n",
    "\n",
    "            #followup\n",
    "            i += 50\n",
    "        print(' ----- Done ----- ')\n",
    "    else:\n",
    "        print(' ----- Cancelled ----- ')\n",
    "    return master_dict"
   ]
  },
  {
   "cell_type": "code",
   "execution_count": 531,
   "metadata": {
    "collapsed": true,
    "deletable": true,
    "editable": true
   },
   "outputs": [],
   "source": [
    "#function to generate link\n",
    "def gen_link(phrase,sal='',anyy='',loc='Boston%2C+MA',title=''):\n",
    "    link = 'https://www.indeed.com/jobs?as_and=&as_phr=' + str(phrase) + '&as_any=' + str(anyy) + '&as_not=&as_ttl=' + str(title) + '&as_cmp=&jt=all&st=&salary=' + str(sal) + '&radius=50&l=' + str(loc) + '&fromage=any&limit=' + str(by) + '&start=0'# + str(i) + 'sort=&psf=advsrch'\n",
    "    return link"
   ]
  },
  {
   "cell_type": "code",
   "execution_count": 584,
   "metadata": {
    "collapsed": false,
    "deletable": true,
    "editable": true
   },
   "outputs": [],
   "source": [
    "def search_many(phrase,sal='',anyy='',loc='Boston%2C+MA',title=''):\n",
    "    '''\n",
    "    Requires:\n",
    "        phrase: 'data+science'\n",
    "        sal: '10k-100k'\n",
    "        anyy (any words that match): 'python+matplotlib+etc'\n",
    "        loc: 'Boston, MA'\n",
    "    '''\n",
    "    \n",
    "    \n",
    "    master_dict = {}\n",
    "    i = 0\n",
    "    by = '50'\n",
    "    \n",
    "    #construct link\n",
    "    #link = 'https://www.indeed.com/jobs?as_and=&as_phr=' + str(phrase) + '&as_any=' + str(anyy) + '&as_not=&as_ttl=&as_cmp=&jt=all&st=&salary=' + str(sal) + '&radius=50&l=' + str(loc) + '&fromage=any&limit=' + str(by) + '&start=' + str(i)# + 'sort=&psf=advsrch'\n",
    "    link = gen_link(phrase,sal,anyy,loc,title)\n",
    "    link_numbered = link\n",
    "\n",
    "    #notify user of total postings\n",
    "    status = page(link).xpath(main_xpath['job_count'])[0].split()[-1]\n",
    "    last_status = ''\n",
    "    print(' ----- ' + str(status) + ' listings ----- ')\n",
    "    postings = page(link).xpath(main_xpath['job_count'])[0].split()[-1].replace(',','')\n",
    "    \n",
    "\n",
    "    #ask for the go ahead\n",
    "    #if go_ahead('Continue?') == True:\n",
    "    \n",
    "    postings = 1500\n",
    "    \n",
    "    #while last_status != page(link_numbered).xpath(main_xpath['job_count'])[0].split()[-1]:\n",
    "    while i < int(postings):\n",
    "        #generate last status\n",
    "        #last_status = page(link_numbered).xpath(main_xpath['job_count'])[0].split()[-1]        \n",
    "\n",
    "        #generate next numbered link\n",
    "        link_numbered = link + str(i)\n",
    "        #print(link_numbered)\n",
    "\n",
    "        #print current state of jobs\n",
    "        print(page(link_numbered).xpath(main_xpath['job_count']))\n",
    "\n",
    "        #lists of\n",
    "        titles = page(link_numbered).xpath(main_xpath['job_title'])\n",
    "        urls = page(link_numbered).xpath(main_xpath['job_url'])\n",
    "        ids = page(link_numbered).xpath(main_xpath['job_id2'])\n",
    "        salaries = [sal]*len(ids)\n",
    "        phrases = [phrase]*len(ids)\n",
    "        locs = [loc]*len(ids)\n",
    "\n",
    "        #add the data\n",
    "        for job, url, iden, sal, phra, loc in zip(titles,urls,ids,salaries,phrases,locs):\n",
    "            master_dict[iden] = [job,url,sal,phra,loc]\n",
    "\n",
    "        #followup\n",
    "        i += int(by)\n",
    "    print(' ----- Done ----- ')\n",
    "    #else:\n",
    "        #print(' ----- Cancelled ----- ')\n",
    "    return master_dict"
   ]
  },
  {
   "cell_type": "code",
   "execution_count": 443,
   "metadata": {
    "collapsed": true,
    "deletable": true,
    "editable": true
   },
   "outputs": [],
   "source": [
    "#function dictionary to df with formatted url\n",
    "def to_df(master_dict,save=False,save_name=''):\n",
    "    df = pd.DataFrame(master_dict).T\n",
    "    df.columns=['title','url','sal','search_phrase','search_loc']\n",
    "    df['url'] = 'https://www.indeed.com' + df['url']\n",
    "    df['frmt'] = df['url'].apply(lambda url: 'https://www.indeed.com/company' in url)\n",
    "    if save == True:\n",
    "        df.to_csv(save_name,index=False)\n",
    "    return df"
   ]
  },
  {
   "cell_type": "markdown",
   "metadata": {
    "deletable": true,
    "editable": true
   },
   "source": [
    "## Xpath search term to pull all urls for listings off Indeed.com main listing page"
   ]
  },
  {
   "cell_type": "code",
   "execution_count": 444,
   "metadata": {
    "collapsed": false,
    "deletable": true,
    "editable": true
   },
   "outputs": [],
   "source": [
    "#xpath queries\n",
    "main_xpath = {'job_title':\"//div[contains(@class,'result')]//a[@data-tn-element='jobTitle']/@title\",\n",
    "             'job_url':\"//div[contains(@class,'result')]//a[@data-tn-element='jobTitle']/@href\",\n",
    "             'job_id':\"//div[contains(@class,'result')]/@data-jk\",\n",
    "             'job_id2':\"//div/@data-jk\",\n",
    "             'end':\"//div[@class='pagination']//span[@class='pn']/span[@class='np']/text()\",\n",
    "             'job_count':\"//div[@id='searchCount']/text()\"}"
   ]
  },
  {
   "cell_type": "markdown",
   "metadata": {
    "deletable": true,
    "editable": true
   },
   "source": [
    "## Test search_many and to_df\n",
    "    - search_many(phrase,sal,anyy,loc)\n",
    "    \n",
    "    - to_df has save to csv functionalisty, takes (dict,save=True,save_name.csv)"
   ]
  },
  {
   "cell_type": "code",
   "execution_count": 445,
   "metadata": {
    "collapsed": false,
    "deletable": true,
    "editable": true,
    "scrolled": true
   },
   "outputs": [
    {
     "data": {
      "text/plain": [
       "'https://www.indeed.com/jobs?as_and=&as_phr=&as_any=&as_not=&as_ttl=junior&as_cmp=&jt=all&st=&salary=&radius=50&l=Boston%2C+MA&fromage=any&limit=50&start=0'"
      ]
     },
     "execution_count": 445,
     "metadata": {},
     "output_type": "execute_result"
    }
   ],
   "source": [
    "#generate link\n",
    "gen_link(phrase='',title='junior')"
   ]
  },
  {
   "cell_type": "code",
   "execution_count": 446,
   "metadata": {
    "collapsed": false,
    "deletable": true,
    "editable": true
   },
   "outputs": [
    {
     "name": "stdout",
     "output_type": "stream",
     "text": [
      " ----- 4 listings ----- \n",
      "['Jobs 1 to 4 of 4']\n",
      " ----- Done ----- \n"
     ]
    }
   ],
   "source": [
    "ml_bos = search_many('monkey',sal='50k-100k')\n",
    "#to_df(ml_bos)"
   ]
  },
  {
   "cell_type": "code",
   "execution_count": 447,
   "metadata": {
    "collapsed": false,
    "deletable": true,
    "editable": true
   },
   "outputs": [],
   "source": [
    "ml_df = to_df(ml_bos)"
   ]
  },
  {
   "cell_type": "code",
   "execution_count": 448,
   "metadata": {
    "collapsed": false,
    "deletable": true,
    "editable": true,
    "scrolled": true
   },
   "outputs": [
    {
     "data": {
      "text/html": [
       "<div>\n",
       "<table border=\"1\" class=\"dataframe\">\n",
       "  <thead>\n",
       "    <tr style=\"text-align: right;\">\n",
       "      <th></th>\n",
       "      <th>title</th>\n",
       "      <th>url</th>\n",
       "      <th>sal</th>\n",
       "      <th>search_phrase</th>\n",
       "      <th>search_loc</th>\n",
       "      <th>frmt</th>\n",
       "    </tr>\n",
       "  </thead>\n",
       "  <tbody>\n",
       "    <tr>\n",
       "      <th>26b6accfc40c435e</th>\n",
       "      <td>Sr Business Development Representative</td>\n",
       "      <td>https://www.indeed.com/pagead/clk?mo=r&amp;ad=-6NYlbfkN0BToeSZs6_IDICFeavQGCZvkEvfO2uGmZ06rb83YapU52IM438bZCx0IMlpkDRU_p9X0_xuoFkxsTgHmGtKISmo09J9uzamFUyWt7Cof_UlGNYraC7My0es24jM_FuhZZi_7JiawNM_VmkI1dr-m4iR0EldQk9Vz0KZY2uoLXacEfvx0nxA0e6O-26VaidBZPLJG7VeM1524yZoXUMlYN4f3564UEZlizGgCqPov70uUF54llioOL8ylbPX8bJTQLSN1k9mDe9fpmiXVti2v2Hc2X835T0u57npLoVXfvY_f6VUsNA7nrZnS1lbkff5xNDqZMjXzGs-5xXHDqprdIQg7s0ndBxoVZN0faVl1Aps14rc_2Hp9_rHYOmYgCboDyMbe9H1HAIn2Mdh4As1Nk9PbKSxifduXaqQBK4jeiuk0VJJZkxLLKDRwnewqFa4DGf9sNeagrk4TPGD3iz3NToGsNQ8xtUOFqDKaNff-MvYfRH1pVY4a2KuEXmzYESBcKA=&amp;p=1&amp;sk=&amp;fvj=1</td>\n",
       "      <td>50k-100k</td>\n",
       "      <td>monkey</td>\n",
       "      <td>Boston%2C+MA</td>\n",
       "      <td>False</td>\n",
       "    </tr>\n",
       "    <tr>\n",
       "      <th>6008873bf3098e54</th>\n",
       "      <td>Retail Sales Leader</td>\n",
       "      <td>https://www.indeed.com/pagead/clk?mo=r&amp;ad=-6NYlbfkN0Dbro9sXpi4VAQyxmEDOUA-qKHV9JlSAeuwHgNeAiLDdXzrvzngRYyQxDvSRkOl_IvsOLNCVvMsIvhYInV9byRLRLszD_SjdBShD0dQFc_5LqyT3POiUMUcJr-QQfqddnBPx3hfw_1K7EBKUizhiUn4zNcfbnGQiK1cRMj-n45x036xI_uRMqOAcVy3RiPBXouK_FQeDr4dflQW4Z7e31LoUU1Dxfn0gRZy7Znl1MpAfAwD9PA0swzb_CmYEIdbaxtv0d3vslhvdtlZGbJM2Q5rVSlPnQIdgvkD69e8COk5DF4tzcIVmDhNIRDTf1F7xX9FezWm67JRc8wVVuHYi0lhuiYFT1ViuRRM0kzHwGcpJVVkaXyRaihy8cq2ndubDgFPVSBtQQWSURw_L0Z_tvrh1cF7qGl_BPcSok7yY5kTOLuwOlnzC6wviII11TEoj6BCzhUBYDRVBNS5QXH6OtDYP5D72tRjdjGoyKP4KZvcHkEL9Aih4jnp9xTr3C3I5xj9EzwVJK2acw==&amp;p=2&amp;sk=&amp;fvj=0</td>\n",
       "      <td>50k-100k</td>\n",
       "      <td>monkey</td>\n",
       "      <td>Boston%2C+MA</td>\n",
       "      <td>False</td>\n",
       "    </tr>\n",
       "    <tr>\n",
       "      <th>63eec47be43f66a3</th>\n",
       "      <td>Associate Director, L&amp;D and Talent Management</td>\n",
       "      <td>https://www.indeed.com/rc/clk?jk=63eec47be43f66a3&amp;fccid=2b9dfe1f150e8f21</td>\n",
       "      <td>50k-100k</td>\n",
       "      <td>monkey</td>\n",
       "      <td>Boston%2C+MA</td>\n",
       "      <td>False</td>\n",
       "    </tr>\n",
       "    <tr>\n",
       "      <th>94ec837898da2a42</th>\n",
       "      <td>Client Marketing Manager, Health Systems</td>\n",
       "      <td>https://www.indeed.com/rc/clk?jk=9956a074e7f6c0dd&amp;fccid=75b1a0eeade24b1a</td>\n",
       "      <td>50k-100k</td>\n",
       "      <td>monkey</td>\n",
       "      <td>Boston%2C+MA</td>\n",
       "      <td>False</td>\n",
       "    </tr>\n",
       "    <tr>\n",
       "      <th>9956a074e7f6c0dd</th>\n",
       "      <td>Consumer Engagement Marketing Manager (Mobile and Email)</td>\n",
       "      <td>https://www.indeed.com/rc/clk?jk=94ec837898da2a42&amp;fccid=75b1a0eeade24b1a</td>\n",
       "      <td>50k-100k</td>\n",
       "      <td>monkey</td>\n",
       "      <td>Boston%2C+MA</td>\n",
       "      <td>False</td>\n",
       "    </tr>\n",
       "    <tr>\n",
       "      <th>a59a30ce1d51f955</th>\n",
       "      <td>Healthcare Client Marketing Manager</td>\n",
       "      <td>https://www.indeed.com/rc/clk?jk=a59a30ce1d51f955&amp;fccid=75b1a0eeade24b1a</td>\n",
       "      <td>50k-100k</td>\n",
       "      <td>monkey</td>\n",
       "      <td>Boston%2C+MA</td>\n",
       "      <td>False</td>\n",
       "    </tr>\n",
       "  </tbody>\n",
       "</table>\n",
       "</div>"
      ],
      "text/plain": [
       "                                                                     title  \\\n",
       "26b6accfc40c435e  Sr Business Development Representative                     \n",
       "6008873bf3098e54  Retail Sales Leader                                        \n",
       "63eec47be43f66a3  Associate Director, L&D and Talent Management              \n",
       "94ec837898da2a42  Client Marketing Manager, Health Systems                   \n",
       "9956a074e7f6c0dd  Consumer Engagement Marketing Manager (Mobile and Email)   \n",
       "a59a30ce1d51f955  Healthcare Client Marketing Manager                        \n",
       "\n",
       "                                                                                                                                                                                                                                                                                                                                                                                                                                                                                                                                                                                                                               url  \\\n",
       "26b6accfc40c435e  https://www.indeed.com/pagead/clk?mo=r&ad=-6NYlbfkN0BToeSZs6_IDICFeavQGCZvkEvfO2uGmZ06rb83YapU52IM438bZCx0IMlpkDRU_p9X0_xuoFkxsTgHmGtKISmo09J9uzamFUyWt7Cof_UlGNYraC7My0es24jM_FuhZZi_7JiawNM_VmkI1dr-m4iR0EldQk9Vz0KZY2uoLXacEfvx0nxA0e6O-26VaidBZPLJG7VeM1524yZoXUMlYN4f3564UEZlizGgCqPov70uUF54llioOL8ylbPX8bJTQLSN1k9mDe9fpmiXVti2v2Hc2X835T0u57npLoVXfvY_f6VUsNA7nrZnS1lbkff5xNDqZMjXzGs-5xXHDqprdIQg7s0ndBxoVZN0faVl1Aps14rc_2Hp9_rHYOmYgCboDyMbe9H1HAIn2Mdh4As1Nk9PbKSxifduXaqQBK4jeiuk0VJJZkxLLKDRwnewqFa4DGf9sNeagrk4TPGD3iz3NToGsNQ8xtUOFqDKaNff-MvYfRH1pVY4a2KuEXmzYESBcKA=&p=1&sk=&fvj=1               \n",
       "6008873bf3098e54  https://www.indeed.com/pagead/clk?mo=r&ad=-6NYlbfkN0Dbro9sXpi4VAQyxmEDOUA-qKHV9JlSAeuwHgNeAiLDdXzrvzngRYyQxDvSRkOl_IvsOLNCVvMsIvhYInV9byRLRLszD_SjdBShD0dQFc_5LqyT3POiUMUcJr-QQfqddnBPx3hfw_1K7EBKUizhiUn4zNcfbnGQiK1cRMj-n45x036xI_uRMqOAcVy3RiPBXouK_FQeDr4dflQW4Z7e31LoUU1Dxfn0gRZy7Znl1MpAfAwD9PA0swzb_CmYEIdbaxtv0d3vslhvdtlZGbJM2Q5rVSlPnQIdgvkD69e8COk5DF4tzcIVmDhNIRDTf1F7xX9FezWm67JRc8wVVuHYi0lhuiYFT1ViuRRM0kzHwGcpJVVkaXyRaihy8cq2ndubDgFPVSBtQQWSURw_L0Z_tvrh1cF7qGl_BPcSok7yY5kTOLuwOlnzC6wviII11TEoj6BCzhUBYDRVBNS5QXH6OtDYP5D72tRjdjGoyKP4KZvcHkEL9Aih4jnp9xTr3C3I5xj9EzwVJK2acw==&p=2&sk=&fvj=0   \n",
       "63eec47be43f66a3  https://www.indeed.com/rc/clk?jk=63eec47be43f66a3&fccid=2b9dfe1f150e8f21                                                                                                                                                                                                                                                                                                                                                                                                                                                                                                                                           \n",
       "94ec837898da2a42  https://www.indeed.com/rc/clk?jk=9956a074e7f6c0dd&fccid=75b1a0eeade24b1a                                                                                                                                                                                                                                                                                                                                                                                                                                                                                                                                           \n",
       "9956a074e7f6c0dd  https://www.indeed.com/rc/clk?jk=94ec837898da2a42&fccid=75b1a0eeade24b1a                                                                                                                                                                                                                                                                                                                                                                                                                                                                                                                                           \n",
       "a59a30ce1d51f955  https://www.indeed.com/rc/clk?jk=a59a30ce1d51f955&fccid=75b1a0eeade24b1a                                                                                                                                                                                                                                                                                                                                                                                                                                                                                                                                           \n",
       "\n",
       "                       sal search_phrase    search_loc   frmt  \n",
       "26b6accfc40c435e  50k-100k  monkey        Boston%2C+MA  False  \n",
       "6008873bf3098e54  50k-100k  monkey        Boston%2C+MA  False  \n",
       "63eec47be43f66a3  50k-100k  monkey        Boston%2C+MA  False  \n",
       "94ec837898da2a42  50k-100k  monkey        Boston%2C+MA  False  \n",
       "9956a074e7f6c0dd  50k-100k  monkey        Boston%2C+MA  False  \n",
       "a59a30ce1d51f955  50k-100k  monkey        Boston%2C+MA  False  "
      ]
     },
     "execution_count": 448,
     "metadata": {},
     "output_type": "execute_result"
    }
   ],
   "source": [
    "ml_df"
   ]
  },
  {
   "cell_type": "code",
   "execution_count": 449,
   "metadata": {
    "collapsed": false,
    "deletable": true,
    "editable": true
   },
   "outputs": [
    {
     "data": {
      "text/plain": [
       "0.0"
      ]
     },
     "execution_count": 449,
     "metadata": {},
     "output_type": "execute_result"
    }
   ],
   "source": [
    "#10% of listings are indeed ones\n",
    "ml_df[ml_df['frmt'] == 1]['url'].count() / len(ml_df)"
   ]
  },
  {
   "cell_type": "code",
   "execution_count": 450,
   "metadata": {
    "collapsed": false,
    "deletable": true,
    "editable": true
   },
   "outputs": [
    {
     "name": "stderr",
     "output_type": "stream",
     "text": [
      "'ls' is not recognized as an internal or external command,\n",
      "operable program or batch file.\n"
     ]
    }
   ],
   "source": [
    "!ls"
   ]
  },
  {
   "cell_type": "markdown",
   "metadata": {
    "deletable": true,
    "editable": true
   },
   "source": [
    "## Loop for Salary Ranges and pull real data"
   ]
  },
  {
   "cell_type": "code",
   "execution_count": 451,
   "metadata": {
    "collapsed": false,
    "deletable": true,
    "editable": true
   },
   "outputs": [],
   "source": [
    "# dst_link_dict = {}\n",
    "# #phrase='machine+learning'\n",
    "# phrase='monkey'\n",
    "# #phrase='data+scientist'\n",
    "# #phrase='data+analyst'\n",
    "# #phrase='research+scientist'\n",
    "# #phrase='business+intelligence'\n",
    "# #phrase='artificial+intelligence'\n",
    "# #phrase='deep+learning'\n",
    "# #phrase='nlp'\n",
    "# #phrase='business+analyst'\n",
    "\n",
    "\n",
    "# #anyy = 'data+scientist'\n",
    "# anyy = ''\n",
    "\n",
    "# #run\n",
    "# #sal_list = ['50k-70k','70k-90k','90k-110k','110k-130k','130k-150k','150k-250k']\n",
    "# sal_list = ['120k']\n",
    "# for sal in sal_list:\n",
    "#     #link = 'https://www.indeed.com/jobs?as_and=&as_phr=' + str(phrase) + '&as_any=' + str(anyy) + '&as_not=&as_ttl=&as_cmp=&jt=all&st=&salary=' + str(sal) + '&radius=50&l=' + str(loc) + '&fromage=any&limit=' + str(by) + '&sort=&psf=advsrch'\n",
    "#     #link = gen_link(phrase,sal=sal)\n",
    "#     dst_link_dict[sal] = search_many(phrase,sal,anyy=anyy)"
   ]
  },
  {
   "cell_type": "markdown",
   "metadata": {
    "deletable": true,
    "editable": true
   },
   "source": [
    "## Save each range in a csv"
   ]
  },
  {
   "cell_type": "code",
   "execution_count": 452,
   "metadata": {
    "collapsed": false,
    "deletable": true,
    "editable": true
   },
   "outputs": [],
   "source": [
    "#save all salaries in csvs\n",
    "# for sal in sal_list:\n",
    "#     to_df(dst_link_dict[sal],True,'Phrase'+str(phrase)+str(sal)+'.csv')"
   ]
  },
  {
   "cell_type": "markdown",
   "metadata": {
    "deletable": true,
    "editable": true
   },
   "source": [
    "## Check it saved"
   ]
  },
  {
   "cell_type": "code",
   "execution_count": 453,
   "metadata": {
    "collapsed": false,
    "deletable": true,
    "editable": true
   },
   "outputs": [
    {
     "name": "stderr",
     "output_type": "stream",
     "text": [
      "'ls' is not recognized as an internal or external command,\n",
      "operable program or batch file.\n"
     ]
    }
   ],
   "source": [
    "!ls './Boston'"
   ]
  },
  {
   "cell_type": "markdown",
   "metadata": {
    "deletable": true,
    "editable": true
   },
   "source": [
    "## Download the html from all Indeed-formatted Jobs"
   ]
  },
  {
   "cell_type": "code",
   "execution_count": 454,
   "metadata": {
    "collapsed": false,
    "deletable": true,
    "editable": true
   },
   "outputs": [
    {
     "ename": "KeyError",
     "evalue": "'90k-110k'",
     "output_type": "error",
     "traceback": [
      "\u001b[0;31m---------------------------------------------------------------------------\u001b[0m",
      "\u001b[0;31mKeyError\u001b[0m                                  Traceback (most recent call last)",
      "\u001b[0;32m<ipython-input-454-a1f811b467b2>\u001b[0m in \u001b[0;36m<module>\u001b[0;34m()\u001b[0m\n\u001b[0;32m----> 1\u001b[0;31m \u001b[0mml_df\u001b[0m \u001b[1;33m=\u001b[0m \u001b[0mto_df\u001b[0m\u001b[1;33m(\u001b[0m\u001b[0mdst_link_dict\u001b[0m\u001b[1;33m[\u001b[0m\u001b[1;34m'90k-110k'\u001b[0m\u001b[1;33m]\u001b[0m\u001b[1;33m)\u001b[0m\u001b[1;33m\u001b[0m\u001b[0m\n\u001b[0m",
      "\u001b[0;31mKeyError\u001b[0m: '90k-110k'"
     ]
    }
   ],
   "source": [
    "#ml_df = to_df(dst_link_dict['90k-110k'])"
   ]
  },
  {
   "cell_type": "code",
   "execution_count": null,
   "metadata": {
    "collapsed": false,
    "deletable": true,
    "editable": true
   },
   "outputs": [],
   "source": [
    "#a = to_df(ny_monkey)\n",
    "#a[a['title'].str.contains('Engineer')]['url']\n",
    "#a['indeed_listing'] = \n",
    "#a[a['url'].str.contains('https://www.indeed.com/company')]\n",
    "#a['indeed_listing'] = a['url'].apply(indeed)\n",
    "#a['in'] = a['url'].apply(lambda url: 'https://www.indeed.com/company' in url)"
   ]
  },
  {
   "cell_type": "code",
   "execution_count": null,
   "metadata": {
    "collapsed": false,
    "deletable": true,
    "editable": true
   },
   "outputs": [],
   "source": [
    "#ml_df['url']"
   ]
  },
  {
   "cell_type": "code",
   "execution_count": 455,
   "metadata": {
    "collapsed": false,
    "deletable": true,
    "editable": true
   },
   "outputs": [],
   "source": [
    "#check if its got indeed format\n",
    "# for url in ml_df[ml_df['frmt'] == 1]['url']:\n",
    "#     print(url)"
   ]
  },
  {
   "cell_type": "markdown",
   "metadata": {
    "deletable": true,
    "editable": true
   },
   "source": [
    "## Take csv files that are within a path specified:\n",
    "    - group them into single df\n",
    "    - only select indeed formatted jobs\n",
    "    - download and add html raw text to df"
   ]
  },
  {
   "cell_type": "code",
   "execution_count": 456,
   "metadata": {
    "collapsed": true,
    "deletable": true,
    "editable": true
   },
   "outputs": [],
   "source": [
    "def add_html(url):\n",
    "    response = requests.get(url)\n",
    "    return response.text"
   ]
  },
  {
   "cell_type": "code",
   "execution_count": 457,
   "metadata": {
    "collapsed": true,
    "deletable": true,
    "editable": true
   },
   "outputs": [],
   "source": [
    "#phrase='machine+learning'\n",
    "\n",
    "def dl_html(phrase,path='./'):\n",
    "    import glob\n",
    "    #grab all csvs with that name\n",
    "    globbed_csvs = glob.glob(path + \"*\" + str(phrase) + \"*.csv\")\n",
    "\n",
    "    print('----- Combining dfs -----')\n",
    "\n",
    "    #put them in a single df\n",
    "    combined_df = pd.DataFrame()\n",
    "    df_list = []\n",
    "    for f in globbed_csvs:\n",
    "        dfn = pd.read_csv(f, header=0,encoding = \"ISO-8859-1\") #index=False\n",
    "        df_list.append(dfn)\n",
    "    combined_df = pd.concat(df_list)\n",
    "    \n",
    "    #only keep indeed listings\n",
    "    combined_df = combined_df[combined_df['frmt'] == 1]\n",
    "    \n",
    "    #drop_duplicates based on unique url\n",
    "    combined_df = combined_df.drop_duplicates(subset=['url'])\n",
    "    \n",
    "    #add blank col\n",
    "    combined_df['html'] = ''\n",
    "    \n",
    "    print('----- Adding Html -----')\n",
    "    \n",
    "    #download the html and put it in the combined df\n",
    "    combined_df['html'] = combined_df['url'].apply(add_html)\n",
    "        \n",
    "    return combined_df\n",
    "\n",
    "#df = dl_html('machine+learning')"
   ]
  },
  {
   "cell_type": "markdown",
   "metadata": {
    "deletable": true,
    "editable": true
   },
   "source": [
    "## Parse Indeed Job Listings for wording"
   ]
  },
  {
   "cell_type": "code",
   "execution_count": 458,
   "metadata": {
    "collapsed": false,
    "deletable": true,
    "editable": true,
    "scrolled": true
   },
   "outputs": [],
   "source": [
    "#df['url'].head(2)"
   ]
  },
  {
   "cell_type": "markdown",
   "metadata": {
    "deletable": true,
    "editable": true
   },
   "source": [
    "## Breakthrough - //text()"
   ]
  },
  {
   "cell_type": "code",
   "execution_count": 459,
   "metadata": {
    "collapsed": true,
    "deletable": true,
    "editable": true
   },
   "outputs": [],
   "source": [
    "#xpath queries\n",
    "desc_xpath = {'comp_name':\"//div[@data-tn-component='jobHeader']/span[@class='company']/text()\",\n",
    "             'job_title':\"//div[@data-tn-component='jobHeader']/b/font/text()\",\n",
    "             'job_loc':\"//div[@data-tn-component='jobHeader']/span[@class='location']/text()\",\n",
    "             'job_summary':\"//td[@class='snip']/span[@id='job_summary']//text()\",\n",
    "             'job_count':\"//div[@id='searchCount']/text()\"}"
   ]
  },
  {
   "cell_type": "markdown",
   "metadata": {
    "deletable": true,
    "editable": true
   },
   "source": [
    "## Make functions to add these"
   ]
  },
  {
   "cell_type": "code",
   "execution_count": 460,
   "metadata": {
    "collapsed": true,
    "deletable": true,
    "editable": true
   },
   "outputs": [],
   "source": [
    "from lxml import html"
   ]
  },
  {
   "cell_type": "code",
   "execution_count": 461,
   "metadata": {
    "collapsed": true,
    "deletable": true,
    "editable": true
   },
   "outputs": [],
   "source": [
    "def tree(HTML):\n",
    "    return html.fromstring(HTML)"
   ]
  },
  {
   "cell_type": "code",
   "execution_count": 462,
   "metadata": {
    "collapsed": false,
    "deletable": true,
    "editable": true
   },
   "outputs": [],
   "source": [
    "def parse_comp_name(html):\n",
    "    return tree(html).xpath(desc_xpath['comp_name'])[0]"
   ]
  },
  {
   "cell_type": "code",
   "execution_count": 463,
   "metadata": {
    "collapsed": true,
    "deletable": true,
    "editable": true
   },
   "outputs": [],
   "source": [
    "def parse_job_title(html):\n",
    "    return tree(html).xpath(desc_xpath['job_title'])[0]"
   ]
  },
  {
   "cell_type": "code",
   "execution_count": 464,
   "metadata": {
    "collapsed": true,
    "deletable": true,
    "editable": true
   },
   "outputs": [],
   "source": [
    "def parse_job_loc(html):\n",
    "    return tree(html).xpath(desc_xpath['job_loc'])[0]"
   ]
  },
  {
   "cell_type": "code",
   "execution_count": 465,
   "metadata": {
    "collapsed": true,
    "deletable": true,
    "editable": true
   },
   "outputs": [],
   "source": [
    "def parse_job_summary(html):\n",
    "    return tree(html).xpath(desc_xpath['job_summary'])"
   ]
  },
  {
   "cell_type": "code",
   "execution_count": 466,
   "metadata": {
    "collapsed": false,
    "deletable": true,
    "editable": true
   },
   "outputs": [],
   "source": [
    "def str_summary(job_summary):\n",
    "    return ' '.join(job_summary)"
   ]
  },
  {
   "cell_type": "code",
   "execution_count": null,
   "metadata": {
    "collapsed": true,
    "deletable": true,
    "editable": true
   },
   "outputs": [],
   "source": []
  },
  {
   "cell_type": "markdown",
   "metadata": {
    "deletable": true,
    "editable": true
   },
   "source": [
    "## Add parsed rows to the dataframe"
   ]
  },
  {
   "cell_type": "code",
   "execution_count": 467,
   "metadata": {
    "collapsed": false,
    "deletable": true,
    "editable": true
   },
   "outputs": [],
   "source": [
    "df['comp_name'] = df['html'].apply(parse_comp_name)\n",
    "df['job_title'] = df['html'].apply(parse_job_title)\n",
    "df['job_loc'] = df['html'].apply(parse_job_loc)\n",
    "df['job_summary'] = df['html'].apply(parse_job_summary)\n",
    "df['job_summary'] = df['job_summary'].apply(str_summary)"
   ]
  },
  {
   "cell_type": "markdown",
   "metadata": {
    "deletable": true,
    "editable": true
   },
   "source": [
    "## EDA the job summary text"
   ]
  },
  {
   "cell_type": "code",
   "execution_count": 468,
   "metadata": {
    "collapsed": false,
    "deletable": true,
    "editable": true
   },
   "outputs": [],
   "source": [
    "df = df.reset_index()\n",
    "df.drop('index',axis=1,inplace=True)\n",
    "df.drop('html',axis=1,inplace=True)"
   ]
  },
  {
   "cell_type": "code",
   "execution_count": 469,
   "metadata": {
    "collapsed": false,
    "deletable": true,
    "editable": true
   },
   "outputs": [
    {
     "data": {
      "text/plain": [
       "sal\n",
       "100k-130k    82 \n",
       "130k-250k    23 \n",
       "30k-70k      90 \n",
       "70k-100k     216\n",
       "dtype: int64"
      ]
     },
     "execution_count": 469,
     "metadata": {},
     "output_type": "execute_result"
    }
   ],
   "source": [
    "df.groupby('sal').size()"
   ]
  },
  {
   "cell_type": "code",
   "execution_count": 470,
   "metadata": {
    "collapsed": false,
    "deletable": true,
    "editable": true
   },
   "outputs": [],
   "source": [
    "#sal_list = ['50k-70k', '70k-90k', '90k-110k', '110k-130k', '130k-150k', '150k-250k']\n",
    "\n",
    "#sal110to130 = df[df['sal'] == '110k-130k']['job_summary']\n",
    "#sal50to70 = df[df['sal'] == '50k-70k']['job_summary']"
   ]
  },
  {
   "cell_type": "markdown",
   "metadata": {
    "deletable": true,
    "editable": true
   },
   "source": [
    "### df['job_title'].str.contains('A')"
   ]
  },
  {
   "cell_type": "code",
   "execution_count": 471,
   "metadata": {
    "collapsed": false,
    "deletable": true,
    "editable": true
   },
   "outputs": [
    {
     "name": "stdout",
     "output_type": "stream",
     "text": [
      "['Newton Colmore Consulting Ltd']\n",
      "['Data Scientist – Deep Learning – Boston']\n",
      "['Boston, MA']\n",
      "['Data Scientist – Deep Learning – Boston', 'Are you an experienced computer scientist who is looking for a new role within a fun, fast-paced commercial environment? A small, tight knit team in Boston are looking for passionate Data Scientists to join their award-winning team of engineers and programmers.', 'This exciting new role will give the Data Scientist an excellent opportunity to work on some really exciting and cutting edge products within the computer vision and machine learning fields. As this is a relatively small team, you will need to take a hands on approach and career progression opportunities, although based on merit, will be ample. This will give you the opportunity to thrive within one of the fastest growing sectors within technology. On a day to day basis you will use your skills and expertise to develop and test new technologies aimed at visual recognition, image processing and computer vision.', 'To be considered for this Data Scientist role you will need to have a degree in Computer Science, Electronics or relevant field as well as experience with either computer vision, image processing, machine learning or deep learning. You will also need to have a genuine passion for this sector and a relevant PhD and post-doc experience would be highly advantageous.', 'In exchange for your skills and expertise, the company offer a highly competitive package as well as providing excellent career progression. The company also offer excellent training to further develop your skills.', 'For more information, please call Matthew Lowdon of Newton Colmore Consulting on 0044 121 268 2240 or make an application and one of our team will be in touch.', 'Newton Colmore Consulting is a highly specialist recruitment consultancy operating within the medical devices, Scientific Engineering, Scientific Software, Robotics, Science, Electronics Design, New Product Design, Human Factors, Regulatory Affairs, Quality Assurance and Field Service Engineering sectors throughout Europe and the US.', 'Key words: Computer Science, Software Engineer, Electronics, Computer Vision, Deep Learning, Machine Learning, Image Processing', 'Job Type: Full-time']\n"
     ]
    }
   ],
   "source": [
    "#example pull direct from internet\n",
    "link = 'https://www.indeed.com/company/Newton-Colmore-Consulting-Ltd/jobs/Data-Scientist-Deep-Learning-0b97704eee16f3be?fccid=66a59a212fc22e05'\n",
    "\n",
    "print(page(link).xpath(desc_xpath['comp_name']))\n",
    "print(page(link).xpath(desc_xpath['job_title']))\n",
    "print(page(link).xpath(desc_xpath['job_loc']))\n",
    "print(page(link).xpath(desc_xpath['job_summary']))"
   ]
  },
  {
   "cell_type": "markdown",
   "metadata": {
    "deletable": true,
    "editable": true
   },
   "source": [
    "## Import nltk, the data is saved on my 2nd harddrive so add path"
   ]
  },
  {
   "cell_type": "code",
   "execution_count": 472,
   "metadata": {
    "collapsed": false,
    "deletable": true,
    "editable": true
   },
   "outputs": [],
   "source": [
    "#!pip install nltk\n",
    "import nltk\n",
    "nltk.data.path.append(\"/Volumes/Secondary/\")"
   ]
  },
  {
   "cell_type": "code",
   "execution_count": 473,
   "metadata": {
    "collapsed": false,
    "deletable": true,
    "editable": true
   },
   "outputs": [],
   "source": [
    "from collections import Counter"
   ]
  },
  {
   "cell_type": "code",
   "execution_count": 474,
   "metadata": {
    "collapsed": false,
    "deletable": true,
    "editable": true
   },
   "outputs": [],
   "source": [
    "#nltk.download()"
   ]
  },
  {
   "cell_type": "markdown",
   "metadata": {
    "deletable": true,
    "editable": true
   },
   "source": [
    "## If end up needing to modify stopwords much, can use a set to subtract or add.\n",
    "operators = set(('and', 'or', 'not'))\n",
    "stop = set(stopwords...) - operators"
   ]
  },
  {
   "cell_type": "markdown",
   "metadata": {
    "deletable": true,
    "editable": true
   },
   "source": [
    "## Add Lemmantizer. Takes all variations of the words and groups them together.\n",
    "    - years, year\n",
    "    - require, requiring, requires"
   ]
  },
  {
   "cell_type": "code",
   "execution_count": 475,
   "metadata": {
    "collapsed": false,
    "deletable": true,
    "editable": true
   },
   "outputs": [],
   "source": [
    "def count_tokens(df):\n",
    "    from collections import Counter\n",
    "    from nltk import word_tokenize\n",
    "    from nltk import WordNetLemmatizer as wnl\n",
    "    cnt_list = []\n",
    "    for sal in df['sal'].unique():\n",
    "        cnt = Counter()\n",
    "        for desc in df[df['sal'] == sal]['job_summary']:\n",
    "            for word in [i for i in word_tokenize(desc.lower()) if i not in stop]:\n",
    "                #cnt[word] += 1\n",
    "                cnt[wnl().lemmatize(word)] += 1\n",
    "        cnt_list.append(cnt)\n",
    "    return cnt_list"
   ]
  },
  {
   "cell_type": "code",
   "execution_count": 476,
   "metadata": {
    "collapsed": false,
    "deletable": true,
    "editable": true
   },
   "outputs": [
    {
     "data": {
      "text/plain": [
       "[('business', 534),\n",
       " ('experience', 500),\n",
       " ('project', 367),\n",
       " ('requirement', 271),\n",
       " ('system', 249),\n",
       " ('required', 245),\n",
       " ('year', 237),\n",
       " ('team', 226),\n",
       " ('management', 222),\n",
       " ('skill', 221)]"
      ]
     },
     "execution_count": 476,
     "metadata": {},
     "output_type": "execute_result"
    }
   ],
   "source": [
    "cnt_list = count_tokens(df)\n",
    "cnt_list[0].most_common(10)"
   ]
  },
  {
   "cell_type": "code",
   "execution_count": 477,
   "metadata": {
    "collapsed": false,
    "deletable": true,
    "editable": true
   },
   "outputs": [
    {
     "data": {
      "text/plain": [
       "[('business', 1119),\n",
       " ('experience', 829),\n",
       " ('project', 579),\n",
       " ('requirement', 511),\n",
       " ('year', 457),\n",
       " ('required', 444),\n",
       " ('system', 444),\n",
       " ('skill', 416),\n",
       " ('work', 396),\n",
       " ('management', 387)]"
      ]
     },
     "execution_count": 477,
     "metadata": {},
     "output_type": "execute_result"
    }
   ],
   "source": [
    "(cnt_list[0] + cnt_list[1] + cnt_list[2]).most_common(10)"
   ]
  },
  {
   "cell_type": "markdown",
   "metadata": {
    "deletable": true,
    "editable": true
   },
   "source": [
    "# --- Full ---"
   ]
  },
  {
   "cell_type": "markdown",
   "metadata": {
    "deletable": true,
    "editable": true
   },
   "source": [
    "## All together so far (tier1):\n",
    "- Pull data for each specified phrase and sal range, for Boston MA.\n",
    "- Save to csvs in local folder"
   ]
  },
  {
   "cell_type": "code",
   "execution_count": 588,
   "metadata": {
    "collapsed": false,
    "deletable": true,
    "editable": true,
    "scrolled": true
   },
   "outputs": [
    {
     "name": "stdout",
     "output_type": "stream",
     "text": [
      "Wall time: 0 ns\n",
      " ----- 7,147 listings ----- \n",
      "['Jobs 1 to 50 of 7,147']\n",
      "['Jobs 51 to 100 of 7,147']\n",
      "['Jobs 101 to 150 of 7,147']\n",
      "['Jobs 151 to 200 of 7,147']\n",
      "['Jobs 201 to 250 of 7,147']\n",
      "['Jobs 251 to 300 of 7,147']\n",
      "['Jobs 301 to 350 of 7,147']\n",
      "['Jobs 351 to 400 of 7,147']\n",
      "['Jobs 401 to 450 of 7,147']\n",
      "['Jobs 451 to 500 of 7,148']\n",
      "['Jobs 501 to 550 of 7,148']\n",
      "['Jobs 551 to 600 of 7,148']\n",
      "['Jobs 601 to 650 of 7,148']\n",
      "['Jobs 651 to 700 of 7,148']\n",
      "['Jobs 701 to 750 of 7,148']\n",
      "['Jobs 751 to 800 of 7,148']\n",
      "['Jobs 801 to 850 of 7,148']\n",
      "['Jobs 851 to 900 of 7,147']\n",
      "['Jobs 901 to 950 of 7,147']\n",
      "['Jobs 951 to 1,000 of 7,147']\n",
      "['Jobs 951 to 1,000 of 7,147']\n",
      "['Jobs 951 to 1,000 of 7,147']\n",
      "['Jobs 951 to 1,000 of 7,147']\n",
      "['Jobs 951 to 1,000 of 7,147']\n",
      "['Jobs 951 to 1,000 of 7,147']\n",
      "['Jobs 951 to 1,000 of 7,147']\n",
      "['Jobs 951 to 1,000 of 7,147']\n",
      "['Jobs 951 to 1,000 of 7,147']\n",
      "['Jobs 951 to 1,000 of 7,147']\n",
      "['Jobs 951 to 1,000 of 7,147']\n",
      " ----- Done ----- \n",
      " ----- 10,724 listings ----- \n",
      "['Jobs 1 to 50 of 10,724']\n",
      "['Jobs 51 to 100 of 10,724']\n",
      "['Jobs 101 to 150 of 10,724']\n",
      "['Jobs 151 to 200 of 10,724']\n",
      "['Jobs 201 to 250 of 10,724']\n",
      "['Jobs 251 to 300 of 10,724']\n",
      "['Jobs 301 to 350 of 10,724']\n",
      "['Jobs 351 to 400 of 10,724']\n",
      "['Jobs 401 to 450 of 10,724']\n",
      "['Jobs 451 to 500 of 10,724']\n",
      "['Jobs 501 to 550 of 10,724']\n",
      "['Jobs 551 to 600 of 10,724']\n",
      "['Jobs 601 to 650 of 10,724']\n",
      "['Jobs 651 to 700 of 10,724']\n",
      "['Jobs 701 to 750 of 10,724']\n",
      "['Jobs 751 to 800 of 10,724']\n",
      "['Jobs 801 to 850 of 10,724']\n",
      "['Jobs 851 to 900 of 10,724']\n",
      "['Jobs 901 to 950 of 10,724']\n",
      "['Jobs 951 to 1,000 of 10,724']\n",
      "['Jobs 951 to 1,000 of 10,724']\n",
      "['Jobs 951 to 1,000 of 10,724']\n",
      "['Jobs 951 to 1,000 of 10,724']\n",
      "['Jobs 951 to 1,000 of 10,724']\n",
      "['Jobs 951 to 1,000 of 10,724']\n",
      "['Jobs 951 to 1,000 of 10,724']\n",
      "['Jobs 951 to 1,000 of 10,724']\n",
      "['Jobs 951 to 1,000 of 10,724']\n",
      "['Jobs 951 to 1,000 of 10,724']\n",
      "['Jobs 951 to 1,000 of 10,724']\n",
      " ----- Done ----- \n"
     ]
    }
   ],
   "source": [
    "%time\n",
    "dst_link_dict = {}\n",
    "\n",
    "#loc = 'Washington%2C+DC'\n",
    "#loc = 'New+York%2C+NY'\n",
    "loc = 'Boston%2C+MA'\n",
    "by = '50'\n",
    "\n",
    "#titles = ['junior','senior']\n",
    "#phrases = ['healthcare','government','insurance','banking']\n",
    "phrases = ['manufacturing','transportation']\n",
    "\n",
    "for phrase in phrases:\n",
    "    dst_link_dict = {}\n",
    "    \n",
    "    dst_link_dict[phrase] = search_many(phrase=phrase,sal='',loc=loc,title='')\n",
    "\n",
    "    #save all salaries in csvs in local folder\n",
    "    df = to_df(dst_link_dict[phrase],True,'Industry'+str(loc)+str(phrase)+'.csv')"
   ]
  },
  {
   "cell_type": "code",
   "execution_count": null,
   "metadata": {
    "collapsed": false,
    "deletable": true,
    "editable": true
   },
   "outputs": [],
   "source": [
    "# %time\n",
    "# dst_link_dict = {}\n",
    "\n",
    "# #loc = 'Washington%2C+DC'\n",
    "# loc = 'New+York%2C+NY'\n",
    "# #loc = 'Boston%2C+MA'\n",
    "# by = '50'\n",
    "\n",
    "# #phrase='data+science'\n",
    "\n",
    "# #phrase='machine+learning'\n",
    "# #phrase='data+scientist'\n",
    "# #phrase='data+analyst'\n",
    "# #phrase='research+scientist'\n",
    "# #phrase='business+intelligence'\n",
    "# #phrase='business+analyst'\n",
    "\n",
    "# # phrases = ['machine+learning','data+scientist','data+analyst',\n",
    "# #            'research+scientist','business+intelligence','business+analyst',]\n",
    "\n",
    "# for phrase in phrases:\n",
    "#     dst_link_dict = {}\n",
    "    \n",
    "#     #run pull urls\n",
    "#     #sal_list = ['30k-100k','100k-130k','130k-250k']\n",
    "#     #sal_list = ['30k-70k','70k-100k','100k-130k','130k-250k']\n",
    "#     for sal in sal_list:\n",
    "#         #link = 'https://www.indeed.com/jobs?as_and=&as_phr=' + str(phrase) + '&as_any=' + str(anyy) + '&as_not=&as_ttl=&as_cmp=&jt=all&st=&salary=' + str(sal) + '&radius=50&l=' + str(loc) + '&fromage=any&limit=' + str(by) + '&sort=&psf=advsrch'\n",
    "#         #link = gen_link(phrase,sal=sal)\n",
    "#         dst_link_dict[sal] = search_many(phrase,sal,loc=loc)\n",
    "\n",
    "#     #save all salaries in csvs in local folder\n",
    "#     for sal in sal_list:\n",
    "#         df = to_df(dst_link_dict[sal],True,'Phrase'+str(phrase)+str(loc)+str(sal)+'.csv')"
   ]
  },
  {
   "cell_type": "markdown",
   "metadata": {
    "deletable": true,
    "editable": true
   },
   "source": [
    "## Download html data, group all csvs together (tier2):\n",
    "- Group all csvs in local path, with title matching 'phrase' and include new column with sal range\n",
    "- Download html for indeed listings only\n",
    "- Add columns to df that include parsed data"
   ]
  },
  {
   "cell_type": "code",
   "execution_count": null,
   "metadata": {
    "collapsed": false,
    "deletable": true,
    "editable": true
   },
   "outputs": [],
   "source": [
    "!dir"
   ]
  },
  {
   "cell_type": "code",
   "execution_count": null,
   "metadata": {
    "collapsed": false,
    "deletable": true,
    "editable": true
   },
   "outputs": [],
   "source": [
    "!ls"
   ]
  },
  {
   "cell_type": "code",
   "execution_count": 596,
   "metadata": {
    "collapsed": true,
    "deletable": true,
    "editable": true
   },
   "outputs": [],
   "source": [
    "t = pd.read_csv('IndustryBoston%2C+MAtransportation.csv',encoding='latin1')"
   ]
  },
  {
   "cell_type": "code",
   "execution_count": 595,
   "metadata": {
    "collapsed": true,
    "deletable": true,
    "editable": true
   },
   "outputs": [
    {
     "name": "stdout",
     "output_type": "stream",
     "text": [
      "----- Combining dfs -----\n",
      "----- Adding Html -----\n"
     ]
    },
    {
     "ename": "IndexError",
     "evalue": "list index out of range",
     "output_type": "error",
     "traceback": [
      "\u001b[0;31m---------------------------------------------------------------------------\u001b[0m",
      "\u001b[0;31mIndexError\u001b[0m                                Traceback (most recent call last)",
      "\u001b[0;32m<ipython-input-595-3b733d0e9456>\u001b[0m in \u001b[0;36m<module>\u001b[0;34m()\u001b[0m\n\u001b[1;32m      4\u001b[0m \u001b[1;31m#df = dl_html('machine+learningNew+York')\u001b[0m\u001b[1;33m\u001b[0m\u001b[1;33m\u001b[0m\u001b[0m\n\u001b[1;32m      5\u001b[0m \u001b[1;33m\u001b[0m\u001b[0m\n\u001b[0;32m----> 6\u001b[0;31m \u001b[0mdf\u001b[0m\u001b[1;33m[\u001b[0m\u001b[1;34m'comp_name'\u001b[0m\u001b[1;33m]\u001b[0m \u001b[1;33m=\u001b[0m \u001b[0mdf\u001b[0m\u001b[1;33m[\u001b[0m\u001b[1;34m'html'\u001b[0m\u001b[1;33m]\u001b[0m\u001b[1;33m.\u001b[0m\u001b[0mapply\u001b[0m\u001b[1;33m(\u001b[0m\u001b[0mparse_comp_name\u001b[0m\u001b[1;33m)\u001b[0m\u001b[1;33m\u001b[0m\u001b[0m\n\u001b[0m\u001b[1;32m      7\u001b[0m \u001b[0mdf\u001b[0m\u001b[1;33m[\u001b[0m\u001b[1;34m'job_title'\u001b[0m\u001b[1;33m]\u001b[0m \u001b[1;33m=\u001b[0m \u001b[0mdf\u001b[0m\u001b[1;33m[\u001b[0m\u001b[1;34m'html'\u001b[0m\u001b[1;33m]\u001b[0m\u001b[1;33m.\u001b[0m\u001b[0mapply\u001b[0m\u001b[1;33m(\u001b[0m\u001b[0mparse_job_title\u001b[0m\u001b[1;33m)\u001b[0m\u001b[1;33m\u001b[0m\u001b[0m\n\u001b[1;32m      8\u001b[0m \u001b[0mdf\u001b[0m\u001b[1;33m[\u001b[0m\u001b[1;34m'job_loc'\u001b[0m\u001b[1;33m]\u001b[0m \u001b[1;33m=\u001b[0m \u001b[0mdf\u001b[0m\u001b[1;33m[\u001b[0m\u001b[1;34m'html'\u001b[0m\u001b[1;33m]\u001b[0m\u001b[1;33m.\u001b[0m\u001b[0mapply\u001b[0m\u001b[1;33m(\u001b[0m\u001b[0mparse_job_loc\u001b[0m\u001b[1;33m)\u001b[0m\u001b[1;33m\u001b[0m\u001b[0m\n",
      "\u001b[0;32mC:\\Users\\xbn2\\Anaconda3\\lib\\site-packages\\pandas\\core\\series.py\u001b[0m in \u001b[0;36mapply\u001b[0;34m(self, func, convert_dtype, args, **kwds)\u001b[0m\n\u001b[1;32m   2292\u001b[0m             \u001b[1;32melse\u001b[0m\u001b[1;33m:\u001b[0m\u001b[1;33m\u001b[0m\u001b[0m\n\u001b[1;32m   2293\u001b[0m                 \u001b[0mvalues\u001b[0m \u001b[1;33m=\u001b[0m \u001b[0mself\u001b[0m\u001b[1;33m.\u001b[0m\u001b[0masobject\u001b[0m\u001b[1;33m\u001b[0m\u001b[0m\n\u001b[0;32m-> 2294\u001b[0;31m                 \u001b[0mmapped\u001b[0m \u001b[1;33m=\u001b[0m \u001b[0mlib\u001b[0m\u001b[1;33m.\u001b[0m\u001b[0mmap_infer\u001b[0m\u001b[1;33m(\u001b[0m\u001b[0mvalues\u001b[0m\u001b[1;33m,\u001b[0m \u001b[0mf\u001b[0m\u001b[1;33m,\u001b[0m \u001b[0mconvert\u001b[0m\u001b[1;33m=\u001b[0m\u001b[0mconvert_dtype\u001b[0m\u001b[1;33m)\u001b[0m\u001b[1;33m\u001b[0m\u001b[0m\n\u001b[0m\u001b[1;32m   2295\u001b[0m \u001b[1;33m\u001b[0m\u001b[0m\n\u001b[1;32m   2296\u001b[0m         \u001b[1;32mif\u001b[0m \u001b[0mlen\u001b[0m\u001b[1;33m(\u001b[0m\u001b[0mmapped\u001b[0m\u001b[1;33m)\u001b[0m \u001b[1;32mand\u001b[0m \u001b[0misinstance\u001b[0m\u001b[1;33m(\u001b[0m\u001b[0mmapped\u001b[0m\u001b[1;33m[\u001b[0m\u001b[1;36m0\u001b[0m\u001b[1;33m]\u001b[0m\u001b[1;33m,\u001b[0m \u001b[0mSeries\u001b[0m\u001b[1;33m)\u001b[0m\u001b[1;33m:\u001b[0m\u001b[1;33m\u001b[0m\u001b[0m\n",
      "\u001b[0;32mpandas\\src\\inference.pyx\u001b[0m in \u001b[0;36mpandas.lib.map_infer (pandas\\lib.c:66124)\u001b[0;34m()\u001b[0m\n",
      "\u001b[0;32m<ipython-input-462-0dd03576b920>\u001b[0m in \u001b[0;36mparse_comp_name\u001b[0;34m(html)\u001b[0m\n\u001b[1;32m      1\u001b[0m \u001b[1;32mdef\u001b[0m \u001b[0mparse_comp_name\u001b[0m\u001b[1;33m(\u001b[0m\u001b[0mhtml\u001b[0m\u001b[1;33m)\u001b[0m\u001b[1;33m:\u001b[0m\u001b[1;33m\u001b[0m\u001b[0m\n\u001b[0;32m----> 2\u001b[0;31m     \u001b[1;32mreturn\u001b[0m \u001b[0mtree\u001b[0m\u001b[1;33m(\u001b[0m\u001b[0mhtml\u001b[0m\u001b[1;33m)\u001b[0m\u001b[1;33m.\u001b[0m\u001b[0mxpath\u001b[0m\u001b[1;33m(\u001b[0m\u001b[0mdesc_xpath\u001b[0m\u001b[1;33m[\u001b[0m\u001b[1;34m'comp_name'\u001b[0m\u001b[1;33m]\u001b[0m\u001b[1;33m)\u001b[0m\u001b[1;33m[\u001b[0m\u001b[1;36m0\u001b[0m\u001b[1;33m]\u001b[0m\u001b[1;33m\u001b[0m\u001b[0m\n\u001b[0m",
      "\u001b[0;31mIndexError\u001b[0m: list index out of range"
     ]
    }
   ],
   "source": [
    "#transportation industry fails for some reason\n",
    "# save_name = 'transportation'\n",
    "# #save_name = 'senior'\n",
    "# df = dl_html(save_name)\n",
    "# #df = dl_html('machine+learningNew+York')\n",
    "\n",
    "# df['comp_name'] = df['html'].apply(parse_comp_name)\n",
    "# df['job_title'] = df['html'].apply(parse_job_title)\n",
    "# df['job_loc'] = df['html'].apply(parse_job_loc)\n",
    "# df['job_summary'] = df['html'].apply(parse_job_summary)\n",
    "# df['job_summary'] = df['job_summary'].apply(str_summary)\n",
    "\n",
    "# df['job_loc'].head()\n",
    "\n",
    "# df.to_csv(save_name+'.csv')"
   ]
  },
  {
   "cell_type": "code",
   "execution_count": null,
   "metadata": {
    "collapsed": false,
    "deletable": true,
    "editable": true,
    "scrolled": true
   },
   "outputs": [],
   "source": [
    "# #list index out o frange.. 'machine+learning'\n",
    "# phrases = ['data+scientist', 'data+analyst'\n",
    "#            'research+scientist','business+intelligence','business+analyst']\n",
    "\n",
    "# for save_name in phrases:\n",
    "#     df = pd.DataFrame()\n",
    "#     #save_name = 'data+analyst'\n",
    "#     df = dl_html(save_name)\n",
    "#     #df = dl_html('machine+learningNew+York')\n",
    "\n",
    "#     df['comp_name'] = df['html'].apply(parse_comp_name)\n",
    "#     df['job_title'] = df['html'].apply(parse_job_title)\n",
    "#     df['job_loc'] = df['html'].apply(parse_job_loc)\n",
    "#     df['job_summary'] = df['html'].apply(parse_job_summary)\n",
    "#     df['job_summary'] = df['job_summary'].apply(str_summary)\n",
    "\n",
    "#     #df['job_loc'].head()\n",
    "\n",
    "#     df.to_csv(save_name+'.csv')"
   ]
  },
  {
   "cell_type": "markdown",
   "metadata": {
    "deletable": true,
    "editable": true
   },
   "source": [
    "# Explore dfs, make sure no duplicates\n",
    "- Create 3 master df's to work off of:\n",
    "    - industry_df - for LDA and topic clustering practice\n",
    "    - salary_df - for salary classification (4 ranges, '100k-130k', '130k-250k', '30k-70k', '70k-100k')\n",
    "    - juniorsenior_df - for attempt to differentiate keywords\n",
    "\n",
    "### Rolled no duplicates into the html downloading so I didn't waste time"
   ]
  },
  {
   "cell_type": "code",
   "execution_count": 479,
   "metadata": {
    "collapsed": false,
    "deletable": true,
    "editable": true
   },
   "outputs": [
    {
     "data": {
      "text/plain": [
       "(411, 11)"
      ]
     },
     "execution_count": 479,
     "metadata": {},
     "output_type": "execute_result"
    }
   ],
   "source": [
    "df.shape"
   ]
  },
  {
   "cell_type": "markdown",
   "metadata": {
    "deletable": true,
    "editable": true
   },
   "source": [
    "### Junior and Senior postings, not specified for anything other than the title containing junior or senior\n",
    "- no industry in particular\n",
    "- over boston and new york"
   ]
  },
  {
   "cell_type": "code",
   "execution_count": null,
   "metadata": {
    "collapsed": false,
    "deletable": true,
    "editable": true
   },
   "outputs": [],
   "source": [
    "dfj = pd.read_csv('junior.csv',encoding='latin1')\n",
    "dfs = pd.read_csv('senior.csv',encoding='latin1')\n",
    "#df = pd.read_csv('New+York%2C+NYsenior.csv',encoding='latin1')"
   ]
  },
  {
   "cell_type": "code",
   "execution_count": null,
   "metadata": {
    "collapsed": false,
    "deletable": true,
    "editable": true,
    "scrolled": false
   },
   "outputs": [],
   "source": [
    "dfj['title'] = 'junior'\n",
    "dfs['title'] = 'senior'"
   ]
  },
  {
   "cell_type": "code",
   "execution_count": null,
   "metadata": {
    "collapsed": true,
    "deletable": true,
    "editable": true
   },
   "outputs": [],
   "source": [
    "df = pd.concat([dfj,dfs],axis=0)\n",
    "df = df.reset_index(drop=True)"
   ]
  },
  {
   "cell_type": "code",
   "execution_count": null,
   "metadata": {
    "collapsed": false,
    "deletable": true,
    "editable": true
   },
   "outputs": [],
   "source": [
    "df.shape"
   ]
  },
  {
   "cell_type": "code",
   "execution_count": null,
   "metadata": {
    "collapsed": false,
    "deletable": true,
    "editable": true
   },
   "outputs": [],
   "source": [
    "df['title'].value_counts()"
   ]
  },
  {
   "cell_type": "code",
   "execution_count": null,
   "metadata": {
    "collapsed": false,
    "deletable": true,
    "editable": true
   },
   "outputs": [],
   "source": [
    "df.columns"
   ]
  },
  {
   "cell_type": "code",
   "execution_count": null,
   "metadata": {
    "collapsed": false,
    "deletable": true,
    "editable": true
   },
   "outputs": [],
   "source": [
    "df.index.unique()"
   ]
  },
  {
   "cell_type": "code",
   "execution_count": null,
   "metadata": {
    "collapsed": false,
    "deletable": true,
    "editable": true
   },
   "outputs": [],
   "source": [
    "df['sal'].value_counts()"
   ]
  },
  {
   "cell_type": "markdown",
   "metadata": {
    "deletable": true,
    "editable": true
   },
   "source": [
    "### Set label to numeric, get baseline prediction: .67"
   ]
  },
  {
   "cell_type": "code",
   "execution_count": null,
   "metadata": {
    "collapsed": false,
    "deletable": true,
    "editable": true
   },
   "outputs": [],
   "source": [
    "df['title_num'] = df['title'].map({'junior':0,'senior':1})"
   ]
  },
  {
   "cell_type": "code",
   "execution_count": null,
   "metadata": {
    "collapsed": false,
    "deletable": true,
    "editable": true
   },
   "outputs": [],
   "source": [
    "df.to_csv('juniorsenior_df')"
   ]
  },
  {
   "cell_type": "code",
   "execution_count": null,
   "metadata": {
    "collapsed": false,
    "deletable": true,
    "editable": true
   },
   "outputs": [],
   "source": [
    "#baseline\n",
    "1- df['title_num'].mean()"
   ]
  },
  {
   "cell_type": "markdown",
   "metadata": {
    "deletable": true,
    "editable": true
   },
   "source": [
    "### Industry df"
   ]
  },
  {
   "cell_type": "code",
   "execution_count": 688,
   "metadata": {
    "collapsed": true,
    "deletable": true,
    "editable": true
   },
   "outputs": [],
   "source": [
    "df_gov = pd.read_csv('government.csv',encoding='latin1')\n",
    "df_health = pd.read_csv('healthcare.csv',encoding='latin1')\n",
    "df_bank = pd.read_csv('banking.csv',encoding='latin1')\n",
    "df_ins = pd.read_csv('insurance.csv',encoding='latin1')\n",
    "df_manu = pd.read_csv('manufacturing.csv',encoding='latin1')"
   ]
  },
  {
   "cell_type": "code",
   "execution_count": 689,
   "metadata": {
    "collapsed": true,
    "deletable": true,
    "editable": true
   },
   "outputs": [],
   "source": [
    "group = [df_gov,df_health,df_bank,df_ins,df_manu]\n",
    "df = pd.concat(group,axis=0)"
   ]
  },
  {
   "cell_type": "code",
   "execution_count": 690,
   "metadata": {
    "collapsed": false,
    "deletable": true,
    "editable": true
   },
   "outputs": [
    {
     "data": {
      "text/plain": [
       "Index(['Unnamed: 0', 'title', 'url', 'sal', 'search_phrase', 'search_loc',\n",
       "       'frmt', 'html', 'comp_name', 'job_title', 'job_loc', 'job_summary'],\n",
       "      dtype='object')"
      ]
     },
     "execution_count": 690,
     "metadata": {},
     "output_type": "execute_result"
    }
   ],
   "source": [
    "df.columns"
   ]
  },
  {
   "cell_type": "code",
   "execution_count": 691,
   "metadata": {
    "collapsed": false,
    "deletable": true,
    "editable": true
   },
   "outputs": [
    {
     "data": {
      "text/plain": [
       "manufacturing    219\n",
       "insurance        205\n",
       "government       112\n",
       "healthcare       103\n",
       "banking          102\n",
       "Name: search_phrase, dtype: int64"
      ]
     },
     "execution_count": 691,
     "metadata": {},
     "output_type": "execute_result"
    }
   ],
   "source": [
    "df['search_phrase'].value_counts()"
   ]
  },
  {
   "cell_type": "code",
   "execution_count": 692,
   "metadata": {
    "collapsed": true,
    "deletable": true,
    "editable": true
   },
   "outputs": [],
   "source": [
    "df['search_phrase_num'] = df['search_phrase'].map({'manufacturing':0,\n",
    "                                                   'insurance':1,\n",
    "                                                   'government':2,\n",
    "                                                   'healthcare':3,\n",
    "                                                   'banking':4})"
   ]
  },
  {
   "cell_type": "code",
   "execution_count": 693,
   "metadata": {
    "collapsed": true,
    "deletable": true,
    "editable": true
   },
   "outputs": [],
   "source": [
    "df.to_csv('industry_df.csv')"
   ]
  },
  {
   "cell_type": "markdown",
   "metadata": {
    "deletable": true,
    "editable": true
   },
   "source": [
    "### All downloaded positions into single 'salary_df'\n",
    "- Business Analyst\n",
    "- Data Scientist\n",
    "- Data Analyst\n",
    "- Business Analyst\n",
    "- etc."
   ]
  },
  {
   "cell_type": "code",
   "execution_count": 599,
   "metadata": {
    "collapsed": false,
    "deletable": true,
    "editable": true
   },
   "outputs": [],
   "source": [
    "df_ba = pd.read_csv('business+analyst.csv',encoding='latin1')\n",
    "df_bi = pd.read_csv('business+intelligence.csv',encoding='latin1')\n",
    "df_rs = pd.read_csv('research+scientist.csv',encoding='latin1')\n",
    "df_ds = pd.read_csv('data+scientist.csv',encoding='latin1')\n",
    "df_da = pd.read_csv('data+analyst.csv',encoding='latin1')"
   ]
  },
  {
   "cell_type": "code",
   "execution_count": 600,
   "metadata": {
    "collapsed": true,
    "deletable": true,
    "editable": true
   },
   "outputs": [],
   "source": [
    "group = [df_ba,df_bi,df_rs,df_ds,df_da]\n",
    "df = pd.concat(group,axis=0)"
   ]
  },
  {
   "cell_type": "code",
   "execution_count": 601,
   "metadata": {
    "collapsed": false,
    "deletable": true,
    "editable": true
   },
   "outputs": [
    {
     "data": {
      "text/plain": [
       "1064"
      ]
     },
     "execution_count": 601,
     "metadata": {},
     "output_type": "execute_result"
    }
   ],
   "source": [
    "df['url'].nunique()"
   ]
  },
  {
   "cell_type": "code",
   "execution_count": 602,
   "metadata": {
    "collapsed": false,
    "deletable": true,
    "editable": true
   },
   "outputs": [
    {
     "data": {
      "text/plain": [
       "(1122, 12)"
      ]
     },
     "execution_count": 602,
     "metadata": {},
     "output_type": "execute_result"
    }
   ],
   "source": [
    "df.shape"
   ]
  },
  {
   "cell_type": "code",
   "execution_count": 11,
   "metadata": {
    "collapsed": true
   },
   "outputs": [],
   "source": [
    "df = pd.read_csv('salary_df.csv',encoding='latin1')"
   ]
  },
  {
   "cell_type": "code",
   "execution_count": 603,
   "metadata": {
    "collapsed": false,
    "deletable": true,
    "editable": true
   },
   "outputs": [
    {
     "data": {
      "text/plain": [
       "array(['100k-130k', '130k-250k', '30k-70k', '70k-100k'], dtype=object)"
      ]
     },
     "execution_count": 603,
     "metadata": {},
     "output_type": "execute_result"
    }
   ],
   "source": [
    "df['sal'].unique()"
   ]
  },
  {
   "cell_type": "code",
   "execution_count": 620,
   "metadata": {
    "collapsed": false,
    "deletable": true,
    "editable": true
   },
   "outputs": [
    {
     "data": {
      "text/plain": [
       "Index(['Unnamed: 0', 'title', 'url', 'sal', 'search_phrase', 'search_loc',\n",
       "       'frmt', 'html', 'comp_name', 'job_title', 'job_loc', 'job_summary',\n",
       "       'sal_num'],\n",
       "      dtype='object')"
      ]
     },
     "execution_count": 620,
     "metadata": {},
     "output_type": "execute_result"
    }
   ],
   "source": [
    "df.columns"
   ]
  },
  {
   "cell_type": "code",
   "execution_count": 631,
   "metadata": {
    "collapsed": true,
    "deletable": true,
    "editable": true
   },
   "outputs": [],
   "source": [
    "sals = ['30k-70k', '70k-100k','100k-130k', '130k-250k']\n",
    "mapping = {sal: i for i, sal in enumerate(sals)}\n",
    "key = df['sal'].map(mapping)    \n",
    "df = df.iloc[key.argsort()]"
   ]
  },
  {
   "cell_type": "code",
   "execution_count": 680,
   "metadata": {
    "collapsed": false,
    "deletable": true,
    "editable": true,
    "scrolled": true
   },
   "outputs": [
    {
     "data": {
      "text/plain": [
       "<matplotlib.axes._subplots.AxesSubplot at 0x1bec7928860>"
      ]
     },
     "execution_count": 680,
     "metadata": {},
     "output_type": "execute_result"
    },
    {
     "data": {
      "image/png": "[encoded data removed]",
      "text/plain": [
       "<matplotlib.figure.Figure at 0x1becc8255f8>"
      ]
     },
     "metadata": {},
     "output_type": "display_data"
    }
   ],
   "source": [
    "df.groupby(['search_phrase','sal_num']).size().plot.barh()\n",
    "#df[['sal','search_phrase']].value_counts().plot(kind='bar',title='Total job counts')"
   ]
  },
  {
   "cell_type": "code",
   "execution_count": 687,
   "metadata": {
    "collapsed": false,
    "deletable": true,
    "editable": true
   },
   "outputs": [
    {
     "data": {
      "text/plain": [
       "Business Analyst                    58\n",
       "Data Analyst                        48\n",
       "Data Scientist                      23\n",
       "Senior Business Analyst             14\n",
       "Sr. Business Analyst                9 \n",
       "IT Business Analyst                 8 \n",
       "Business Intelligence Analyst       6 \n",
       "Financial Analyst                   5 \n",
       "Senior Data Analyst                 5 \n",
       "Business Analyst Consultant         5 \n",
       "Junior Business Analyst             5 \n",
       "Tableau Developer                   4 \n",
       "Sr. Data Analyst                    4 \n",
       "Pricing & Analytics Manager         4 \n",
       "Technical Business Analyst          4 \n",
       "SharePoint Developer                4 \n",
       "Business Intelligence Developer     4 \n",
       "Research Scientist                  4 \n",
       "Sr Data Analyst/Business Analyst    3 \n",
       "Marketing Data Analyst              3 \n",
       "Name: job_title, dtype: int64"
      ]
     },
     "execution_count": 687,
     "metadata": {},
     "output_type": "execute_result"
    }
   ],
   "source": [
    "df['job_title'].value_counts().head(20)"
   ]
  },
  {
   "cell_type": "code",
   "execution_count": 604,
   "metadata": {
    "collapsed": true,
    "deletable": true,
    "editable": true
   },
   "outputs": [],
   "source": [
    "df['sal_num'] = df['sal'].map({'30k-70k':0,'70k-100k':1,'100k-130k':2,'130k-250k':3})"
   ]
  },
  {
   "cell_type": "code",
   "execution_count": 9,
   "metadata": {
    "collapsed": false,
    "deletable": true,
    "editable": true
   },
   "outputs": [
    {
     "data": {
      "text/plain": [
       "0.46739130434782611"
      ]
     },
     "execution_count": 9,
     "metadata": {},
     "output_type": "execute_result"
    }
   ],
   "source": [
    "#baseline is at 52.5%\n",
    "df['sal_num'].value_counts().max() / df['sal_num'].count()"
   ]
  },
  {
   "cell_type": "code",
   "execution_count": 10,
   "metadata": {
    "collapsed": false,
    "deletable": true,
    "editable": true
   },
   "outputs": [
    {
     "data": {
      "text/plain": [
       "100k-130k    43\n",
       "70k-100k     22\n",
       "130k-250k    22\n",
       "30k-70k       5\n",
       "Name: sal, dtype: int64"
      ]
     },
     "execution_count": 10,
     "metadata": {},
     "output_type": "execute_result"
    }
   ],
   "source": [
    "df['sal'].value_counts()"
   ]
  },
  {
   "cell_type": "code",
   "execution_count": 682,
   "metadata": {
    "collapsed": true,
    "deletable": true,
    "editable": true
   },
   "outputs": [],
   "source": [
    "#df.to_csv('salary_df.csv')"
   ]
  },
  {
   "cell_type": "markdown",
   "metadata": {
    "collapsed": true,
    "deletable": true,
    "editable": true
   },
   "source": [
    "# Play with sklearn - Salary_df\n",
    "### Pretty large, if want to quicken up subset based on search phrase"
   ]
  },
  {
   "cell_type": "code",
   "execution_count": 1,
   "metadata": {
    "collapsed": true,
    "deletable": true,
    "editable": true
   },
   "outputs": [],
   "source": [
    "import pandas as pd"
   ]
  },
  {
   "cell_type": "code",
   "execution_count": 2,
   "metadata": {
    "collapsed": false,
    "deletable": true,
    "editable": true
   },
   "outputs": [],
   "source": [
    "df = pd.read_csv('salary_df.csv',encoding='latin1')"
   ]
  },
  {
   "cell_type": "code",
   "execution_count": 3,
   "metadata": {
    "collapsed": false,
    "deletable": true,
    "editable": true
   },
   "outputs": [],
   "source": [
    "df['search_phrase'].unique()\n",
    "df = df[df['search_phrase'] == 'data+scientist']"
   ]
  },
  {
   "cell_type": "code",
   "execution_count": 1370,
   "metadata": {
    "collapsed": false,
    "deletable": true,
    "editable": true,
    "scrolled": true
   },
   "outputs": [
    {
     "data": {
      "text/plain": [
       "(1122, 14)"
      ]
     },
     "execution_count": 1370,
     "metadata": {},
     "output_type": "execute_result"
    }
   ],
   "source": [
    "df.shape"
   ]
  },
  {
   "cell_type": "code",
   "execution_count": 5,
   "metadata": {
    "collapsed": true,
    "deletable": true,
    "editable": true
   },
   "outputs": [],
   "source": [
    "import pandas as pd, seaborn as sns, numpy as np, matplotlib.pyplot as plt\n",
    "\n",
    "from sklearn.feature_extraction.text import CountVectorizer, TfidfTransformer, TfidfVectorizer \n",
    "from sklearn.feature_extraction.text import TfidfTransformer\n",
    "from sklearn.feature_extraction.text import TfidfVectorizer\n",
    "from sklearn.model_selection import learning_curve\n",
    "from sklearn.model_selection import train_test_split, cross_val_score, ShuffleSplit\n",
    "from sklearn.metrics import classification_report\n",
    "from sklearn.naive_bayes import MultinomialNB, BernoulliNB, GaussianNB\n",
    "from sklearn.linear_model import LogisticRegression\n",
    "\n",
    "from sklearn.pipeline import Pipeline\n",
    "\n",
    "%matplotlib inline\n",
    "\n",
    "sns.set_style(\"darkgrid\")"
   ]
  },
  {
   "cell_type": "code",
   "execution_count": 6,
   "metadata": {
    "collapsed": true,
    "deletable": true,
    "editable": true
   },
   "outputs": [],
   "source": [
    "from sklearn.ensemble import RandomForestClassifier\n",
    "from sklearn.feature_extraction.text import TfidfVectorizer\n",
    "from sklearn.decomposition import LatentDirichletAllocation"
   ]
  },
  {
   "cell_type": "markdown",
   "metadata": {
    "deletable": true,
    "editable": true
   },
   "source": [
    "### Add Lemmantizer to the countvectorizer"
   ]
  },
  {
   "cell_type": "code",
   "execution_count": 32,
   "metadata": {
    "collapsed": true,
    "deletable": true,
    "editable": true
   },
   "outputs": [],
   "source": [
    "from nltk import word_tokenize          \n",
    "from nltk.stem import WordNetLemmatizer \n",
    "class LemmaTokenizer(object):\n",
    "    def __init__(self):\n",
    "        self.wnl = WordNetLemmatizer()\n",
    "    def __call__(self, doc):\n",
    "        return [self.wnl.lemmatize(t) for t in word_tokenize(doc)]\n",
    "\n",
    "vect = CountVectorizer(tokenizer=LemmaTokenizer())"
   ]
  },
  {
   "cell_type": "code",
   "execution_count": 33,
   "metadata": {
    "collapsed": false,
    "deletable": true,
    "editable": true
   },
   "outputs": [],
   "source": [
    "import nltk\n",
    "nltk.data.path.append(\"/Volumes/Secondary/\")\n",
    "from nltk import word_tokenize\n",
    "from nltk.corpus import stopwords\n",
    "import string\n",
    "additional = [\"''\",\"'s\",'--','``','·','’',\"'\"]\n",
    "stop = stopwords.words('english') + list(string.punctuation) + additional"
   ]
  },
  {
   "cell_type": "code",
   "execution_count": 699,
   "metadata": {
    "collapsed": false,
    "deletable": true,
    "editable": true,
    "scrolled": false
   },
   "outputs": [
    {
     "data": {
      "text/plain": [
       "data           4884\n",
       "business       4785\n",
       "year           3013\n",
       "required       2491\n",
       "requirement    2172\n",
       "skill          2164\n",
       "team           2102\n",
       "work           2073\n",
       "project        1993\n",
       "system         1913\n",
       "management     1905\n",
       "development    1783\n",
       "ability        1707\n",
       "analysis       1635\n",
       "process        1514\n",
       "support        1412\n",
       "analyst        1360\n",
       "client         1353\n",
       "solution       1307\n",
       "type           1213\n",
       "knowledge      1178\n",
       "strong         1157\n",
       "service        1131\n",
       "technology     1130\n",
       "job type       1123\n",
       "technical      1069\n",
       "application    1065\n",
       "bachelor       1031\n",
       "design         991 \n",
       "including      986 \n",
       "dtype: int64"
      ]
     },
     "execution_count": 699,
     "metadata": {},
     "output_type": "execute_result"
    }
   ],
   "source": [
    "#check out the countvect\n",
    "cvt      =  CountVectorizer(stop_words=stop,strip_accents='unicode', \n",
    "                            ngram_range=(1,3),max_df=.95,tokenizer=LemmaTokenizer())\n",
    "X_all    =  cvt.fit_transform(df['job_summary'])\n",
    "df_wcnt = pd.DataFrame(X_all.toarray(), columns=cvt.get_feature_names())\n",
    "df_wcnt.sum().sort_values(ascending=False).head(30)"
   ]
  },
  {
   "cell_type": "code",
   "execution_count": null,
   "metadata": {
    "collapsed": true
   },
   "outputs": [],
   "source": []
  },
  {
   "cell_type": "code",
   "execution_count": 509,
   "metadata": {
    "collapsed": false,
    "deletable": true,
    "editable": true,
    "scrolled": true
   },
   "outputs": [],
   "source": [
    "# lda      =  LatentDirichletAllocation(n_topics=5)\n",
    "# X_all_lda    =  lda.fit_transform(X_all)\n",
    "# df_wcnt = pd.DataFrame(X_all_lda.toarray(), columns=lda.get_feature_names())\n",
    "# df_wcnt.sum().sort_values(ascending=False).head(10)"
   ]
  },
  {
   "cell_type": "code",
   "execution_count": 712,
   "metadata": {
    "collapsed": false,
    "deletable": true,
    "editable": true
   },
   "outputs": [],
   "source": [
    "from sklearn.decomposition import TruncatedSVD\n",
    "from sklearn.preprocessing import Normalizer\n",
    "from sklearn.grid_search import GridSearchCV"
   ]
  },
  {
   "cell_type": "code",
   "execution_count": 702,
   "metadata": {
    "collapsed": false,
    "deletable": true,
    "editable": true
   },
   "outputs": [],
   "source": [
    "#X = df['job_summary']\n",
    "X = X_nmf\n",
    "#y = df['title_num']\n",
    "y = df['sal_num']\n",
    "X_train, X_test, y_train, y_test = train_test_split(X,y,test_size=.3)"
   ]
  },
  {
   "cell_type": "code",
   "execution_count": null,
   "metadata": {
    "collapsed": true,
    "deletable": true,
    "editable": true
   },
   "outputs": [],
   "source": [
    "#pipeline\n",
    "pipeline = Pipeline([\n",
    "    ('vect', CountVectorizer(lowercase=True, \n",
    "                             strip_accents='unicode', \n",
    "                             stop_words='english',#stop, \n",
    "                             ngram_range=(1,3), \n",
    "                             #min_df=.2, \n",
    "                             max_df=.7,\n",
    "                             tokenizer=LemmaTokenizer())),\n",
    "    ('tfidf', TfidfTransformer()),\n",
    "#     ('lsa', TruncatedSVD(n_components=100, random_state=42)),\n",
    "#     ('norm', Normalizer(copy=False)),\n",
    "#     ('tfidf', TfidfVectorizer(lowercase=True, \n",
    "#                               strip_accents='unicode', \n",
    "#                               #analyzer='word', \n",
    "#                               stop_words='english',\n",
    "#                               sublinear_tf=True)),\n",
    "    #('cls', MultinomialNB()),\n",
    "    #('cls', BernoulliNB()),\n",
    "    #('cls', LogisticRegression()),\n",
    "    ('cls', RandomForestClassifier(n_estimators=250, random_state=42))\n",
    "]) \n",
    "pipeline.fit(X_train, y_train)\n",
    "predicted = pipeline.predict(X_test)\n",
    "pipeline.score(X_test, y_test)"
   ]
  },
  {
   "cell_type": "code",
   "execution_count": null,
   "metadata": {
    "collapsed": false,
    "deletable": true,
    "editable": true,
    "scrolled": true
   },
   "outputs": [
    {
     "name": "stdout",
     "output_type": "stream",
     "text": [
      "Fitting 3 folds for each of 18 candidates, totalling 54 fits\n"
     ]
    }
   ],
   "source": [
    "#pipeline\n",
    "pipeline = Pipeline([\n",
    "    ('vect', CountVectorizer(lowercase=True, \n",
    "                             strip_accents='unicode', \n",
    "                             stop_words=stop, \n",
    "                             tokenizer=LemmaTokenizer())),\n",
    "    ('tfidf', TfidfTransformer()),\n",
    "#     ('lsa', TruncatedSVD(n_components=100, random_state=42)),\n",
    "#     ('norm', Normalizer(copy=False)),\n",
    "#     ('tfidf', TfidfVectorizer(lowercase=True, \n",
    "#                               strip_accents='unicode', \n",
    "#                               #analyzer='word', \n",
    "#                               stop_words='english',\n",
    "#                               sublinear_tf=True)),\n",
    "    #('cls', MultinomialNB()),\n",
    "    #('cls', BernoulliNB()),\n",
    "    #('cls', LogisticRegression()),\n",
    "    ('cls', RandomForestClassifier(n_estimators=250, random_state=42))\n",
    "]) \n",
    "\n",
    "parameters = {\n",
    "    'vect__max_df': (0.5, 0.7, 0.9),\n",
    "    #'vect__max_features': (None, 10000, 50000, 100000),\n",
    "    'vect__ngram_range': ((1,2),(2,3),(1,4)),  # unigrams or bigrams\n",
    "    'tfidf__use_idf': (True, False),\n",
    "    #'tfidf__norm': ('l1', 'l2'),\n",
    "    #'clf__alpha': (0.00001, 0.000001),\n",
    "    #'clf__penalty': ('l2', 'elasticnet'),\n",
    "    #'clf__n_iter': (10, 50, 80),\n",
    "}\n",
    "\n",
    "grid_search = GridSearchCV(pipeline, parameters, n_jobs=-1, verbose=1)\n",
    "grid_search.fit(X_train, y_train)\n",
    "grid_search.predict(X_train, y_train)"
   ]
  },
  {
   "cell_type": "code",
   "execution_count": 571,
   "metadata": {
    "collapsed": false,
    "deletable": true,
    "editable": true
   },
   "outputs": [
    {
     "data": {
      "text/plain": [
       "array([ 0.00300002,  0.00767697,  0.00733235,  0.00734411,  0.00724985,\n",
       "        0.00707104,  0.00689441,  0.00675364,  0.00667186,  0.00664868,\n",
       "        0.00641447,  0.00632008,  0.00625174,  0.00621852,  0.00603695,\n",
       "        0.00591891,  0.00581175,  0.0057322 ,  0.00549707,  0.00536019,\n",
       "        0.00516024,  0.00498392,  0.00485568,  0.00469787,  0.0046721 ,\n",
       "        0.00459683,  0.00454941,  0.00448689,  0.0044314 ,  0.00441211,\n",
       "        0.00436036,  0.00427168,  0.00424883,  0.00420417,  0.00417799,\n",
       "        0.00416561,  0.00412052,  0.00410553,  0.00407072,  0.00403555,\n",
       "        0.00402844,  0.00401838,  0.00399303,  0.00395592,  0.00392304,\n",
       "        0.00391516,  0.00388927,  0.00386082,  0.00385375,  0.00383647,\n",
       "        0.00382361,  0.00381965,  0.0038028 ,  0.00378376,  0.00375521,\n",
       "        0.0037386 ,  0.00372591,  0.00371853,  0.00370092,  0.00369437,\n",
       "        0.00368934,  0.00367702,  0.00366414,  0.00365038,  0.0036461 ,\n",
       "        0.00363937,  0.00362682,  0.00361753,  0.0036089 ,  0.00359665,\n",
       "        0.00358468,  0.00357332,  0.00356701,  0.00355439,  0.00355236,\n",
       "        0.00353874,  0.00353194,  0.00351367,  0.00350932,  0.00349755,\n",
       "        0.00349072,  0.00348532,  0.00347222,  0.00346901,  0.00346378,\n",
       "        0.00344857,  0.00344738,  0.00343822,  0.00343727,  0.00342256,\n",
       "        0.00341785,  0.00340508,  0.00340379,  0.00339648,  0.00338437,\n",
       "        0.00337658,  0.00337222,  0.00336877,  0.00335403,  0.00334933])"
      ]
     },
     "execution_count": 571,
     "metadata": {},
     "output_type": "execute_result"
    }
   ],
   "source": [
    "pipeline.named_steps['lsa'].explained_variance_ratio_"
   ]
  },
  {
   "cell_type": "code",
   "execution_count": null,
   "metadata": {
    "collapsed": true,
    "deletable": true,
    "editable": true
   },
   "outputs": [],
   "source": [
    "df_wcnt = pd.DataFrame(X_all.toarray(), columns=cvt.get_feature_names())\n",
    "df_wcnt.sum().sort_values(ascending=False).head(30)"
   ]
  },
  {
   "cell_type": "code",
   "execution_count": 525,
   "metadata": {
    "collapsed": false,
    "deletable": true,
    "editable": true
   },
   "outputs": [],
   "source": [
    "#X_test_tf = pipeline.named_steps['tfidf'].fit_transform(X_test)\n",
    "y_pred_class = pipeline.predict(X_test)"
   ]
  },
  {
   "cell_type": "code",
   "execution_count": 528,
   "metadata": {
    "collapsed": false,
    "deletable": true,
    "editable": true,
    "scrolled": true
   },
   "outputs": [
    {
     "data": {
      "text/html": [
       "<div>\n",
       "<table border=\"1\" class=\"dataframe\">\n",
       "  <thead>\n",
       "    <tr style=\"text-align: right;\">\n",
       "      <th></th>\n",
       "      <th>00</th>\n",
       "      <th>000</th>\n",
       "      <th>0011</th>\n",
       "      <th>02110</th>\n",
       "      <th>02114</th>\n",
       "      <th>02451</th>\n",
       "      <th>02453</th>\n",
       "      <th>03</th>\n",
       "      <th>03051</th>\n",
       "      <th>07054</th>\n",
       "      <th>...</th>\n",
       "      <th>yields</th>\n",
       "      <th>york</th>\n",
       "      <th>young</th>\n",
       "      <th>youth</th>\n",
       "      <th>youthful</th>\n",
       "      <th>youtube</th>\n",
       "      <th>yrs</th>\n",
       "      <th>zeroed</th>\n",
       "      <th>zones</th>\n",
       "      <th>zynosoft</th>\n",
       "    </tr>\n",
       "  </thead>\n",
       "  <tbody>\n",
       "    <tr>\n",
       "      <th>0</th>\n",
       "      <td>0.000000</td>\n",
       "      <td>0.0</td>\n",
       "      <td>0.0</td>\n",
       "      <td>0.0</td>\n",
       "      <td>0.0</td>\n",
       "      <td>0.000000</td>\n",
       "      <td>0.000000</td>\n",
       "      <td>0.0</td>\n",
       "      <td>0.0</td>\n",
       "      <td>0.0</td>\n",
       "      <td>...</td>\n",
       "      <td>0.0</td>\n",
       "      <td>0.000000</td>\n",
       "      <td>0.0</td>\n",
       "      <td>0.0</td>\n",
       "      <td>0.0</td>\n",
       "      <td>0.0</td>\n",
       "      <td>0.0</td>\n",
       "      <td>0.0</td>\n",
       "      <td>0.0</td>\n",
       "      <td>0.0</td>\n",
       "    </tr>\n",
       "    <tr>\n",
       "      <th>1</th>\n",
       "      <td>0.000000</td>\n",
       "      <td>0.0</td>\n",
       "      <td>0.0</td>\n",
       "      <td>0.0</td>\n",
       "      <td>0.0</td>\n",
       "      <td>0.000000</td>\n",
       "      <td>0.000000</td>\n",
       "      <td>0.0</td>\n",
       "      <td>0.0</td>\n",
       "      <td>0.0</td>\n",
       "      <td>...</td>\n",
       "      <td>0.0</td>\n",
       "      <td>0.000000</td>\n",
       "      <td>0.0</td>\n",
       "      <td>0.0</td>\n",
       "      <td>0.0</td>\n",
       "      <td>0.0</td>\n",
       "      <td>0.0</td>\n",
       "      <td>0.0</td>\n",
       "      <td>0.0</td>\n",
       "      <td>0.0</td>\n",
       "    </tr>\n",
       "    <tr>\n",
       "      <th>2</th>\n",
       "      <td>0.000000</td>\n",
       "      <td>0.0</td>\n",
       "      <td>0.0</td>\n",
       "      <td>0.0</td>\n",
       "      <td>0.0</td>\n",
       "      <td>0.000000</td>\n",
       "      <td>0.000000</td>\n",
       "      <td>0.0</td>\n",
       "      <td>0.0</td>\n",
       "      <td>0.0</td>\n",
       "      <td>...</td>\n",
       "      <td>0.0</td>\n",
       "      <td>0.000000</td>\n",
       "      <td>0.0</td>\n",
       "      <td>0.0</td>\n",
       "      <td>0.0</td>\n",
       "      <td>0.0</td>\n",
       "      <td>0.0</td>\n",
       "      <td>0.0</td>\n",
       "      <td>0.0</td>\n",
       "      <td>0.0</td>\n",
       "    </tr>\n",
       "    <tr>\n",
       "      <th>3</th>\n",
       "      <td>0.069441</td>\n",
       "      <td>0.0</td>\n",
       "      <td>0.0</td>\n",
       "      <td>0.0</td>\n",
       "      <td>0.0</td>\n",
       "      <td>0.076852</td>\n",
       "      <td>0.076852</td>\n",
       "      <td>0.0</td>\n",
       "      <td>0.0</td>\n",
       "      <td>0.0</td>\n",
       "      <td>...</td>\n",
       "      <td>0.0</td>\n",
       "      <td>0.038255</td>\n",
       "      <td>0.0</td>\n",
       "      <td>0.0</td>\n",
       "      <td>0.0</td>\n",
       "      <td>0.0</td>\n",
       "      <td>0.0</td>\n",
       "      <td>0.0</td>\n",
       "      <td>0.0</td>\n",
       "      <td>0.0</td>\n",
       "    </tr>\n",
       "    <tr>\n",
       "      <th>4</th>\n",
       "      <td>0.000000</td>\n",
       "      <td>0.0</td>\n",
       "      <td>0.0</td>\n",
       "      <td>0.0</td>\n",
       "      <td>0.0</td>\n",
       "      <td>0.000000</td>\n",
       "      <td>0.000000</td>\n",
       "      <td>0.0</td>\n",
       "      <td>0.0</td>\n",
       "      <td>0.0</td>\n",
       "      <td>...</td>\n",
       "      <td>0.0</td>\n",
       "      <td>0.000000</td>\n",
       "      <td>0.0</td>\n",
       "      <td>0.0</td>\n",
       "      <td>0.0</td>\n",
       "      <td>0.0</td>\n",
       "      <td>0.0</td>\n",
       "      <td>0.0</td>\n",
       "      <td>0.0</td>\n",
       "      <td>0.0</td>\n",
       "    </tr>\n",
       "  </tbody>\n",
       "</table>\n",
       "<p>5 rows × 6753 columns</p>\n",
       "</div>"
      ],
      "text/plain": [
       "         00  000  0011  02110  02114     02451     02453   03  03051  07054  \\\n",
       "0  0.000000  0.0  0.0   0.0    0.0    0.000000  0.000000  0.0  0.0    0.0     \n",
       "1  0.000000  0.0  0.0   0.0    0.0    0.000000  0.000000  0.0  0.0    0.0     \n",
       "2  0.000000  0.0  0.0   0.0    0.0    0.000000  0.000000  0.0  0.0    0.0     \n",
       "3  0.069441  0.0  0.0   0.0    0.0    0.076852  0.076852  0.0  0.0    0.0     \n",
       "4  0.000000  0.0  0.0   0.0    0.0    0.000000  0.000000  0.0  0.0    0.0     \n",
       "\n",
       "     ...     yields      york  young  youth  youthful  youtube  yrs  zeroed  \\\n",
       "0    ...     0.0     0.000000  0.0    0.0    0.0       0.0      0.0  0.0      \n",
       "1    ...     0.0     0.000000  0.0    0.0    0.0       0.0      0.0  0.0      \n",
       "2    ...     0.0     0.000000  0.0    0.0    0.0       0.0      0.0  0.0      \n",
       "3    ...     0.0     0.038255  0.0    0.0    0.0       0.0      0.0  0.0      \n",
       "4    ...     0.0     0.000000  0.0    0.0    0.0       0.0      0.0  0.0      \n",
       "\n",
       "   zones  zynosoft  \n",
       "0  0.0    0.0       \n",
       "1  0.0    0.0       \n",
       "2  0.0    0.0       \n",
       "3  0.0    0.0       \n",
       "4  0.0    0.0       \n",
       "\n",
       "[5 rows x 6753 columns]"
      ]
     },
     "execution_count": 528,
     "metadata": {},
     "output_type": "execute_result"
    }
   ],
   "source": [
    "#check out the tfidf\n",
    "tfidf = TfidfVectorizer(lowercase=True, strip_accents='unicode', #analyzer='word', \n",
    "                             stop_words='english',sublinear_tf=True)\n",
    "X_all    =  tfidf.fit_transform(df['job_summary'])\n",
    "df_wcnt = pd.DataFrame(X_all.toarray(), columns=tfidf.get_feature_names())\n",
    "df_wcnt.head()"
   ]
  },
  {
   "cell_type": "code",
   "execution_count": 530,
   "metadata": {
    "collapsed": false,
    "deletable": true,
    "editable": true
   },
   "outputs": [
    {
     "ename": "AttributeError",
     "evalue": "'TfidfTransformer' object has no attribute 'get_feature_names'",
     "output_type": "error",
     "traceback": [
      "\u001b[0;31m---------------------------------------------------------------------------\u001b[0m",
      "\u001b[0;31mAttributeError\u001b[0m                            Traceback (most recent call last)",
      "\u001b[0;32m<ipython-input-530-17521e28b95b>\u001b[0m in \u001b[0;36m<module>\u001b[0;34m()\u001b[0m\n\u001b[0;32m----> 1\u001b[0;31m \u001b[0mdf_wcnt\u001b[0m \u001b[1;33m=\u001b[0m \u001b[0mpd\u001b[0m\u001b[1;33m.\u001b[0m\u001b[0mDataFrame\u001b[0m\u001b[1;33m(\u001b[0m\u001b[0mX_all\u001b[0m\u001b[1;33m.\u001b[0m\u001b[0mtoarray\u001b[0m\u001b[1;33m(\u001b[0m\u001b[1;33m)\u001b[0m\u001b[1;33m,\u001b[0m \u001b[0mcolumns\u001b[0m\u001b[1;33m=\u001b[0m\u001b[0mpipeline\u001b[0m\u001b[1;33m.\u001b[0m\u001b[0mnamed_steps\u001b[0m\u001b[1;33m[\u001b[0m\u001b[1;34m'tfidf'\u001b[0m\u001b[1;33m]\u001b[0m\u001b[1;33m.\u001b[0m\u001b[0mget_feature_names\u001b[0m\u001b[1;33m(\u001b[0m\u001b[1;33m)\u001b[0m\u001b[1;33m)\u001b[0m\u001b[1;33m\u001b[0m\u001b[0m\n\u001b[0m\u001b[1;32m      2\u001b[0m \u001b[0mdf_wcnt\u001b[0m\u001b[1;33m\u001b[0m\u001b[0m\n",
      "\u001b[0;31mAttributeError\u001b[0m: 'TfidfTransformer' object has no attribute 'get_feature_names'"
     ]
    }
   ],
   "source": [
    "df_wcnt = pd.DataFrame(X_all.toarray(), columns=pipeline.named_steps['tfidf'].get_feature_names())\n",
    "df_wcnt"
   ]
  },
  {
   "cell_type": "code",
   "execution_count": 531,
   "metadata": {
    "collapsed": false,
    "deletable": true,
    "editable": true,
    "scrolled": true
   },
   "outputs": [
    {
     "data": {
      "text/plain": [
       "array([[ 6, 22,  0,  0],\n",
       "       [ 1, 67,  0,  0],\n",
       "       [ 0, 23,  0,  0],\n",
       "       [ 0,  5,  0,  0]])"
      ]
     },
     "execution_count": 531,
     "metadata": {},
     "output_type": "execute_result"
    }
   ],
   "source": [
    "from sklearn import metrics\n",
    "metrics.confusion_matrix(y_test, y_pred_class)"
   ]
  },
  {
   "cell_type": "markdown",
   "metadata": {
    "collapsed": true,
    "deletable": true,
    "editable": true
   },
   "source": [
    "# Try LDA/NMF topic modeling with industry data"
   ]
  },
  {
   "cell_type": "code",
   "execution_count": 1,
   "metadata": {
    "collapsed": true,
    "deletable": true,
    "editable": true
   },
   "outputs": [],
   "source": [
    "import numpy as np"
   ]
  },
  {
   "cell_type": "code",
   "execution_count": 2,
   "metadata": {
    "collapsed": true,
    "deletable": true,
    "editable": true
   },
   "outputs": [],
   "source": [
    "import pandas as pd\n",
    "from sklearn.decomposition import LatentDirichletAllocation\n",
    "from sklearn.decomposition import NMF\n",
    "import pandas as pd, seaborn as sns, numpy as np, matplotlib.pyplot as plt\n",
    "\n",
    "from sklearn.feature_extraction.text import CountVectorizer, TfidfTransformer, TfidfVectorizer \n",
    "from sklearn.feature_extraction.text import TfidfTransformer\n",
    "from sklearn.feature_extraction.text import TfidfVectorizer\n",
    "from sklearn.model_selection import learning_curve\n",
    "from sklearn.model_selection import train_test_split, cross_val_score, ShuffleSplit\n",
    "from sklearn.metrics import classification_report\n",
    "from sklearn.naive_bayes import MultinomialNB, BernoulliNB, GaussianNB\n",
    "from sklearn.linear_model import LogisticRegression\n",
    "from sklearn.svm import SVC\n",
    "\n",
    "\n",
    "from sklearn.pipeline import Pipeline\n",
    "\n",
    "%matplotlib inline\n",
    "\n",
    "sns.set_style(\"darkgrid\")"
   ]
  },
  {
   "cell_type": "code",
   "execution_count": 3,
   "metadata": {
    "collapsed": true
   },
   "outputs": [],
   "source": [
    "from nltk import word_tokenize          \n",
    "from nltk.stem import WordNetLemmatizer \n",
    "class LemmaTokenizer(object):\n",
    "    def __init__(self):\n",
    "        self.wnl = WordNetLemmatizer()\n",
    "    def __call__(self, doc):\n",
    "        return [self.wnl.lemmatize(t) for t in word_tokenize(doc)]\n",
    "\n",
    "vect = CountVectorizer(tokenizer=LemmaTokenizer())"
   ]
  },
  {
   "cell_type": "code",
   "execution_count": 4,
   "metadata": {
    "collapsed": true
   },
   "outputs": [],
   "source": [
    "import nltk\n",
    "nltk.data.path.append(\"/Volumes/Secondary/\")\n",
    "from nltk import word_tokenize\n",
    "from nltk.corpus import stopwords\n",
    "import string\n",
    "additional = [\"''\",\"'s\",'--','``','·','’',\"'\",\"'re\",'/hour','/year','hour required']\n",
    "stop = stopwords.words('english') + list(string.punctuation) + additional"
   ]
  },
  {
   "cell_type": "code",
   "execution_count": 5,
   "metadata": {
    "collapsed": false,
    "deletable": true,
    "editable": true
   },
   "outputs": [],
   "source": [
    "#df = pd.read_csv('industry_df.csv',encoding='latin1') #\n",
    "#df = pd.read_csv('juniorsenior_df',encoding='latin1') #94% with randomforrest nmf\n",
    "df = pd.read_csv('salary_df.csv',encoding='latin1')"
   ]
  },
  {
   "cell_type": "code",
   "execution_count": 6,
   "metadata": {
    "collapsed": false,
    "deletable": true,
    "editable": true
   },
   "outputs": [
    {
     "data": {
      "text/plain": [
       "(1122, 14)"
      ]
     },
     "execution_count": 6,
     "metadata": {},
     "output_type": "execute_result"
    }
   ],
   "source": [
    "df.shape"
   ]
  },
  {
   "cell_type": "code",
   "execution_count": 7,
   "metadata": {
    "collapsed": false
   },
   "outputs": [
    {
     "data": {
      "text/plain": [
       "Index(['Unnamed: 0', 'Unnamed: 0.1', 'title', 'url', 'sal', 'search_phrase',\n",
       "       'search_loc', 'frmt', 'html', 'comp_name', 'job_title', 'job_loc',\n",
       "       'job_summary', 'sal_num'],\n",
       "      dtype='object')"
      ]
     },
     "execution_count": 7,
     "metadata": {},
     "output_type": "execute_result"
    }
   ],
   "source": [
    "df.columns"
   ]
  },
  {
   "cell_type": "code",
   "execution_count": 8,
   "metadata": {
    "collapsed": false
   },
   "outputs": [
    {
     "data": {
      "text/plain": [
       "0.44295900178253117"
      ]
     },
     "execution_count": 8,
     "metadata": {},
     "output_type": "execute_result"
    }
   ],
   "source": [
    "#baseline\n",
    "df['sal'].value_counts().max()/df['sal'].count()"
   ]
  },
  {
   "cell_type": "code",
   "execution_count": 59,
   "metadata": {
    "collapsed": false,
    "deletable": true,
    "editable": true
   },
   "outputs": [],
   "source": [
    "X_job = df['job_summary']\n",
    "X_title = df['job_title']\n",
    "y_all = df['sal_num']"
   ]
  },
  {
   "cell_type": "code",
   "execution_count": 60,
   "metadata": {
    "collapsed": false,
    "deletable": true,
    "editable": true,
    "scrolled": true
   },
   "outputs": [],
   "source": [
    "#check out the countvect\n",
    "cvt_job      =  CountVectorizer(stop_words=stop,\n",
    "                            strip_accents='unicode', \n",
    "                            ngram_range=(2,4),\n",
    "                            max_df=.8,\n",
    "                            min_df=2,\n",
    "                            tokenizer=LemmaTokenizer())\n",
    "X_job_cvt    =  cvt_job.fit_transform(X_job)"
   ]
  },
  {
   "cell_type": "code",
   "execution_count": 61,
   "metadata": {
    "collapsed": false,
    "deletable": true,
    "editable": true
   },
   "outputs": [],
   "source": [
    "#check out the countvect\n",
    "cvt_title      =  CountVectorizer(stop_words=stop,\n",
    "                            strip_accents='unicode', \n",
    "                            ngram_range=(1,1),\n",
    "                            max_df=.7,\n",
    "                            min_df=2,\n",
    "                            tokenizer=LemmaTokenizer())\n",
    "X_title_cvt    =  cvt_title.fit_transform(X_title)"
   ]
  },
  {
   "cell_type": "code",
   "execution_count": 62,
   "metadata": {
    "collapsed": false,
    "deletable": true,
    "editable": true
   },
   "outputs": [],
   "source": [
    "tf_job = TfidfTransformer()\n",
    "X_job = tf_job.fit_transform(X_job_cvt)\n",
    "\n",
    "tf_title = TfidfTransformer()\n",
    "X_title = tf_title.fit_transform(X_title_cvt)"
   ]
  },
  {
   "cell_type": "code",
   "execution_count": 63,
   "metadata": {
    "collapsed": true,
    "deletable": true,
    "editable": true
   },
   "outputs": [],
   "source": [
    "nmf_title = NMF(n_components=4, \n",
    "          random_state=42, \n",
    "          alpha=.1, \n",
    "          l1_ratio=.9, \n",
    "          init='nndsvd').fit(X_title)\n",
    "\n",
    "nmf_job = NMF(n_components=8, \n",
    "          random_state=42, \n",
    "          alpha=.1, \n",
    "          l1_ratio=.7, \n",
    "          init='nndsvd').fit(X_job)"
   ]
  },
  {
   "cell_type": "code",
   "execution_count": 64,
   "metadata": {
    "collapsed": false,
    "deletable": true,
    "editable": true
   },
   "outputs": [],
   "source": [
    "nmf_job_df = pd.DataFrame(nmf_job.components_, columns = cvt_job.get_feature_names())\n",
    "nmf_job_df = nmf_job_df.replace(0,np.nan)\n",
    "nmf_job_df = nmf_job_df.dropna(how='all',axis=1)\n",
    "nmf_job_df = nmf_job_df.replace(np.nan,0)\n",
    "\n",
    "nmf_title_df = pd.DataFrame(nmf_title.components_, columns = cvt_title.get_feature_names())\n",
    "nmf_title_df = nmf_title_df.replace(0,np.nan)\n",
    "nmf_title_df = nmf_title_df.dropna(how='all',axis=1)\n",
    "nmf_title_df = nmf_title_df.replace(np.nan,0)"
   ]
  },
  {
   "cell_type": "code",
   "execution_count": 1369,
   "metadata": {
    "collapsed": false
   },
   "outputs": [
    {
     "name": "stdout",
     "output_type": "stream",
     "text": [
      "(5, 2591)\n",
      "(5, 135)\n"
     ]
    }
   ],
   "source": [
    "print(nmf_job_df.shape)\n",
    "print(nmf_title_df.shape)"
   ]
  },
  {
   "cell_type": "code",
   "execution_count": 79,
   "metadata": {
    "collapsed": false
   },
   "outputs": [
    {
     "data": {
      "text/html": [
       "<div>\n",
       "<table border=\"1\" class=\"dataframe\">\n",
       "  <thead>\n",
       "    <tr style=\"text-align: right;\">\n",
       "      <th></th>\n",
       "      <th>0</th>\n",
       "      <th>1</th>\n",
       "      <th>2</th>\n",
       "      <th>3</th>\n",
       "      <th>4</th>\n",
       "      <th>5</th>\n",
       "      <th>6</th>\n",
       "      <th>7</th>\n",
       "    </tr>\n",
       "  </thead>\n",
       "  <tbody>\n",
       "    <tr>\n",
       "      <th>1 year</th>\n",
       "      <td>0.474163</td>\n",
       "      <td>0.000000</td>\n",
       "      <td>0.003760</td>\n",
       "      <td>0.000000</td>\n",
       "      <td>0.0</td>\n",
       "      <td>0.0</td>\n",
       "      <td>0.000000</td>\n",
       "      <td>0.0</td>\n",
       "    </tr>\n",
       "    <tr>\n",
       "      <th>education bachelor</th>\n",
       "      <td>0.459187</td>\n",
       "      <td>0.002709</td>\n",
       "      <td>0.010208</td>\n",
       "      <td>0.002692</td>\n",
       "      <td>0.0</td>\n",
       "      <td>0.0</td>\n",
       "      <td>0.006184</td>\n",
       "      <td>0.0</td>\n",
       "    </tr>\n",
       "    <tr>\n",
       "      <th>required education bachelor</th>\n",
       "      <td>0.438794</td>\n",
       "      <td>0.002892</td>\n",
       "      <td>0.010030</td>\n",
       "      <td>0.002826</td>\n",
       "      <td>0.0</td>\n",
       "      <td>0.0</td>\n",
       "      <td>0.006453</td>\n",
       "      <td>0.0</td>\n",
       "    </tr>\n",
       "    <tr>\n",
       "      <th>type full-time required education</th>\n",
       "      <td>0.432659</td>\n",
       "      <td>0.007125</td>\n",
       "      <td>0.000000</td>\n",
       "      <td>0.000000</td>\n",
       "      <td>0.0</td>\n",
       "      <td>0.0</td>\n",
       "      <td>0.000000</td>\n",
       "      <td>0.0</td>\n",
       "    </tr>\n",
       "    <tr>\n",
       "      <th>full-time required education</th>\n",
       "      <td>0.432659</td>\n",
       "      <td>0.007125</td>\n",
       "      <td>0.000000</td>\n",
       "      <td>0.000000</td>\n",
       "      <td>0.0</td>\n",
       "      <td>0.0</td>\n",
       "      <td>0.000000</td>\n",
       "      <td>0.0</td>\n",
       "    </tr>\n",
       "  </tbody>\n",
       "</table>\n",
       "</div>"
      ],
      "text/plain": [
       "                                          0         1         2         3  \\\n",
       "1 year                             0.474163  0.000000  0.003760  0.000000   \n",
       "education bachelor                 0.459187  0.002709  0.010208  0.002692   \n",
       "required education bachelor        0.438794  0.002892  0.010030  0.002826   \n",
       "type full-time required education  0.432659  0.007125  0.000000  0.000000   \n",
       "full-time required education       0.432659  0.007125  0.000000  0.000000   \n",
       "\n",
       "                                     4    5         6    7  \n",
       "1 year                             0.0  0.0  0.000000  0.0  \n",
       "education bachelor                 0.0  0.0  0.006184  0.0  \n",
       "required education bachelor        0.0  0.0  0.006453  0.0  \n",
       "type full-time required education  0.0  0.0  0.000000  0.0  \n",
       "full-time required education       0.0  0.0  0.000000  0.0  "
      ]
     },
     "execution_count": 79,
     "metadata": {},
     "output_type": "execute_result"
    }
   ],
   "source": [
    "nmf_job_df.T.sort_values(0,ascending=False).head()"
   ]
  },
  {
   "cell_type": "code",
   "execution_count": 67,
   "metadata": {
    "collapsed": false,
    "deletable": true,
    "editable": true,
    "scrolled": true
   },
   "outputs": [
    {
     "data": {
      "text/html": [
       "<div>\n",
       "<table border=\"1\" class=\"dataframe\">\n",
       "  <thead>\n",
       "    <tr style=\"text-align: right;\">\n",
       "      <th></th>\n",
       "      <th>0</th>\n",
       "      <th>1</th>\n",
       "      <th>2</th>\n",
       "      <th>3</th>\n",
       "    </tr>\n",
       "  </thead>\n",
       "  <tbody>\n",
       "    <tr>\n",
       "      <th>scientist</th>\n",
       "      <td>0.0</td>\n",
       "      <td>0.000000</td>\n",
       "      <td>0.0</td>\n",
       "      <td>4.867121</td>\n",
       "    </tr>\n",
       "    <tr>\n",
       "      <th>data</th>\n",
       "      <td>0.0</td>\n",
       "      <td>6.413457</td>\n",
       "      <td>0.0</td>\n",
       "      <td>1.654174</td>\n",
       "    </tr>\n",
       "    <tr>\n",
       "      <th>research</th>\n",
       "      <td>0.0</td>\n",
       "      <td>0.000000</td>\n",
       "      <td>0.0</td>\n",
       "      <td>1.006735</td>\n",
       "    </tr>\n",
       "    <tr>\n",
       "      <th>learning</th>\n",
       "      <td>0.0</td>\n",
       "      <td>0.000000</td>\n",
       "      <td>0.0</td>\n",
       "      <td>0.089867</td>\n",
       "    </tr>\n",
       "    <tr>\n",
       "      <th>clinical</th>\n",
       "      <td>0.0</td>\n",
       "      <td>0.014977</td>\n",
       "      <td>0.0</td>\n",
       "      <td>0.078757</td>\n",
       "    </tr>\n",
       "  </tbody>\n",
       "</table>\n",
       "</div>"
      ],
      "text/plain": [
       "             0         1    2         3\n",
       "scientist  0.0  0.000000  0.0  4.867121\n",
       "data       0.0  6.413457  0.0  1.654174\n",
       "research   0.0  0.000000  0.0  1.006735\n",
       "learning   0.0  0.000000  0.0  0.089867\n",
       "clinical   0.0  0.014977  0.0  0.078757"
      ]
     },
     "execution_count": 67,
     "metadata": {},
     "output_type": "execute_result"
    }
   ],
   "source": [
    "nmf_title_df.T.sort_values(3,ascending=False).head()"
   ]
  },
  {
   "cell_type": "code",
   "execution_count": 68,
   "metadata": {
    "collapsed": false
   },
   "outputs": [],
   "source": [
    "# nmf_df = nmf_df[nmf_df>.1].dropna(how='all',axis=1)\n",
    "# nmf_df = nmf_df.fillna(0)\n",
    "# nmf_df.shape"
   ]
  },
  {
   "cell_type": "code",
   "execution_count": 69,
   "metadata": {
    "collapsed": false
   },
   "outputs": [],
   "source": [
    "X_nmf = pd.DataFrame()\n",
    "#for i, j in enumerate(['gov','manu','bank','health','insurance']):\n",
    "for i in range(4):\n",
    "    X_nmf = pd.concat([X_nmf,pd.DataFrame(np.matmul(X_job_cvt.toarray(),nmf_job.components_[i]),columns=[i])],axis=1)\n",
    "    X_nmf = pd.concat([X_nmf,pd.DataFrame(np.matmul(X_title_cvt.toarray(),nmf_title.components_[i]),columns=[i])],axis=1)"
   ]
  },
  {
   "cell_type": "markdown",
   "metadata": {},
   "source": [
    "# Use this in a model!"
   ]
  },
  {
   "cell_type": "code",
   "execution_count": 70,
   "metadata": {
    "collapsed": false
   },
   "outputs": [],
   "source": [
    "from sklearn.ensemble import RandomForestClassifier\n",
    "from sklearn.cross_validation import cross_val_score\n",
    "from sklearn.model_selection import ShuffleSplit"
   ]
  },
  {
   "cell_type": "code",
   "execution_count": 71,
   "metadata": {
    "collapsed": false
   },
   "outputs": [],
   "source": [
    "#X = df['job_summary']\n",
    "X = X_nmf\n",
    "#y = df['title_num']\n",
    "y = df['sal_num']\n",
    "#y = df['search_phrase']\n",
    "X_train, X_test, y_train, y_test = train_test_split(X,y,test_size=.4)"
   ]
  },
  {
   "cell_type": "code",
   "execution_count": 72,
   "metadata": {
    "collapsed": false
   },
   "outputs": [],
   "source": [
    "clf = RandomForestClassifier(n_estimators=200,random_state=42,criterion='entropy') #did very poorly on \n",
    "#clf = RandomForestClassifier(n_estimators=200,random_state=42,criterion='gini')\n",
    "#clf = LogisticRegression(penalty='l2',C=1) #C=1,L1,.639 (job only)\n",
    "#clf = LogisticRegression() #job only, .64\n",
    "#clf = MultinomialNB()\n",
    "#clf = SVC(C=1,kernel='poly',degree=2) #\n",
    "#clf = SVC(C=10,gamma=10,kernel='linear',random_state=42) #c=10,.646 (both job+title)"
   ]
  },
  {
   "cell_type": "code",
   "execution_count": 73,
   "metadata": {
    "collapsed": false,
    "scrolled": true
   },
   "outputs": [
    {
     "data": {
      "text/plain": [
       "0.53003663296025016"
      ]
     },
     "execution_count": 73,
     "metadata": {},
     "output_type": "execute_result"
    }
   ],
   "source": [
    "clf.fit(X_train,y_train)\n",
    "#cv = ShuffleSplit(n_splits=3, test_size=0.3, random_state=0)\n",
    "cross_val_score(clf,X_train,y_train,cv=10).mean()"
   ]
  },
  {
   "cell_type": "code",
   "execution_count": 74,
   "metadata": {
    "collapsed": false
   },
   "outputs": [],
   "source": [
    "y_pred = clf.predict(X_test)\n",
    "y_total_pred = clf.predict(X_nmf)"
   ]
  },
  {
   "cell_type": "code",
   "execution_count": 75,
   "metadata": {
    "collapsed": false
   },
   "outputs": [],
   "source": [
    "from sklearn.metrics import confusion_matrix"
   ]
  },
  {
   "cell_type": "code",
   "execution_count": 76,
   "metadata": {
    "collapsed": false,
    "scrolled": true
   },
   "outputs": [
    {
     "data": {
      "text/plain": [
       "0.534521158129176"
      ]
     },
     "execution_count": 76,
     "metadata": {},
     "output_type": "execute_result"
    }
   ],
   "source": [
    "clf.score(X_test,y_test)"
   ]
  },
  {
   "cell_type": "code",
   "execution_count": 77,
   "metadata": {
    "collapsed": false
   },
   "outputs": [
    {
     "data": {
      "text/plain": [
       "array([[ 50,  37,   6,   6],\n",
       "       [ 35, 132,  42,  11],\n",
       "       [ 17,  35,  57,  14],\n",
       "       [  0,   4,   2,   1]])"
      ]
     },
     "execution_count": 77,
     "metadata": {},
     "output_type": "execute_result"
    }
   ],
   "source": [
    "confusion_matrix(y_pred, y_test)"
   ]
  },
  {
   "cell_type": "code",
   "execution_count": 754,
   "metadata": {
    "collapsed": false
   },
   "outputs": [
    {
     "data": {
      "text/html": [
       "<div>\n",
       "<table border=\"1\" class=\"dataframe\">\n",
       "  <thead>\n",
       "    <tr style=\"text-align: right;\">\n",
       "      <th></th>\n",
       "      <th>0</th>\n",
       "      <th>1</th>\n",
       "      <th>title_num</th>\n",
       "      <th>0</th>\n",
       "      <th>job_title</th>\n",
       "    </tr>\n",
       "  </thead>\n",
       "  <tbody>\n",
       "    <tr>\n",
       "      <th>0</th>\n",
       "      <td>0.271923</td>\n",
       "      <td>0.000000</td>\n",
       "      <td>0</td>\n",
       "      <td>0</td>\n",
       "      <td>Jr. Paralegal</td>\n",
       "    </tr>\n",
       "    <tr>\n",
       "      <th>1</th>\n",
       "      <td>3.624011</td>\n",
       "      <td>0.035767</td>\n",
       "      <td>0</td>\n",
       "      <td>0</td>\n",
       "      <td>Junior Commercial Loan Officer</td>\n",
       "    </tr>\n",
       "    <tr>\n",
       "      <th>2</th>\n",
       "      <td>3.666084</td>\n",
       "      <td>0.000470</td>\n",
       "      <td>0</td>\n",
       "      <td>0</td>\n",
       "      <td>Entry Level - Junior Commodities Broker</td>\n",
       "    </tr>\n",
       "    <tr>\n",
       "      <th>3</th>\n",
       "      <td>0.271923</td>\n",
       "      <td>0.081740</td>\n",
       "      <td>0</td>\n",
       "      <td>0</td>\n",
       "      <td>Jr. Art Director</td>\n",
       "    </tr>\n",
       "    <tr>\n",
       "      <th>4</th>\n",
       "      <td>3.582470</td>\n",
       "      <td>0.000000</td>\n",
       "      <td>0</td>\n",
       "      <td>0</td>\n",
       "      <td>Junior Stylist/Assistant</td>\n",
       "    </tr>\n",
       "  </tbody>\n",
       "</table>\n",
       "</div>"
      ],
      "text/plain": [
       "          0         1  title_num  0                                job_title\n",
       "0  0.271923  0.000000          0  0                            Jr. Paralegal\n",
       "1  3.624011  0.035767          0  0           Junior Commercial Loan Officer\n",
       "2  3.666084  0.000470          0  0  Entry Level - Junior Commodities Broker\n",
       "3  0.271923  0.081740          0  0                         Jr. Art Director\n",
       "4  3.582470  0.000000          0  0                 Junior Stylist/Assistant"
      ]
     },
     "execution_count": 754,
     "metadata": {},
     "output_type": "execute_result"
    }
   ],
   "source": [
    "pd.concat([X_nmf,pd.DataFrame(y),pd.DataFrame(y_total_pred),pd.DataFrame(df['job_title'])],axis=1).head()"
   ]
  },
  {
   "cell_type": "code",
   "execution_count": 557,
   "metadata": {
    "collapsed": false,
    "deletable": true,
    "editable": true
   },
   "outputs": [],
   "source": [
    "#df.iloc[29]['job_summary']"
   ]
  },
  {
   "cell_type": "code",
   "execution_count": null,
   "metadata": {
    "collapsed": true,
    "deletable": true,
    "editable": true
   },
   "outputs": [],
   "source": []
  },
  {
   "cell_type": "code",
   "execution_count": 103,
   "metadata": {
    "collapsed": false,
    "deletable": true,
    "editable": true,
    "scrolled": true
   },
   "outputs": [
    {
     "name": "stderr",
     "output_type": "stream",
     "text": [
      "C:\\Users\\xbn2\\Anaconda3\\lib\\site-packages\\sklearn\\decomposition\\online_lda.py:508: DeprecationWarning: The default value for 'learning_method' will be changed from 'online' to 'batch' in the release 0.20. This warning was introduced in 0.18.\n",
      "  DeprecationWarning)\n"
     ]
    }
   ],
   "source": [
    "lda      =  LatentDirichletAllocation(n_topics=5,max_iter=15,max_doc_update_iter=300)\n",
    "X_all_lda    =  lda.fit_transform(X_all)\n",
    "lda_df = pd.DataFrame(X_all_lda)\n",
    "lda_df.columns = df['search_phrase'].unique()"
   ]
  },
  {
   "cell_type": "code",
   "execution_count": 104,
   "metadata": {
    "collapsed": false,
    "deletable": true,
    "editable": true
   },
   "outputs": [
    {
     "data": {
      "text/html": [
       "<div>\n",
       "<table border=\"1\" class=\"dataframe\">\n",
       "  <thead>\n",
       "    <tr style=\"text-align: right;\">\n",
       "      <th></th>\n",
       "      <th>government</th>\n",
       "      <th>healthcare</th>\n",
       "      <th>banking</th>\n",
       "      <th>insurance</th>\n",
       "      <th>manufacturing</th>\n",
       "    </tr>\n",
       "  </thead>\n",
       "  <tbody>\n",
       "    <tr>\n",
       "      <th>0</th>\n",
       "      <td>0.000135</td>\n",
       "      <td>0.000136</td>\n",
       "      <td>0.000137</td>\n",
       "      <td>0.000135</td>\n",
       "      <td>0.999457</td>\n",
       "    </tr>\n",
       "    <tr>\n",
       "      <th>1</th>\n",
       "      <td>0.000652</td>\n",
       "      <td>0.240462</td>\n",
       "      <td>0.757581</td>\n",
       "      <td>0.000655</td>\n",
       "      <td>0.000650</td>\n",
       "    </tr>\n",
       "    <tr>\n",
       "      <th>2</th>\n",
       "      <td>0.000287</td>\n",
       "      <td>0.998848</td>\n",
       "      <td>0.000291</td>\n",
       "      <td>0.000286</td>\n",
       "      <td>0.000287</td>\n",
       "    </tr>\n",
       "    <tr>\n",
       "      <th>3</th>\n",
       "      <td>0.307135</td>\n",
       "      <td>0.580554</td>\n",
       "      <td>0.111763</td>\n",
       "      <td>0.000274</td>\n",
       "      <td>0.000274</td>\n",
       "    </tr>\n",
       "    <tr>\n",
       "      <th>4</th>\n",
       "      <td>0.000579</td>\n",
       "      <td>0.000587</td>\n",
       "      <td>0.997671</td>\n",
       "      <td>0.000581</td>\n",
       "      <td>0.000582</td>\n",
       "    </tr>\n",
       "  </tbody>\n",
       "</table>\n",
       "</div>"
      ],
      "text/plain": [
       "   government  healthcare   banking  insurance  manufacturing\n",
       "0    0.000135    0.000136  0.000137   0.000135       0.999457\n",
       "1    0.000652    0.240462  0.757581   0.000655       0.000650\n",
       "2    0.000287    0.998848  0.000291   0.000286       0.000287\n",
       "3    0.307135    0.580554  0.111763   0.000274       0.000274\n",
       "4    0.000579    0.000587  0.997671   0.000581       0.000582"
      ]
     },
     "execution_count": 104,
     "metadata": {},
     "output_type": "execute_result"
    }
   ],
   "source": [
    "lda_df.head()"
   ]
  },
  {
   "cell_type": "code",
   "execution_count": 106,
   "metadata": {
    "collapsed": false,
    "deletable": true,
    "editable": true
   },
   "outputs": [
    {
     "data": {
      "text/plain": [
       "0    government\n",
       "1    government\n",
       "2    government\n",
       "3    government\n",
       "4    government\n",
       "Name: search_phrase, dtype: object"
      ]
     },
     "execution_count": 106,
     "metadata": {},
     "output_type": "execute_result"
    }
   ],
   "source": [
    "df['search_phrase'].head()"
   ]
  },
  {
   "cell_type": "code",
   "execution_count": 173,
   "metadata": {
    "collapsed": false,
    "deletable": true,
    "editable": true
   },
   "outputs": [],
   "source": [
    "from sklearn.feature_extraction.text import TfidfVectorizer, CountVectorizer\n",
    "\n",
    "# NMF is able to use tf-idf\n",
    "tfidf = TfidfVectorizer(lowercase=True, \n",
    "                            strip_accents='unicode', \n",
    "                            #analyzer='word', \n",
    "                            stop_words='english',\n",
    "                            sublinear_tf=True)\n",
    "tfidf_job_sum = tfidf.fit_transform(df['job_summary'])\n",
    "tfidf_feature_names = tfidf.get_feature_names()\n",
    "\n",
    "nmf = NMF(n_components=5, \n",
    "          random_state=1, \n",
    "          alpha=.1, \n",
    "          l1_ratio=.7, \n",
    "          init='nndsvd').fit(tfidf_job_sum)"
   ]
  },
  {
   "cell_type": "code",
   "execution_count": null,
   "metadata": {
    "collapsed": false,
    "deletable": true,
    "editable": true
   },
   "outputs": [],
   "source": []
  },
  {
   "cell_type": "code",
   "execution_count": null,
   "metadata": {
    "collapsed": true,
    "deletable": true,
    "editable": true
   },
   "outputs": [],
   "source": []
  },
  {
   "cell_type": "markdown",
   "metadata": {
    "deletable": true,
    "editable": true
   },
   "source": [
    "### Try regex to find experience\n",
    "keywords to try:\n",
    "    - certification\n",
    "    - year/years\n",
    "    - experience"
   ]
  },
  {
   "cell_type": "code",
   "execution_count": 245,
   "metadata": {
    "collapsed": false
   },
   "outputs": [
    {
     "data": {
      "text/plain": [
       "(1122, 14)"
      ]
     },
     "execution_count": 245,
     "metadata": {},
     "output_type": "execute_result"
    }
   ],
   "source": [
    "df.shape"
   ]
  },
  {
   "cell_type": "code",
   "execution_count": 416,
   "metadata": {
    "collapsed": true,
    "deletable": true,
    "editable": true
   },
   "outputs": [],
   "source": [
    "import re\n",
    "from sklearn.preprocessing import LabelEncoder\n",
    "from sklearn.neighbors import KNeighborsClassifier"
   ]
  },
  {
   "cell_type": "code",
   "execution_count": 355,
   "metadata": {
    "collapsed": false,
    "deletable": true,
    "editable": true
   },
   "outputs": [
    {
     "name": "stderr",
     "output_type": "stream",
     "text": [
      "/Users/xbno/anaconda3/lib/python3.6/site-packages/ipykernel/__main__.py:1: FutureWarning: currently extract(expand=None) means expand=False (return Index/Series/DataFrame) but in a future version of pandas this will be changed to expand=True (return DataFrame)\n",
      "  if __name__ == '__main__':\n",
      "/Users/xbno/anaconda3/lib/python3.6/site-packages/ipykernel/__main__.py:2: FutureWarning: currently extract(expand=None) means expand=False (return Index/Series/DataFrame) but in a future version of pandas this will be changed to expand=True (return DataFrame)\n",
      "  from ipykernel import kernelapp as app\n"
     ]
    }
   ],
   "source": [
    "edu = df['job_summary'].str.extract('((Required education: )\\w+)')\n",
    "edu_col = edu[0].str.extract(r': (\\w+)')"
   ]
  },
  {
   "cell_type": "code",
   "execution_count": 356,
   "metadata": {
    "collapsed": false
   },
   "outputs": [
    {
     "data": {
      "text/plain": [
       "array([nan, 'Bachelor', 'Doctorate', 'Master', 'High', 'Associate',\n",
       "       'Educación'], dtype=object)"
      ]
     },
     "execution_count": 356,
     "metadata": {},
     "output_type": "execute_result"
    }
   ],
   "source": [
    "edu_col.unique()"
   ]
  },
  {
   "cell_type": "code",
   "execution_count": 357,
   "metadata": {
    "collapsed": false,
    "scrolled": true
   },
   "outputs": [],
   "source": [
    "edu_col = edu_col.map({np.nan:3,'Educación':1,'High':1,'Associate':2,'Bachelor':3,'Master':5,'Doctorate':9})"
   ]
  },
  {
   "cell_type": "code",
   "execution_count": 358,
   "metadata": {
    "collapsed": false
   },
   "outputs": [],
   "source": [
    "#edu_col"
   ]
  },
  {
   "cell_type": "code",
   "execution_count": 359,
   "metadata": {
    "collapsed": false,
    "scrolled": true
   },
   "outputs": [
    {
     "data": {
      "text/plain": [
       "0.54634581105169344"
      ]
     },
     "execution_count": 359,
     "metadata": {},
     "output_type": "execute_result"
    }
   ],
   "source": [
    "edu[0].count()/len(edu)"
   ]
  },
  {
   "cell_type": "code",
   "execution_count": 360,
   "metadata": {
    "collapsed": false
   },
   "outputs": [
    {
     "name": "stderr",
     "output_type": "stream",
     "text": [
      "/Users/xbno/anaconda3/lib/python3.6/site-packages/ipykernel/__main__.py:2: FutureWarning: currently extract(expand=None) means expand=False (return Index/Series/DataFrame) but in a future version of pandas this will be changed to expand=True (return DataFrame)\n",
      "  from ipykernel import kernelapp as app\n"
     ]
    }
   ],
   "source": [
    "#experience\n",
    "exp = df['job_summary'].str.extract('((Required experience: ).+)')\n",
    "#exp_col = exp[0].str.findall(r'([A-Z]\\w*\\s?[A-Z]\\w+:[\\W\\D]+\\d?\\s\\w+)')"
   ]
  },
  {
   "cell_type": "code",
   "execution_count": 361,
   "metadata": {
    "collapsed": false,
    "scrolled": true
   },
   "outputs": [
    {
     "data": {
      "text/plain": [
       "0.65418894830659535"
      ]
     },
     "execution_count": 361,
     "metadata": {},
     "output_type": "execute_result"
    }
   ],
   "source": [
    "exp[0].count()/len(exp)"
   ]
  },
  {
   "cell_type": "code",
   "execution_count": 362,
   "metadata": {
    "collapsed": false
   },
   "outputs": [],
   "source": [
    "exp_col = exp[0].str.extractall(r'(\\d+)\\syear')\n",
    "exp_col = pd.to_numeric(exp_col[0])\n",
    "exp_col = exp_col.groupby(level=[0]).sum()"
   ]
  },
  {
   "cell_type": "code",
   "execution_count": 363,
   "metadata": {
    "collapsed": false,
    "scrolled": false
   },
   "outputs": [
    {
     "name": "stderr",
     "output_type": "stream",
     "text": [
      "/Users/xbno/anaconda3/lib/python3.6/site-packages/ipykernel/__main__.py:1: FutureWarning: currently extract(expand=None) means expand=False (return Index/Series/DataFrame) but in a future version of pandas this will be changed to expand=True (return DataFrame)\n",
      "  if __name__ == '__main__':\n"
     ]
    }
   ],
   "source": [
    "phd_col = df['job_summary'].str.extract('(PHD|phd|PhD|P.h.D.)')\n",
    "#phd_col"
   ]
  },
  {
   "cell_type": "code",
   "execution_count": 364,
   "metadata": {
    "collapsed": false
   },
   "outputs": [],
   "source": [
    "phd_col = phd_col.map({np.nan:0,'PhD':5})"
   ]
  },
  {
   "cell_type": "code",
   "execution_count": 365,
   "metadata": {
    "collapsed": false
   },
   "outputs": [],
   "source": [
    "#best so far for numerics before year\n",
    "#job_df = df['job_summary'].str.extract('([\\d\\S+-A-Z]+[\\W\\D]+(years|year))')\n",
    "#job_df.to_csv('years.csv',index=False)"
   ]
  },
  {
   "cell_type": "code",
   "execution_count": 366,
   "metadata": {
    "collapsed": false
   },
   "outputs": [],
   "source": [
    "job = pd.read_csv('years.csv')"
   ]
  },
  {
   "cell_type": "code",
   "execution_count": 367,
   "metadata": {
    "collapsed": false
   },
   "outputs": [],
   "source": [
    "job_col = job['0'].str.extractall(r'(\\d)(\\S?)(\\d*)\\syear')"
   ]
  },
  {
   "cell_type": "code",
   "execution_count": 368,
   "metadata": {
    "collapsed": false
   },
   "outputs": [],
   "source": [
    "y_min = job_col[0]\n",
    "y_ind = job_col[1]\n",
    "y_max = job_col[2]"
   ]
  },
  {
   "cell_type": "code",
   "execution_count": 369,
   "metadata": {
    "collapsed": false
   },
   "outputs": [],
   "source": [
    "y_min = pd.to_numeric(y_min)\n",
    "y_max = pd.to_numeric(y_max)"
   ]
  },
  {
   "cell_type": "code",
   "execution_count": 370,
   "metadata": {
    "collapsed": false
   },
   "outputs": [],
   "source": [
    "y_min = y_min.groupby(level=[0]).sum()\n",
    "y_max = y_max.groupby(level=[0]).sum()"
   ]
  },
  {
   "cell_type": "code",
   "execution_count": 371,
   "metadata": {
    "collapsed": false
   },
   "outputs": [],
   "source": [
    "y_ind = y_ind.groupby(level=[0]).unique()"
   ]
  },
  {
   "cell_type": "code",
   "execution_count": 372,
   "metadata": {
    "collapsed": false
   },
   "outputs": [],
   "source": [
    "group = [edu_col,exp_col,phd_col,y_min,y_max]\n",
    "ext_df = pd.concat(group,axis=1)"
   ]
  },
  {
   "cell_type": "code",
   "execution_count": 373,
   "metadata": {
    "collapsed": false,
    "scrolled": true
   },
   "outputs": [],
   "source": [
    "ext_df = ext_df.fillna(0)"
   ]
  },
  {
   "cell_type": "code",
   "execution_count": 473,
   "metadata": {
    "collapsed": false
   },
   "outputs": [],
   "source": [
    "X = ext_df\n",
    "y = df['sal_num']\n",
    "y = y.map({0:0,1:0,2:1,3:1})\n",
    "X_train, X_test, y_train, y_test = train_test_split(X,y,test_size=.4)"
   ]
  },
  {
   "cell_type": "code",
   "execution_count": null,
   "metadata": {
    "collapsed": false
   },
   "outputs": [],
   "source": []
  },
  {
   "cell_type": "code",
   "execution_count": 517,
   "metadata": {
    "collapsed": true
   },
   "outputs": [],
   "source": [
    "#clf = RandomForestClassifier(n_estimators=200,random_state=42,criterion='entropy') #did very poorly on \n",
    "#clf = RandomForestClassifier(n_estimators=200,random_state=42,criterion='gini')\n",
    "#clf = LogisticRegression(penalty='l1',C=10) #C=1,L1,.639 (job only)\n",
    "#clf = LogisticRegression() #job only, .64\n",
    "#clf = MultinomialNB()\n",
    "#clf = SVC(C=1,kernel='poly',degree=2) #\n",
    "#clf = SVC(C=10,gamma=10,kernel='linear',random_state=42) #c=10,.646 (both job+title)\n",
    "clf = KNeighborsClassifier(n_neighbors=8)#,metric='manhattan')"
   ]
  },
  {
   "cell_type": "code",
   "execution_count": 518,
   "metadata": {
    "collapsed": false
   },
   "outputs": [
    {
     "data": {
      "text/plain": [
       "0.67317822651448633"
      ]
     },
     "execution_count": 518,
     "metadata": {},
     "output_type": "execute_result"
    }
   ],
   "source": [
    "clf.fit(X_train,y_train)\n",
    "#cv = ShuffleSplit(n_splits=3, test_size=0.3, random_state=0)\n",
    "cross_val_score(clf,X_train,y_train,cv=10).mean()"
   ]
  },
  {
   "cell_type": "code",
   "execution_count": 519,
   "metadata": {
    "collapsed": true
   },
   "outputs": [],
   "source": [
    "y_pred = clf.predict(X_test)"
   ]
  },
  {
   "cell_type": "code",
   "execution_count": 520,
   "metadata": {
    "collapsed": false
   },
   "outputs": [
    {
     "data": {
      "text/plain": [
       "0.69487750556792871"
      ]
     },
     "execution_count": 520,
     "metadata": {},
     "output_type": "execute_result"
    }
   ],
   "source": [
    "clf.score(X_test,y_test)"
   ]
  },
  {
   "cell_type": "code",
   "execution_count": 521,
   "metadata": {
    "collapsed": false
   },
   "outputs": [
    {
     "data": {
      "text/plain": [
       "array([[279, 111],\n",
       "       [ 26,  33]])"
      ]
     },
     "execution_count": 521,
     "metadata": {},
     "output_type": "execute_result"
    }
   ],
   "source": [
    "confusion_matrix(y_pred, y_test)"
   ]
  },
  {
   "cell_type": "code",
   "execution_count": 393,
   "metadata": {
    "collapsed": false,
    "deletable": true,
    "editable": true,
    "scrolled": true
   },
   "outputs": [],
   "source": [
    "#df['job_summary'].str.extract('(years|year)')\n",
    "#df['job_summary'].str.extract('([\\w+]+\\W+(years|year)\\W+\\w+)')"
   ]
  },
  {
   "cell_type": "code",
   "execution_count": 394,
   "metadata": {
    "collapsed": true,
    "deletable": true,
    "editable": true
   },
   "outputs": [],
   "source": [
    "#idx = df.brand.str.contains('^bmw$|^toyota$', flags=re.IGNORECASE, regex=True, na=False)\n",
    "#df['job_summary'].str.extract('(\\w+\\s+\\w+\\s+\\w+\\s+\\w+\\s+\\w+\\s+(experience)\\s+\\w+\\s+\\w+\\s+\\w+\\s+)')"
   ]
  },
  {
   "cell_type": "markdown",
   "metadata": {
    "deletable": true,
    "editable": true
   },
   "source": [
    "# Did this before I knew about the count vectorizer"
   ]
  },
  {
   "cell_type": "markdown",
   "metadata": {
    "collapsed": true,
    "deletable": true,
    "editable": true
   },
   "source": [
    "## Get word counts for each group of salary range:\n",
    "- Remove stopwords\n",
    "- Tokenize summary text from all listings in the sal range\n",
    "- Lemantize words as well - meaning take multiple types of the same word and group together\n",
    "    - years, year\n",
    "    - require, requiring, requires\n",
    "- Get top 10 for each range, and a top 10 for all listing with phrase"
   ]
  },
  {
   "cell_type": "code",
   "execution_count": null,
   "metadata": {
    "collapsed": false,
    "deletable": true,
    "editable": true
   },
   "outputs": [],
   "source": [
    "string.punctuation"
   ]
  },
  {
   "cell_type": "code",
   "execution_count": null,
   "metadata": {
    "collapsed": false,
    "deletable": true,
    "editable": true
   },
   "outputs": [],
   "source": [
    "cnt_list = count_tokens(df)"
   ]
  },
  {
   "cell_type": "code",
   "execution_count": null,
   "metadata": {
    "collapsed": false,
    "deletable": true,
    "editable": true,
    "scrolled": true
   },
   "outputs": [],
   "source": [
    "for i in range(len(cnt_list)):\n",
    "    pprint(cnt_list[i].most_common(10))"
   ]
  },
  {
   "cell_type": "code",
   "execution_count": null,
   "metadata": {
    "collapsed": false,
    "deletable": true,
    "editable": true
   },
   "outputs": [],
   "source": [
    "#the minimum count of words existing across all the sal ranges\n",
    "common_cnt = (cnt_list[0] & cnt_list[1] & cnt_list[2])# & cnt_list[3] & cnt_list[4] & cnt_list[5])\n",
    "\n",
    "\n",
    "#list of all words that exist across all sal ranges\n",
    "common_words = (cnt_list[0] & cnt_list[1] & cnt_list[2]).keys()# & cnt_list[3] & cnt_list[4] & cnt_list[5]).keys()"
   ]
  },
  {
   "cell_type": "code",
   "execution_count": null,
   "metadata": {
    "collapsed": false,
    "deletable": true,
    "editable": true,
    "scrolled": true
   },
   "outputs": [],
   "source": [
    "common_cnt.most_common(5)"
   ]
  },
  {
   "cell_type": "code",
   "execution_count": null,
   "metadata": {
    "collapsed": false,
    "deletable": true,
    "editable": true
   },
   "outputs": [],
   "source": [
    "keep_words = list(keep_words)"
   ]
  },
  {
   "cell_type": "code",
   "execution_count": null,
   "metadata": {
    "collapsed": false,
    "deletable": true,
    "editable": true
   },
   "outputs": [],
   "source": [
    "keep_skills = [ 'sql',\n",
    " 'hadoop',\n",
    " 'java',\n",
    " 'html',\n",
    " 'database',\n",
    " 'c++',\n",
    " 'nosql',\n",
    " 'r',\n",
    " 'cloud',\n",
    " 'aws',\n",
    " 'amazon',\n",
    " 'spark',\n",
    " 'etl']"
   ]
  },
  {
   "cell_type": "code",
   "execution_count": null,
   "metadata": {
    "collapsed": false,
    "deletable": true,
    "editable": true
   },
   "outputs": [],
   "source": [
    "#add counter together to make jumbo total count\n",
    "for i in range(len(cnt_list)):\n",
    "    total_cnt += cnt_list[i]"
   ]
  },
  {
   "cell_type": "code",
   "execution_count": null,
   "metadata": {
    "collapsed": false,
    "deletable": true,
    "editable": true
   },
   "outputs": [],
   "source": [
    "total_cnt.most_common(5)"
   ]
  },
  {
   "cell_type": "code",
   "execution_count": null,
   "metadata": {
    "collapsed": false,
    "deletable": true,
    "editable": true
   },
   "outputs": [],
   "source": [
    "total_cnt_5 = [el for el in total_cnt.elements() if total_cnt[el] >= 5]"
   ]
  },
  {
   "cell_type": "code",
   "execution_count": null,
   "metadata": {
    "collapsed": false,
    "deletable": true,
    "editable": true
   },
   "outputs": [],
   "source": [
    "total_cnt['skill']"
   ]
  },
  {
   "cell_type": "code",
   "execution_count": null,
   "metadata": {
    "collapsed": false,
    "deletable": true,
    "editable": true
   },
   "outputs": [],
   "source": [
    "#common words across all levels\n",
    "cnt_list[0](cnt_list[0].keys() - common_words)\n"
   ]
  },
  {
   "cell_type": "code",
   "execution_count": null,
   "metadata": {
    "collapsed": false,
    "deletable": true,
    "editable": true
   },
   "outputs": [],
   "source": [
    "(cnt_list[0])['someone']"
   ]
  },
  {
   "cell_type": "code",
   "execution_count": null,
   "metadata": {
    "collapsed": false,
    "deletable": true,
    "editable": true
   },
   "outputs": [],
   "source": [
    "for word in common_words:\n",
    "    print((cnt_list[0])[word])"
   ]
  },
  {
   "cell_type": "code",
   "execution_count": null,
   "metadata": {
    "collapsed": true
   },
   "outputs": [],
   "source": []
  },
  {
   "cell_type": "code",
   "execution_count": null,
   "metadata": {
    "collapsed": true
   },
   "outputs": [],
   "source": []
  },
  {
   "cell_type": "code",
   "execution_count": null,
   "metadata": {
    "collapsed": true
   },
   "outputs": [],
   "source": []
  },
  {
   "cell_type": "markdown",
   "metadata": {},
   "source": [
    "<img src=\"files/indeed.png\" style=\"float: right; height: 100px\">\n",
    "\n",
    "\n",
    "# Indications for Different Types of Jobs on Indeed.com\n",
    "---\n",
    "### Goals:\n",
    "- Determine best indicators of salary range:\n",
    "    - Skills? \n",
    "    - Words? \n",
    "    - Experience Required?\n",
    "    - Education Required?\n",
    "- Explore unsupervised methods\n",
    "    - Determine which words indicate which industries"
   ]
  },
  {
   "cell_type": "markdown",
   "metadata": {},
   "source": [
    "---\n",
    "# Data Scientist:\n",
    "<img src=\"files/circle_wordcloud_ds.png\" style=\"float: left; height: 600px\">"
   ]
  },
  {
   "cell_type": "markdown",
   "metadata": {},
   "source": [
    "---\n",
    "# Data Analyst:\n",
    "<img src=\"files/circle_wordcloud_da.png\" style=\"float: left; height: 600px\">"
   ]
  },
  {
   "cell_type": "markdown",
   "metadata": {},
   "source": [
    "---\n",
    "### Findings:\n",
    "- 'Ensemble technique' of both bag of words and specific keywords was the best\n",
    "    - Regex .03 better than .68 baseline\n",
    "    - Bag of Words .10 better than .44 baseline\n",
    "    - Both produced ~.15-.17 better than .44 baseline\n",
    "- Optimizing each set of approach individually seems powerful\n",
    "    - I went through optimizing both title and summary which lead to difficulties\n",
    "    - Whereas I optimized the keywords separately\n",
    "- By weighting different categorical variables I was able to boost my accuracy:\n",
    "    - Example: {np.nan:10,'Educación':1,'High':1,'Associate':2,'Bachelor':20,'Master':60,'Doctorate':500}"
   ]
  },
  {
   "cell_type": "markdown",
   "metadata": {},
   "source": [
    "---\n",
    "\n",
    "<img src=\"files/advanced_search.png\" style=\"float: right; height: 400px\">\n",
    "### 3 Sets of Data:\n",
    "- Labeled Salary data for 5 job types:\n",
    "    - Salary ranges based on Indeed's advanced search metric:\n",
    "        - '30k-70k', '70k-100k', '100k-130k', '130k-250k'\n",
    "    - Phrases searched:\n",
    "\n",
    "        - Data Scientist, Data Analyst, Research Scientist, Business Intelligence, and Business Analyst\n",
    "    - Locations searched:\n",
    "        - Washington DC, Boston, New York\n",
    "- Unlabeled Junior and Senior positions\n",
    "    - Title searched:\n",
    "        - Junior, Senior\n",
    "- Unlabeled set of 5 Industries:\n",
    "    - Phrases searched:\n",
    "        -Government, Healthcare, Manufacturing, Banking, Insuarance"
   ]
  },
  {
   "cell_type": "markdown",
   "metadata": {},
   "source": [
    "---\n",
    "### Assumptions/Constraints:\n",
    "- Only pulled from Indeed website postings, due to consistent format\n",
    "    - We are assuming that Indeed postings are representitive of all job postings\n",
    "- ~10% of listings on Indeed are internal Indeed listings\n",
    "    - To increase sample size I pulled job listings from multiple metro regions\n",
    "    - Salary differences are negligable across the locations sampled"
   ]
  },
  {
   "cell_type": "markdown",
   "metadata": {},
   "source": [
    "---\n",
    "\n",
    "### Format - Indeed vs Other:\n",
    "<img src=\"files/other.png\" style=\"float: right; height: 450px\">\n",
    "<img src=\"files/indeed_post.png\" style=\"float: left; height: 450px\">\n"
   ]
  },
  {
   "cell_type": "markdown",
   "metadata": {},
   "source": [
    "---\n",
    "<img src=\"files/joblist.png\" style=\"float: right; height: 450px\">\n",
    "## Agregatting the data:\n",
    "- Two steps:\n",
    "    - __Tier1__: Save all urls in a dataframe\n",
    "    - __Tier2__: Save the html data for each url to parse later\n",
    "- Result:\n",
    "    - End up with 3 master.csvs to run analysis on\n",
    "\n",
    "---\n",
    "### Tier 1:\n",
    "- Manipulate the Indeed advanced search url to pull jobs accordingly:\n",
    "    - Generate link for each job listings page\n",
    "        - Luckily this can be incremented by 50 per page\n",
    "    - Loop through all pages until last job\n",
    "        - Change the start=50 in url to see jobs 50-100\n",
    "    - Save search metadata like 'search_phrase','salary','location' etc for each url\n",
    "        - To use as target variables later on"
   ]
  },
  {
   "cell_type": "code",
   "execution_count": 533,
   "metadata": {
    "collapsed": false
   },
   "outputs": [
    {
     "data": {
      "text/plain": [
       "'https://www.indeed.com/jobs?as_and=&as_phr=data+science&as_any=&as_not=&as_ttl=&as_cmp=&jt=all&st=&salary=50k-=100k&radius=50&l=Boston%2C+MA&fromage=any&limit=50&start=0'"
      ]
     },
     "execution_count": 533,
     "metadata": {},
     "output_type": "execute_result"
    }
   ],
   "source": [
    "#search terms\n",
    "phrase = 'data+science'\n",
    "loc = 'Boston%2C+MA'\n",
    "by = '50'\n",
    "sal = '50k-=100k'\n",
    "\n",
    "#function to generate link\n",
    "gen_link(phrase=phrase,sal=sal,loc=loc,title='')"
   ]
  },
  {
   "cell_type": "code",
   "execution_count": null,
   "metadata": {
    "collapsed": true
   },
   "outputs": [],
   "source": [
    "def search_many(phrase,sal='',anyy='',loc='Boston%2C+MA',title=''):\n",
    "    '''\n",
    "    Requires:\n",
    "        phrase: 'data+science'\n",
    "        sal: '10k-100k'\n",
    "        anyy (any words that match): 'python+matplotlib+etc'\n",
    "        loc: 'Boston, MA'\n",
    "    '''\n",
    "\n",
    "    master_dict = {}\n",
    "    i = 0\n",
    "    by = '50'\n",
    "    \n",
    "    #construct link\n",
    "    #link = 'https://www.indeed.com/jobs?as_and=&as_phr=' + str(phrase) + '&as_any=' + str(anyy) + '&as_not=&as_ttl=&as_cmp=&jt=all&st=&salary=' + str(sal) + '&radius=50&l=' + str(loc) + '&fromage=any&limit=' + str(by) + '&start=' + str(i)# + 'sort=&psf=advsrch'\n",
    "    link = gen_link(phrase,sal,anyy,loc,title)\n",
    "    link_numbered = link\n",
    "\n",
    "    #notify user of total postings\n",
    "    status = page(link).xpath(main_xpath['job_count'])[0].split()[-1]\n",
    "    last_status = ''\n",
    "    print(' ----- ' + str(status) + ' listings ----- ')\n",
    "    postings = page(link).xpath(main_xpath['job_count'])[0].split()[-1].replace(',','')\n",
    "    \n",
    "    #ask for the go ahead\n",
    "    #if go_ahead('Continue?') == True:\n",
    "\n",
    "    #added because it wouldn't stop when expected and there would never be over 1500 jobs\n",
    "    postings = 1500\n",
    "    \n",
    "    #while last_status != page(link_numbered).xpath(main_xpath['job_count'])[0].split()[-1]:\n",
    "    while i < int(postings):\n",
    "        #generate last status\n",
    "        #last_status = page(link_numbered).xpath(main_xpath['job_count'])[0].split()[-1]        \n",
    "\n",
    "        #generate next numbered link\n",
    "        link_numbered = link + str(i)\n",
    "        #print(link_numbered)\n",
    "\n",
    "        #print current state of jobs\n",
    "        print(page(link_numbered).xpath(main_xpath['job_count']))\n",
    "\n",
    "        #lists of\n",
    "        titles = page(link_numbered).xpath(main_xpath['job_title'])\n",
    "        urls = page(link_numbered).xpath(main_xpath['job_url'])\n",
    "        ids = page(link_numbered).xpath(main_xpath['job_id2'])\n",
    "        salaries = [sal]*len(ids)\n",
    "        phrases = [phrase]*len(ids)\n",
    "        locs = [loc]*len(ids)\n",
    "\n",
    "        #add the data\n",
    "        for job, url, iden, sal, phra, loc in zip(titles,urls,ids,salaries,phrases,locs):\n",
    "            master_dict[iden] = [job,url,sal,phra,loc]\n",
    "\n",
    "        #followup\n",
    "        i += int(by)\n",
    "    print(' ----- Done ----- ')\n",
    "    #else:\n",
    "        #print(' ----- Cancelled ----- ')\n",
    "    return master_dict"
   ]
  },
  {
   "cell_type": "code",
   "execution_count": null,
   "metadata": {
    "collapsed": true
   },
   "outputs": [],
   "source": [
    "#function dictionary to df with formatted url\n",
    "def to_df(master_dict,save=False,save_name=''):\n",
    "    df = pd.DataFrame(master_dict).T\n",
    "    df.columns=['title','url','sal','search_phrase','search_loc']\n",
    "    df['url'] = 'https://www.indeed.com' + df['url']\n",
    "    df['frmt'] = df['url'].apply(lambda url: 'https://www.indeed.com/company' in url)\n",
    "    if save == True:\n",
    "        df.to_csv(save_name,index=False)\n",
    "    return df"
   ]
  },
  {
   "cell_type": "code",
   "execution_count": null,
   "metadata": {
    "collapsed": true
   },
   "outputs": [],
   "source": [
    "#loop though search terms\n",
    "dst_link_dict = {}\n",
    "\n",
    "#loc = 'Washington%2C+DC'\n",
    "loc = 'New+York%2C+NY'\n",
    "#loc = 'Boston%2C+MA'\n",
    "by = '50'\n",
    "\n",
    "#phrase='data+science'\n",
    "#phrase='machine+learning'\n",
    "#phrase='data+scientist'\n",
    "#phrase='data+analyst'\n",
    "#phrase='research+scientist'\n",
    "#phrase='business+intelligence'\n",
    "#phrase='business+analyst'\n",
    "\n",
    "phrases = ['machine+learning','data+scientist','data+analyst',\n",
    "            'research+scientist','business+intelligence','business+analyst',]\n",
    "\n",
    "#for each phrase\n",
    "for phrase in phrases:\n",
    "    dst_link_dict = {}\n",
    "    \n",
    "    #run pull urls\n",
    "    sal_list = ['30k-70k','70k-100k','100k-130k','130k-250k']\n",
    "    for sal in sal_list:\n",
    "        #link = 'https://www.indeed.com/jobs?as_and=&as_phr=' + str(phrase) + '&as_any=' + str(anyy) + '&as_not=&as_ttl=&as_cmp=&jt=all&st=&salary=' + str(sal) + '&radius=50&l=' + str(loc) + '&fromage=any&limit=' + str(by) + '&sort=&psf=advsrch'\n",
    "        #link = gen_link(phrase,sal=sal)\n",
    "        dst_link_dict[sal] = search_many(phrase,sal,loc=loc)\n",
    "\n",
    "    #save all salaries in csvs in local folder\n",
    "    for sal in sal_list:\n",
    "        df = to_df(dst_link_dict[sal],True,'Phrase'+str(phrase)+str(loc)+str(sal)+'.csv')"
   ]
  },
  {
   "cell_type": "markdown",
   "metadata": {},
   "source": [
    "---\n",
    "### Tier 2:\n",
    "\n",
    "- Group all csvs with the filenames including 'phrase' in the local folder\n",
    "    - Builds a single dataframe with all these\n",
    "- Drop non-Indeed listings\n",
    "    - frmt = 1 means Indeed listing\n",
    "- Apply add_html function to url col\n",
    "- Apply other functions for 'job_title','job_location','company_name' etc."
   ]
  },
  {
   "cell_type": "code",
   "execution_count": null,
   "metadata": {
    "collapsed": true
   },
   "outputs": [],
   "source": [
    "def add_html(url):\n",
    "    response = requests.get(url)\n",
    "    return response.text"
   ]
  },
  {
   "cell_type": "code",
   "execution_count": null,
   "metadata": {
    "collapsed": true
   },
   "outputs": [],
   "source": [
    "def dl_html(phrase,path='./'):\n",
    "    import glob\n",
    "    #grab all csvs with that name\n",
    "    globbed_csvs = glob.glob(path + \"*\" + str(phrase) + \"*.csv\")\n",
    "\n",
    "    print('----- Combining dfs -----')\n",
    "\n",
    "    #put them in a single df\n",
    "    combined_df = pd.DataFrame()\n",
    "    df_list = []\n",
    "    for f in globbed_csvs:\n",
    "        dfn = pd.read_csv(f, header=0,encoding = \"ISO-8859-1\") #index=False\n",
    "        df_list.append(dfn)\n",
    "    combined_df = pd.concat(df_list)\n",
    "    \n",
    "    #only keep indeed listings\n",
    "    combined_df = combined_df[combined_df['frmt'] == 1]\n",
    "    \n",
    "    #drop_duplicates based on unique url\n",
    "    combined_df = combined_df.drop_duplicates(subset=['url'])\n",
    "    \n",
    "    #add blank col\n",
    "    combined_df['html'] = ''\n",
    "    \n",
    "    print('----- Adding Html -----')\n",
    "    \n",
    "    #download the html and put it in the combined df\n",
    "    combined_df['html'] = combined_df['url'].apply(add_html)\n",
    "        \n",
    "    return combined_df"
   ]
  },
  {
   "cell_type": "code",
   "execution_count": null,
   "metadata": {
    "collapsed": true
   },
   "outputs": [],
   "source": [
    "#list index out o frange.. 'machine+learning'\n",
    "phrases = ['data+scientist', 'data+analyst'\n",
    "           'research+scientist','business+intelligence','business+analyst']\n",
    "\n",
    "for save_name in phrases:\n",
    "    df = pd.DataFrame()\n",
    "    \n",
    "    \n",
    "    df = dl_html(save_name)\n",
    "\n",
    "    df['comp_name'] = df['html'].apply(parse_comp_name)\n",
    "    df['job_title'] = df['html'].apply(parse_job_title)\n",
    "    df['job_loc'] = df['html'].apply(parse_job_loc)\n",
    "    df['job_summary'] = df['html'].apply(parse_job_summary)\n",
    "    df['job_summary'] = df['job_summary'].apply(str_summary)\n",
    "\n",
    "    df.to_csv(save_name+'.csv')"
   ]
  },
  {
   "cell_type": "markdown",
   "metadata": {},
   "source": [
    "---\n",
    "### Explore 3 Master dfs:\n",
    "Create 3 master df's to work off of:\n",
    "    - industry_df - for LDA and topic clustering practice\n",
    "        - search_phrase = 'government' or 'healthcare' etc.\n",
    "    - salary_df - for salary classification\n",
    "        - sal = '100k-130k', '130k-250k', '30k-70k', '70k-100k'\n",
    "    - juniorsenior_df - for attempt to differentiate keywords\n",
    "        - title = 'junior' or 'senior'\n",
    "\n",
    "---\n",
    "### Duplicates, Numerics?\n",
    "- Found duplicates in my initial investigation so added a delete duplicates before the download html function so I didn't waste time\n",
    "- Add numeric target for ML later"
   ]
  },
  {
   "cell_type": "code",
   "execution_count": 535,
   "metadata": {
    "collapsed": false
   },
   "outputs": [],
   "source": [
    "ind_df = pd.read_csv('industry_df.csv',encoding='latin1')\n",
    "js_df = pd.read_csv('juniorsenior_df',encoding='latin1')\n",
    "sal_df = pd.read_csv('salary_df.csv',encoding='latin1')"
   ]
  },
  {
   "cell_type": "code",
   "execution_count": 537,
   "metadata": {
    "collapsed": false
   },
   "outputs": [
    {
     "name": "stdout",
     "output_type": "stream",
     "text": [
      "(741, 14)\n",
      "(1122, 14)\n",
      "(540, 14)\n"
     ]
    }
   ],
   "source": [
    "print(ind_df.shape)\n",
    "print(sal_df.shape)\n",
    "print(js_df.shape)"
   ]
  },
  {
   "cell_type": "code",
   "execution_count": 538,
   "metadata": {
    "collapsed": false
   },
   "outputs": [
    {
     "data": {
      "text/html": [
       "<div>\n",
       "<table border=\"1\" class=\"dataframe\">\n",
       "  <thead>\n",
       "    <tr style=\"text-align: right;\">\n",
       "      <th></th>\n",
       "      <th>Unnamed: 0</th>\n",
       "      <th>Unnamed: 0.1</th>\n",
       "      <th>title</th>\n",
       "      <th>url</th>\n",
       "      <th>sal</th>\n",
       "      <th>search_phrase</th>\n",
       "      <th>search_loc</th>\n",
       "      <th>frmt</th>\n",
       "      <th>html</th>\n",
       "      <th>comp_name</th>\n",
       "      <th>job_title</th>\n",
       "      <th>job_loc</th>\n",
       "      <th>job_summary</th>\n",
       "      <th>sal_num</th>\n",
       "    </tr>\n",
       "  </thead>\n",
       "  <tbody>\n",
       "    <tr>\n",
       "      <th>0</th>\n",
       "      <td>0</td>\n",
       "      <td>205</td>\n",
       "      <td>Marketing Analyst</td>\n",
       "      <td>https://www.indeed.com/company/GS-Global-Servi...</td>\n",
       "      <td>30k-70k</td>\n",
       "      <td>business+intelligence</td>\n",
       "      <td>New+York%2C+NY</td>\n",
       "      <td>True</td>\n",
       "      <td>&lt;!DOCTYPE html&gt;\\r\\r\\n&lt;html lang=\"en\"&gt;\\r\\r\\n&lt;he...</td>\n",
       "      <td>GS Global Services Inc.</td>\n",
       "      <td>Jr. Systems/Data Analyst - SQL SSIS</td>\n",
       "      <td>New York, NY</td>\n",
       "      <td>?Candidates requiring visa sponsorship in futu...</td>\n",
       "      <td>0</td>\n",
       "    </tr>\n",
       "  </tbody>\n",
       "</table>\n",
       "</div>"
      ],
      "text/plain": [
       "   Unnamed: 0  Unnamed: 0.1              title  \\\n",
       "0           0           205  Marketing Analyst   \n",
       "\n",
       "                                                 url      sal  \\\n",
       "0  https://www.indeed.com/company/GS-Global-Servi...  30k-70k   \n",
       "\n",
       "           search_phrase      search_loc  frmt  \\\n",
       "0  business+intelligence  New+York%2C+NY  True   \n",
       "\n",
       "                                                html                comp_name  \\\n",
       "0  <!DOCTYPE html>\\r\\r\\n<html lang=\"en\">\\r\\r\\n<he...  GS Global Services Inc.   \n",
       "\n",
       "                             job_title       job_loc  \\\n",
       "0  Jr. Systems/Data Analyst - SQL SSIS  New York, NY   \n",
       "\n",
       "                                         job_summary  sal_num  \n",
       "0  ?Candidates requiring visa sponsorship in futu...        0  "
      ]
     },
     "execution_count": 538,
     "metadata": {},
     "output_type": "execute_result"
    }
   ],
   "source": [
    "sal_df.head(1)"
   ]
  },
  {
   "cell_type": "markdown",
   "metadata": {},
   "source": [
    "---\n",
    "## Salary_df:\n",
    "- There are 4 salary levels: '30k-70k','70k-100k','100k-130k','130k-250k'\n",
    "- There are 5 job types: 'business+intelligence', 'business+analyst', 'research+scientist','data+analyst', 'data+scientist'\n",
    "\n",
    "\n",
    "- Try to pull indicating words directly\n",
    "- Use CountVectorizer to find indicative words and phrases"
   ]
  },
  {
   "cell_type": "code",
   "execution_count": 544,
   "metadata": {
    "collapsed": false,
    "scrolled": false
   },
   "outputs": [
    {
     "data": {
      "text/plain": [
       "business+analyst         411\n",
       "business+intelligence    407\n",
       "data+analyst             183\n",
       "data+scientist            92\n",
       "research+scientist        29\n",
       "Name: search_phrase, dtype: int64"
      ]
     },
     "execution_count": 544,
     "metadata": {},
     "output_type": "execute_result"
    }
   ],
   "source": [
    "df['search_phrase'].value_counts()"
   ]
  },
  {
   "cell_type": "code",
   "execution_count": 540,
   "metadata": {
    "collapsed": false
   },
   "outputs": [
    {
     "data": {
      "text/plain": [
       "70k-100k     497\n",
       "100k-130k    282\n",
       "30k-70k      268\n",
       "130k-250k     75\n",
       "Name: sal, dtype: int64"
      ]
     },
     "execution_count": 540,
     "metadata": {},
     "output_type": "execute_result"
    }
   ],
   "source": [
    "df['sal'].value_counts()"
   ]
  },
  {
   "cell_type": "code",
   "execution_count": 539,
   "metadata": {
    "collapsed": false
   },
   "outputs": [
    {
     "data": {
      "text/plain": [
       "0.44295900178253117"
      ]
     },
     "execution_count": 539,
     "metadata": {},
     "output_type": "execute_result"
    }
   ],
   "source": [
    "#baseline for predicting 1 of 4 groups\n",
    "df['sal'].value_counts().max()/df['sal'].count()"
   ]
  },
  {
   "cell_type": "code",
   "execution_count": 578,
   "metadata": {
    "collapsed": false
   },
   "outputs": [
    {
     "data": {
      "text/plain": [
       "0.68181818181818177"
      ]
     },
     "execution_count": 578,
     "metadata": {},
     "output_type": "execute_result"
    }
   ],
   "source": [
    "#baseline for predicting 1 of 2 groups (30k-100k or 100k-250k)\n",
    "(268 + 497) / df['sal'].count()"
   ]
  },
  {
   "cell_type": "code",
   "execution_count": 1371,
   "metadata": {
    "collapsed": false
   },
   "outputs": [
    {
     "data": {
      "text/plain": [
       "<matplotlib.axes._subplots.AxesSubplot at 0x11cdef6d8>"
      ]
     },
     "execution_count": 1371,
     "metadata": {},
     "output_type": "execute_result"
    },
    {
     "data": {
      "image/png": "[encoded data removed]",
      "text/plain": [
       "<matplotlib.figure.Figure at 0x121b3d550>"
      ]
     },
     "metadata": {},
     "output_type": "display_data"
    }
   ],
   "source": [
    "df.groupby(['search_phrase','sal_num']).size().plot.barh()"
   ]
  },
  {
   "cell_type": "markdown",
   "metadata": {},
   "source": [
    "---\n",
    "### Use regex to find key phrases:\n",
    "By investigating I found pretty common phrases:\n",
    "    - 'Required education:' in 54% of all listings\n",
    "    - 'Required experience:' in 65% of all listings\n",
    "Find 'high value' phrases:\n",
    "    - 'PhD' and various spellings\n",
    "    - I would have liked to include a list of skills based on price bracket here but didn't have time\n",
    "        - Valuable: 'Hadoop','Spark','AWS','R','python','svm' etc.\n",
    "        - Less valuable: 'excel','microsoft' etc.\n",
    "I also wanted to pull the number before the word year/years for phrases like:\n",
    "    - 2-4 years experience required.\n",
    "    - 5+ years experience in data science prefered."
   ]
  },
  {
   "cell_type": "code",
   "execution_count": 555,
   "metadata": {
    "collapsed": false,
    "editable": true
   },
   "outputs": [
    {
     "data": {
      "text/plain": [
       "Bachelor     529\n",
       "Master        53\n",
       "Doctorate     10\n",
       "High          10\n",
       "Associate     10\n",
       "Educación      1\n",
       "Name: 0, dtype: int64"
      ]
     },
     "execution_count": 555,
     "metadata": {},
     "output_type": "execute_result"
    }
   ],
   "source": [
    "#education\n",
    "edu = df['job_summary'].str.extract('((Required education: )\\w+)',expand=False)\n",
    "edu_col = edu[0].str.extract(r': (\\w+)',expand=False)\n",
    "edu_col.value_counts()"
   ]
  },
  {
   "cell_type": "code",
   "execution_count": 1123,
   "metadata": {
    "collapsed": false
   },
   "outputs": [],
   "source": [
    "#map the values according to my assumptions of each value\n",
    "edu_col = edu_col.map({np.nan:10,'Educación':1,'High':1,'Associate':2,'Bachelor':20,'Master':60,'Doctorate':500})"
   ]
  },
  {
   "cell_type": "code",
   "execution_count": 1124,
   "metadata": {
    "collapsed": false,
    "scrolled": true
   },
   "outputs": [
    {
     "data": {
      "text/plain": [
       "0.54634581105169344"
      ]
     },
     "execution_count": 1124,
     "metadata": {},
     "output_type": "execute_result"
    }
   ],
   "source": [
    "edu[0].count()/len(edu)"
   ]
  },
  {
   "cell_type": "code",
   "execution_count": 1125,
   "metadata": {
    "collapsed": false
   },
   "outputs": [],
   "source": [
    "#experience\n",
    "exp = df['job_summary'].str.extract('((Required experience: ).+)',expand=False)\n",
    "exp_col = exp[0].str.extractall(r'(\\d+)\\syear')\n",
    "exp_col = pd.to_numeric(exp_col[0])\n",
    "exp_col = exp_col.groupby(level=[0]).sum()"
   ]
  },
  {
   "cell_type": "code",
   "execution_count": 1126,
   "metadata": {
    "collapsed": false,
    "scrolled": false
   },
   "outputs": [
    {
     "data": {
      "text/plain": [
       "0.65418894830659535"
      ]
     },
     "execution_count": 1126,
     "metadata": {},
     "output_type": "execute_result"
    }
   ],
   "source": [
    "exp[0].count()/len(exp)"
   ]
  },
  {
   "cell_type": "code",
   "execution_count": 1127,
   "metadata": {
    "collapsed": false,
    "scrolled": false
   },
   "outputs": [],
   "source": [
    "phd_col = df['job_summary'].str.extract('(PHD|phd|PhD|P.h.D.)',expand=False)\n",
    "phd_col = phd_col.map({np.nan:0,'PhD':5})"
   ]
  },
  {
   "cell_type": "code",
   "execution_count": 1128,
   "metadata": {
    "collapsed": false
   },
   "outputs": [],
   "source": [
    "#best so far for numerics before year\n",
    "#job_df = df['job_summary'].str.extract('([\\d\\S+-A-Z]+[\\W\\D]+(years|year))',expand=False)\n",
    "#job_df.to_csv('years.csv',index=False)"
   ]
  },
  {
   "cell_type": "code",
   "execution_count": 1129,
   "metadata": {
    "collapsed": false
   },
   "outputs": [
    {
     "data": {
      "text/html": [
       "<div>\n",
       "<table border=\"1\" class=\"dataframe\">\n",
       "  <thead>\n",
       "    <tr style=\"text-align: right;\">\n",
       "      <th></th>\n",
       "      <th></th>\n",
       "      <th>0</th>\n",
       "      <th>1</th>\n",
       "      <th>2</th>\n",
       "    </tr>\n",
       "    <tr>\n",
       "      <th></th>\n",
       "      <th>match</th>\n",
       "      <th></th>\n",
       "      <th></th>\n",
       "      <th></th>\n",
       "    </tr>\n",
       "  </thead>\n",
       "  <tbody>\n",
       "    <tr>\n",
       "      <th>0</th>\n",
       "      <th>0</th>\n",
       "      <td>2</td>\n",
       "      <td>-</td>\n",
       "      <td>4</td>\n",
       "    </tr>\n",
       "    <tr>\n",
       "      <th>4</th>\n",
       "      <th>0</th>\n",
       "      <td>0</td>\n",
       "      <td>-</td>\n",
       "      <td>1</td>\n",
       "    </tr>\n",
       "    <tr>\n",
       "      <th>6</th>\n",
       "      <th>0</th>\n",
       "      <td>2</td>\n",
       "      <td>+</td>\n",
       "      <td>NaN</td>\n",
       "    </tr>\n",
       "    <tr>\n",
       "      <th>7</th>\n",
       "      <th>0</th>\n",
       "      <td>6</td>\n",
       "      <td>NaN</td>\n",
       "      <td>NaN</td>\n",
       "    </tr>\n",
       "    <tr>\n",
       "      <th>8</th>\n",
       "      <th>0</th>\n",
       "      <td>2</td>\n",
       "      <td>+</td>\n",
       "      <td>NaN</td>\n",
       "    </tr>\n",
       "  </tbody>\n",
       "</table>\n",
       "</div>"
      ],
      "text/plain": [
       "         0    1    2\n",
       "  match             \n",
       "0 0      2    -    4\n",
       "4 0      0    -    1\n",
       "6 0      2    +  NaN\n",
       "7 0      6  NaN  NaN\n",
       "8 0      2    +  NaN"
      ]
     },
     "execution_count": 1129,
     "metadata": {},
     "output_type": "execute_result"
    }
   ],
   "source": [
    "job_col.head()"
   ]
  },
  {
   "cell_type": "code",
   "execution_count": 1265,
   "metadata": {
    "collapsed": false
   },
   "outputs": [],
   "source": [
    "#pulling number before word: year|years\n",
    "job = pd.read_csv('years.csv')\n",
    "job_col = job['0'].str.extractall(r'(\\d)(\\S?)(\\d*)\\syear')\n",
    "y_min = job_col[0]\n",
    "y_ind = job_col[1]\n",
    "#y_ind = y_ind.map({'-':10,'+':100})\n",
    "y_max = job_col[2]\n",
    "y_min = pd.to_numeric(y_min)\n",
    "y_max = pd.to_numeric(y_max)\n",
    "y_min = y_min.groupby(level=[0]).sum()\n",
    "y_max = y_max.groupby(level=[0]).sum()\n",
    "#y_max = y_max*20\n",
    "y_ind = y_ind.groupby(level=[0]).unique()"
   ]
  },
  {
   "cell_type": "code",
   "execution_count": 1266,
   "metadata": {
    "collapsed": false
   },
   "outputs": [],
   "source": [
    "group = [edu_col,exp_col,phd_col,y_min,y_max]\n",
    "ext_df = pd.concat(group,axis=1)"
   ]
  },
  {
   "cell_type": "code",
   "execution_count": 1267,
   "metadata": {
    "collapsed": false,
    "scrolled": true
   },
   "outputs": [],
   "source": [
    "ext_df = ext_df.fillna(0)"
   ]
  },
  {
   "cell_type": "code",
   "execution_count": 1268,
   "metadata": {
    "collapsed": true
   },
   "outputs": [],
   "source": [
    "X = ext_df\n",
    "y = df['sal_num']\n",
    "#break sal into \n",
    "y = y.map({0:0,1:0,2:1,3:1})"
   ]
  },
  {
   "cell_type": "code",
   "execution_count": 1269,
   "metadata": {
    "collapsed": false
   },
   "outputs": [],
   "source": [
    "from sklearn.preprocessing import StandardScaler\n",
    "ss = StandardScaler()\n",
    "X = ss.fit_transform(X)"
   ]
  },
  {
   "cell_type": "code",
   "execution_count": 1270,
   "metadata": {
    "collapsed": false
   },
   "outputs": [],
   "source": [
    "X_train, X_test, y_train, y_test = train_test_split(X,y,test_size=.4)"
   ]
  },
  {
   "cell_type": "code",
   "execution_count": 1271,
   "metadata": {
    "collapsed": true
   },
   "outputs": [],
   "source": [
    "#baselines:\n",
    "# .44\n",
    "# .682"
   ]
  },
  {
   "cell_type": "code",
   "execution_count": 1272,
   "metadata": {
    "collapsed": false
   },
   "outputs": [],
   "source": [
    "#clf = RandomForestClassifier(n_estimators=200,random_state=42,criterion='entropy') #did very poorly on \n",
    "#clf = RandomForestClassifier(n_estimators=200,random_state=42,criterion='gini')\n",
    "#clf = LogisticRegression(penalty='l1',C=10) #.454 with l1,c=10  #C=1,L1,.639\n",
    "#clf = LogisticRegression() #job only, .64\n",
    "#clf = MultinomialNB()\n",
    "#clf = SVC(C=1,kernel='poly',degree=2) #takes waaaay too long\n",
    "#clf = SVC(C=10,gamma=10,kernel='linear',random_state=42) #c=10,.646 (both job+title)\n",
    "clf = KNeighborsClassifier(n_neighbors=10,metric='manhattan') #.732 with 35,manhattan, now .71\n",
    "#clf = KNeighborsClassifier(n_neighbors=25)#,metric='manhattan') #.732 with 35,manhattan, now .71"
   ]
  },
  {
   "cell_type": "code",
   "execution_count": 1273,
   "metadata": {
    "collapsed": false
   },
   "outputs": [
    {
     "data": {
      "text/plain": [
       "0.65817968978636232"
      ]
     },
     "execution_count": 1273,
     "metadata": {},
     "output_type": "execute_result"
    }
   ],
   "source": [
    "clf.fit(X_train,y_train)\n",
    "#cv = ShuffleSplit(n_splits=3, test_size=0.3, random_state=0)\n",
    "cross_val_score(clf,X_train,y_train,cv=10).mean()"
   ]
  },
  {
   "cell_type": "code",
   "execution_count": 1274,
   "metadata": {
    "collapsed": false
   },
   "outputs": [],
   "source": [
    "y_pred = clf.predict(X_test)"
   ]
  },
  {
   "cell_type": "code",
   "execution_count": 1275,
   "metadata": {
    "collapsed": false
   },
   "outputs": [
    {
     "data": {
      "text/plain": [
       "0.71046770601336307"
      ]
     },
     "execution_count": 1275,
     "metadata": {},
     "output_type": "execute_result"
    }
   ],
   "source": [
    "clf.score(X_test,y_test)"
   ]
  },
  {
   "cell_type": "code",
   "execution_count": 1276,
   "metadata": {
    "collapsed": false
   },
   "outputs": [
    {
     "data": {
      "text/plain": [
       "array([[290, 110],\n",
       "       [ 20,  29]])"
      ]
     },
     "execution_count": 1276,
     "metadata": {},
     "output_type": "execute_result"
    }
   ],
   "source": [
    "confusion_matrix(y_pred, y_test)"
   ]
  },
  {
   "cell_type": "markdown",
   "metadata": {},
   "source": [
    "---\n",
    "### Bag of Words Approach\n",
    "\n",
    "Use CountVectorizer to create bag of words for:\n",
    "    - Job titles\n",
    "    - Job summarys\n",
    "    \n",
    "Count Vectorizer:\n",
    "    - min_df, max_df were very important when trimming words from the initial bag.\n",
    "    - n_grams 1,3 were most indicative\n",
    "    - output:\n",
    "        - ~20k for job summary\n",
    "        - ~227 for job title\n",
    "\n",
    "NMF:\n",
    "    - Further trim words down to a reasonable size with L1 regularization\n",
    "    - Give the ability to select # of topics like \n",
    "    - Can examine the output to see which topics its creating\n",
    "\n",
    "Multiply NMF back against Bag of Words:\n",
    "    - Creates a sparse matrix with word counts weighted by their NMF score\n",
    "\n",
    "Added the regex data from above which increased the score by ~5%"
   ]
  },
  {
   "cell_type": "code",
   "execution_count": 2684,
   "metadata": {
    "collapsed": false,
    "editable": true
   },
   "outputs": [],
   "source": [
    "X_job = df['job_summary']\n",
    "X_title = df['job_title']\n",
    "y_all = df['sal_num']"
   ]
  },
  {
   "cell_type": "code",
   "execution_count": 2685,
   "metadata": {
    "collapsed": false,
    "editable": true,
    "scrolled": true
   },
   "outputs": [],
   "source": [
    "#create bag of words for job summary\n",
    "cvt_job      =  CountVectorizer(stop_words=stop,\n",
    "                            strip_accents='unicode', \n",
    "                            ngram_range=(1,3),\n",
    "                            max_df=.84, #was. 84\n",
    "                            min_df=4, #was 4\n",
    "                            tokenizer=LemmaTokenizer())\n",
    "X_job_cvt    =  cvt_job.fit_transform(X_job)"
   ]
  },
  {
   "cell_type": "code",
   "execution_count": 2686,
   "metadata": {
    "collapsed": false,
    "editable": true
   },
   "outputs": [],
   "source": [
    "#create bag of words for job title\n",
    "cvt_title      =  CountVectorizer(stop_words=stop,\n",
    "                            strip_accents='unicode', \n",
    "                            ngram_range=(1,2),\n",
    "                            max_df=.7,\n",
    "                            min_df=5, #was 5\n",
    "                            tokenizer=LemmaTokenizer())\n",
    "X_title_cvt    =  cvt_title.fit_transform(X_title)"
   ]
  },
  {
   "cell_type": "code",
   "execution_count": 2687,
   "metadata": {
    "collapsed": false
   },
   "outputs": [
    {
     "name": "stdout",
     "output_type": "stream",
     "text": [
      "(1122, 20886)\n",
      "(1122, 171)\n"
     ]
    }
   ],
   "source": [
    "print(X_job_cvt.shape)\n",
    "print(X_title_cvt.shape)"
   ]
  },
  {
   "cell_type": "code",
   "execution_count": 2688,
   "metadata": {
    "collapsed": false,
    "editable": true
   },
   "outputs": [],
   "source": [
    "tf_job = TfidfTransformer()\n",
    "X_job = tf_job.fit_transform(X_job_cvt)\n",
    "\n",
    "tf_title = TfidfTransformer()\n",
    "X_title = tf_title.fit_transform(X_title_cvt)"
   ]
  },
  {
   "cell_type": "code",
   "execution_count": 2689,
   "metadata": {
    "collapsed": true,
    "editable": true
   },
   "outputs": [],
   "source": [
    "n_titles=5\n",
    "n_jobs=4\n",
    "\n",
    "nmf_title = NMF(n_components=n_titles, #was 8\n",
    "          random_state=42, \n",
    "          alpha=.12, #was .12\n",
    "          l1_ratio=.9, \n",
    "          init='nndsvd').fit(X_title)\n",
    "\n",
    "nmf_job = NMF(n_components=n_jobs, #was 4\n",
    "          random_state=42, \n",
    "          alpha=.15, #was .15\n",
    "          l1_ratio=.7, \n",
    "          init='nndsvd').fit(X_job)"
   ]
  },
  {
   "cell_type": "code",
   "execution_count": 2690,
   "metadata": {
    "collapsed": false,
    "editable": true
   },
   "outputs": [],
   "source": [
    "nmf_job_df = pd.DataFrame(nmf_job.components_, columns = cvt_job.get_feature_names())\n",
    "nmf_job_df = nmf_job_df.replace(0,np.nan)\n",
    "nmf_job_df = nmf_job_df.dropna(how='all',axis=1)\n",
    "nmf_job_df = nmf_job_df.replace(np.nan,0)\n",
    "\n",
    "nmf_title_df = pd.DataFrame(nmf_title.components_, columns = cvt_title.get_feature_names())\n",
    "nmf_title_df = nmf_title_df.replace(0,np.nan)\n",
    "nmf_title_df = nmf_title_df.dropna(how='all',axis=1)\n",
    "nmf_title_df = nmf_title_df.replace(np.nan,0)"
   ]
  },
  {
   "cell_type": "code",
   "execution_count": 2691,
   "metadata": {
    "collapsed": false
   },
   "outputs": [
    {
     "name": "stdout",
     "output_type": "stream",
     "text": [
      "(4, 2037)\n",
      "(5, 92)\n"
     ]
    }
   ],
   "source": [
    "print(nmf_job_df.shape)\n",
    "print(nmf_title_df.shape)"
   ]
  },
  {
   "cell_type": "markdown",
   "metadata": {},
   "source": [
    "---\n",
    "### NMF keywords found for each bag of words:\n",
    "Job Title:\n",
    "    - data, learning, machine, machine learning, scientist\n",
    "    - project, requirement, system, data, team\n",
    "    - sale, customer, account, product, prospect\n",
    "    - salient, n/a, government, crgt, salient crg <- In Washington DC theyre hiring like 180 data analysts at cgrt\n",
    "Job Summary:\n",
    "    - business analyst, business, analyst, senior business, senior\n",
    "    - data analyst, data, analyst, analyst, senior data, senior\n",
    "    - scientist, data scientist, data, research, research scientist <- Interesting to see it sees research scientists similar to data scientists\n",
    "    - developer, senior, etl, sharepoint dev, software dev\n",
    "    - manager, project, project manager, senior, business"
   ]
  },
  {
   "cell_type": "code",
   "execution_count": 2705,
   "metadata": {
    "collapsed": false,
    "scrolled": true
   },
   "outputs": [
    {
     "data": {
      "text/html": [
       "<div>\n",
       "<table border=\"1\" class=\"dataframe\">\n",
       "  <thead>\n",
       "    <tr style=\"text-align: right;\">\n",
       "      <th></th>\n",
       "      <th>0</th>\n",
       "      <th>1</th>\n",
       "      <th>2</th>\n",
       "      <th>3</th>\n",
       "    </tr>\n",
       "  </thead>\n",
       "  <tbody>\n",
       "    <tr>\n",
       "      <th>salient</th>\n",
       "      <td>0.00000</td>\n",
       "      <td>0.0</td>\n",
       "      <td>0.0</td>\n",
       "      <td>0.282601</td>\n",
       "    </tr>\n",
       "    <tr>\n",
       "      <th>n/a</th>\n",
       "      <td>0.00000</td>\n",
       "      <td>0.0</td>\n",
       "      <td>0.0</td>\n",
       "      <td>0.181486</td>\n",
       "    </tr>\n",
       "    <tr>\n",
       "      <th>government</th>\n",
       "      <td>0.05827</td>\n",
       "      <td>0.0</td>\n",
       "      <td>0.0</td>\n",
       "      <td>0.114894</td>\n",
       "    </tr>\n",
       "    <tr>\n",
       "      <th>crgt</th>\n",
       "      <td>0.00000</td>\n",
       "      <td>0.0</td>\n",
       "      <td>0.0</td>\n",
       "      <td>0.114006</td>\n",
       "    </tr>\n",
       "    <tr>\n",
       "      <th>salient crgt</th>\n",
       "      <td>0.00000</td>\n",
       "      <td>0.0</td>\n",
       "      <td>0.0</td>\n",
       "      <td>0.114006</td>\n",
       "    </tr>\n",
       "  </tbody>\n",
       "</table>\n",
       "</div>"
      ],
      "text/plain": [
       "                    0    1    2         3\n",
       "salient       0.00000  0.0  0.0  0.282601\n",
       "n/a           0.00000  0.0  0.0  0.181486\n",
       "government    0.05827  0.0  0.0  0.114894\n",
       "crgt          0.00000  0.0  0.0  0.114006\n",
       "salient crgt  0.00000  0.0  0.0  0.114006"
      ]
     },
     "execution_count": 2705,
     "metadata": {},
     "output_type": "execute_result"
    }
   ],
   "source": [
    "nmf_job_df.T.sort_values(3,ascending=False).head()"
   ]
  },
  {
   "cell_type": "code",
   "execution_count": 2793,
   "metadata": {
    "collapsed": false,
    "editable": true,
    "scrolled": true
   },
   "outputs": [
    {
     "data": {
      "text/html": [
       "<div>\n",
       "<table border=\"1\" class=\"dataframe\">\n",
       "  <thead>\n",
       "    <tr style=\"text-align: right;\">\n",
       "      <th></th>\n",
       "      <th>0</th>\n",
       "      <th>1</th>\n",
       "      <th>2</th>\n",
       "      <th>3</th>\n",
       "      <th>4</th>\n",
       "    </tr>\n",
       "  </thead>\n",
       "  <tbody>\n",
       "    <tr>\n",
       "      <th>scientist</th>\n",
       "      <td>0.0</td>\n",
       "      <td>0.000000</td>\n",
       "      <td>3.500644</td>\n",
       "      <td>0.000000</td>\n",
       "      <td>0.000000</td>\n",
       "    </tr>\n",
       "    <tr>\n",
       "      <th>data scientist</th>\n",
       "      <td>0.0</td>\n",
       "      <td>0.000000</td>\n",
       "      <td>3.181482</td>\n",
       "      <td>0.000000</td>\n",
       "      <td>0.000000</td>\n",
       "    </tr>\n",
       "    <tr>\n",
       "      <th>data</th>\n",
       "      <td>0.0</td>\n",
       "      <td>4.293569</td>\n",
       "      <td>2.385226</td>\n",
       "      <td>0.059512</td>\n",
       "      <td>0.002343</td>\n",
       "    </tr>\n",
       "    <tr>\n",
       "      <th>research</th>\n",
       "      <td>0.0</td>\n",
       "      <td>0.043742</td>\n",
       "      <td>0.455421</td>\n",
       "      <td>0.000000</td>\n",
       "      <td>0.000000</td>\n",
       "    </tr>\n",
       "    <tr>\n",
       "      <th>research scientist</th>\n",
       "      <td>0.0</td>\n",
       "      <td>0.000000</td>\n",
       "      <td>0.381193</td>\n",
       "      <td>0.000000</td>\n",
       "      <td>0.000000</td>\n",
       "    </tr>\n",
       "  </tbody>\n",
       "</table>\n",
       "</div>"
      ],
      "text/plain": [
       "                      0         1         2         3         4\n",
       "scientist           0.0  0.000000  3.500644  0.000000  0.000000\n",
       "data scientist      0.0  0.000000  3.181482  0.000000  0.000000\n",
       "data                0.0  4.293569  2.385226  0.059512  0.002343\n",
       "research            0.0  0.043742  0.455421  0.000000  0.000000\n",
       "research scientist  0.0  0.000000  0.381193  0.000000  0.000000"
      ]
     },
     "execution_count": 2793,
     "metadata": {},
     "output_type": "execute_result"
    }
   ],
   "source": [
    "nmf_title_df.T.sort_values(2,ascending=False).head()"
   ]
  },
  {
   "cell_type": "code",
   "execution_count": 2695,
   "metadata": {
    "collapsed": false
   },
   "outputs": [],
   "source": [
    "#create a single feature set with both reduced bag of words models\n",
    "X_nmf = pd.DataFrame()\n",
    "#for i, j in enumerate(['gov','manu','bank','health','insurance']):\n",
    "for i in range(n_jobs):\n",
    "    X_nmf = pd.concat([X_nmf,pd.DataFrame(np.matmul(X_job_cvt.toarray(),nmf_job.components_[i]),columns=[i])],axis=1)\n",
    "for i in range(n_titles):\n",
    "    X_nmf = pd.concat([X_nmf,pd.DataFrame(np.matmul(X_title_cvt.toarray(),nmf_title.components_[i]),columns=[i])],axis=1)\n",
    "X_nmf = pd.concat([X_nmf,ext_df],axis=1)"
   ]
  },
  {
   "cell_type": "code",
   "execution_count": 2696,
   "metadata": {
    "collapsed": true
   },
   "outputs": [],
   "source": [
    "from sklearn.preprocessing import StandardScaler\n",
    "ss = StandardScaler()\n",
    "X = ss.fit_transform(X_nmf)"
   ]
  },
  {
   "cell_type": "code",
   "execution_count": 2697,
   "metadata": {
    "collapsed": false
   },
   "outputs": [],
   "source": [
    "#X = df['job_summary']\n",
    "#X = X_nmf\n",
    "#y = df['title_num']\n",
    "y = df['sal_num']\n",
    "#y = df['search_phrase']\n",
    "X_train, X_test, y_train, y_test = train_test_split(X,y,test_size=.4)"
   ]
  },
  {
   "cell_type": "code",
   "execution_count": 2698,
   "metadata": {
    "collapsed": false
   },
   "outputs": [],
   "source": [
    "clf = RandomForestClassifier(n_estimators=150,random_state=42,criterion='entropy') \n",
    "#150,entropy .57 with 3,4,.12,.15, job and title and sal info, after fixed the X_nmf thing\n",
    "#150,entropy .594 with 3,9,.12,.15, job and title and sal info, after fixed the X_nmf thing\n",
    "#150,entropy .572 with 5,5,.12,.15, job and title and sal info, after fixed the X_nmf thing\n",
    "#150,entropy .623 with nmfs 5,5, max_df 4,5, job and title and sal info, after fixed the X_nmf thing\n",
    "\n",
    "#clf = LogisticRegression(penalty='l2',C=10) #C=1,L1,.639 (job only)\n",
    "#clf = LogisticRegression() #job only, .64\n",
    "#clf = KNeighborsClassifier(n_neighbors=25)#,metric='manhattan')\n",
    "#clf = SVC(C=10,gamma=10,kernel='linear',random_state=42) #c=10,.646 (both job+title)"
   ]
  },
  {
   "cell_type": "code",
   "execution_count": 2699,
   "metadata": {
    "collapsed": false,
    "scrolled": true
   },
   "outputs": [
    {
     "data": {
      "text/plain": [
       "0.54647681325812414"
      ]
     },
     "execution_count": 2699,
     "metadata": {},
     "output_type": "execute_result"
    }
   ],
   "source": [
    "clf.fit(X_train,y_train)\n",
    "#cv = ShuffleSplit(n_splits=3, test_size=0.3, random_state=0)\n",
    "cross_val_score(clf,X_train,y_train,cv=10).mean()"
   ]
  },
  {
   "cell_type": "code",
   "execution_count": 2700,
   "metadata": {
    "collapsed": false
   },
   "outputs": [],
   "source": [
    "y_pred = clf.predict(X_test)\n",
    "y_total_pred = clf.predict(X_nmf)"
   ]
  },
  {
   "cell_type": "code",
   "execution_count": 2701,
   "metadata": {
    "collapsed": false
   },
   "outputs": [],
   "source": [
    "from sklearn.metrics import confusion_matrix"
   ]
  },
  {
   "cell_type": "code",
   "execution_count": 2702,
   "metadata": {
    "collapsed": false,
    "scrolled": true
   },
   "outputs": [
    {
     "data": {
      "text/plain": [
       "0.59242761692650336"
      ]
     },
     "execution_count": 2702,
     "metadata": {},
     "output_type": "execute_result"
    }
   ],
   "source": [
    "clf.score(X_test,y_test)"
   ]
  },
  {
   "cell_type": "code",
   "execution_count": 2643,
   "metadata": {
    "collapsed": false
   },
   "outputs": [
    {
     "data": {
      "text/plain": [
       "array([[ 60,  30,   1,   3],\n",
       "       [ 53, 138,  51,  13],\n",
       "       [  5,  30,  48,   9],\n",
       "       [  0,   0,   2,   6]])"
      ]
     },
     "execution_count": 2643,
     "metadata": {},
     "output_type": "execute_result"
    }
   ],
   "source": [
    "confusion_matrix(y_pred, y_test)"
   ]
  },
  {
   "cell_type": "markdown",
   "metadata": {},
   "source": [
    "---\n",
    "### NMF investigation to cluster industry jobs:"
   ]
  },
  {
   "cell_type": "code",
   "execution_count": 2712,
   "metadata": {
    "collapsed": true
   },
   "outputs": [],
   "source": [
    "df = pd.read_csv('industry_df.csv',encoding='latin1') #EDA different clusters of words\n",
    "#df = pd.read_csv('juniorsenior_df',encoding='latin1') #94% with randomforrest nmf\n",
    "#df = pd.read_csv('salary_df.csv',encoding='latin1') #15% above baseline"
   ]
  },
  {
   "cell_type": "code",
   "execution_count": 2714,
   "metadata": {
    "collapsed": true
   },
   "outputs": [],
   "source": [
    "X_job = df['job_summary']\n",
    "y_all = df['search_phrase_num']\n",
    "\n",
    "#create bag of words for job summary\n",
    "cvt_job      =  CountVectorizer(stop_words=stop,\n",
    "                            strip_accents='unicode', \n",
    "                            ngram_range=(1,3),\n",
    "                            max_df=.86, #was. 84\n",
    "                            min_df=4, #was 4\n",
    "                            tokenizer=LemmaTokenizer())\n",
    "X_job_cvt    =  cvt_job.fit_transform(X_job)"
   ]
  },
  {
   "cell_type": "code",
   "execution_count": 2716,
   "metadata": {
    "collapsed": true
   },
   "outputs": [],
   "source": [
    "tf_job = TfidfTransformer()\n",
    "X_job = tf_job.fit_transform(X_job_cvt)"
   ]
  },
  {
   "cell_type": "code",
   "execution_count": 2717,
   "metadata": {
    "collapsed": false
   },
   "outputs": [],
   "source": [
    "n_jobs=5\n",
    "\n",
    "nmf_job = NMF(n_components=n_jobs, #was 4\n",
    "          random_state=42, \n",
    "          alpha=.15, #was .15\n",
    "          l1_ratio=.7, \n",
    "          init='nndsvd').fit(X_job)"
   ]
  },
  {
   "cell_type": "code",
   "execution_count": 2718,
   "metadata": {
    "collapsed": true
   },
   "outputs": [],
   "source": [
    "nmf_job_df = pd.DataFrame(nmf_job.components_, columns = cvt_job.get_feature_names())\n",
    "nmf_job_df = nmf_job_df.replace(0,np.nan)\n",
    "nmf_job_df = nmf_job_df.dropna(how='all',axis=1)\n",
    "nmf_job_df = nmf_job_df.replace(np.nan,0)"
   ]
  },
  {
   "cell_type": "markdown",
   "metadata": {},
   "source": [
    "---\n",
    "### Output is pretty close to what I'd expect:\n",
    "    - 0: Insurance though low on list\n",
    "    - 1: Manufacturing\n",
    "    - 2: Customer Service/Business\n",
    "    - 3: Healthcare\n",
    "    - 4: Loans/Banking\n",
    "    \n",
    "Clustering shows the similarity between Healthcare dealing with insurance, and the Insurance dealing with medical things"
   ]
  },
  {
   "cell_type": "code",
   "execution_count": 2805,
   "metadata": {
    "collapsed": false
   },
   "outputs": [
    {
     "data": {
      "text/html": [
       "<div>\n",
       "<table border=\"1\" class=\"dataframe\">\n",
       "  <thead>\n",
       "    <tr style=\"text-align: right;\">\n",
       "      <th></th>\n",
       "      <th>0</th>\n",
       "      <th>1</th>\n",
       "      <th>2</th>\n",
       "      <th>3</th>\n",
       "      <th>4</th>\n",
       "    </tr>\n",
       "  </thead>\n",
       "  <tbody>\n",
       "    <tr>\n",
       "      <th>loan</th>\n",
       "      <td>0.014644</td>\n",
       "      <td>0.0</td>\n",
       "      <td>0.000000</td>\n",
       "      <td>0.0</td>\n",
       "      <td>1.310840</td>\n",
       "    </tr>\n",
       "    <tr>\n",
       "      <th>mortgage</th>\n",
       "      <td>0.000000</td>\n",
       "      <td>0.0</td>\n",
       "      <td>0.000000</td>\n",
       "      <td>0.0</td>\n",
       "      <td>0.697917</td>\n",
       "    </tr>\n",
       "    <tr>\n",
       "      <th>loan officer</th>\n",
       "      <td>0.000000</td>\n",
       "      <td>0.0</td>\n",
       "      <td>0.000000</td>\n",
       "      <td>0.0</td>\n",
       "      <td>0.165804</td>\n",
       "    </tr>\n",
       "    <tr>\n",
       "      <th>officer</th>\n",
       "      <td>0.000000</td>\n",
       "      <td>0.0</td>\n",
       "      <td>0.000000</td>\n",
       "      <td>0.0</td>\n",
       "      <td>0.088668</td>\n",
       "    </tr>\n",
       "    <tr>\n",
       "      <th>borrower</th>\n",
       "      <td>0.000000</td>\n",
       "      <td>0.0</td>\n",
       "      <td>0.000000</td>\n",
       "      <td>0.0</td>\n",
       "      <td>0.067988</td>\n",
       "    </tr>\n",
       "    <tr>\n",
       "      <th>bank</th>\n",
       "      <td>0.075249</td>\n",
       "      <td>0.0</td>\n",
       "      <td>0.191452</td>\n",
       "      <td>0.0</td>\n",
       "      <td>0.044879</td>\n",
       "    </tr>\n",
       "    <tr>\n",
       "      <th>credit</th>\n",
       "      <td>0.054554</td>\n",
       "      <td>0.0</td>\n",
       "      <td>0.000000</td>\n",
       "      <td>0.0</td>\n",
       "      <td>0.044096</td>\n",
       "    </tr>\n",
       "    <tr>\n",
       "      <th>consumer loan</th>\n",
       "      <td>0.000000</td>\n",
       "      <td>0.0</td>\n",
       "      <td>0.000000</td>\n",
       "      <td>0.0</td>\n",
       "      <td>0.034207</td>\n",
       "    </tr>\n",
       "    <tr>\n",
       "      <th>client</th>\n",
       "      <td>0.349772</td>\n",
       "      <td>0.0</td>\n",
       "      <td>0.000000</td>\n",
       "      <td>0.0</td>\n",
       "      <td>0.033000</td>\n",
       "    </tr>\n",
       "    <tr>\n",
       "      <th>servicing</th>\n",
       "      <td>0.004197</td>\n",
       "      <td>0.0</td>\n",
       "      <td>0.000000</td>\n",
       "      <td>0.0</td>\n",
       "      <td>0.027114</td>\n",
       "    </tr>\n",
       "  </tbody>\n",
       "</table>\n",
       "</div>"
      ],
      "text/plain": [
       "                      0    1         2    3         4\n",
       "loan           0.014644  0.0  0.000000  0.0  1.310840\n",
       "mortgage       0.000000  0.0  0.000000  0.0  0.697917\n",
       "loan officer   0.000000  0.0  0.000000  0.0  0.165804\n",
       "officer        0.000000  0.0  0.000000  0.0  0.088668\n",
       "borrower       0.000000  0.0  0.000000  0.0  0.067988\n",
       "bank           0.075249  0.0  0.191452  0.0  0.044879\n",
       "credit         0.054554  0.0  0.000000  0.0  0.044096\n",
       "consumer loan  0.000000  0.0  0.000000  0.0  0.034207\n",
       "client         0.349772  0.0  0.000000  0.0  0.033000\n",
       "servicing      0.004197  0.0  0.000000  0.0  0.027114"
      ]
     },
     "execution_count": 2805,
     "metadata": {},
     "output_type": "execute_result"
    }
   ],
   "source": [
    "nmf_job_df.T.sort_values(4,ascending=False).head(10)"
   ]
  },
  {
   "cell_type": "markdown",
   "metadata": {},
   "source": [
    "---\n",
    "### Discussion:\n",
    "Would have liked to pull keywords for individual salary levels\n",
    "    - Would be difficult to find similaritis across disciplines, so I would have had to separate each job title and then levels of salary\n",
    "There is a lot of power in weak models\n",
    "    - Realizing the benefit of adding the keywords on top of the NMF bag of words technique"
   ]
  },
  {
   "cell_type": "markdown",
   "metadata": {},
   "source": [
    "---\n",
    "## In the shape of a laptop... \"Data Scientist\" Job words\n",
    "\n",
    "<img src=\"files/my_wordcloud_2.png\" style=\"float: left; height: 600px\">"
   ]
  },
  {
   "cell_type": "markdown",
   "metadata": {},
   "source": [
    "---\n",
    "### Conclusion:\n",
    "Unstructured data is challenging\n",
    "    - There is a ton of information hidden within it\n",
    "    - It seems like the simplest technique is to manually pull \n",
    "        - keywords\n",
    "        - key indicators\n",
    "        - however this isn't scalable\n",
    "    - It is very cool to see NMF custer relevant words - though using it to classify wasn't a good use case"
   ]
  },
  {
   "cell_type": "code",
   "execution_count": null,
   "metadata": {
    "collapsed": true
   },
   "outputs": [],
   "source": []
  },
  {
   "cell_type": "code",
   "execution_count": null,
   "metadata": {
    "collapsed": true
   },
   "outputs": [],
   "source": []
  },
  {
   "cell_type": "code",
   "execution_count": null,
   "metadata": {
    "collapsed": true
   },
   "outputs": [],
   "source": []
  },
  {
   "cell_type": "code",
   "execution_count": null,
   "metadata": {
    "collapsed": true
   },
   "outputs": [],
   "source": []
  },
  {
   "cell_type": "code",
   "execution_count": null,
   "metadata": {
    "collapsed": true
   },
   "outputs": [],
   "source": []
  },
  {
   "cell_type": "code",
   "execution_count": null,
   "metadata": {
    "collapsed": true
   },
   "outputs": [],
   "source": []
  },
  {
   "cell_type": "code",
   "execution_count": null,
   "metadata": {
    "collapsed": true
   },
   "outputs": [],
   "source": [
    "sal_df = pd.read_csv('salary_df.csv',encoding='latin1')"
   ]
  },
  {
   "cell_type": "code",
   "execution_count": 2764,
   "metadata": {
    "collapsed": false
   },
   "outputs": [
    {
     "data": {
      "text/plain": [
       "array(['business+intelligence', 'business+analyst', 'research+scientist',\n",
       "       'data+analyst', 'data+scientist'], dtype=object)"
      ]
     },
     "execution_count": 2764,
     "metadata": {},
     "output_type": "execute_result"
    }
   ],
   "source": [
    "sal_df['search_phrase'].unique()"
   ]
  },
  {
   "cell_type": "code",
   "execution_count": 2765,
   "metadata": {
    "collapsed": false
   },
   "outputs": [],
   "source": [
    "ds_df = sal_df[sal_df['search_phrase'] == 'data+scientist']\n",
    "bi_df = sal_df[sal_df['search_phrase'] == 'business+intelligence']\n",
    "da_df = sal_df[sal_df['search_phrase'] == 'data+analyst']\n",
    "ba_df = sal_df[sal_df['search_phrase'] == 'business+analyst']"
   ]
  },
  {
   "cell_type": "code",
   "execution_count": 2785,
   "metadata": {
    "collapsed": false
   },
   "outputs": [],
   "source": [
    "import matplotlib.pyplot as plt\n",
    "from wordcloud import WordCloud, STOPWORDS\n",
    "\n",
    "# join tweets to a single string\n",
    "#words = ' '.join(ds_df['job_summary'])\n",
    "#words = ' '.join(bi_df['job_summary'])\n",
    "#words = ' '.join(ba_df['job_summary'])\n",
    "words = ' '.join(da_df['job_summary'])\n",
    "\n",
    "wordcloud = WordCloud(\n",
    "                      font_path='/Users/xbno/Library/Fonts/Wolf Sans SC Regular.ttf',\n",
    "                      stopwords=STOPWORDS,\n",
    "                      background_color='white',\n",
    "                      width=3000,\n",
    "                      height=2000\n",
    "                     ).generate(words)\n",
    "\n",
    "# plt.imshow(wordcloud)\n",
    "# plt.axis('off')\n",
    "# plt.savefig('./my_twitter_wordcloud_1.png', dpi=300)\n",
    "# plt.show()"
   ]
  },
  {
   "cell_type": "code",
   "execution_count": 2786,
   "metadata": {
    "collapsed": false
   },
   "outputs": [
    {
     "name": "stderr",
     "output_type": "stream",
     "text": [
      "/Users/xbno/anaconda3/lib/python3.6/site-packages/wordcloud/wordcloud.py:372: UserWarning: mask image should be unsigned byte between 0 and 255. Got a float array\n",
      "  warnings.warn(\"mask image should be unsigned byte between 0\"\n"
     ]
    },
    {
     "data": {
      "image/png": "[encoded data removed]",
      "text/plain": [
       "<matplotlib.figure.Figure at 0x12da83ac8>"
      ]
     },
     "metadata": {},
     "output_type": "display_data"
    }
   ],
   "source": [
    "from scipy.misc import imread\n",
    "\n",
    "twitter_mask = imread('./circle3.png', flatten=True)\n",
    "\n",
    "\n",
    "wordcloud = WordCloud(\n",
    "                      font_path='/Users/xbno/Library/Fonts/Wolf Sans SC Regular.ttf',\n",
    "                      stopwords=STOPWORDS,\n",
    "                      background_color='white',\n",
    "                      width=3000,\n",
    "                      height=1000,\n",
    "                      mask=twitter_mask\n",
    "            ).generate(words)\n",
    "\n",
    "plt.imshow(wordcloud)\n",
    "plt.axis(\"off\")\n",
    "plt.savefig('circle_wordcloud_da.png', dpi=600)\n",
    "plt.show()"
   ]
  },
  {
   "cell_type": "markdown",
   "metadata": {},
   "source": [
    "<img src=\"files/my_wordcloud_2.png\" style=\"float: left; height: 600px\">"
   ]
  },
  {
   "cell_type": "code",
   "execution_count": null,
   "metadata": {
    "collapsed": true
   },
   "outputs": [],
   "source": []
  }
 ],
 "metadata": {
  "anaconda-cloud": {},
  "kernelspec": {
   "display_name": "Python 3",
   "language": "python",
   "name": "python3"
  },
  "language_info": {
   "codemirror_mode": {
    "name": "ipython",
    "version": 3
   },
   "file_extension": ".py",
   "mimetype": "text/x-python",
   "name": "python",
   "nbconvert_exporter": "python",
   "pygments_lexer": "ipython3",
   "version": "3.6.0"
  }
 },
 "nbformat": 4,
 "nbformat_minor": 2
}
