{
 "cells": [
  {
   "cell_type": "markdown",
   "metadata": {},
   "source": [
    "# Things learned\n",
    "- make functions and make them modifiable\n",
    "- be able to track back your work\n",
    "- don't mix eda with processed data eda"
   ]
  },
  {
   "cell_type": "markdown",
   "metadata": {},
   "source": [
    "# 5 things to improve\n",
    "- Do not mix up progression of notebook\n",
    "- Make functions more adaptable when wanting to change things\n",
    "- Stucture flow:\n",
    "    - Preview data, baseline model, outline flow\n",
    "    - Join multiple tables\n",
    "    - Broad Eda\n",
    "    - Functions to pair down/build up features\n",
    "    - Make able to remove functionality if necessary\n",
    "    - Add quick evaluation metric for rapid prototyping\n",
    "- Save submission settings (maybe make copy of notebook)\n",
    "\n",
    "# 5 things needed to compete\n",
    "- think from multiple prespectives\n",
    "- start small, and expand with option to remove expansion\n",
    "- build methodically\n",
    "- read forums after initilly doing eda\n",
    "- keep track of data vs model changes, make a list append metric/model/variables, to csv"
   ]
  },
  {
   "cell_type": "code",
   "execution_count": 4,
   "metadata": {
    "collapsed": true,
    "deletable": true,
    "editable": true
   },
   "outputs": [],
   "source": [
    "import pandas as pd\n",
    "import numpy as np"
   ]
  },
  {
   "cell_type": "markdown",
   "metadata": {
    "deletable": true,
    "editable": true
   },
   "source": [
    "# Pull in data"
   ]
  },
  {
   "cell_type": "code",
   "execution_count": 74,
   "metadata": {
    "collapsed": false,
    "deletable": true,
    "editable": true
   },
   "outputs": [],
   "source": [
    "train = pd.read_csv('../Wnv/train.csv')\n",
    "test = pd.read_csv('../Wnv/test.csv')"
   ]
  },
  {
   "cell_type": "markdown",
   "metadata": {
    "deletable": true,
    "editable": true
   },
   "source": [
    "# Baseline for Train data"
   ]
  },
  {
   "cell_type": "code",
   "execution_count": 6,
   "metadata": {
    "collapsed": false,
    "deletable": true,
    "editable": true
   },
   "outputs": [
    {
     "data": {
      "text/plain": [
       "0.94755377879307068"
      ]
     },
     "execution_count": 6,
     "metadata": {},
     "output_type": "execute_result"
    }
   ],
   "source": [
    "#baseline if predicting its not there, we'll be right 95% of the time\n",
    "1 - train['WnvPresent'].mean()"
   ]
  },
  {
   "cell_type": "code",
   "execution_count": 7,
   "metadata": {
    "collapsed": false,
    "deletable": true,
    "editable": true
   },
   "outputs": [
    {
     "data": {
      "text/plain": [
       "0    9955\n",
       "1     551\n",
       "Name: WnvPresent, dtype: int64"
      ]
     },
     "execution_count": 7,
     "metadata": {},
     "output_type": "execute_result"
    }
   ],
   "source": [
    "train['WnvPresent'].value_counts()"
   ]
  },
  {
   "cell_type": "code",
   "execution_count": 8,
   "metadata": {
    "collapsed": false,
    "deletable": true,
    "editable": true
   },
   "outputs": [
    {
     "data": {
      "text/plain": [
       "116293"
      ]
     },
     "execution_count": 8,
     "metadata": {},
     "output_type": "execute_result"
    }
   ],
   "source": [
    "test['Id'].count()"
   ]
  },
  {
   "cell_type": "markdown",
   "metadata": {
    "deletable": true,
    "editable": true
   },
   "source": [
    "# Sample Submission - all 0's"
   ]
  },
  {
   "cell_type": "code",
   "execution_count": 9,
   "metadata": {
    "collapsed": false,
    "deletable": true,
    "editable": true
   },
   "outputs": [],
   "source": [
    "sub = pd.DataFrame()\n",
    "sub['Id'] = test['Id']"
   ]
  },
  {
   "cell_type": "code",
   "execution_count": 10,
   "metadata": {
    "collapsed": true,
    "deletable": true,
    "editable": true
   },
   "outputs": [],
   "source": [
    "sub['WnvPresent'] = 0"
   ]
  },
  {
   "cell_type": "code",
   "execution_count": 11,
   "metadata": {
    "collapsed": false,
    "deletable": true,
    "editable": true
   },
   "outputs": [],
   "source": [
    "sub.to_csv('sub.csv',index=False)"
   ]
  },
  {
   "cell_type": "code",
   "execution_count": 12,
   "metadata": {
    "collapsed": false,
    "deletable": true,
    "editable": true
   },
   "outputs": [
    {
     "name": "stdout",
     "output_type": "stream",
     "text": [
      "73data.csv\t\t\t\t\t      sub5.csv.zip\r\n",
      "mapdata_copyright_openstreetmap_contributors.rds      sub6.csv\r\n",
      "mapdata_copyright_openstreetmap_contributors.txt      sub7.csv\r\n",
      "mapdata_copyright_openstreetmap_contributors.txt.zip  sub8rf.csv\r\n",
      "sampleSubmission.csv\t\t\t\t      sub9.csv\r\n",
      "sampleSubmission.csv.zip\t\t\t      sub.csv\r\n",
      "spray.csv\t\t\t\t\t      test.csv\r\n",
      "spray.csv.zip\t\t\t\t\t      test.csv.zip\r\n",
      "sub10.csv\t\t\t\t\t      train.csv\r\n",
      "sub11.csv\t\t\t\t\t      train.csv.zip\r\n",
      "sub13.csv\t\t\t\t\t      weather.csv\r\n",
      "sub14.csv\t\t\t\t\t      weather.csv.zip\r\n",
      "sub15.csv\t\t\t\t\t      west_nile\r\n",
      "sub16.csv\t\t\t\t\t      west_nile.zip\r\n",
      "sub2.csv\t\t\t\t\t      WNV-Copy1.ipynb\r\n",
      "sub3.csv\t\t\t\t\t      WNV-Final Look.ipynb\r\n",
      "sub4.csv\t\t\t\t\t      WNV oops-Copy1.ipynb\r\n",
      "sub4.csv.zip\t\t\t\t\t      WNV oops.ipynb\r\n",
      "sub5.csv\r\n"
     ]
    }
   ],
   "source": [
    "!ls"
   ]
  },
  {
   "cell_type": "markdown",
   "metadata": {
    "deletable": true,
    "editable": true
   },
   "source": [
    "# EDA"
   ]
  },
  {
   "cell_type": "code",
   "execution_count": 14,
   "metadata": {
    "collapsed": false,
    "deletable": true,
    "editable": true
   },
   "outputs": [
    {
     "data": {
      "text/html": [
       "<div>\n",
       "<table border=\"1\" class=\"dataframe\">\n",
       "  <thead>\n",
       "    <tr style=\"text-align: right;\">\n",
       "      <th></th>\n",
       "      <th>Date</th>\n",
       "      <th>Address</th>\n",
       "      <th>Species</th>\n",
       "      <th>Block</th>\n",
       "      <th>Street</th>\n",
       "      <th>Trap</th>\n",
       "      <th>AddressNumberAndStreet</th>\n",
       "      <th>Latitude</th>\n",
       "      <th>Longitude</th>\n",
       "      <th>AddressAccuracy</th>\n",
       "      <th>NumMosquitos</th>\n",
       "      <th>WnvPresent</th>\n",
       "    </tr>\n",
       "  </thead>\n",
       "  <tbody>\n",
       "    <tr>\n",
       "      <th>0</th>\n",
       "      <td>2007-05-29</td>\n",
       "      <td>4100 North Oak Park Avenue, Chicago, IL 60634,...</td>\n",
       "      <td>CULEX PIPIENS/RESTUANS</td>\n",
       "      <td>41</td>\n",
       "      <td>N OAK PARK AVE</td>\n",
       "      <td>T002</td>\n",
       "      <td>4100  N OAK PARK AVE, Chicago, IL</td>\n",
       "      <td>41.95469</td>\n",
       "      <td>-87.800991</td>\n",
       "      <td>9</td>\n",
       "      <td>1</td>\n",
       "      <td>0</td>\n",
       "    </tr>\n",
       "  </tbody>\n",
       "</table>\n",
       "</div>"
      ],
      "text/plain": [
       "         Date                                            Address  \\\n",
       "0  2007-05-29  4100 North Oak Park Avenue, Chicago, IL 60634,...   \n",
       "\n",
       "                  Species  Block           Street  Trap  \\\n",
       "0  CULEX PIPIENS/RESTUANS     41   N OAK PARK AVE  T002   \n",
       "\n",
       "              AddressNumberAndStreet  Latitude  Longitude  AddressAccuracy  \\\n",
       "0  4100  N OAK PARK AVE, Chicago, IL  41.95469 -87.800991                9   \n",
       "\n",
       "   NumMosquitos  WnvPresent  \n",
       "0             1           0  "
      ]
     },
     "execution_count": 14,
     "metadata": {},
     "output_type": "execute_result"
    }
   ],
   "source": [
    "train.head(1)"
   ]
  },
  {
   "cell_type": "code",
   "execution_count": 15,
   "metadata": {
    "collapsed": false,
    "deletable": true,
    "editable": true
   },
   "outputs": [
    {
     "name": "stdout",
     "output_type": "stream",
     "text": [
      "<class 'pandas.core.frame.DataFrame'>\n",
      "RangeIndex: 10506 entries, 0 to 10505\n",
      "Data columns (total 12 columns):\n",
      "Date                      10506 non-null object\n",
      "Address                   10506 non-null object\n",
      "Species                   10506 non-null object\n",
      "Block                     10506 non-null int64\n",
      "Street                    10506 non-null object\n",
      "Trap                      10506 non-null object\n",
      "AddressNumberAndStreet    10506 non-null object\n",
      "Latitude                  10506 non-null float64\n",
      "Longitude                 10506 non-null float64\n",
      "AddressAccuracy           10506 non-null int64\n",
      "NumMosquitos              10506 non-null int64\n",
      "WnvPresent                10506 non-null int64\n",
      "dtypes: float64(2), int64(4), object(6)\n",
      "memory usage: 985.0+ KB\n"
     ]
    }
   ],
   "source": [
    "train.info()"
   ]
  },
  {
   "cell_type": "code",
   "execution_count": 79,
   "metadata": {
    "collapsed": false
   },
   "outputs": [
    {
     "data": {
      "text/plain": [
       "Trap\n",
       "T143     0.193548\n",
       "T006     0.166667\n",
       "T005     0.142857\n",
       "T233     0.140000\n",
       "T014     0.133333\n",
       "T096     0.120000\n",
       "T003     0.114754\n",
       "T015     0.114286\n",
       "T235     0.112903\n",
       "T054C    0.111111\n",
       "T230     0.107692\n",
       "T225     0.106796\n",
       "T016     0.106061\n",
       "T223     0.103448\n",
       "T070     0.100000\n",
       "T002     0.097297\n",
       "T228     0.096774\n",
       "T013     0.096154\n",
       "T154     0.095238\n",
       "T231     0.095238\n",
       "T086     0.093023\n",
       "T107     0.090909\n",
       "T900     0.088000\n",
       "T045     0.085714\n",
       "T011     0.082707\n",
       "T082     0.081633\n",
       "T009     0.081081\n",
       "T221     0.080357\n",
       "T061     0.077670\n",
       "T028     0.076923\n",
       "           ...   \n",
       "T238     0.000000\n",
       "T025     0.000000\n",
       "T019     0.000000\n",
       "T219     0.000000\n",
       "T129     0.000000\n",
       "T040     0.000000\n",
       "T078     0.000000\n",
       "T100     0.000000\n",
       "T099     0.000000\n",
       "T141     0.000000\n",
       "T094B    0.000000\n",
       "T092     0.000000\n",
       "T146     0.000000\n",
       "T088     0.000000\n",
       "T148     0.000000\n",
       "T149     0.000000\n",
       "T150     0.000000\n",
       "T076     0.000000\n",
       "T043     0.000000\n",
       "T075     0.000000\n",
       "T072     0.000000\n",
       "T071     0.000000\n",
       "T153     0.000000\n",
       "T157     0.000000\n",
       "T060     0.000000\n",
       "T051     0.000000\n",
       "T050     0.000000\n",
       "T046     0.000000\n",
       "T044     0.000000\n",
       "T001     0.000000\n",
       "Name: WnvPresent, dtype: float64"
      ]
     },
     "execution_count": 79,
     "metadata": {},
     "output_type": "execute_result"
    }
   ],
   "source": [
    "train.groupby('Trap')['WnvPresent'].mean().sort_values(ascending=False)#.plot.bar()"
   ]
  },
  {
   "cell_type": "code",
   "execution_count": null,
   "metadata": {
    "collapsed": false
   },
   "outputs": [],
   "source": []
  },
  {
   "cell_type": "markdown",
   "metadata": {
    "deletable": true,
    "editable": true
   },
   "source": [
    "# Unique Vals"
   ]
  },
  {
   "cell_type": "code",
   "execution_count": 16,
   "metadata": {
    "collapsed": false,
    "deletable": true,
    "editable": true
   },
   "outputs": [
    {
     "name": "stdout",
     "output_type": "stream",
     "text": [
      "Date\n",
      "['2007-05-29' '2007-06-05' '2007-06-26' '2007-06-29' '2007-07-02'\n",
      " '2007-07-11' '2007-07-18' '2007-07-19' '2007-07-25' '2007-07-27'\n",
      " '2007-08-01' '2007-08-02' '2007-08-03' '2007-08-07' '2007-08-08'\n",
      " '2007-08-09' '2007-08-15' '2007-08-16' '2007-08-17' '2007-08-21'\n",
      " '2007-08-22' '2007-08-24' '2007-08-28' '2007-09-04' '2007-09-05'\n",
      " '2007-09-06' '2007-09-12' '2007-09-18' '2007-09-19' '2007-09-24'\n",
      " '2007-09-25' '2007-10-04' '2007-10-09' '2009-05-28' '2009-06-02'\n",
      " '2009-06-03' '2009-06-05' '2009-06-12' '2009-06-15' '2009-06-19'\n",
      " '2009-06-22' '2009-06-26' '2009-06-29' '2009-07-06' '2009-07-10'\n",
      " '2009-07-13' '2009-07-17' '2009-07-24' '2009-07-27' '2009-07-31'\n",
      " '2009-08-07' '2009-08-13' '2009-08-25' '2009-08-27' '2009-09-03'\n",
      " '2009-09-14' '2009-09-17' '2009-09-25' '2009-10-01' '2011-06-10'\n",
      " '2011-06-17' '2011-06-24' '2011-06-30' '2011-07-11' '2011-07-15'\n",
      " '2011-07-25' '2011-07-29' '2011-08-05' '2011-08-12' '2011-08-19'\n",
      " '2011-08-26' '2011-09-01' '2011-09-02' '2011-09-12' '2011-09-16'\n",
      " '2011-09-23' '2011-09-30' '2013-06-07' '2013-06-14' '2013-06-21'\n",
      " '2013-06-27' '2013-06-28' '2013-07-08' '2013-07-12' '2013-07-19'\n",
      " '2013-07-25' '2013-08-01' '2013-08-08' '2013-08-15' '2013-08-22'\n",
      " '2013-08-29' '2013-09-06' '2013-09-12' '2013-09-19' '2013-09-26']\n",
      "Address\n",
      "['4100 North Oak Park Avenue, Chicago, IL 60634, USA'\n",
      " '6200 North Mandell Avenue, Chicago, IL 60646, USA'\n",
      " '7900 West Foster Avenue, Chicago, IL 60656, USA'\n",
      " '1500 West Webster Avenue, Chicago, IL 60614, USA'\n",
      " '2500 West Grand Avenue, Chicago, IL 60654, USA'\n",
      " '1100 Roosevelt Road, Chicago, IL 60608, USA'\n",
      " '1100 West Chicago Avenue, Chicago, IL 60642, USA'\n",
      " '2100 North Stave Street, Chicago, IL 60647, USA'\n",
      " '2200 North Cannon Drive, Chicago, IL 60614, USA'\n",
      " '2200 West 113th Street, Chicago, IL 60643, USA'\n",
      " '1100 South Peoria Street, Chicago, IL 60608, USA'\n",
      " '1700 West 95th Street, Chicago, IL 60643, USA'\n",
      " '2200 West 89th Street, Chicago, IL 60643, USA'\n",
      " 'North Streeter Drive, Chicago, IL 60611, USA'\n",
      " '6500 North Oak Park Avenue, Chicago, IL 60631, USA'\n",
      " '7500 North Oakley Avenue, Chicago, IL 60645, USA'\n",
      " '1500 North Long Avenue, Chicago, IL 60651, USA'\n",
      " '8900 South Carpenter Street, Chicago, IL 60620, USA'\n",
      " '9100 West Higgins Avenue, Chicago, IL 60656, USA'\n",
      " '3600 North Pittsburgh Avenue, Chicago, IL 60634, USA'\n",
      " '7200 North Oketo Avenue, Chicago, IL 60631, USA'\n",
      " '3800 North California Avenue, Chicago, IL 60618, USA'\n",
      " '4900 West Balmoral Avenue, Chicago, IL 60630, USA'\n",
      " '5800 North Western Avenue, Chicago, IL 60659, USA'\n",
      " '5000 South Central Avenue, Chicago, IL 60638, USA'\n",
      " '1400 North Sacramento Avenue, Chicago, IL 60622, USA'\n",
      " 'South Vincennes Avenue, Chicago, IL, USA'\n",
      " 'University of Illinois at Chicago, 1100 South Ashland Avenue, Chicago, IL 60607, USA'\n",
      " '1100 South State Street, Chicago, IL 60605, USA'\n",
      " '4200 West 127th Street, Alsip, IL 60803, USA'\n",
      " '5300 West Agatite Avenue, Chicago, IL 60630, USA'\n",
      " '4000 North Austin Avenue, Chicago, IL 60634, USA' 'Chicago, IL, USA'\n",
      " '4200 North Richmond Street, Chicago, IL 60618, USA'\n",
      " '2800 North Francisco Avenue, Chicago, IL 60618, USA'\n",
      " '1500 West Granville Avenue, Chicago, IL 60660, USA'\n",
      " '1800 West Farwell Avenue, Chicago, IL 60626, USA'\n",
      " '7000 West Armitage Avenue, Chicago, IL 60707, USA'\n",
      " '2500 South Millard Avenue, Chicago, IL 60623, USA'\n",
      " '2100 North Lawler Avenue, Chicago, IL 60639, USA'\n",
      " '3500 West 116th Street, Chicago, IL 60655, USA'\n",
      " '9300 South Doctor Martin Luther King Junior Drive, Chicago, IL 60619, USA'\n",
      " '3700 North Kedvale Avenue, Chicago, IL 60641, USA'\n",
      " '4500 North Campbell Avenue, Chicago, IL 60625, USA'\n",
      " '4000 North Tripp Avenue, Chicago, IL 60641, USA'\n",
      " '4600 Milwaukee Avenue, Chicago, IL 60630, USA'\n",
      " '6000 North Avondale Avenue, Chicago, IL 60631, USA'\n",
      " '7000 North Moselle Avenue, Chicago, IL 60646, USA'\n",
      " '6100 North Lemont Avenue, Chicago, IL 60646, USA'\n",
      " '2700 South Western Avenue, Chicago, IL 60608, USA'\n",
      " '6800 West Belden Avenue, Chicago, IL 60707, USA'\n",
      " '2100 South Hamlin Avenue, Chicago, IL 60623, USA'\n",
      " '3000 West 18th Street, Chicago, IL 60608, USA'\n",
      " '1100 South California Avenue, Chicago, IL 60612, USA'\n",
      " '2500 South Throop Street, Chicago, IL 60608, USA'\n",
      " '1000 West 95th Street, Chicago, IL 60643, USA'\n",
      " '1000 South California Avenue, Chicago, IL 60612, USA'\n",
      " '9600 South Hoyne Avenue, Chicago, IL 60643, USA'\n",
      " '1800 West Leland Avenue, Chicago, IL 60640, USA'\n",
      " '6100 West Fullerton Avenue, Chicago, IL 60639, USA'\n",
      " '6400 West Strong Street, Chicago, IL, USA'\n",
      " '1200 West Greenleaf Avenue, Chicago, IL 60626, USA'\n",
      " '1000 North Central Park Avenue, Chicago, IL 60651, USA'\n",
      " '2000 East 111th Street, Chicago, IL 60628, USA'\n",
      " '3300 North Rutherford Avenue, Chicago, IL 60634, USA'\n",
      " '1100 North Artesian Avenue, Chicago, IL 60622, USA'\n",
      " '6000 West Roscoe Street, Chicago, IL 60634, USA'\n",
      " '6000 West Montrose Avenue, Chicago, IL 60634, USA'\n",
      " '3300 West Randolph Street, Chicago, IL 60612, USA'\n",
      " '3300 West 104th Street, Chicago, IL 60655, USA'\n",
      " '4900 West Sunnyside Avenue, Chicago, IL 60630, USA'\n",
      " '3000 South Hoyne Avenue, Chicago, IL 60608, USA'\n",
      " '4200 West 31st Street, Chicago, IL 60623, USA'\n",
      " '1700 North Pulaski Road, Chicago, IL 60639, USA'\n",
      " '2200 West Pershing Road, Chicago, IL 60609, USA'\n",
      " '2200 West 51st Street, Chicago, IL 60609, USA'\n",
      " '3500 West 51st Street, Chicago, IL 60632, USA'\n",
      " 'Chicago Midway International Airport (MDW), 5200 West 63rd Street, Chicago, IL 60638, USA'\n",
      " '6700 South Kedzie Avenue, Chicago, IL 60629, USA'\n",
      " '7300 Cicero Avenue, Chicago, IL 60638, USA'\n",
      " '2200 West 69th Street, Chicago, IL 60636, USA'\n",
      " '5200 South Nordica Avenue, Chicago, IL 60638, USA'\n",
      " '6100 South Melvina Avenue, Chicago, IL 60638, USA'\n",
      " '1000 East 67th Street, Chicago, IL 60637, USA'\n",
      " '3900 South Ashland Avenue, Chicago, IL 60609, USA'\n",
      " '4700 South Cornell Avenue, Chicago, IL 60615, USA'\n",
      " '5500 South Doctor Martin Luther King Junior Drive, Chicago, IL 60637, USA'\n",
      " '6400 South Stony Island Avenue, Chicago, IL 60637, USA'\n",
      " '7100 South South Shore Drive, Chicago, IL 60649, USA'\n",
      " '7700 South Eberhart Avenue, Chicago, IL 60619, USA'\n",
      " '4000 South Dearborn Street, Chicago, IL 60609, USA'\n",
      " '5000 South Union Avenue, Chicago, IL 60609, USA'\n",
      " '7900 South South Chicago Avenue, Chicago, IL 60617, USA'\n",
      " '5200 South Kolmar Avenue, Chicago, IL 60632, USA'\n",
      " '6300 West 64th Street, Chicago, IL 60638, USA'\n",
      " '3700 South Pulaski Road, Chicago, IL 60623, USA'\n",
      " 'South Doty Avenue, Chicago, IL, USA'\n",
      " 'South Stony Island Avenue, Chicago, IL, USA'\n",
      " 'South Torrence Avenue, Chicago, IL, USA'\n",
      " 'South Mackinaw Avenue, Chicago, IL 60617, USA'\n",
      " 'South Brandon Avenue, Chicago, IL 60617, USA'\n",
      " '3700 118th Street, Chicago, IL 60617, USA'\n",
      " '3800 East 115th Street, Chicago, IL 60617, USA'\n",
      " 'East 91st Street, Chicago, IL, USA'\n",
      " '2400 East 105th Street, Chicago, IL 60617, USA'\n",
      " '8000 South Kedzie Avenue, Chicago, IL 60652, USA'\n",
      " '6500 South Racine Avenue, Chicago, IL 60636, USA'\n",
      " 'East 138th Street, Riverdale, IL 60827, USA'\n",
      " '8900 South Muskegon Avenue, Chicago, IL 60617, USA'\n",
      " '9800 South Avenue G, Chicago, IL 60617, USA'\n",
      " 'South Cottage Grove Avenue, Chicago, IL, USA'\n",
      " 'South Avenue L, Chicago, IL 60617, USA'\n",
      " '5800 North Pulaski Road, Chicago, IL 60646, USA'\n",
      " '6600 South Kilpatrick Avenue, Chicago, IL 60629, USA'\n",
      " 'West 37th Place, Chicago, IL, USA'\n",
      " '4000 East 130th Street, Chicago, IL 60633, USA'\n",
      " '9100 West Higgins Road, Rosemont, IL 60018, USA'\n",
      " \"ORD Terminal 5, O'Hare International Airport, Chicago, IL 60666, USA\"\n",
      " 'Ohare Court, Bensenville, IL 60106, USA'\n",
      " '4800 West Montana Street, Chicago, IL 60639, USA'\n",
      " '5100 North Mont Clare Avenue, Chicago, IL 60656, USA'\n",
      " '8200 South Kostner Avenue, Chicago, IL 60652, USA'\n",
      " 'East 91st Place, Chicago, IL, USA'\n",
      " '1700 West Addison Street, Chicago, IL 60613, USA'\n",
      " 'West Garfield Boulevard, Chicago, IL, USA'\n",
      " 'South Wallace Street, Chicago, IL, USA'\n",
      " '1300 North Laramie Avenue, Chicago, IL 60651, USA'\n",
      " '3900 North Springfield Avenue, Chicago, IL 60618, USA'\n",
      " '1700 North Ashland Avenue, Chicago, IL 60622, USA'\n",
      " '5100 West 72nd Street, Chicago, IL 60638, USA'\n",
      " '5800 North Ridge Avenue, Chicago, IL 60660, USA'\n",
      " '4200 West 65th Street, Chicago, IL 60621, USA'\n",
      " '7100 North Harlem Avenue, Chicago, IL 60631, USA'\n",
      " '6200 North Mcclellan Avenue, Chicago, IL 60646, USA'\n",
      " '2900 West 85th Street, Chicago, IL 60652, USA'\n",
      " '3400 West 77th Street, Chicago, IL 60652, USA'\n",
      " '9600 South Longwood Drive, Chicago, IL 60643, USA'\n",
      " '2100 North Cannon Drive, Chicago, IL 60614, USA']\n",
      "Species\n",
      "['CULEX PIPIENS/RESTUANS' 'CULEX RESTUANS' 'CULEX PIPIENS'\n",
      " 'CULEX SALINARIUS' 'CULEX TERRITANS' 'CULEX TARSALIS' 'CULEX ERRATICUS']\n",
      "Block\n",
      "[41 62 79 15 25 11 21 22 17 53 65 75 89 91 36 72 38 49 58 50 14 10 42 40 43\n",
      " 28 18 70 35 93 37 45 46 60 61 27 68 30 96 64 12 20 33 52 67 73 39 47 55 71\n",
      " 77 63 13 81 24 80 82 98 66 48 51 90 29 34]\n",
      "Street\n",
      "[' N OAK PARK AVE' ' N MANDELL AVE' ' W FOSTER AVE' ' W WEBSTER AVE'\n",
      " ' W GRAND AVE' ' W ROOSEVELT' ' W CHICAGO' ' N STAVE ST' ' N CANNON DR'\n",
      " ' W 113TH ST' ' S PEORIA ST' ' W 95TH ST' ' W 89TH ST' ' N STREETER DR'\n",
      " ' N OAKLEY AVE' ' N LONG AVE' ' S CARPENTER ST' ' W HIGGINS AVE'\n",
      " ' N PITTSBURGH AVE' ' N OKETO AVE' ' N CALIFORNIA AVE' ' W BALMORAL AVE'\n",
      " ' N WESTERN AVE' ' S CENTRAL AVE' ' N HUMBOLDT DR' ' S VINCENNES'\n",
      " ' S ASHLAND AVE' ' S STATE ST' ' W 127TH PL' ' W AGATITE AVE'\n",
      " ' N AUSTIN AVE' ' N ASHLAND AVE OVERPASS' ' N RICHMOND ST'\n",
      " ' N FRANCISCO AVE' ' W GRANVILLE AVE' ' W FARWELL AVE'\n",
      " '  W ARMITAGE AVENUE' ' S MILLARD AVE' ' N LAWLER AVE' ' W 116TH ST'\n",
      " ' S DR MARTIN LUTHER KING JR DR' ' N KEDVALE AVE' ' N CAMPBELL AVE'\n",
      " ' N TRIPP AVE' ' N MILWAUKEE AVE' ' N AVONDALE AVE' ' N MOSELL AVE'\n",
      " ' N LEMONT AVE' ' S WESTERN AVE' ' W BELDEN AVE' ' S HAMLIN AVE'\n",
      " ' W 18TH ST' ' S CALIFORNIA' ' S THROOP' ' S CALIFORNIA AVE'\n",
      " ' S HOYNE AVE' ' W LELAND AVE' ' W FULLERTON AVE' ' W STRONG ST'\n",
      " ' W GREENLEAF AVE' ' N CENTRAL PARK DR' ' E 111TH ST' ' N RUTHERFORD AVE'\n",
      " ' S ARTESIAN AVE' ' W ROSCOE ST' ' W MONTROSE DR' ' E RANDOLPH ST'\n",
      " ' W 104TH ST' ' W SUNNYSIDE AVE' ' W 31ST ST' ' N PULASKI RD'\n",
      " ' W PERSHING RD' ' W 51ST ST' ' W 63RD ST' ' S KEDZIE AVE' ' S CICERO AVE'\n",
      " ' W 69TH ST' ' S NORDICA' ' S MELVINA AVE' ' E 67TH ST' ' S CORNELL AVE'\n",
      " ' S STONY ISLAND AVE' ' S SOUTH SHORE DR' ' S EBERHART AVE'\n",
      " ' S DEARBORN ST' ' S UNION AVE' ' S CHICAGO AVE' ' S KOLMAR' ' W 64TH ST'\n",
      " ' S PULASKI RD' ' S DOTY AVE' ' S TORRENCE AVE' ' S MACKINAW' ' S BRANDON'\n",
      " ' E 118TH ST' ' E 115TH ST' ' E 91ST ST' ' E 105TH ST' ' S RACINE AVE'\n",
      " ' E 138TH ST' ' S MUSKEGON AVE' ' S AVENUE G' ' S COTTAGE GROVE'\n",
      " ' S AVENUE L' ' S KILPATRICK AVE' ' W 37TH PL.' ' E 130TH ST'\n",
      " ' W HIGGINS RD' ' W OHARE AIRPORT' ' W OHARE' ' W MONTANA ST'\n",
      " ' N MONT CLARE AVE' ' S KOSTNER AVE' ' E 91ST PL' ' W ADDISON ST'\n",
      " ' W GARFIELD BLVD' ' S WALLACE ST' ' N LARAMIE AVE' ' N SPRINGFIELD AVE'\n",
      " ' N ASHLAND AVE' ' W 72ND ST' ' N RIDGE AVE' ' W 65TH ST' ' N HARLEM AVE'\n",
      " ' N MCCLELLAN AVE' ' W 85TH ST' ' W 77TH ST' ' S LONGWOOD DR']\n",
      "Trap\n",
      "['T002' 'T007' 'T015' 'T045' 'T046' 'T048' 'T049' 'T050' 'T054' 'T086'\n",
      " 'T091' 'T094' 'T096' 'T129' 'T143' 'T148' 'T153' 'T159' 'T009' 'T011'\n",
      " 'T016' 'T019' 'T025' 'T028' 'T031' 'T033' 'T089' 'T090' 'T092' 'T135'\n",
      " 'T141' 'T142' 'T145' 'T146' 'T147' 'T149' 'T150' 'T151' 'T152' 'T154'\n",
      " 'T158' 'T162' 'T218' 'T220' 'T001' 'T003' 'T006' 'T008' 'T012' 'T034'\n",
      " 'T037' 'T040' 'T043' 'T047' 'T051' 'T085' 'T088' 'T161' 'T219' 'T013'\n",
      " 'T014' 'T018' 'T030' 'T084' 'T144' 'T160' 'T005' 'T017' 'T044' 'T095'\n",
      " 'T004' 'T035' 'T036' 'T039' 'T060' 'T061' 'T062' 'T065' 'T066' 'T067'\n",
      " 'T069' 'T070' 'T071' 'T073' 'T074' 'T075' 'T076' 'T077' 'T079' 'T080'\n",
      " 'T081' 'T082' 'T083' 'T114' 'T155' 'T063' 'T115' 'T138' 'T200' 'T206'\n",
      " 'T209' 'T212' 'T215' 'T107' 'T128' 'T072' 'T078' 'T097' 'T099' 'T100'\n",
      " 'T102' 'T103' 'T027' 'T156' 'T157' 'T221' 'T900' 'T903' 'T222' 'T223'\n",
      " 'T225' 'T227' 'T224' 'T226' 'T229' 'T230' 'T228' 'T232' 'T231' 'T235'\n",
      " 'T233' 'T236' 'T237' 'T238' 'T094B' 'T054C']\n",
      "AddressNumberAndStreet\n",
      "['4100  N OAK PARK AVE, Chicago, IL' '6200  N MANDELL AVE, Chicago, IL'\n",
      " '7900  W FOSTER AVE, Chicago, IL' '1500  W WEBSTER AVE, Chicago, IL'\n",
      " '2500  W GRAND AVE, Chicago, IL' '1100  W ROOSEVELT, Chicago, IL'\n",
      " '1100  W CHICAGO, Chicago, IL' '2100  N STAVE ST, Chicago, IL'\n",
      " '2200  N CANNON DR, Chicago, IL' '2200  W 113TH ST, Chicago, IL'\n",
      " '1100  S PEORIA ST, Chicago, IL' '1700  W 95TH ST, Chicago, IL'\n",
      " '2200  W 89TH ST, Chicago, IL' '5300  N STREETER DR, Chicago, IL'\n",
      " '6500  N OAK PARK AVE, Chicago, IL' '7500  N OAKLEY AVE, Chicago, IL'\n",
      " '1500  N LONG AVE, Chicago, IL' '8900  S CARPENTER ST, Chicago, IL'\n",
      " '9100  W HIGGINS AVE, Chicago, IL' '3600  N PITTSBURGH AVE, Chicago, IL'\n",
      " '7200  N OKETO AVE, Chicago, IL' '3800  N CALIFORNIA AVE, Chicago, IL'\n",
      " '4900  W BALMORAL AVE, Chicago, IL' '5800  N WESTERN AVE, Chicago, IL'\n",
      " '5000  S CENTRAL AVE, Chicago, IL' '1400  N HUMBOLDT DR, Chicago, IL'\n",
      " '1000  S VINCENNES, Chicago, IL' '1100  S ASHLAND AVE, Chicago, IL'\n",
      " '1100  S STATE ST, Chicago, IL' '4200  W 127TH PL, Chicago, IL'\n",
      " '5300  W AGATITE AVE, Chicago, IL' '4000  N AUSTIN AVE, Chicago, IL'\n",
      " '4300  N ASHLAND AVE OVERPASS, Chicago, IL'\n",
      " '4200  N RICHMOND ST, Chicago, IL' '2800  N FRANCISCO AVE, Chicago, IL'\n",
      " '1500  W GRANVILLE AVE, Chicago, IL' '1800  W FARWELL AVE, Chicago, IL'\n",
      " '7000   W ARMITAGE AVENUE, Chicago, IL' '2500  S MILLARD AVE, Chicago, IL'\n",
      " '2100  N LAWLER AVE, Chicago, IL' '3500  W 116TH ST, Chicago, IL'\n",
      " '9300  S DR MARTIN LUTHER KING JR DR, Chicago, IL'\n",
      " '3700  N KEDVALE AVE, Chicago, IL' '4500  N CAMPBELL AVE, Chicago, IL'\n",
      " '4000  N TRIPP AVE, Chicago, IL' '4600  N MILWAUKEE AVE, Chicago, IL'\n",
      " '6000  N AVONDALE AVE, Chicago, IL' '7000  N MOSELL AVE, Chicago, IL'\n",
      " '6100  N LEMONT AVE, Chicago, IL' '2700  S WESTERN AVE, Chicago, IL'\n",
      " '6800  W BELDEN AVE, Chicago, IL' '2100  S HAMLIN AVE, Chicago, IL'\n",
      " '3000  W 18TH ST, Chicago, IL' '1100  S CALIFORNIA, Chicago, IL'\n",
      " '2500  S THROOP, Chicago, IL' '1000  W 95TH ST, Chicago, IL'\n",
      " '1000  S CALIFORNIA AVE, Chicago, IL' '9600  S HOYNE AVE, Chicago, IL'\n",
      " '1800  W LELAND AVE, Chicago, IL' '6100  W FULLERTON AVE, Chicago, IL'\n",
      " '6400  W STRONG ST, Chicago, IL' '1200  W GREENLEAF AVE, Chicago, IL'\n",
      " '1000  N CENTRAL PARK DR, Chicago, IL' '2000  E 111TH ST, Chicago, IL'\n",
      " '3300  N RUTHERFORD AVE, Chicago, IL' '1100  S ARTESIAN AVE, Chicago, IL'\n",
      " '6000  W ROSCOE ST, Chicago, IL' '6000  W MONTROSE DR, Chicago, IL'\n",
      " '3300  E RANDOLPH ST, Chicago, IL' '3300  W 104TH ST, Chicago, IL'\n",
      " '4900  W SUNNYSIDE AVE, Chicago, IL' '3000  S HOYNE AVE, Chicago, IL'\n",
      " '4200  W 31ST ST, Chicago, IL' '1700  N PULASKI RD, Chicago, IL'\n",
      " '2200  W PERSHING RD, Chicago, IL' '2200  W 51ST ST, Chicago, IL'\n",
      " '3500  W 51ST ST, Chicago, IL' '5200  W 63RD ST, Chicago, IL'\n",
      " '6700  S KEDZIE AVE, Chicago, IL' '7300  S CICERO AVE, Chicago, IL'\n",
      " '2200  W 69TH ST, Chicago, IL' '5200  S NORDICA, Chicago, IL'\n",
      " '6100  S MELVINA AVE, Chicago, IL' '1000  E 67TH ST, Chicago, IL'\n",
      " '3900  S ASHLAND AVE, Chicago, IL' '4700  S CORNELL AVE, Chicago, IL'\n",
      " '5500  S DR MARTIN LUTHER KING JR DR, Chicago, IL'\n",
      " '6400  S STONY ISLAND AVE, Chicago, IL'\n",
      " '7100  S SOUTH SHORE DR, Chicago, IL' '7700  S EBERHART AVE, Chicago, IL'\n",
      " '4000  S DEARBORN ST, Chicago, IL' '5000  S UNION AVE, Chicago, IL'\n",
      " '7900  S CHICAGO AVE, Chicago, IL' '5200  S KOLMAR, Chicago, IL'\n",
      " '6300  W 64TH ST, Chicago, IL' '3700  S PULASKI RD, Chicago, IL'\n",
      " '1200  S DOTY AVE, Chicago, IL' '1000  S STONY ISLAND AVE, Chicago, IL'\n",
      " '1300  S TORRENCE AVE, Chicago, IL' '1300  S MACKINAW, Chicago, IL'\n",
      " '1300  S BRANDON, Chicago, IL' '3700  E 118TH ST, Chicago, IL'\n",
      " '3800  E 115TH ST, Chicago, IL' '8100  E 91ST ST, Chicago, IL'\n",
      " '2400  E 105TH ST, Chicago, IL' '8000  S KEDZIE AVE, Chicago, IL'\n",
      " '6500  S RACINE AVE, Chicago, IL' '8200  E 138TH ST, Chicago, IL'\n",
      " '8900  S MUSKEGON AVE, Chicago, IL' '9800  S AVENUE G, Chicago, IL'\n",
      " '1000  S COTTAGE GROVE, Chicago, IL' '1100  S AVENUE L, Chicago, IL'\n",
      " '5800  N PULASKI RD, Chicago, IL' '6600  S KILPATRICK AVE, Chicago, IL'\n",
      " '8100  W 37TH PL., Chicago, IL' '4000  E 130TH ST, Chicago, IL'\n",
      " '9100  W HIGGINS RD, Chicago, IL' '1000  W OHARE AIRPORT, Chicago, IL'\n",
      " '1000  W OHARE, Chicago, IL' '4800  W MONTANA ST, Chicago, IL'\n",
      " '5100  N MONT CLARE AVE, Chicago, IL' '8200  S KOSTNER AVE, Chicago, IL'\n",
      " '6500  E 91ST PL, Chicago, IL' '1700  W ADDISON ST, Chicago, IL'\n",
      " '9000  W GARFIELD BLVD, Chicago, IL' '1100  S WALLACE ST, Chicago, IL'\n",
      " '1300  N LARAMIE AVE, Chicago, IL' '3900  N SPRINGFIELD AVE, Chicago, IL'\n",
      " '1700  N ASHLAND AVE, Chicago, IL' '5100  W 72ND ST, Chicago, IL'\n",
      " '5800  N RIDGE AVE, Chicago, IL' '4200  W 65TH ST, Chicago, IL'\n",
      " '7100  N HARLEM AVE, Chicago, IL' '6200  N MCCLELLAN AVE, Chicago, IL'\n",
      " '2900  W 85TH ST, Chicago, IL' '3400  W 77TH ST, Chicago, IL'\n",
      " '9600  S LONGWOOD DR, Chicago, IL' '2100  N CANNON DR, Chicago, IL']\n",
      "Latitude\n",
      "[ 41.95469   41.994991  41.974089  41.9216    41.891118  41.867108\n",
      "  41.896282  41.919343  41.921965  41.688324  41.862292  41.720848\n",
      "  41.731922  41.891126  41.999129  42.01743   41.907645  41.732984\n",
      "  41.981964  41.944869  42.011601  41.94983   41.979243  41.986921\n",
      "  41.801498  41.906638  41.723195  41.868077  41.869216  41.662014\n",
      "  41.961743  41.953067  41.878114  41.958271  41.932094  41.994469\n",
      "  42.006858  41.916265  41.846075  41.918705  41.682587  41.725517\n",
      "  41.948167  41.963976  41.953705  41.964242  41.990284  42.008314\n",
      "  41.991429  41.843811  41.921177  41.852652  41.857402  41.868142\n",
      "  41.846283  41.721474  41.869107  41.719059  41.966987  41.923738\n",
      "  41.970248  42.010412  41.89923   41.692555  41.94016   41.903002\n",
      "  41.942114  41.960616  41.883284  41.704336  41.962728  41.836644\n",
      "  41.837085  41.911824  41.823065  41.801179  41.800737  41.778297\n",
      "  41.77166   41.759346  41.768388  41.797616  41.781416  41.773215\n",
      "  41.822536  41.799282  41.794781  41.778748  41.766202  41.754676\n",
      "  41.821582  41.803423  41.754292  41.798697  41.776156  41.82561\n",
      "  41.673408  41.726465  41.678618  41.737052  41.740641  41.680946\n",
      "  41.686398  41.729669  41.704572  41.74785   41.775051  41.644612\n",
      "  41.733643  41.717753  41.750498  41.702724  41.984809  41.772846\n",
      "  41.825902  41.659112  41.992478  41.974689  41.957799  41.925198\n",
      "  41.973845  41.743402  41.728495  41.947227  41.793818  41.753411\n",
      "  41.904194  41.951866  41.912563  41.763733  41.98728   41.776428\n",
      "  42.009876  41.994679  41.738903  41.753391  41.71914   41.925652]\n",
      "Longitude\n",
      "[-87.800991 -87.769279 -87.824812 -87.666455 -87.654491 -87.654224\n",
      " -87.655232 -87.694259 -87.632085 -87.676709 -87.64886  -87.666014\n",
      " -87.677512 -87.61156  -87.795585 -87.687769 -87.760886 -87.649642\n",
      " -87.812827 -87.832763 -87.811506 -87.698457 -87.750938 -87.689778\n",
      " -87.763416 -87.701431 -87.64997  -87.666901 -87.627561 -87.724608\n",
      " -87.76007  -87.776792 -87.629798 -87.702575 -87.700117 -87.667736\n",
      " -87.675919 -87.800515 -87.716277 -87.752329 -87.707973 -87.614258\n",
      " -87.730698 -87.69181  -87.733974 -87.757639 -87.797127 -87.777921\n",
      " -87.747113 -87.686763 -87.79518  -87.719887 -87.694991 -87.696269\n",
      " -87.656913 -87.648064 -87.696293 -87.675088 -87.674677 -87.785288\n",
      " -87.787992 -87.66214  -87.716788 -87.598865 -87.794896 -87.688267\n",
      " -87.776385 -87.777189 -87.705085 -87.703736 -87.748367 -87.677737\n",
      " -87.729384 -87.726737 -87.678378 -87.679447 -87.71188  -87.752411\n",
      " -87.703047 -87.745602 -87.678649 -87.797894 -87.776532 -87.60088\n",
      " -87.666343 -87.585487 -87.615989 -87.586427 -87.562889 -87.612922\n",
      " -87.627796 -87.642984 -87.590773 -87.736812 -87.778927 -87.726549\n",
      " -87.599862 -87.585413 -87.559308 -87.543067 -87.546587 -87.535198\n",
      " -87.531635 -87.582699 -87.565666 -87.702716 -87.655356 -87.604498\n",
      " -87.55551  -87.531657 -87.605294 -87.536497 -87.728492 -87.740029\n",
      " -87.667827 -87.538693 -87.862995 -87.890615 -87.930995 -87.746381\n",
      " -87.805059 -87.731435 -87.600963 -87.671457 -87.654234 -87.639817\n",
      " -87.756155 -87.725057 -87.668055 -87.742302 -87.666066 -87.627096\n",
      " -87.807277 -87.770899 -87.695443 -87.707394 -87.669539 -87.63359 ]\n",
      "AddressAccuracy\n",
      "[9 8 5 3]\n",
      "NumMosquitos\n",
      "[ 1  4  2  3  5  9  7 10  8  6 19 20 25 16 11 12 28 18 50 35 14 22 21 37 27\n",
      " 13 39 29 15 17 34 26 32 47 44 23 46 48 42 33 45 24 41 38 40 36 43 49 30 31]\n",
      "WnvPresent\n",
      "[0 1]\n"
     ]
    }
   ],
   "source": [
    "for col in train.columns:\n",
    "    print(col)\n",
    "    print(train[col].unique())"
   ]
  },
  {
   "cell_type": "markdown",
   "metadata": {
    "deletable": true,
    "editable": true
   },
   "source": [
    "# Some traps are more likely to get finding "
   ]
  },
  {
   "cell_type": "code",
   "execution_count": 17,
   "metadata": {
    "collapsed": false,
    "deletable": true,
    "editable": true
   },
   "outputs": [
    {
     "data": {
      "text/plain": [
       "Block\n",
       "46    0.114754\n",
       "72    0.106061\n",
       "82    0.100000\n",
       "41    0.097297\n",
       "65    0.085470\n",
       "Name: WnvPresent, dtype: float64"
      ]
     },
     "execution_count": 17,
     "metadata": {},
     "output_type": "execute_result"
    }
   ],
   "source": [
    "train.groupby(['Block'])['WnvPresent'].mean().sort_values(ascending=False).head()#.plot.bar()"
   ]
  },
  {
   "cell_type": "code",
   "execution_count": 18,
   "metadata": {
    "collapsed": false,
    "deletable": true,
    "editable": true
   },
   "outputs": [
    {
     "data": {
      "text/plain": [
       "WnvPresent         1.000000\n",
       "NumMosquitos       0.196820\n",
       "Longitude          0.060345\n",
       "Latitude           0.028697\n",
       "AddressAccuracy    0.008064\n",
       "Block              0.004877\n",
       "Name: WnvPresent, dtype: float64"
      ]
     },
     "execution_count": 18,
     "metadata": {},
     "output_type": "execute_result"
    }
   ],
   "source": [
    "import seaborn as sns\n",
    "#sns.heatmap(train.corr())\n",
    "train.corr()['WnvPresent'].abs().sort_values(ascending=False)"
   ]
  },
  {
   "cell_type": "markdown",
   "metadata": {
    "deletable": true,
    "editable": true
   },
   "source": [
    "# Some species don't carry WNV. Culex Pipens is the most likely"
   ]
  },
  {
   "cell_type": "code",
   "execution_count": 19,
   "metadata": {
    "collapsed": false,
    "deletable": true,
    "editable": true,
    "scrolled": true
   },
   "outputs": [
    {
     "data": {
      "text/plain": [
       "Species\n",
       "CULEX ERRATICUS           0.000000\n",
       "CULEX PIPIENS             0.088922\n",
       "CULEX PIPIENS/RESTUANS    0.055135\n",
       "CULEX RESTUANS            0.017883\n",
       "CULEX SALINARIUS          0.000000\n",
       "CULEX TARSALIS            0.000000\n",
       "CULEX TERRITANS           0.000000\n",
       "Name: WnvPresent, dtype: float64"
      ]
     },
     "execution_count": 19,
     "metadata": {},
     "output_type": "execute_result"
    }
   ],
   "source": [
    "train.groupby(['Species'])['WnvPresent'].mean()"
   ]
  },
  {
   "cell_type": "code",
   "execution_count": 20,
   "metadata": {
    "collapsed": false,
    "deletable": true,
    "editable": true
   },
   "outputs": [
    {
     "data": {
      "text/plain": [
       "Species\n",
       "CULEX ERRATICUS               7\n",
       "CULEX PIPIENS             44671\n",
       "CULEX PIPIENS/RESTUANS    66268\n",
       "CULEX RESTUANS            23431\n",
       "CULEX SALINARIUS            145\n",
       "CULEX TARSALIS                7\n",
       "CULEX TERRITANS             510\n",
       "Name: NumMosquitos, dtype: int64"
      ]
     },
     "execution_count": 20,
     "metadata": {},
     "output_type": "execute_result"
    }
   ],
   "source": [
    "train.groupby(['Species'])['NumMosquitos'].sum()"
   ]
  },
  {
   "cell_type": "code",
   "execution_count": 21,
   "metadata": {
    "collapsed": false,
    "deletable": true,
    "editable": true
   },
   "outputs": [
    {
     "data": {
      "text/plain": [
       "Trap  WnvPresent\n",
       "T001  0              1.666667\n",
       "T002  0             19.221557\n",
       "      1             27.777778\n",
       "T003  0              8.944444\n",
       "      1             27.142857\n",
       "Name: NumMosquitos, dtype: float64"
      ]
     },
     "execution_count": 21,
     "metadata": {},
     "output_type": "execute_result"
    }
   ],
   "source": [
    "train.groupby(['Trap','WnvPresent'])['NumMosquitos'].mean().head()"
   ]
  },
  {
   "cell_type": "code",
   "execution_count": 22,
   "metadata": {
    "collapsed": false,
    "deletable": true,
    "editable": true
   },
   "outputs": [
    {
     "data": {
      "text/plain": [
       "<matplotlib.axes._subplots.AxesSubplot at 0x7f8fde674320>"
      ]
     },
     "execution_count": 22,
     "metadata": {},
     "output_type": "execute_result"
    },
    {
     "name": "stderr",
     "output_type": "stream",
     "text": [
      "/opt/conda/lib/python3.5/site-packages/matplotlib/font_manager.py:1297: UserWarning: findfont: Font family ['sans-serif'] not found. Falling back to DejaVu Sans\n",
      "  (prop.get_family(), self.defaultFamily[fontext]))\n"
     ]
    },
    {
     "data": {
      "image/png": "[encoded data removed]",
      "text/plain": [
       "<matplotlib.figure.Figure at 0x7f8fdeb3e860>"
      ]
     },
     "metadata": {},
     "output_type": "display_data"
    }
   ],
   "source": [
    "train.groupby(train['Block'])['WnvPresent'].mean().sort_values().plot.bar()"
   ]
  },
  {
   "cell_type": "code",
   "execution_count": 23,
   "metadata": {
    "collapsed": false,
    "deletable": true,
    "editable": true
   },
   "outputs": [
    {
     "data": {
      "text/plain": [
       "NumMosquitos    1.000000\n",
       "WnvPresent      0.196820\n",
       "Longitude       0.036633\n",
       "Block          -0.172388\n",
       "Latitude       -0.184806\n",
       "Name: NumMosquitos, dtype: float64"
      ]
     },
     "execution_count": 23,
     "metadata": {},
     "output_type": "execute_result"
    }
   ],
   "source": [
    "train.corr()['NumMosquitos'].sort_values(ascending=False).head()"
   ]
  },
  {
   "cell_type": "markdown",
   "metadata": {
    "deletable": true,
    "editable": true
   },
   "source": [
    "# Number of mosquitos found vs percent chance finding wnv. But this is not in the Test data so drop it"
   ]
  },
  {
   "cell_type": "code",
   "execution_count": 24,
   "metadata": {
    "collapsed": false,
    "deletable": true,
    "editable": true
   },
   "outputs": [
    {
     "data": {
      "text/plain": [
       "<matplotlib.axes._subplots.AxesSubplot at 0x7f8fde4d0320>"
      ]
     },
     "execution_count": 24,
     "metadata": {},
     "output_type": "execute_result"
    },
    {
     "name": "stderr",
     "output_type": "stream",
     "text": [
      "/opt/conda/lib/python3.5/site-packages/matplotlib/font_manager.py:1297: UserWarning: findfont: Font family ['sans-serif'] not found. Falling back to DejaVu Sans\n",
      "  (prop.get_family(), self.defaultFamily[fontext]))\n"
     ]
    },
    {
     "data": {
      "image/png": "[encoded data removed]",
      "text/plain": [
       "<matplotlib.figure.Figure at 0x7f8fde4decc0>"
      ]
     },
     "metadata": {},
     "output_type": "display_data"
    }
   ],
   "source": [
    "train.groupby(['NumMosquitos'])['WnvPresent'].mean().plot.bar()"
   ]
  },
  {
   "cell_type": "markdown",
   "metadata": {
    "deletable": true,
    "editable": true
   },
   "source": [
    "# AddressAccuracy column doesn't seem helpful"
   ]
  },
  {
   "cell_type": "code",
   "execution_count": 25,
   "metadata": {
    "collapsed": false,
    "deletable": true,
    "editable": true
   },
   "outputs": [
    {
     "data": {
      "text/plain": [
       "AddressAccuracy  WnvPresent\n",
       "3                0               90\n",
       "                 1                1\n",
       "5                0             1713\n",
       "                 1               94\n",
       "8                0             4387\n",
       "                 1              241\n",
       "9                0             3765\n",
       "                 1              215\n",
       "Name: WnvPresent, dtype: int64"
      ]
     },
     "execution_count": 25,
     "metadata": {},
     "output_type": "execute_result"
    }
   ],
   "source": [
    "train.groupby(['AddressAccuracy'])['WnvPresent'].value_counts()"
   ]
  },
  {
   "cell_type": "markdown",
   "metadata": {
    "deletable": true,
    "editable": true
   },
   "source": [
    "# Both train and test combined, and weather then dummy"
   ]
  },
  {
   "cell_type": "code",
   "execution_count": 26,
   "metadata": {
    "collapsed": true,
    "deletable": true,
    "editable": true
   },
   "outputs": [],
   "source": [
    "import pandas as pd"
   ]
  },
  {
   "cell_type": "code",
   "execution_count": 27,
   "metadata": {
    "collapsed": false,
    "deletable": true,
    "editable": true
   },
   "outputs": [],
   "source": [
    "train = pd.read_csv('../Wnv/train.csv')\n",
    "test = pd.read_csv('../Wnv/test.csv')\n",
    "weath = pd.read_csv('../Wnv/weather.csv')"
   ]
  },
  {
   "cell_type": "markdown",
   "metadata": {
    "deletable": true,
    "editable": true
   },
   "source": [
    "# Add Dfs together"
   ]
  },
  {
   "cell_type": "code",
   "execution_count": 28,
   "metadata": {
    "collapsed": false,
    "deletable": true,
    "editable": true
   },
   "outputs": [],
   "source": [
    "both = pd.concat([train,test],axis=0)\n",
    "both = pd.merge(both,weath,on='Date',how='inner')"
   ]
  },
  {
   "cell_type": "markdown",
   "metadata": {
    "deletable": true,
    "editable": true
   },
   "source": [
    "# Clean data function: includes Month/Year, Dummy and Drop Cols"
   ]
  },
  {
   "cell_type": "code",
   "execution_count": 29,
   "metadata": {
    "collapsed": true
   },
   "outputs": [],
   "source": [
    "dummy_list = ['Species','Year','Month','Block','Trap']\n",
    "drop_list = ['Date','AddressAccuracy','Address','Street','AddressNumberAndStreet']"
   ]
  },
  {
   "cell_type": "code",
   "execution_count": 40,
   "metadata": {
    "collapsed": false,
    "deletable": true,
    "editable": true
   },
   "outputs": [],
   "source": [
    "def date(df):\n",
    "    #convert to date\n",
    "    df['Date'] = pd.to_datetime(df['Date'])\n",
    "    df['Month'] = df['Date'].dt.month\n",
    "    df['Year'] = df['Date'].dt.year\n",
    "    df['Day'] = df['Date'].dt.day\n",
    "    df['Week'] = df['Date'].dt.week\n",
    "    \n",
    "#     both['Day_Binary'] = both['Day'].apply(day_thresh)\n",
    "#     both['Week_Binary'] = both['Week'].apply(week_thresh)\n",
    "#     both['Month_Binary'] = both['Month'].apply(month_thresh)\n",
    "    return df\n",
    "def clean(df,dummy_list,drop_list):\n",
    "    #drop base case per dummies col\n",
    "    for col in dummy_list:\n",
    "        dummies = pd.DataFrame()\n",
    "        dummies = pd.get_dummies(df[col]).rename(columns=lambda x: str(col) + '_' + str(x))\n",
    "        drop_col = str(col) + '_' + str(df[col].unique()[-1])\n",
    "        df = pd.concat([df, dummies], axis=1)\n",
    "        del df[col]\n",
    "        del df[drop_col]\n",
    "\n",
    "    for col in drop_list:\n",
    "        df.drop(col,axis=1,inplace=True)\n",
    "    return df"
   ]
  },
  {
   "cell_type": "markdown",
   "metadata": {
    "deletable": true,
    "editable": true
   },
   "source": [
    "# Choose Weath Variables"
   ]
  },
  {
   "cell_type": "code",
   "execution_count": 31,
   "metadata": {
    "collapsed": true
   },
   "outputs": [],
   "source": [
    "keep_list = ['Date','Tmax','Cool','WetBulb']"
   ]
  },
  {
   "cell_type": "code",
   "execution_count": 32,
   "metadata": {
    "collapsed": false,
    "deletable": true,
    "editable": true
   },
   "outputs": [],
   "source": [
    "def clean_weath(weath,keep_list):\n",
    "    weath = weath[weath['Station'] == 1]\n",
    "    weath = weath[keep_list]\n",
    "    #weath['PrecipTotal'] = weath['PrecipTotal'].str.replace('T','0')\n",
    "    #weath['Tavg'] = weath['Tavg'].str.replace('M','0')\n",
    "    #weath['StnPressure'] = weath['StnPressure'].str.replace('M','29')\n",
    "\n",
    "    for col in weath.columns:\n",
    "        if col != 'Date':\n",
    "            weath[col] = pd.to_numeric(weath[col],errors='coerce')\n",
    "    return weath\n",
    "\n",
    "#weath = clean_weath(weath)"
   ]
  },
  {
   "cell_type": "markdown",
   "metadata": {
    "deletable": true,
    "editable": true
   },
   "source": [
    "# Unique Weath"
   ]
  },
  {
   "cell_type": "code",
   "execution_count": 33,
   "metadata": {
    "collapsed": false,
    "deletable": true,
    "editable": true
   },
   "outputs": [],
   "source": [
    "def uniq(df):\n",
    "    for col in df.columns:\n",
    "        print(col + ' is made of: ' + str(df[col].nunique()) + ' items')\n",
    "        print(df[col].unique())\n",
    "    return"
   ]
  },
  {
   "cell_type": "code",
   "execution_count": 34,
   "metadata": {
    "collapsed": false
   },
   "outputs": [],
   "source": [
    "#uniq(both)"
   ]
  },
  {
   "cell_type": "code",
   "execution_count": 35,
   "metadata": {
    "collapsed": false
   },
   "outputs": [
    {
     "data": {
      "text/plain": [
       "<matplotlib.axes._subplots.AxesSubplot at 0x7f8fe9fb0208>"
      ]
     },
     "execution_count": 35,
     "metadata": {},
     "output_type": "execute_result"
    },
    {
     "name": "stderr",
     "output_type": "stream",
     "text": [
      "/opt/conda/lib/python3.5/site-packages/matplotlib/font_manager.py:1297: UserWarning: findfont: Font family ['sans-serif'] not found. Falling back to DejaVu Sans\n",
      "  (prop.get_family(), self.defaultFamily[fontext]))\n"
     ]
    },
    {
     "data": {
      "image/png": "[encoded data removed]",
      "text/plain": [
       "<matplotlib.figure.Figure at 0x7f8fe9fa2940>"
      ]
     },
     "metadata": {},
     "output_type": "display_data"
    }
   ],
   "source": [
    "both.groupby('Cool')['WnvPresent'].mean().sort_values().plot.bar()"
   ]
  },
  {
   "cell_type": "markdown",
   "metadata": {},
   "source": [
    "# Wetbulb and Tmax above .07 chance"
   ]
  },
  {
   "cell_type": "code",
   "execution_count": 41,
   "metadata": {
    "collapsed": false
   },
   "outputs": [],
   "source": [
    "both = date(both)"
   ]
  },
  {
   "cell_type": "code",
   "execution_count": 42,
   "metadata": {
    "collapsed": false
   },
   "outputs": [],
   "source": [
    "day_df = pd.DataFrame((both.groupby(['Day'])['WnvPresent'].mean() > .07))\n",
    "day_list = day_df[day_df['WnvPresent'] == True].index\n",
    "\n",
    "def day_thresh(day):\n",
    "    if day in day_list:\n",
    "        return 1\n",
    "    else:\n",
    "        return 0\n",
    "\n",
    "#both['Day_Binary'] = both['Day'].apply(day_above)\n",
    "#both = both.drop('Block',axis=1)\n",
    "\n",
    "week_df = pd.DataFrame((both.groupby(['Week'])['WnvPresent'].mean() > .07))\n",
    "week_list = week_df[week_df['WnvPresent'] == True].index\n",
    "\n",
    "def week_thresh(week):\n",
    "    if week in week_list:\n",
    "        return 1\n",
    "    else:\n",
    "        return 0\n",
    "\n",
    "#both['Week_Binary'] = both['Week'].apply(week_thresh)\n",
    "#both = both.drop('Block',axis=1)"
   ]
  },
  {
   "cell_type": "code",
   "execution_count": 43,
   "metadata": {
    "collapsed": false
   },
   "outputs": [],
   "source": [
    "month_df = pd.DataFrame((both.groupby(['Month'])['WnvPresent'].mean() > .07))\n",
    "month_list = month_df[month_df['WnvPresent'] == True].index\n",
    "\n",
    "def month_thresh(month):\n",
    "    if month in month_list:\n",
    "        return 1\n",
    "    else:\n",
    "        return 0\n",
    "\n",
    "#both['Week_Binary'] = both['Week'].apply(week_thresh)\n",
    "#both = both.drop('Block',axis=1)"
   ]
  },
  {
   "cell_type": "markdown",
   "metadata": {
    "deletable": true,
    "editable": true
   },
   "source": [
    "# Add Distance from Airport"
   ]
  },
  {
   "cell_type": "code",
   "execution_count": 19,
   "metadata": {
    "collapsed": false,
    "deletable": true,
    "editable": true
   },
   "outputs": [
    {
     "name": "stdout",
     "output_type": "stream",
     "text": [
      "Collecting geopy\n",
      "  Downloading geopy-1.11.0-py2.py3-none-any.whl (66kB)\n",
      "\u001b[K    100% |████████████████████████████████| 71kB 1.8MB/s ta 0:00:01    92% |█████████████████████████████▌  | 61kB 2.0MB/s eta 0:00:01\n",
      "\u001b[?25hInstalling collected packages: geopy\n",
      "Successfully installed geopy-1.11.0\n",
      "\u001b[33mYou are using pip version 8.1.2, however version 9.0.1 is available.\n",
      "You should consider upgrading via the 'pip install --upgrade pip' command.\u001b[0m\n"
     ]
    }
   ],
   "source": [
    "!pip install geopy"
   ]
  },
  {
   "cell_type": "code",
   "execution_count": 2,
   "metadata": {
    "collapsed": false,
    "deletable": true,
    "editable": true
   },
   "outputs": [],
   "source": [
    "import geopy.distance as d\n",
    "\n",
    "def add_dist(both):\n",
    "    subset = both[['Latitude','Longitude']]\n",
    "    tuples = [tuple(x) for x in subset.values]\n",
    "    both['Point'] = tuples\n",
    "\n",
    "    def dist(point):\n",
    "        return d.vincenty(point,Ohare).miles\n",
    "\n",
    "    Ohare = (41.9742,-87.9073)\n",
    "    both['d_airport'] = both['Point'].apply(dist)\n",
    "\n",
    "#     both['d_airport'].max()\n",
    "\n",
    "#     def dist(point):\n",
    "#         return d.vincenty(point,Port).miles\n",
    "\n",
    "    Port = (41.673408,-87.599862)\n",
    "    both['d_port'] = both['Point'].apply(dist)\n",
    "\n",
    "#     def dist(point):\n",
    "#         return d.vincenty(point,NoRidge).miles\n",
    "\n",
    "#     NoRidge = (41.95469,-87.800991)\n",
    "#     both['d_noridge'] = both['Point'].apply(dist)\n",
    "\n",
    "    #both[both['d_port'] < 5].groupby(['WnvPresent']).size()\n",
    "    #both[both['d_airport'] < 5].groupby(['WnvPresent']).size()\n",
    "\n",
    "    both.loc[both['d_airport'] < 3,'d_airport_1'] = 1\n",
    "    both['d_airport_1'] = 0\n",
    "    both['d_port_1'] = 0\n",
    "    both.loc[both['d_port'] < 3,'d_port_1'] = 1\n",
    "#     both['d_noridge_1'] = 0\n",
    "#     both.loc[both['d_noridge'] < 2,'d_noridge_1'] = 1\n",
    "    return both"
   ]
  },
  {
   "cell_type": "code",
   "execution_count": 537,
   "metadata": {
    "collapsed": false
   },
   "outputs": [
    {
     "data": {
      "text/plain": [
       "Index(['Id', 'Latitude', 'Longitude', 'NumMosquitos', 'WnvPresent', 'Cool',\n",
       "       'Trap_Binary', 'Wetbulb_Binary', 'Block_Binary', 'Tmax_Binary',\n",
       "       'Cool_Binary', 'Point', 'd_airport', 'd_port', 'd_airport_1',\n",
       "       'd_port_1', 'Species_CULEX ERRATICUS', 'Species_CULEX PIPIENS',\n",
       "       'Species_CULEX PIPIENS/RESTUANS', 'Species_CULEX RESTUANS',\n",
       "       'Species_CULEX SALINARIUS', 'Species_CULEX TARSALIS',\n",
       "       'Species_CULEX TERRITANS', 'Year_2007', 'Year_2008', 'Year_2009',\n",
       "       'Year_2010', 'Year_2011', 'Year_2012', 'Year_2013', 'Month_5',\n",
       "       'Month_6', 'Month_7', 'Month_8', 'Month_9', 'Day_1', 'Day_2', 'Day_3',\n",
       "       'Day_4', 'Day_5', 'Day_6', 'Day_7', 'Day_8', 'Day_9', 'Day_10',\n",
       "       'Day_11', 'Day_12', 'Day_13', 'Day_14', 'Day_15', 'Day_16', 'Day_17',\n",
       "       'Day_18', 'Day_19', 'Day_21', 'Day_22', 'Day_23', 'Day_24', 'Day_25',\n",
       "       'Day_26', 'Day_27', 'Day_28', 'Day_29', 'Day_30', 'Day_31'],\n",
       "      dtype='object')"
      ]
     },
     "execution_count": 537,
     "metadata": {},
     "output_type": "execute_result"
    }
   ],
   "source": [
    "both.columns"
   ]
  },
  {
   "cell_type": "markdown",
   "metadata": {},
   "source": [
    "# EDA on both full dataframe"
   ]
  },
  {
   "cell_type": "code",
   "execution_count": 563,
   "metadata": {
    "collapsed": false,
    "deletable": true,
    "editable": true,
    "scrolled": true
   },
   "outputs": [
    {
     "data": {
      "text/plain": [
       "<matplotlib.axes._subplots.AxesSubplot at 0x7f6260dfcdd8>"
      ]
     },
     "execution_count": 563,
     "metadata": {},
     "output_type": "execute_result"
    },
    {
     "name": "stderr",
     "output_type": "stream",
     "text": [
      "/opt/conda/lib/python3.5/site-packages/matplotlib/font_manager.py:1297: UserWarning: findfont: Font family ['sans-serif'] not found. Falling back to DejaVu Sans\n",
      "  (prop.get_family(), self.defaultFamily[fontext]))\n"
     ]
    },
    {
     "data": {
      "image/png": "[encoded data removed]",
      "text/plain": [
       "<matplotlib.figure.Figure at 0x7f625f68b7b8>"
      ]
     },
     "metadata": {},
     "output_type": "display_data"
    }
   ],
   "source": [
    "both.groupby('Week')['WnvPresent'].mean().sort_values().plot.bar()"
   ]
  },
  {
   "cell_type": "code",
   "execution_count": 499,
   "metadata": {
    "collapsed": false
   },
   "outputs": [
    {
     "data": {
      "text/plain": [
       "Index(['Unnamed: 0', 'Block', 'Id', 'Latitude', 'Longitude', 'NumMosquitos',\n",
       "       'WnvPresent', 'Cool', 'Trap_Binary', 'Wetbulb_Binary',\n",
       "       'Species_CULEX ERRATICUS', 'Species_CULEX PIPIENS',\n",
       "       'Species_CULEX PIPIENS/RESTUANS', 'Species_CULEX RESTUANS',\n",
       "       'Species_CULEX SALINARIUS', 'Species_CULEX TARSALIS',\n",
       "       'Species_CULEX TERRITANS', 'Year_2007', 'Year_2008', 'Year_2009',\n",
       "       'Year_2010', 'Year_2011', 'Year_2012', 'Year_2013', 'Month_5',\n",
       "       'Month_6', 'Month_7', 'Month_8', 'Month_9', 'Point', 'd_airport',\n",
       "       'd_port', 'd_airport_1'],\n",
       "      dtype='object')"
      ]
     },
     "execution_count": 499,
     "metadata": {},
     "output_type": "execute_result"
    }
   ],
   "source": [
    "both.columns"
   ]
  },
  {
   "cell_type": "markdown",
   "metadata": {},
   "source": [
    "# Lists to fudge with the functions below"
   ]
  },
  {
   "cell_type": "code",
   "execution_count": 59,
   "metadata": {
    "collapsed": true
   },
   "outputs": [],
   "source": [
    "keep_list = ['Date','Tmax','Cool','WetBulb']\n",
    "dummy_list = ['Species','Month','Trap']\n",
    "drop_list = ['Date','AddressAccuracy','Address','Street','AddressNumberAndStreet',\n",
    "             'Tmax','WetBulb','Block','Year','Day']"
   ]
  },
  {
   "cell_type": "markdown",
   "metadata": {
    "deletable": true,
    "editable": true
   },
   "source": [
    "# Rerun all data transform"
   ]
  },
  {
   "cell_type": "code",
   "execution_count": 60,
   "metadata": {
    "collapsed": false
   },
   "outputs": [],
   "source": [
    "train = pd.read_csv('../Wnv/train.csv')\n",
    "test = pd.read_csv('../Wnv/test.csv')\n",
    "weath = pd.read_csv('../Wnv/weather.csv')\n",
    "\n",
    "weath = clean_weath(weath,keep_list)\n",
    "\n",
    "both = pd.concat([train,test],axis=0)\n",
    "both = pd.merge(both,weath,on='Date',how='inner')\n",
    "both = date(both)\n",
    "\n",
    "both['Trap_Binary'] = both['Trap'].apply(trap_above)\n",
    "both['Wetbulb_Binary'] = both['WetBulb'].apply(wetbulb_tresh)\n",
    "#both['Block_Binary'] = both['Block'].apply(block_above)\n",
    "both['Tmax_Binary'] = both['Tmax'].apply(Tmax_tresh)\n",
    "both['Cool_Binary'] = both['Cool'].apply(cool_thresh)\n",
    "both['Day_Binary'] = both['Day'].apply(day_thresh)\n",
    "both['Week_Binary'] = both['Week'].apply(week_thresh)\n",
    "both['Month_Binary'] = both['Month'].apply(month_thresh)\n",
    "\n",
    "both = add_dist(both)\n",
    "\n",
    "both = clean(both,dummy_list,drop_list)\n",
    "\n",
    "# for col in both.columns:\n",
    "#     if col not in ['Id','WnvPresent']:\n",
    "#         both.fillna(np.median(both[col]),inplace=True)\n",
    "    \n"
   ]
  },
  {
   "cell_type": "markdown",
   "metadata": {},
   "source": [
    "# Load Saved Data"
   ]
  },
  {
   "cell_type": "code",
   "execution_count": 660,
   "metadata": {
    "collapsed": false
   },
   "outputs": [
    {
     "data": {
      "text/plain": [
       "Index(['Block', 'Id', 'Latitude', 'Longitude', 'NumMosquitos', 'WnvPresent',\n",
       "       'Cool', 'Trap_Binary', 'Wetbulb_Binary', 'Species_CULEX ERRATICUS',\n",
       "       'Species_CULEX PIPIENS', 'Species_CULEX PIPIENS/RESTUANS',\n",
       "       'Species_CULEX RESTUANS', 'Species_CULEX SALINARIUS',\n",
       "       'Species_CULEX TARSALIS', 'Species_CULEX TERRITANS', 'Year_2007',\n",
       "       'Year_2008', 'Year_2009', 'Year_2010', 'Year_2011', 'Year_2012',\n",
       "       'Year_2013', 'Month_5', 'Month_6', 'Month_7', 'Month_8', 'Month_9',\n",
       "       'Point', 'd_airport', 'd_port', 'd_airport_1'],\n",
       "      dtype='object')"
      ]
     },
     "execution_count": 660,
     "metadata": {},
     "output_type": "execute_result"
    }
   ],
   "source": [
    "both = pd.read_csv('../Wnv/73data.csv')\n",
    "both = both.drop('Unnamed: 0',axis=1)\n",
    "both.columns"
   ]
  },
  {
   "cell_type": "code",
   "execution_count": 46,
   "metadata": {
    "collapsed": false,
    "deletable": true,
    "editable": true
   },
   "outputs": [
    {
     "data": {
      "text/plain": [
       "Index(['Id', 'Latitude', 'Longitude', 'NumMosquitos', 'WnvPresent', 'Cool',\n",
       "       'Week', 'Trap_Binary', 'Wetbulb_Binary', 'Tmax_Binary', 'Cool_Binary',\n",
       "       'Day_Binary', 'Week_Binary', 'Month_Binary', 'Point', 'd_airport',\n",
       "       'd_port', 'd_airport_1', 'd_port_1', 'Species_CULEX ERRATICUS',\n",
       "       'Species_CULEX PIPIENS', 'Species_CULEX PIPIENS/RESTUANS',\n",
       "       'Species_CULEX RESTUANS', 'Species_CULEX SALINARIUS',\n",
       "       'Species_CULEX TARSALIS', 'Species_CULEX TERRITANS', 'Month_5',\n",
       "       'Month_6', 'Month_7', 'Month_8', 'Month_9'],\n",
       "      dtype='object')"
      ]
     },
     "execution_count": 46,
     "metadata": {},
     "output_type": "execute_result"
    }
   ],
   "source": [
    "both.columns"
   ]
  },
  {
   "cell_type": "markdown",
   "metadata": {
    "deletable": true,
    "editable": true
   },
   "source": [
    "# Add Extract Train, Test"
   ]
  },
  {
   "cell_type": "code",
   "execution_count": 48,
   "metadata": {
    "collapsed": true
   },
   "outputs": [],
   "source": [
    "from sklearn.preprocessing import StandardScaler\n",
    "from sklearn.model_selection import train_test_split"
   ]
  },
  {
   "cell_type": "code",
   "execution_count": 61,
   "metadata": {
    "collapsed": false,
    "deletable": true,
    "editable": true
   },
   "outputs": [],
   "source": [
    "ss = StandardScaler()\n",
    "\n",
    "#based on id\n",
    "train = pd.DataFrame(both[both['Id'].isnull()])\n",
    "test = pd.DataFrame(both[both['Id'].notnull()])\n",
    "\n",
    "#train \n",
    "X = train.drop(['Id','NumMosquitos','WnvPresent','d_airport','d_port','Point'],axis=1)\n",
    "y = train['WnvPresent']\n",
    "\n",
    "#test \n",
    "z = test.drop(['Id','NumMosquitos','WnvPresent','d_airport','d_port','Point'],axis=1)\n",
    "\n",
    "#scale\n",
    "X = ss.fit_transform(X)\n",
    "\n",
    "#split into test train\n",
    "X_train, X_test, y_train, y_test = train_test_split(X,y,test_size=0.3)"
   ]
  },
  {
   "cell_type": "markdown",
   "metadata": {
    "deletable": true,
    "editable": true
   },
   "source": [
    "# Models"
   ]
  },
  {
   "cell_type": "code",
   "execution_count": 62,
   "metadata": {
    "collapsed": false,
    "deletable": true,
    "editable": true
   },
   "outputs": [],
   "source": [
    "#train model on train/test to evaluate\n",
    "from sklearn.linear_model import LogisticRegression\n",
    "lr = LogisticRegression()#penalty='l2')\n",
    "lr.fit(X_train,y_train)\n",
    "y_pred_proba = lr.predict_proba(X_test)\n",
    "y_pred = lr.predict(X_test)\n",
    "\n",
    "#train the model on the test data to predict\n",
    "lr.fit(X,y)\n",
    "z_pred_proba = lr.predict_proba(z)"
   ]
  },
  {
   "cell_type": "code",
   "execution_count": 631,
   "metadata": {
    "collapsed": false,
    "deletable": true,
    "editable": true
   },
   "outputs": [],
   "source": [
    "#gridsearchcv\n",
    "from sklearn.model_selection import KFold\n",
    "from sklearn.model_selection import GridSearchCV\n",
    "from sklearn.linear_model import LogisticRegression\n",
    "kfold = KFold(n_splits=10, random_state=4)\n",
    "param_grid = {'C': [0.001, 0.01, 0.1, 1, 10, 100]}\n",
    "clf = GridSearchCV(cv=kfold,estimator=LogisticRegression(penalty='l2'),param_grid=param_grid)\n",
    "\n",
    "clf.fit(X_train,y_train)\n",
    "y_pred_proba = clf.predict_proba(X_test)\n",
    "y_pred = clf.predict(X_test)\n",
    "\n",
    "#best grid\n",
    "lr = clf.best_estimator_\n",
    "lr.fit(X_train,y_train)\n",
    "y_pred_proba = lr.predict_proba(X_test)\n",
    "y_pred = lr.predict(X_test)"
   ]
  },
  {
   "cell_type": "code",
   "execution_count": 68,
   "metadata": {
    "collapsed": false,
    "deletable": true,
    "editable": true
   },
   "outputs": [],
   "source": [
    "from sklearn.ensemble import RandomForestClassifier\n",
    "rf = RandomForestClassifier(n_estimators=250, min_samples_split=40)\n",
    "rf.fit(X_train,y_train)\n",
    "y_pred_proba = rf.predict_proba(X_test)\n",
    "y_pred = rf.predict(X_test)\n",
    "\n",
    "rf.fit(X,y)\n",
    "z_pred_proba = rf.predict_proba(z)"
   ]
  },
  {
   "cell_type": "markdown",
   "metadata": {
    "deletable": true,
    "editable": true
   },
   "source": [
    "# Confusion Matrix"
   ]
  },
  {
   "cell_type": "code",
   "execution_count": 69,
   "metadata": {
    "collapsed": false,
    "deletable": true,
    "editable": true
   },
   "outputs": [
    {
     "name": "stdout",
     "output_type": "stream",
     "text": [
      "0.835785876258\n"
     ]
    },
    {
     "data": {
      "text/plain": [
       "[<matplotlib.lines.Line2D at 0x7f8fda29f198>]"
      ]
     },
     "execution_count": 69,
     "metadata": {},
     "output_type": "execute_result"
    },
    {
     "name": "stderr",
     "output_type": "stream",
     "text": [
      "/opt/conda/lib/python3.5/site-packages/matplotlib/font_manager.py:1297: UserWarning: findfont: Font family ['sans-serif'] not found. Falling back to DejaVu Sans\n",
      "  (prop.get_family(), self.defaultFamily[fontext]))\n"
     ]
    },
    {
     "data": {
      "image/png": "[encoded data removed]",
      "text/plain": [
       "<matplotlib.figure.Figure at 0x7f8fdafd8b00>"
      ]
     },
     "metadata": {},
     "output_type": "display_data"
    }
   ],
   "source": [
    "from sklearn.metrics import confusion_matrix\n",
    "from sklearn.metrics import roc_curve\n",
    "from sklearn.metrics import roc_auc_score\n",
    "\n",
    "confusion_matrix(y_test,y_pred)\n",
    "y_pred_proba[:,0]\n",
    "\n",
    "import matplotlib.pyplot as plt\n",
    "fpr, tpr, thresh = roc_curve(y_test,y_pred_proba[:,1])\n",
    "print(roc_auc_score(y_test,y_pred_proba[:,1]))\n",
    "plt.plot(fpr,tpr)"
   ]
  },
  {
   "cell_type": "code",
   "execution_count": 70,
   "metadata": {
    "collapsed": false
   },
   "outputs": [
    {
     "data": {
      "text/plain": [
       "array([[ 0.94461487,  0.05538513],\n",
       "       [ 0.95842475,  0.04157525],\n",
       "       [ 0.95589657,  0.04410343],\n",
       "       ..., \n",
       "       [ 0.93463949,  0.06536051],\n",
       "       [ 0.93463949,  0.06536051],\n",
       "       [ 0.93463949,  0.06536051]])"
      ]
     },
     "execution_count": 70,
     "metadata": {},
     "output_type": "execute_result"
    }
   ],
   "source": [
    "z_pred_proba"
   ]
  },
  {
   "cell_type": "markdown",
   "metadata": {
    "deletable": true,
    "editable": true
   },
   "source": [
    "# Save Data, if good"
   ]
  },
  {
   "cell_type": "code",
   "execution_count": 71,
   "metadata": {
    "collapsed": false,
    "deletable": true,
    "editable": true
   },
   "outputs": [],
   "source": [
    "#both.to_csv('73data.csv')"
   ]
  },
  {
   "cell_type": "markdown",
   "metadata": {
    "deletable": true,
    "editable": true
   },
   "source": [
    "# Submission"
   ]
  },
  {
   "cell_type": "code",
   "execution_count": 72,
   "metadata": {
    "collapsed": false,
    "deletable": true,
    "editable": true
   },
   "outputs": [],
   "source": [
    "sub5 = pd.DataFrame()\n",
    "test['Id'] = test['Id'].astype(int)\n",
    "ind = []\n",
    "for i in range(116294):\n",
    "    ind.append(i+1)\n",
    "sub5 = pd.DataFrame(pd.concat([test['Id'],pd.DataFrame(z_pred_proba[:,1])],axis=1))\n",
    "sub5.rename(columns={0:'WnvPresent'},inplace=True)\n",
    "sub5['Id'] = pd.Series(ind)\n",
    "sub5 = sub5[:116293]\n",
    "sub5['Id'] = sub5['Id'].astype(int)\n",
    "sub5.to_csv('sub16.csv',index=False)"
   ]
  },
  {
   "cell_type": "code",
   "execution_count": 73,
   "metadata": {
    "collapsed": false,
    "deletable": true,
    "editable": true
   },
   "outputs": [
    {
     "data": {
      "text/plain": [
       "0.083827058578754346"
      ]
     },
     "execution_count": 73,
     "metadata": {},
     "output_type": "execute_result"
    }
   ],
   "source": [
    "sub5['WnvPresent'].mean()"
   ]
  },
  {
   "cell_type": "code",
   "execution_count": null,
   "metadata": {
    "collapsed": true
   },
   "outputs": [],
   "source": []
  }
 ],
 "metadata": {
  "kernelspec": {
   "display_name": "Python 3",
   "language": "python",
   "name": "python3"
  },
  "language_info": {
   "codemirror_mode": {
    "name": "ipython",
    "version": 3
   },
   "file_extension": ".py",
   "mimetype": "text/x-python",
   "name": "python",
   "nbconvert_exporter": "python",
   "pygments_lexer": "ipython3",
   "version": "3.5.2"
  }
 },
 "nbformat": 4,
 "nbformat_minor": 2
}
