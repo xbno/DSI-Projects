{
 "cells": [
  {
   "cell_type": "markdown",
   "metadata": {},
   "source": [
    "<img src=\"files/indeed.png\" style=\"float: right; height: 100px\">\n",
    "\n",
    "\n",
    "# Indications for Different Types of Jobs on Indeed.com\n",
    "---\n",
    "### Goals:\n",
    "- Determine best indicators of salary range:\n",
    "    - Skills? \n",
    "    - Words? \n",
    "    - Experience Required?\n",
    "    - Education Required?\n",
    "- Explore unsupervised methods\n",
    "    - Determine which words indicate which industries"
   ]
  },
  {
   "cell_type": "markdown",
   "metadata": {},
   "source": [
    "---\n",
    "# Data Scientist:\n",
    "<img src=\"files/circle_wordcloud_ds.png\" style=\"float: left; height: 600px\">"
   ]
  },
  {
   "cell_type": "markdown",
   "metadata": {},
   "source": [
    "---\n",
    "# Data Analyst:\n",
    "<img src=\"files/circle_wordcloud_da.png\" style=\"float: left; height: 600px\">"
   ]
  },
  {
   "cell_type": "markdown",
   "metadata": {},
   "source": [
    "---\n",
    "### Findings:\n",
    "- 'Ensemble technique' of both bag of words and specific keywords was the best\n",
    "    - Regex .03 better than .68 baseline\n",
    "    - Bag of Words .10 better than .44 baseline\n",
    "    - Both produced ~.15-.17 better than .44 baseline\n",
    "- Optimizing each set of approach individually seems powerful\n",
    "    - I went through optimizing both title and summary which lead to difficulties\n",
    "    - Whereas I optimized the keywords separately\n",
    "- By weighting different categorical variables I was able to boost my accuracy:\n",
    "    - Example: {np.nan:10,'Educación':1,'High':1,'Associate':2,'Bachelor':20,'Master':60,'Doctorate':500}"
   ]
  },
  {
   "cell_type": "markdown",
   "metadata": {},
   "source": [
    "---\n",
    "\n",
    "<img src=\"files/advanced_search.png\" style=\"float: right; height: 400px\">\n",
    "### 3 Sets of Data:\n",
    "- Labeled Salary data for 5 job types:\n",
    "    - Salary ranges based on Indeed's advanced search metric:\n",
    "        - '30k-70k', '70k-100k', '100k-130k', '130k-250k'\n",
    "    - Phrases searched:\n",
    "\n",
    "        - Data Scientist, Data Analyst, Research Scientist, Business Intelligence, and Business Analyst\n",
    "    - Locations searched:\n",
    "        - Washington DC, Boston, New York\n",
    "- Unlabeled Junior and Senior positions\n",
    "    - Title searched:\n",
    "        - Junior, Senior\n",
    "- Unlabeled set of 5 Industries:\n",
    "    - Phrases searched:\n",
    "        -Government, Healthcare, Manufacturing, Banking, Insuarance"
   ]
  },
  {
   "cell_type": "markdown",
   "metadata": {},
   "source": [
    "---\n",
    "### Assumptions/Constraints:\n",
    "- Only pulled from Indeed website postings, due to consistent format\n",
    "    - We are assuming that Indeed postings are representitive of all job postings\n",
    "- ~10% of listings on Indeed are internal Indeed listings\n",
    "    - To increase sample size I pulled job listings from multiple metro regions\n",
    "    - Salary differences are negligable across the locations sampled"
   ]
  },
  {
   "cell_type": "markdown",
   "metadata": {},
   "source": [
    "---\n",
    "\n",
    "### Format - Indeed vs Other:\n",
    "<img src=\"files/other.png\" style=\"float: right; height: 450px\">\n",
    "<img src=\"files/indeed_post.png\" style=\"float: left; height: 450px\">\n"
   ]
  },
  {
   "cell_type": "markdown",
   "metadata": {},
   "source": [
    "---\n",
    "<img src=\"files/joblist.png\" style=\"float: right; height: 450px\">\n",
    "## Agregatting the data:\n",
    "- Two steps:\n",
    "    - __Tier1__: Save all urls in a dataframe\n",
    "    - __Tier2__: Save the html data for each url to parse later\n",
    "- Result:\n",
    "    - End up with 3 master.csvs to run analysis on\n",
    "\n",
    "---\n",
    "### Tier 1:\n",
    "- Manipulate the Indeed advanced search url to pull jobs accordingly:\n",
    "    - Generate link for each job listings page\n",
    "        - Luckily this can be incremented by 50 per page\n",
    "    - Loop through all pages until last job\n",
    "        - Change the start=50 in url to see jobs 50-100\n",
    "    - Save search metadata like 'search_phrase','salary','location' etc for each url\n",
    "        - To use as target variables later on"
   ]
  },
  {
   "cell_type": "code",
   "execution_count": 533,
   "metadata": {
    "collapsed": false
   },
   "outputs": [
    {
     "data": {
      "text/plain": [
       "'https://www.indeed.com/jobs?as_and=&as_phr=data+science&as_any=&as_not=&as_ttl=&as_cmp=&jt=all&st=&salary=50k-=100k&radius=50&l=Boston%2C+MA&fromage=any&limit=50&start=0'"
      ]
     },
     "execution_count": 533,
     "metadata": {},
     "output_type": "execute_result"
    }
   ],
   "source": [
    "#search terms\n",
    "phrase = 'data+science'\n",
    "loc = 'Boston%2C+MA'\n",
    "by = '50'\n",
    "sal = '50k-=100k'\n",
    "\n",
    "#function to generate link\n",
    "gen_link(phrase=phrase,sal=sal,loc=loc,title='')"
   ]
  },
  {
   "cell_type": "code",
   "execution_count": null,
   "metadata": {
    "collapsed": true
   },
   "outputs": [],
   "source": [
    "def search_many(phrase,sal='',anyy='',loc='Boston%2C+MA',title=''):\n",
    "    '''\n",
    "    Requires:\n",
    "        phrase: 'data+science'\n",
    "        sal: '10k-100k'\n",
    "        anyy (any words that match): 'python+matplotlib+etc'\n",
    "        loc: 'Boston, MA'\n",
    "    '''\n",
    "\n",
    "    master_dict = {}\n",
    "    i = 0\n",
    "    by = '50'\n",
    "    \n",
    "    #construct link\n",
    "    #link = 'https://www.indeed.com/jobs?as_and=&as_phr=' + str(phrase) + '&as_any=' + str(anyy) + '&as_not=&as_ttl=&as_cmp=&jt=all&st=&salary=' + str(sal) + '&radius=50&l=' + str(loc) + '&fromage=any&limit=' + str(by) + '&start=' + str(i)# + 'sort=&psf=advsrch'\n",
    "    link = gen_link(phrase,sal,anyy,loc,title)\n",
    "    link_numbered = link\n",
    "\n",
    "    #notify user of total postings\n",
    "    status = page(link).xpath(main_xpath['job_count'])[0].split()[-1]\n",
    "    last_status = ''\n",
    "    print(' ----- ' + str(status) + ' listings ----- ')\n",
    "    postings = page(link).xpath(main_xpath['job_count'])[0].split()[-1].replace(',','')\n",
    "    \n",
    "    #ask for the go ahead\n",
    "    #if go_ahead('Continue?') == True:\n",
    "\n",
    "    #added because it wouldn't stop when expected and there would never be over 1500 jobs\n",
    "    postings = 1500\n",
    "    \n",
    "    #while last_status != page(link_numbered).xpath(main_xpath['job_count'])[0].split()[-1]:\n",
    "    while i < int(postings):\n",
    "        #generate last status\n",
    "        #last_status = page(link_numbered).xpath(main_xpath['job_count'])[0].split()[-1]        \n",
    "\n",
    "        #generate next numbered link\n",
    "        link_numbered = link + str(i)\n",
    "        #print(link_numbered)\n",
    "\n",
    "        #print current state of jobs\n",
    "        print(page(link_numbered).xpath(main_xpath['job_count']))\n",
    "\n",
    "        #lists of\n",
    "        titles = page(link_numbered).xpath(main_xpath['job_title'])\n",
    "        urls = page(link_numbered).xpath(main_xpath['job_url'])\n",
    "        ids = page(link_numbered).xpath(main_xpath['job_id2'])\n",
    "        salaries = [sal]*len(ids)\n",
    "        phrases = [phrase]*len(ids)\n",
    "        locs = [loc]*len(ids)\n",
    "\n",
    "        #add the data\n",
    "        for job, url, iden, sal, phra, loc in zip(titles,urls,ids,salaries,phrases,locs):\n",
    "            master_dict[iden] = [job,url,sal,phra,loc]\n",
    "\n",
    "        #followup\n",
    "        i += int(by)\n",
    "    print(' ----- Done ----- ')\n",
    "    #else:\n",
    "        #print(' ----- Cancelled ----- ')\n",
    "    return master_dict"
   ]
  },
  {
   "cell_type": "code",
   "execution_count": null,
   "metadata": {
    "collapsed": true
   },
   "outputs": [],
   "source": [
    "#function dictionary to df with formatted url\n",
    "def to_df(master_dict,save=False,save_name=''):\n",
    "    df = pd.DataFrame(master_dict).T\n",
    "    df.columns=['title','url','sal','search_phrase','search_loc']\n",
    "    df['url'] = 'https://www.indeed.com' + df['url']\n",
    "    df['frmt'] = df['url'].apply(lambda url: 'https://www.indeed.com/company' in url)\n",
    "    if save == True:\n",
    "        df.to_csv(save_name,index=False)\n",
    "    return df"
   ]
  },
  {
   "cell_type": "code",
   "execution_count": null,
   "metadata": {
    "collapsed": true
   },
   "outputs": [],
   "source": [
    "#loop though search terms\n",
    "dst_link_dict = {}\n",
    "\n",
    "#loc = 'Washington%2C+DC'\n",
    "loc = 'New+York%2C+NY'\n",
    "#loc = 'Boston%2C+MA'\n",
    "by = '50'\n",
    "\n",
    "#phrase='data+science'\n",
    "#phrase='machine+learning'\n",
    "#phrase='data+scientist'\n",
    "#phrase='data+analyst'\n",
    "#phrase='research+scientist'\n",
    "#phrase='business+intelligence'\n",
    "#phrase='business+analyst'\n",
    "\n",
    "phrases = ['machine+learning','data+scientist','data+analyst',\n",
    "            'research+scientist','business+intelligence','business+analyst',]\n",
    "\n",
    "#for each phrase\n",
    "for phrase in phrases:\n",
    "    dst_link_dict = {}\n",
    "    \n",
    "    #run pull urls\n",
    "    sal_list = ['30k-70k','70k-100k','100k-130k','130k-250k']\n",
    "    for sal in sal_list:\n",
    "        #link = 'https://www.indeed.com/jobs?as_and=&as_phr=' + str(phrase) + '&as_any=' + str(anyy) + '&as_not=&as_ttl=&as_cmp=&jt=all&st=&salary=' + str(sal) + '&radius=50&l=' + str(loc) + '&fromage=any&limit=' + str(by) + '&sort=&psf=advsrch'\n",
    "        #link = gen_link(phrase,sal=sal)\n",
    "        dst_link_dict[sal] = search_many(phrase,sal,loc=loc)\n",
    "\n",
    "    #save all salaries in csvs in local folder\n",
    "    for sal in sal_list:\n",
    "        df = to_df(dst_link_dict[sal],True,'Phrase'+str(phrase)+str(loc)+str(sal)+'.csv')"
   ]
  },
  {
   "cell_type": "markdown",
   "metadata": {},
   "source": [
    "---\n",
    "### Tier 2:\n",
    "\n",
    "- Group all csvs with the filenames including 'phrase' in the local folder\n",
    "    - Builds a single dataframe with all these\n",
    "- Drop non-Indeed listings\n",
    "    - frmt = 1 means Indeed listing\n",
    "- Apply add_html function to url col\n",
    "- Apply other functions for 'job_title','job_location','company_name' etc."
   ]
  },
  {
   "cell_type": "code",
   "execution_count": null,
   "metadata": {
    "collapsed": true
   },
   "outputs": [],
   "source": [
    "def add_html(url):\n",
    "    response = requests.get(url)\n",
    "    return response.text"
   ]
  },
  {
   "cell_type": "code",
   "execution_count": null,
   "metadata": {
    "collapsed": true
   },
   "outputs": [],
   "source": [
    "def dl_html(phrase,path='./'):\n",
    "    import glob\n",
    "    #grab all csvs with that name\n",
    "    globbed_csvs = glob.glob(path + \"*\" + str(phrase) + \"*.csv\")\n",
    "\n",
    "    print('----- Combining dfs -----')\n",
    "\n",
    "    #put them in a single df\n",
    "    combined_df = pd.DataFrame()\n",
    "    df_list = []\n",
    "    for f in globbed_csvs:\n",
    "        dfn = pd.read_csv(f, header=0,encoding = \"ISO-8859-1\") #index=False\n",
    "        df_list.append(dfn)\n",
    "    combined_df = pd.concat(df_list)\n",
    "    \n",
    "    #only keep indeed listings\n",
    "    combined_df = combined_df[combined_df['frmt'] == 1]\n",
    "    \n",
    "    #drop_duplicates based on unique url\n",
    "    combined_df = combined_df.drop_duplicates(subset=['url'])\n",
    "    \n",
    "    #add blank col\n",
    "    combined_df['html'] = ''\n",
    "    \n",
    "    print('----- Adding Html -----')\n",
    "    \n",
    "    #download the html and put it in the combined df\n",
    "    combined_df['html'] = combined_df['url'].apply(add_html)\n",
    "        \n",
    "    return combined_df"
   ]
  },
  {
   "cell_type": "code",
   "execution_count": null,
   "metadata": {
    "collapsed": true
   },
   "outputs": [],
   "source": [
    "#list index out o frange.. 'machine+learning'\n",
    "phrases = ['data+scientist', 'data+analyst'\n",
    "           'research+scientist','business+intelligence','business+analyst']\n",
    "\n",
    "for save_name in phrases:\n",
    "    df = pd.DataFrame()\n",
    "    \n",
    "    \n",
    "    df = dl_html(save_name)\n",
    "\n",
    "    df['comp_name'] = df['html'].apply(parse_comp_name)\n",
    "    df['job_title'] = df['html'].apply(parse_job_title)\n",
    "    df['job_loc'] = df['html'].apply(parse_job_loc)\n",
    "    df['job_summary'] = df['html'].apply(parse_job_summary)\n",
    "    df['job_summary'] = df['job_summary'].apply(str_summary)\n",
    "\n",
    "    df.to_csv(save_name+'.csv')"
   ]
  },
  {
   "cell_type": "markdown",
   "metadata": {},
   "source": [
    "---\n",
    "### Explore 3 Master dfs:\n",
    "Create 3 master df's to work off of:\n",
    "    - industry_df - for LDA and topic clustering practice\n",
    "        - search_phrase = 'government' or 'healthcare' etc.\n",
    "    - salary_df - for salary classification\n",
    "        - sal = '100k-130k', '130k-250k', '30k-70k', '70k-100k'\n",
    "    - juniorsenior_df - for attempt to differentiate keywords\n",
    "        - title = 'junior' or 'senior'\n",
    "\n",
    "---\n",
    "### Duplicates, Numerics?\n",
    "- Found duplicates in my initial investigation so added a delete duplicates before the download html function so I didn't waste time\n",
    "- Add numeric target for ML later"
   ]
  },
  {
   "cell_type": "code",
   "execution_count": 535,
   "metadata": {
    "collapsed": false
   },
   "outputs": [],
   "source": [
    "ind_df = pd.read_csv('industry_df.csv',encoding='latin1')\n",
    "js_df = pd.read_csv('juniorsenior_df',encoding='latin1')\n",
    "sal_df = pd.read_csv('salary_df.csv',encoding='latin1')"
   ]
  },
  {
   "cell_type": "code",
   "execution_count": 537,
   "metadata": {
    "collapsed": false
   },
   "outputs": [
    {
     "name": "stdout",
     "output_type": "stream",
     "text": [
      "(741, 14)\n",
      "(1122, 14)\n",
      "(540, 14)\n"
     ]
    }
   ],
   "source": [
    "print(ind_df.shape)\n",
    "print(sal_df.shape)\n",
    "print(js_df.shape)"
   ]
  },
  {
   "cell_type": "code",
   "execution_count": 538,
   "metadata": {
    "collapsed": false
   },
   "outputs": [
    {
     "data": {
      "text/html": [
       "<div>\n",
       "<table border=\"1\" class=\"dataframe\">\n",
       "  <thead>\n",
       "    <tr style=\"text-align: right;\">\n",
       "      <th></th>\n",
       "      <th>Unnamed: 0</th>\n",
       "      <th>Unnamed: 0.1</th>\n",
       "      <th>title</th>\n",
       "      <th>url</th>\n",
       "      <th>sal</th>\n",
       "      <th>search_phrase</th>\n",
       "      <th>search_loc</th>\n",
       "      <th>frmt</th>\n",
       "      <th>html</th>\n",
       "      <th>comp_name</th>\n",
       "      <th>job_title</th>\n",
       "      <th>job_loc</th>\n",
       "      <th>job_summary</th>\n",
       "      <th>sal_num</th>\n",
       "    </tr>\n",
       "  </thead>\n",
       "  <tbody>\n",
       "    <tr>\n",
       "      <th>0</th>\n",
       "      <td>0</td>\n",
       "      <td>205</td>\n",
       "      <td>Marketing Analyst</td>\n",
       "      <td>https://www.indeed.com/company/GS-Global-Servi...</td>\n",
       "      <td>30k-70k</td>\n",
       "      <td>business+intelligence</td>\n",
       "      <td>New+York%2C+NY</td>\n",
       "      <td>True</td>\n",
       "      <td>&lt;!DOCTYPE html&gt;\\r\\r\\n&lt;html lang=\"en\"&gt;\\r\\r\\n&lt;he...</td>\n",
       "      <td>GS Global Services Inc.</td>\n",
       "      <td>Jr. Systems/Data Analyst - SQL SSIS</td>\n",
       "      <td>New York, NY</td>\n",
       "      <td>?Candidates requiring visa sponsorship in futu...</td>\n",
       "      <td>0</td>\n",
       "    </tr>\n",
       "  </tbody>\n",
       "</table>\n",
       "</div>"
      ],
      "text/plain": [
       "   Unnamed: 0  Unnamed: 0.1              title  \\\n",
       "0           0           205  Marketing Analyst   \n",
       "\n",
       "                                                 url      sal  \\\n",
       "0  https://www.indeed.com/company/GS-Global-Servi...  30k-70k   \n",
       "\n",
       "           search_phrase      search_loc  frmt  \\\n",
       "0  business+intelligence  New+York%2C+NY  True   \n",
       "\n",
       "                                                html                comp_name  \\\n",
       "0  <!DOCTYPE html>\\r\\r\\n<html lang=\"en\">\\r\\r\\n<he...  GS Global Services Inc.   \n",
       "\n",
       "                             job_title       job_loc  \\\n",
       "0  Jr. Systems/Data Analyst - SQL SSIS  New York, NY   \n",
       "\n",
       "                                         job_summary  sal_num  \n",
       "0  ?Candidates requiring visa sponsorship in futu...        0  "
      ]
     },
     "execution_count": 538,
     "metadata": {},
     "output_type": "execute_result"
    }
   ],
   "source": [
    "sal_df.head(1)"
   ]
  },
  {
   "cell_type": "markdown",
   "metadata": {},
   "source": [
    "---\n",
    "## Salary_df:\n",
    "- There are 4 salary levels: '30k-70k','70k-100k','100k-130k','130k-250k'\n",
    "- There are 5 job types: 'business+intelligence', 'business+analyst', 'research+scientist','data+analyst', 'data+scientist'\n",
    "\n",
    "\n",
    "- Try to pull indicating words directly\n",
    "- Use CountVectorizer to find indicative words and phrases"
   ]
  },
  {
   "cell_type": "code",
   "execution_count": 544,
   "metadata": {
    "collapsed": false,
    "scrolled": false
   },
   "outputs": [
    {
     "data": {
      "text/plain": [
       "business+analyst         411\n",
       "business+intelligence    407\n",
       "data+analyst             183\n",
       "data+scientist            92\n",
       "research+scientist        29\n",
       "Name: search_phrase, dtype: int64"
      ]
     },
     "execution_count": 544,
     "metadata": {},
     "output_type": "execute_result"
    }
   ],
   "source": [
    "df['search_phrase'].value_counts()"
   ]
  },
  {
   "cell_type": "code",
   "execution_count": 540,
   "metadata": {
    "collapsed": false
   },
   "outputs": [
    {
     "data": {
      "text/plain": [
       "70k-100k     497\n",
       "100k-130k    282\n",
       "30k-70k      268\n",
       "130k-250k     75\n",
       "Name: sal, dtype: int64"
      ]
     },
     "execution_count": 540,
     "metadata": {},
     "output_type": "execute_result"
    }
   ],
   "source": [
    "df['sal'].value_counts()"
   ]
  },
  {
   "cell_type": "code",
   "execution_count": 539,
   "metadata": {
    "collapsed": false
   },
   "outputs": [
    {
     "data": {
      "text/plain": [
       "0.44295900178253117"
      ]
     },
     "execution_count": 539,
     "metadata": {},
     "output_type": "execute_result"
    }
   ],
   "source": [
    "#baseline for predicting 1 of 4 groups\n",
    "df['sal'].value_counts().max()/df['sal'].count()"
   ]
  },
  {
   "cell_type": "code",
   "execution_count": 578,
   "metadata": {
    "collapsed": false
   },
   "outputs": [
    {
     "data": {
      "text/plain": [
       "0.68181818181818177"
      ]
     },
     "execution_count": 578,
     "metadata": {},
     "output_type": "execute_result"
    }
   ],
   "source": [
    "#baseline for predicting 1 of 2 groups (30k-100k or 100k-250k)\n",
    "(268 + 497) / df['sal'].count()"
   ]
  },
  {
   "cell_type": "code",
   "execution_count": 1371,
   "metadata": {
    "collapsed": false
   },
   "outputs": [
    {
     "data": {
      "text/plain": [
       "<matplotlib.axes._subplots.AxesSubplot at 0x11cdef6d8>"
      ]
     },
     "execution_count": 1371,
     "metadata": {},
     "output_type": "execute_result"
    },
    {
     "data": {
      "image/png": "[encoded data removed]",
      "text/plain": [
       "<matplotlib.figure.Figure at 0x121b3d550>"
      ]
     },
     "metadata": {},
     "output_type": "display_data"
    }
   ],
   "source": [
    "df.groupby(['search_phrase','sal_num']).size().plot.barh()"
   ]
  },
  {
   "cell_type": "markdown",
   "metadata": {},
   "source": [
    "---\n",
    "### Use regex to find key phrases:\n",
    "By investigating I found pretty common phrases:\n",
    "    - 'Required education:' in 54% of all listings\n",
    "    - 'Required experience:' in 65% of all listings\n",
    "Find 'high value' phrases:\n",
    "    - 'PhD' and various spellings\n",
    "    - I would have liked to include a list of skills based on price bracket here but didn't have time\n",
    "        - Valuable: 'Hadoop','Spark','AWS','R','python','svm' etc.\n",
    "        - Less valuable: 'excel','microsoft' etc.\n",
    "I also wanted to pull the number before the word year/years for phrases like:\n",
    "    - 2-4 years experience required.\n",
    "    - 5+ years experience in data science prefered."
   ]
  },
  {
   "cell_type": "code",
   "execution_count": 555,
   "metadata": {
    "collapsed": false,
    "editable": true
   },
   "outputs": [
    {
     "data": {
      "text/plain": [
       "Bachelor     529\n",
       "Master        53\n",
       "Doctorate     10\n",
       "High          10\n",
       "Associate     10\n",
       "Educación      1\n",
       "Name: 0, dtype: int64"
      ]
     },
     "execution_count": 555,
     "metadata": {},
     "output_type": "execute_result"
    }
   ],
   "source": [
    "#education\n",
    "edu = df['job_summary'].str.extract('((Required education: )\\w+)',expand=False)\n",
    "edu_col = edu[0].str.extract(r': (\\w+)',expand=False)\n",
    "edu_col.value_counts()"
   ]
  },
  {
   "cell_type": "code",
   "execution_count": 1123,
   "metadata": {
    "collapsed": false
   },
   "outputs": [],
   "source": [
    "#map the values according to my assumptions of each value\n",
    "edu_col = edu_col.map({np.nan:10,'Educación':1,'High':1,'Associate':2,'Bachelor':20,'Master':60,'Doctorate':500})"
   ]
  },
  {
   "cell_type": "code",
   "execution_count": 1124,
   "metadata": {
    "collapsed": false,
    "scrolled": true
   },
   "outputs": [
    {
     "data": {
      "text/plain": [
       "0.54634581105169344"
      ]
     },
     "execution_count": 1124,
     "metadata": {},
     "output_type": "execute_result"
    }
   ],
   "source": [
    "edu[0].count()/len(edu)"
   ]
  },
  {
   "cell_type": "code",
   "execution_count": 1125,
   "metadata": {
    "collapsed": false
   },
   "outputs": [],
   "source": [
    "#experience\n",
    "exp = df['job_summary'].str.extract('((Required experience: ).+)',expand=False)\n",
    "exp_col = exp[0].str.extractall(r'(\\d+)\\syear')\n",
    "exp_col = pd.to_numeric(exp_col[0])\n",
    "exp_col = exp_col.groupby(level=[0]).sum()"
   ]
  },
  {
   "cell_type": "code",
   "execution_count": 1126,
   "metadata": {
    "collapsed": false,
    "scrolled": false
   },
   "outputs": [
    {
     "data": {
      "text/plain": [
       "0.65418894830659535"
      ]
     },
     "execution_count": 1126,
     "metadata": {},
     "output_type": "execute_result"
    }
   ],
   "source": [
    "exp[0].count()/len(exp)"
   ]
  },
  {
   "cell_type": "code",
   "execution_count": 1127,
   "metadata": {
    "collapsed": false,
    "scrolled": false
   },
   "outputs": [],
   "source": [
    "phd_col = df['job_summary'].str.extract('(PHD|phd|PhD|P.h.D.)',expand=False)\n",
    "phd_col = phd_col.map({np.nan:0,'PhD':5})"
   ]
  },
  {
   "cell_type": "code",
   "execution_count": 1128,
   "metadata": {
    "collapsed": false
   },
   "outputs": [],
   "source": [
    "#best so far for numerics before year\n",
    "#job_df = df['job_summary'].str.extract('([\\d\\S+-A-Z]+[\\W\\D]+(years|year))',expand=False)\n",
    "#job_df.to_csv('years.csv',index=False)"
   ]
  },
  {
   "cell_type": "code",
   "execution_count": 1129,
   "metadata": {
    "collapsed": false
   },
   "outputs": [
    {
     "data": {
      "text/html": [
       "<div>\n",
       "<table border=\"1\" class=\"dataframe\">\n",
       "  <thead>\n",
       "    <tr style=\"text-align: right;\">\n",
       "      <th></th>\n",
       "      <th></th>\n",
       "      <th>0</th>\n",
       "      <th>1</th>\n",
       "      <th>2</th>\n",
       "    </tr>\n",
       "    <tr>\n",
       "      <th></th>\n",
       "      <th>match</th>\n",
       "      <th></th>\n",
       "      <th></th>\n",
       "      <th></th>\n",
       "    </tr>\n",
       "  </thead>\n",
       "  <tbody>\n",
       "    <tr>\n",
       "      <th>0</th>\n",
       "      <th>0</th>\n",
       "      <td>2</td>\n",
       "      <td>-</td>\n",
       "      <td>4</td>\n",
       "    </tr>\n",
       "    <tr>\n",
       "      <th>4</th>\n",
       "      <th>0</th>\n",
       "      <td>0</td>\n",
       "      <td>-</td>\n",
       "      <td>1</td>\n",
       "    </tr>\n",
       "    <tr>\n",
       "      <th>6</th>\n",
       "      <th>0</th>\n",
       "      <td>2</td>\n",
       "      <td>+</td>\n",
       "      <td>NaN</td>\n",
       "    </tr>\n",
       "    <tr>\n",
       "      <th>7</th>\n",
       "      <th>0</th>\n",
       "      <td>6</td>\n",
       "      <td>NaN</td>\n",
       "      <td>NaN</td>\n",
       "    </tr>\n",
       "    <tr>\n",
       "      <th>8</th>\n",
       "      <th>0</th>\n",
       "      <td>2</td>\n",
       "      <td>+</td>\n",
       "      <td>NaN</td>\n",
       "    </tr>\n",
       "  </tbody>\n",
       "</table>\n",
       "</div>"
      ],
      "text/plain": [
       "         0    1    2\n",
       "  match             \n",
       "0 0      2    -    4\n",
       "4 0      0    -    1\n",
       "6 0      2    +  NaN\n",
       "7 0      6  NaN  NaN\n",
       "8 0      2    +  NaN"
      ]
     },
     "execution_count": 1129,
     "metadata": {},
     "output_type": "execute_result"
    }
   ],
   "source": [
    "job_col.head()"
   ]
  },
  {
   "cell_type": "code",
   "execution_count": 1265,
   "metadata": {
    "collapsed": false
   },
   "outputs": [],
   "source": [
    "#pulling number before word: year|years\n",
    "job = pd.read_csv('years.csv')\n",
    "job_col = job['0'].str.extractall(r'(\\d)(\\S?)(\\d*)\\syear')\n",
    "y_min = job_col[0]\n",
    "y_ind = job_col[1]\n",
    "#y_ind = y_ind.map({'-':10,'+':100})\n",
    "y_max = job_col[2]\n",
    "y_min = pd.to_numeric(y_min)\n",
    "y_max = pd.to_numeric(y_max)\n",
    "y_min = y_min.groupby(level=[0]).sum()\n",
    "y_max = y_max.groupby(level=[0]).sum()\n",
    "#y_max = y_max*20\n",
    "y_ind = y_ind.groupby(level=[0]).unique()"
   ]
  },
  {
   "cell_type": "code",
   "execution_count": 1266,
   "metadata": {
    "collapsed": false
   },
   "outputs": [],
   "source": [
    "group = [edu_col,exp_col,phd_col,y_min,y_max]\n",
    "ext_df = pd.concat(group,axis=1)"
   ]
  },
  {
   "cell_type": "code",
   "execution_count": 1267,
   "metadata": {
    "collapsed": false,
    "scrolled": true
   },
   "outputs": [],
   "source": [
    "ext_df = ext_df.fillna(0)"
   ]
  },
  {
   "cell_type": "code",
   "execution_count": 1268,
   "metadata": {
    "collapsed": true
   },
   "outputs": [],
   "source": [
    "X = ext_df\n",
    "y = df['sal_num']\n",
    "#break sal into \n",
    "y = y.map({0:0,1:0,2:1,3:1})"
   ]
  },
  {
   "cell_type": "code",
   "execution_count": 1269,
   "metadata": {
    "collapsed": false
   },
   "outputs": [],
   "source": [
    "from sklearn.preprocessing import StandardScaler\n",
    "ss = StandardScaler()\n",
    "X = ss.fit_transform(X)"
   ]
  },
  {
   "cell_type": "code",
   "execution_count": 1270,
   "metadata": {
    "collapsed": false
   },
   "outputs": [],
   "source": [
    "X_train, X_test, y_train, y_test = train_test_split(X,y,test_size=.4)"
   ]
  },
  {
   "cell_type": "code",
   "execution_count": 1271,
   "metadata": {
    "collapsed": true
   },
   "outputs": [],
   "source": [
    "#baselines:\n",
    "# .44\n",
    "# .682"
   ]
  },
  {
   "cell_type": "code",
   "execution_count": 1272,
   "metadata": {
    "collapsed": false
   },
   "outputs": [],
   "source": [
    "#clf = RandomForestClassifier(n_estimators=200,random_state=42,criterion='entropy') #did very poorly on \n",
    "#clf = RandomForestClassifier(n_estimators=200,random_state=42,criterion='gini')\n",
    "#clf = LogisticRegression(penalty='l1',C=10) #.454 with l1,c=10  #C=1,L1,.639\n",
    "#clf = LogisticRegression() #job only, .64\n",
    "#clf = MultinomialNB()\n",
    "#clf = SVC(C=1,kernel='poly',degree=2) #takes waaaay too long\n",
    "#clf = SVC(C=10,gamma=10,kernel='linear',random_state=42) #c=10,.646 (both job+title)\n",
    "clf = KNeighborsClassifier(n_neighbors=10,metric='manhattan') #.732 with 35,manhattan, now .71\n",
    "#clf = KNeighborsClassifier(n_neighbors=25)#,metric='manhattan') #.732 with 35,manhattan, now .71"
   ]
  },
  {
   "cell_type": "code",
   "execution_count": 1273,
   "metadata": {
    "collapsed": false
   },
   "outputs": [
    {
     "data": {
      "text/plain": [
       "0.65817968978636232"
      ]
     },
     "execution_count": 1273,
     "metadata": {},
     "output_type": "execute_result"
    }
   ],
   "source": [
    "clf.fit(X_train,y_train)\n",
    "#cv = ShuffleSplit(n_splits=3, test_size=0.3, random_state=0)\n",
    "cross_val_score(clf,X_train,y_train,cv=10).mean()"
   ]
  },
  {
   "cell_type": "code",
   "execution_count": 1274,
   "metadata": {
    "collapsed": false
   },
   "outputs": [],
   "source": [
    "y_pred = clf.predict(X_test)"
   ]
  },
  {
   "cell_type": "code",
   "execution_count": 1275,
   "metadata": {
    "collapsed": false
   },
   "outputs": [
    {
     "data": {
      "text/plain": [
       "0.71046770601336307"
      ]
     },
     "execution_count": 1275,
     "metadata": {},
     "output_type": "execute_result"
    }
   ],
   "source": [
    "clf.score(X_test,y_test)"
   ]
  },
  {
   "cell_type": "code",
   "execution_count": 1276,
   "metadata": {
    "collapsed": false
   },
   "outputs": [
    {
     "data": {
      "text/plain": [
       "array([[290, 110],\n",
       "       [ 20,  29]])"
      ]
     },
     "execution_count": 1276,
     "metadata": {},
     "output_type": "execute_result"
    }
   ],
   "source": [
    "confusion_matrix(y_pred, y_test)"
   ]
  },
  {
   "cell_type": "markdown",
   "metadata": {},
   "source": [
    "---\n",
    "### Bag of Words Approach\n",
    "\n",
    "Use CountVectorizer to create bag of words for:\n",
    "    - Job titles\n",
    "    - Job summarys\n",
    "    \n",
    "Count Vectorizer:\n",
    "    - min_df, max_df were very important when trimming words from the initial bag.\n",
    "    - n_grams 1,3 were most indicative\n",
    "    - output:\n",
    "        - ~20k for job summary\n",
    "        - ~227 for job title\n",
    "\n",
    "NMF:\n",
    "    - Further trim words down to a reasonable size with L1 regularization\n",
    "    - Give the ability to select # of topics like \n",
    "    - Can examine the output to see which topics its creating\n",
    "\n",
    "Multiply NMF back against Bag of Words:\n",
    "    - Creates a sparse matrix with word counts weighted by their NMF score\n",
    "\n",
    "Added the regex data from above which increased the score by ~5%"
   ]
  },
  {
   "cell_type": "code",
   "execution_count": 2684,
   "metadata": {
    "collapsed": false,
    "editable": true
   },
   "outputs": [],
   "source": [
    "X_job = df['job_summary']\n",
    "X_title = df['job_title']\n",
    "y_all = df['sal_num']"
   ]
  },
  {
   "cell_type": "code",
   "execution_count": 2685,
   "metadata": {
    "collapsed": false,
    "editable": true,
    "scrolled": true
   },
   "outputs": [],
   "source": [
    "#create bag of words for job summary\n",
    "cvt_job      =  CountVectorizer(stop_words=stop,\n",
    "                            strip_accents='unicode', \n",
    "                            ngram_range=(1,3),\n",
    "                            max_df=.84, #was. 84\n",
    "                            min_df=4, #was 4\n",
    "                            tokenizer=LemmaTokenizer())\n",
    "X_job_cvt    =  cvt_job.fit_transform(X_job)"
   ]
  },
  {
   "cell_type": "code",
   "execution_count": 2686,
   "metadata": {
    "collapsed": false,
    "editable": true
   },
   "outputs": [],
   "source": [
    "#create bag of words for job title\n",
    "cvt_title      =  CountVectorizer(stop_words=stop,\n",
    "                            strip_accents='unicode', \n",
    "                            ngram_range=(1,2),\n",
    "                            max_df=.7,\n",
    "                            min_df=5, #was 5\n",
    "                            tokenizer=LemmaTokenizer())\n",
    "X_title_cvt    =  cvt_title.fit_transform(X_title)"
   ]
  },
  {
   "cell_type": "code",
   "execution_count": 2687,
   "metadata": {
    "collapsed": false
   },
   "outputs": [
    {
     "name": "stdout",
     "output_type": "stream",
     "text": [
      "(1122, 20886)\n",
      "(1122, 171)\n"
     ]
    }
   ],
   "source": [
    "print(X_job_cvt.shape)\n",
    "print(X_title_cvt.shape)"
   ]
  },
  {
   "cell_type": "code",
   "execution_count": 2688,
   "metadata": {
    "collapsed": false,
    "editable": true
   },
   "outputs": [],
   "source": [
    "tf_job = TfidfTransformer()\n",
    "X_job = tf_job.fit_transform(X_job_cvt)\n",
    "\n",
    "tf_title = TfidfTransformer()\n",
    "X_title = tf_title.fit_transform(X_title_cvt)"
   ]
  },
  {
   "cell_type": "code",
   "execution_count": 2689,
   "metadata": {
    "collapsed": true,
    "editable": true
   },
   "outputs": [],
   "source": [
    "n_titles=5\n",
    "n_jobs=4\n",
    "\n",
    "nmf_title = NMF(n_components=n_titles, #was 8\n",
    "          random_state=42, \n",
    "          alpha=.12, #was .12\n",
    "          l1_ratio=.9, \n",
    "          init='nndsvd').fit(X_title)\n",
    "\n",
    "nmf_job = NMF(n_components=n_jobs, #was 4\n",
    "          random_state=42, \n",
    "          alpha=.15, #was .15\n",
    "          l1_ratio=.7, \n",
    "          init='nndsvd').fit(X_job)"
   ]
  },
  {
   "cell_type": "code",
   "execution_count": 2690,
   "metadata": {
    "collapsed": false,
    "editable": true
   },
   "outputs": [],
   "source": [
    "nmf_job_df = pd.DataFrame(nmf_job.components_, columns = cvt_job.get_feature_names())\n",
    "nmf_job_df = nmf_job_df.replace(0,np.nan)\n",
    "nmf_job_df = nmf_job_df.dropna(how='all',axis=1)\n",
    "nmf_job_df = nmf_job_df.replace(np.nan,0)\n",
    "\n",
    "nmf_title_df = pd.DataFrame(nmf_title.components_, columns = cvt_title.get_feature_names())\n",
    "nmf_title_df = nmf_title_df.replace(0,np.nan)\n",
    "nmf_title_df = nmf_title_df.dropna(how='all',axis=1)\n",
    "nmf_title_df = nmf_title_df.replace(np.nan,0)"
   ]
  },
  {
   "cell_type": "code",
   "execution_count": 2691,
   "metadata": {
    "collapsed": false
   },
   "outputs": [
    {
     "name": "stdout",
     "output_type": "stream",
     "text": [
      "(4, 2037)\n",
      "(5, 92)\n"
     ]
    }
   ],
   "source": [
    "print(nmf_job_df.shape)\n",
    "print(nmf_title_df.shape)"
   ]
  },
  {
   "cell_type": "markdown",
   "metadata": {},
   "source": [
    "---\n",
    "### NMF keywords found for each bag of words:\n",
    "Job Title:\n",
    "    - data, learning, machine, machine learning, scientist\n",
    "    - project, requirement, system, data, team\n",
    "    - sale, customer, account, product, prospect\n",
    "    - salient, n/a, government, crgt, salient crg <- In Washington DC theyre hiring like 180 data analysts at cgrt\n",
    "Job Summary:\n",
    "    - business analyst, business, analyst, senior business, senior\n",
    "    - data analyst, data, analyst, analyst, senior data, senior\n",
    "    - scientist, data scientist, data, research, research scientist <- Interesting to see it sees research scientists similar to data scientists\n",
    "    - developer, senior, etl, sharepoint dev, software dev\n",
    "    - manager, project, project manager, senior, business"
   ]
  },
  {
   "cell_type": "code",
   "execution_count": 2705,
   "metadata": {
    "collapsed": false,
    "scrolled": true
   },
   "outputs": [
    {
     "data": {
      "text/html": [
       "<div>\n",
       "<table border=\"1\" class=\"dataframe\">\n",
       "  <thead>\n",
       "    <tr style=\"text-align: right;\">\n",
       "      <th></th>\n",
       "      <th>0</th>\n",
       "      <th>1</th>\n",
       "      <th>2</th>\n",
       "      <th>3</th>\n",
       "    </tr>\n",
       "  </thead>\n",
       "  <tbody>\n",
       "    <tr>\n",
       "      <th>salient</th>\n",
       "      <td>0.00000</td>\n",
       "      <td>0.0</td>\n",
       "      <td>0.0</td>\n",
       "      <td>0.282601</td>\n",
       "    </tr>\n",
       "    <tr>\n",
       "      <th>n/a</th>\n",
       "      <td>0.00000</td>\n",
       "      <td>0.0</td>\n",
       "      <td>0.0</td>\n",
       "      <td>0.181486</td>\n",
       "    </tr>\n",
       "    <tr>\n",
       "      <th>government</th>\n",
       "      <td>0.05827</td>\n",
       "      <td>0.0</td>\n",
       "      <td>0.0</td>\n",
       "      <td>0.114894</td>\n",
       "    </tr>\n",
       "    <tr>\n",
       "      <th>crgt</th>\n",
       "      <td>0.00000</td>\n",
       "      <td>0.0</td>\n",
       "      <td>0.0</td>\n",
       "      <td>0.114006</td>\n",
       "    </tr>\n",
       "    <tr>\n",
       "      <th>salient crgt</th>\n",
       "      <td>0.00000</td>\n",
       "      <td>0.0</td>\n",
       "      <td>0.0</td>\n",
       "      <td>0.114006</td>\n",
       "    </tr>\n",
       "  </tbody>\n",
       "</table>\n",
       "</div>"
      ],
      "text/plain": [
       "                    0    1    2         3\n",
       "salient       0.00000  0.0  0.0  0.282601\n",
       "n/a           0.00000  0.0  0.0  0.181486\n",
       "government    0.05827  0.0  0.0  0.114894\n",
       "crgt          0.00000  0.0  0.0  0.114006\n",
       "salient crgt  0.00000  0.0  0.0  0.114006"
      ]
     },
     "execution_count": 2705,
     "metadata": {},
     "output_type": "execute_result"
    }
   ],
   "source": [
    "nmf_job_df.T.sort_values(3,ascending=False).head()"
   ]
  },
  {
   "cell_type": "code",
   "execution_count": 2793,
   "metadata": {
    "collapsed": false,
    "editable": true,
    "scrolled": true
   },
   "outputs": [
    {
     "data": {
      "text/html": [
       "<div>\n",
       "<table border=\"1\" class=\"dataframe\">\n",
       "  <thead>\n",
       "    <tr style=\"text-align: right;\">\n",
       "      <th></th>\n",
       "      <th>0</th>\n",
       "      <th>1</th>\n",
       "      <th>2</th>\n",
       "      <th>3</th>\n",
       "      <th>4</th>\n",
       "    </tr>\n",
       "  </thead>\n",
       "  <tbody>\n",
       "    <tr>\n",
       "      <th>scientist</th>\n",
       "      <td>0.0</td>\n",
       "      <td>0.000000</td>\n",
       "      <td>3.500644</td>\n",
       "      <td>0.000000</td>\n",
       "      <td>0.000000</td>\n",
       "    </tr>\n",
       "    <tr>\n",
       "      <th>data scientist</th>\n",
       "      <td>0.0</td>\n",
       "      <td>0.000000</td>\n",
       "      <td>3.181482</td>\n",
       "      <td>0.000000</td>\n",
       "      <td>0.000000</td>\n",
       "    </tr>\n",
       "    <tr>\n",
       "      <th>data</th>\n",
       "      <td>0.0</td>\n",
       "      <td>4.293569</td>\n",
       "      <td>2.385226</td>\n",
       "      <td>0.059512</td>\n",
       "      <td>0.002343</td>\n",
       "    </tr>\n",
       "    <tr>\n",
       "      <th>research</th>\n",
       "      <td>0.0</td>\n",
       "      <td>0.043742</td>\n",
       "      <td>0.455421</td>\n",
       "      <td>0.000000</td>\n",
       "      <td>0.000000</td>\n",
       "    </tr>\n",
       "    <tr>\n",
       "      <th>research scientist</th>\n",
       "      <td>0.0</td>\n",
       "      <td>0.000000</td>\n",
       "      <td>0.381193</td>\n",
       "      <td>0.000000</td>\n",
       "      <td>0.000000</td>\n",
       "    </tr>\n",
       "  </tbody>\n",
       "</table>\n",
       "</div>"
      ],
      "text/plain": [
       "                      0         1         2         3         4\n",
       "scientist           0.0  0.000000  3.500644  0.000000  0.000000\n",
       "data scientist      0.0  0.000000  3.181482  0.000000  0.000000\n",
       "data                0.0  4.293569  2.385226  0.059512  0.002343\n",
       "research            0.0  0.043742  0.455421  0.000000  0.000000\n",
       "research scientist  0.0  0.000000  0.381193  0.000000  0.000000"
      ]
     },
     "execution_count": 2793,
     "metadata": {},
     "output_type": "execute_result"
    }
   ],
   "source": [
    "nmf_title_df.T.sort_values(2,ascending=False).head()"
   ]
  },
  {
   "cell_type": "code",
   "execution_count": 2695,
   "metadata": {
    "collapsed": false
   },
   "outputs": [],
   "source": [
    "#create a single feature set with both reduced bag of words models\n",
    "X_nmf = pd.DataFrame()\n",
    "#for i, j in enumerate(['gov','manu','bank','health','insurance']):\n",
    "for i in range(n_jobs):\n",
    "    X_nmf = pd.concat([X_nmf,pd.DataFrame(np.matmul(X_job_cvt.toarray(),nmf_job.components_[i]),columns=[i])],axis=1)\n",
    "for i in range(n_titles):\n",
    "    X_nmf = pd.concat([X_nmf,pd.DataFrame(np.matmul(X_title_cvt.toarray(),nmf_title.components_[i]),columns=[i])],axis=1)\n",
    "X_nmf = pd.concat([X_nmf,ext_df],axis=1)"
   ]
  },
  {
   "cell_type": "code",
   "execution_count": 2696,
   "metadata": {
    "collapsed": true
   },
   "outputs": [],
   "source": [
    "from sklearn.preprocessing import StandardScaler\n",
    "ss = StandardScaler()\n",
    "X = ss.fit_transform(X_nmf)"
   ]
  },
  {
   "cell_type": "code",
   "execution_count": 2697,
   "metadata": {
    "collapsed": false
   },
   "outputs": [],
   "source": [
    "#X = df['job_summary']\n",
    "#X = X_nmf\n",
    "#y = df['title_num']\n",
    "y = df['sal_num']\n",
    "#y = df['search_phrase']\n",
    "X_train, X_test, y_train, y_test = train_test_split(X,y,test_size=.4)"
   ]
  },
  {
   "cell_type": "code",
   "execution_count": 2698,
   "metadata": {
    "collapsed": false
   },
   "outputs": [],
   "source": [
    "clf = RandomForestClassifier(n_estimators=150,random_state=42,criterion='entropy') \n",
    "#150,entropy .57 with 3,4,.12,.15, job and title and sal info, after fixed the X_nmf thing\n",
    "#150,entropy .594 with 3,9,.12,.15, job and title and sal info, after fixed the X_nmf thing\n",
    "#150,entropy .572 with 5,5,.12,.15, job and title and sal info, after fixed the X_nmf thing\n",
    "#150,entropy .623 with nmfs 5,5, max_df 4,5, job and title and sal info, after fixed the X_nmf thing\n",
    "\n",
    "#clf = LogisticRegression(penalty='l2',C=10) #C=1,L1,.639 (job only)\n",
    "#clf = LogisticRegression() #job only, .64\n",
    "#clf = KNeighborsClassifier(n_neighbors=25)#,metric='manhattan')\n",
    "#clf = SVC(C=10,gamma=10,kernel='linear',random_state=42) #c=10,.646 (both job+title)"
   ]
  },
  {
   "cell_type": "code",
   "execution_count": 2699,
   "metadata": {
    "collapsed": false,
    "scrolled": true
   },
   "outputs": [
    {
     "data": {
      "text/plain": [
       "0.54647681325812414"
      ]
     },
     "execution_count": 2699,
     "metadata": {},
     "output_type": "execute_result"
    }
   ],
   "source": [
    "clf.fit(X_train,y_train)\n",
    "#cv = ShuffleSplit(n_splits=3, test_size=0.3, random_state=0)\n",
    "cross_val_score(clf,X_train,y_train,cv=10).mean()"
   ]
  },
  {
   "cell_type": "code",
   "execution_count": 2700,
   "metadata": {
    "collapsed": false
   },
   "outputs": [],
   "source": [
    "y_pred = clf.predict(X_test)\n",
    "y_total_pred = clf.predict(X_nmf)"
   ]
  },
  {
   "cell_type": "code",
   "execution_count": 2701,
   "metadata": {
    "collapsed": false
   },
   "outputs": [],
   "source": [
    "from sklearn.metrics import confusion_matrix"
   ]
  },
  {
   "cell_type": "code",
   "execution_count": 2702,
   "metadata": {
    "collapsed": false,
    "scrolled": true
   },
   "outputs": [
    {
     "data": {
      "text/plain": [
       "0.59242761692650336"
      ]
     },
     "execution_count": 2702,
     "metadata": {},
     "output_type": "execute_result"
    }
   ],
   "source": [
    "clf.score(X_test,y_test)"
   ]
  },
  {
   "cell_type": "code",
   "execution_count": 2643,
   "metadata": {
    "collapsed": false
   },
   "outputs": [
    {
     "data": {
      "text/plain": [
       "array([[ 60,  30,   1,   3],\n",
       "       [ 53, 138,  51,  13],\n",
       "       [  5,  30,  48,   9],\n",
       "       [  0,   0,   2,   6]])"
      ]
     },
     "execution_count": 2643,
     "metadata": {},
     "output_type": "execute_result"
    }
   ],
   "source": [
    "confusion_matrix(y_pred, y_test)"
   ]
  },
  {
   "cell_type": "markdown",
   "metadata": {},
   "source": [
    "---\n",
    "### NMF investigation to cluster industry jobs:"
   ]
  },
  {
   "cell_type": "code",
   "execution_count": 2712,
   "metadata": {
    "collapsed": true
   },
   "outputs": [],
   "source": [
    "df = pd.read_csv('industry_df.csv',encoding='latin1') #EDA different clusters of words\n",
    "#df = pd.read_csv('juniorsenior_df',encoding='latin1') #94% with randomforrest nmf\n",
    "#df = pd.read_csv('salary_df.csv',encoding='latin1') #15% above baseline"
   ]
  },
  {
   "cell_type": "code",
   "execution_count": 2714,
   "metadata": {
    "collapsed": true
   },
   "outputs": [],
   "source": [
    "X_job = df['job_summary']\n",
    "y_all = df['search_phrase_num']\n",
    "\n",
    "#create bag of words for job summary\n",
    "cvt_job      =  CountVectorizer(stop_words=stop,\n",
    "                            strip_accents='unicode', \n",
    "                            ngram_range=(1,3),\n",
    "                            max_df=.86, #was. 84\n",
    "                            min_df=4, #was 4\n",
    "                            tokenizer=LemmaTokenizer())\n",
    "X_job_cvt    =  cvt_job.fit_transform(X_job)"
   ]
  },
  {
   "cell_type": "code",
   "execution_count": 2716,
   "metadata": {
    "collapsed": true
   },
   "outputs": [],
   "source": [
    "tf_job = TfidfTransformer()\n",
    "X_job = tf_job.fit_transform(X_job_cvt)"
   ]
  },
  {
   "cell_type": "code",
   "execution_count": 2717,
   "metadata": {
    "collapsed": false
   },
   "outputs": [],
   "source": [
    "n_jobs=5\n",
    "\n",
    "nmf_job = NMF(n_components=n_jobs, #was 4\n",
    "          random_state=42, \n",
    "          alpha=.15, #was .15\n",
    "          l1_ratio=.7, \n",
    "          init='nndsvd').fit(X_job)"
   ]
  },
  {
   "cell_type": "code",
   "execution_count": 2718,
   "metadata": {
    "collapsed": true
   },
   "outputs": [],
   "source": [
    "nmf_job_df = pd.DataFrame(nmf_job.components_, columns = cvt_job.get_feature_names())\n",
    "nmf_job_df = nmf_job_df.replace(0,np.nan)\n",
    "nmf_job_df = nmf_job_df.dropna(how='all',axis=1)\n",
    "nmf_job_df = nmf_job_df.replace(np.nan,0)"
   ]
  },
  {
   "cell_type": "markdown",
   "metadata": {},
   "source": [
    "---\n",
    "### Output is pretty close to what I'd expect:\n",
    "    - 0: Insurance though low on list\n",
    "    - 1: Manufacturing\n",
    "    - 2: Customer Service/Business\n",
    "    - 3: Healthcare\n",
    "    - 4: Loans/Banking\n",
    "    \n",
    "Clustering shows the similarity between Healthcare dealing with insurance, and the Insurance dealing with medical things"
   ]
  },
  {
   "cell_type": "code",
   "execution_count": 2805,
   "metadata": {
    "collapsed": false
   },
   "outputs": [
    {
     "data": {
      "text/html": [
       "<div>\n",
       "<table border=\"1\" class=\"dataframe\">\n",
       "  <thead>\n",
       "    <tr style=\"text-align: right;\">\n",
       "      <th></th>\n",
       "      <th>0</th>\n",
       "      <th>1</th>\n",
       "      <th>2</th>\n",
       "      <th>3</th>\n",
       "      <th>4</th>\n",
       "    </tr>\n",
       "  </thead>\n",
       "  <tbody>\n",
       "    <tr>\n",
       "      <th>loan</th>\n",
       "      <td>0.014644</td>\n",
       "      <td>0.0</td>\n",
       "      <td>0.000000</td>\n",
       "      <td>0.0</td>\n",
       "      <td>1.310840</td>\n",
       "    </tr>\n",
       "    <tr>\n",
       "      <th>mortgage</th>\n",
       "      <td>0.000000</td>\n",
       "      <td>0.0</td>\n",
       "      <td>0.000000</td>\n",
       "      <td>0.0</td>\n",
       "      <td>0.697917</td>\n",
       "    </tr>\n",
       "    <tr>\n",
       "      <th>loan officer</th>\n",
       "      <td>0.000000</td>\n",
       "      <td>0.0</td>\n",
       "      <td>0.000000</td>\n",
       "      <td>0.0</td>\n",
       "      <td>0.165804</td>\n",
       "    </tr>\n",
       "    <tr>\n",
       "      <th>officer</th>\n",
       "      <td>0.000000</td>\n",
       "      <td>0.0</td>\n",
       "      <td>0.000000</td>\n",
       "      <td>0.0</td>\n",
       "      <td>0.088668</td>\n",
       "    </tr>\n",
       "    <tr>\n",
       "      <th>borrower</th>\n",
       "      <td>0.000000</td>\n",
       "      <td>0.0</td>\n",
       "      <td>0.000000</td>\n",
       "      <td>0.0</td>\n",
       "      <td>0.067988</td>\n",
       "    </tr>\n",
       "    <tr>\n",
       "      <th>bank</th>\n",
       "      <td>0.075249</td>\n",
       "      <td>0.0</td>\n",
       "      <td>0.191452</td>\n",
       "      <td>0.0</td>\n",
       "      <td>0.044879</td>\n",
       "    </tr>\n",
       "    <tr>\n",
       "      <th>credit</th>\n",
       "      <td>0.054554</td>\n",
       "      <td>0.0</td>\n",
       "      <td>0.000000</td>\n",
       "      <td>0.0</td>\n",
       "      <td>0.044096</td>\n",
       "    </tr>\n",
       "    <tr>\n",
       "      <th>consumer loan</th>\n",
       "      <td>0.000000</td>\n",
       "      <td>0.0</td>\n",
       "      <td>0.000000</td>\n",
       "      <td>0.0</td>\n",
       "      <td>0.034207</td>\n",
       "    </tr>\n",
       "    <tr>\n",
       "      <th>client</th>\n",
       "      <td>0.349772</td>\n",
       "      <td>0.0</td>\n",
       "      <td>0.000000</td>\n",
       "      <td>0.0</td>\n",
       "      <td>0.033000</td>\n",
       "    </tr>\n",
       "    <tr>\n",
       "      <th>servicing</th>\n",
       "      <td>0.004197</td>\n",
       "      <td>0.0</td>\n",
       "      <td>0.000000</td>\n",
       "      <td>0.0</td>\n",
       "      <td>0.027114</td>\n",
       "    </tr>\n",
       "  </tbody>\n",
       "</table>\n",
       "</div>"
      ],
      "text/plain": [
       "                      0    1         2    3         4\n",
       "loan           0.014644  0.0  0.000000  0.0  1.310840\n",
       "mortgage       0.000000  0.0  0.000000  0.0  0.697917\n",
       "loan officer   0.000000  0.0  0.000000  0.0  0.165804\n",
       "officer        0.000000  0.0  0.000000  0.0  0.088668\n",
       "borrower       0.000000  0.0  0.000000  0.0  0.067988\n",
       "bank           0.075249  0.0  0.191452  0.0  0.044879\n",
       "credit         0.054554  0.0  0.000000  0.0  0.044096\n",
       "consumer loan  0.000000  0.0  0.000000  0.0  0.034207\n",
       "client         0.349772  0.0  0.000000  0.0  0.033000\n",
       "servicing      0.004197  0.0  0.000000  0.0  0.027114"
      ]
     },
     "execution_count": 2805,
     "metadata": {},
     "output_type": "execute_result"
    }
   ],
   "source": [
    "nmf_job_df.T.sort_values(4,ascending=False).head(10)"
   ]
  },
  {
   "cell_type": "markdown",
   "metadata": {},
   "source": [
    "---\n",
    "### Discussion:\n",
    "Would have liked to pull keywords for individual salary levels\n",
    "    - Would be difficult to find similaritis across disciplines, so I would have had to separate each job title and then levels of salary\n",
    "There is a lot of power in weak models\n",
    "    - Realizing the benefit of adding the keywords on top of the NMF bag of words technique"
   ]
  },
  {
   "cell_type": "markdown",
   "metadata": {},
   "source": [
    "---\n",
    "## In the shape of a laptop... \"Data Scientist\" Job words\n",
    "\n",
    "<img src=\"files/my_wordcloud_2.png\" style=\"float: left; height: 600px\">"
   ]
  },
  {
   "cell_type": "markdown",
   "metadata": {},
   "source": [
    "---\n",
    "### Conclusion:\n",
    "Unstructured data is challenging\n",
    "    - There is a ton of information hidden within it\n",
    "    - It seems like the simplest technique is to manually pull \n",
    "        - keywords\n",
    "        - key indicators\n",
    "        - however this isn't scalable\n",
    "    - It is very cool to see NMF custer relevant words - though using it to classify wasn't a good use case"
   ]
  }
 ],
 "metadata": {
  "anaconda-cloud": {},
  "kernelspec": {
   "display_name": "Python 3",
   "language": "python",
   "name": "python3"
  },
  "language_info": {
   "codemirror_mode": {
    "name": "ipython",
    "version": 3
   },
   "file_extension": ".py",
   "mimetype": "text/x-python",
   "name": "python",
   "nbconvert_exporter": "python",
   "pygments_lexer": "ipython3",
   "version": "3.6.0"
  }
 },
 "nbformat": 4,
 "nbformat_minor": 2
}
