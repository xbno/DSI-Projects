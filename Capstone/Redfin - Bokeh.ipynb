{
 "cells": [
  {
   "cell_type": "code",
   "execution_count": 34,
   "metadata": {},
   "outputs": [],
   "source": [
    "import pickle\n",
    "import pandas as pd"
   ]
  },
  {
   "cell_type": "code",
   "execution_count": 20,
   "metadata": {
    "scrolled": true
   },
   "outputs": [
    {
     "data": {
      "text/plain": [
       "<bound method HasProps.update of ColumnDataSource(id='789cd1c7-91c5-403c-aa9b-d130df82a0ae', ...)>"
      ]
     },
     "execution_count": 20,
     "metadata": {},
     "output_type": "execute_result"
    }
   ],
   "source": [
    "source.update"
   ]
  },
  {
   "cell_type": "code",
   "execution_count": 21,
   "metadata": {
    "scrolled": true
   },
   "outputs": [
    {
     "ename": "NameError",
     "evalue": "name 'city_dict' is not defined",
     "output_type": "error",
     "traceback": [
      "\u001b[0;31m---------------------------------------------------------------------------\u001b[0m",
      "\u001b[0;31mNameError\u001b[0m                                 Traceback (most recent call last)",
      "\u001b[0;32m<ipython-input-21-0b76dbc84c3a>\u001b[0m in \u001b[0;36m<module>\u001b[0;34m()\u001b[0m\n\u001b[0;32m----> 1\u001b[0;31m \u001b[0;34m[\u001b[0m\u001b[0mmodel\u001b[0m \u001b[0;32mfor\u001b[0m \u001b[0mmodel\u001b[0m \u001b[0;32min\u001b[0m \u001b[0mcity_dict\u001b[0m\u001b[0;34m[\u001b[0m\u001b[0mcity\u001b[0m\u001b[0;34m]\u001b[0m\u001b[0;34m.\u001b[0m\u001b[0mcolumns\u001b[0m\u001b[0;34m]\u001b[0m\u001b[0;34m\u001b[0m\u001b[0m\n\u001b[0m",
      "\u001b[0;31mNameError\u001b[0m: name 'city_dict' is not defined"
     ]
    }
   ],
   "source": [
    "[model for model in city_dict[city].columns]"
   ]
  },
  {
   "cell_type": "code",
   "execution_count": 99,
   "metadata": {},
   "outputs": [
    {
     "data": {
      "text/plain": [
       "['Boston, MA metro area All Residential Median Sale Price Trend Seasonality Additional',\n",
       " 'Boston, MA metro area All Residential Median Sale Price',\n",
       " 'Boston, MA metro area All Residential Median Sale Price Trend Seasonality',\n",
       " 'Boston, MA metro area All Residential Median Sale Price Baseline Trend',\n",
       " 'Boston, MA metro area All Residential Median Sale Price Best ARMA',\n",
       " 'Boston, MA metro area All Residential Median Sale Price Best ARMA Add',\n",
       " 'Boston, MA metro area All Residential Median Sale Price Best SARMA',\n",
       " 'index',\n",
       " 'y']"
      ]
     },
     "execution_count": 99,
     "metadata": {},
     "output_type": "execute_result"
    }
   ],
   "source": [
    "source.column_names"
   ]
  },
  {
   "cell_type": "markdown",
   "metadata": {},
   "source": [
    " # new"
   ]
  },
  {
   "cell_type": "code",
   "execution_count": 23,
   "metadata": {},
   "outputs": [],
   "source": [
    "#!pip install --upgrade pip"
   ]
  },
  {
   "cell_type": "code",
   "execution_count": 24,
   "metadata": {},
   "outputs": [],
   "source": [
    "from bokeh.io import curdoc \n",
    "from bokeh.plotting import figure\n",
    "from bokeh.models import ColumnDataSource, Select\n",
    "from bokeh.layouts import row\n",
    "from bokeh.io import gridplot, output_file, output_notebook, show\n",
    "from bokeh.plotting import figure\n",
    "from bokeh.models.widgets import Dropdown\n",
    "from bokeh.models.widgets import Select\n",
    "from bokeh.layouts import widgetbox\n",
    "\n",
    "#output_file(\"layout.html\")\n",
    "import pandas as pd\n",
    "import re\n",
    "import datetime"
   ]
  },
  {
   "cell_type": "code",
   "execution_count": 25,
   "metadata": {},
   "outputs": [],
   "source": [
    "df = pd.read_csv('./dsifolder_endofclass/bos_bokeh.csv')#, index_col=0)\n",
    "df['date'] = pd.to_datetime(df['Unnamed: 0'])\n",
    "df = df.drop('Unnamed: 0',axis=1)\n",
    "\n",
    "pred_cols = list(df.columns)\n",
    "pred_cols = pred_cols[1:7]\n",
    "error_cols = [col for col in df.columns if re.findall('Error',col)]"
   ]
  },
  {
   "cell_type": "code",
   "execution_count": 27,
   "metadata": {},
   "outputs": [],
   "source": [
    "menu_val = models\n",
    "cds = pd.DataFrame()\n",
    "model_pred_cols = []\n",
    "model_error_cols = []\n",
    "model_legs = []\n",
    "models = ['Best ARMA','Best ARMA Add','Best SARMA','Baseline Trend','Trend Seasonality','Trend Seasonality Additional']\n",
    "for model,pred_col,error_col in zip(models,pred_cols,error_cols): \n",
    "    if model in menu_val:\n",
    "        model_pred_cols.append(pred_col)\n",
    "        model_error_cols.append(error_col)\n",
    "        model_legs.append(model)\n",
    "cds = pd.concat([df[model_pred_cols],df[model_error_cols]],axis=1)\n",
    "cds = pd.concat([cds,df['date']],axis=1)\n",
    "cds = pd.concat([cds,df['Boston, MA metro area All Residential Median Sale Price']],axis=1)"
   ]
  },
  {
   "cell_type": "code",
   "execution_count": 28,
   "metadata": {
    "scrolled": false
   },
   "outputs": [
    {
     "data": {
      "text/plain": [
       "['Boston, MA metro area All Residential Median Sale Price Best ARMA',\n",
       " 'Boston, MA metro area All Residential Median Sale Price Best ARMA Add',\n",
       " 'Boston, MA metro area All Residential Median Sale Price Best SARMA',\n",
       " 'Boston, MA metro area All Residential Median Sale Price Baseline Trend',\n",
       " 'Boston, MA metro area All Residential Median Sale Price Trend Seasonality',\n",
       " 'Boston, MA metro area All Residential Median Sale Price Trend Seasonality Additional']"
      ]
     },
     "execution_count": 28,
     "metadata": {},
     "output_type": "execute_result"
    }
   ],
   "source": [
    "model_pred_cols"
   ]
  },
  {
   "cell_type": "code",
   "execution_count": 29,
   "metadata": {
    "collapsed": true
   },
   "outputs": [],
   "source": [
    "source = ColumnDataSource(cds)    "
   ]
  },
  {
   "cell_type": "code",
   "execution_count": 30,
   "metadata": {},
   "outputs": [],
   "source": [
    "    \n",
    "# source = ColumnDataSource(\n",
    "#         data=dict(\n",
    "#             a = df['Boston, MA metro area All Residential Median Sale Price'],\n",
    "#             b = df['Boston, MA metro area All Residential Median Sale Price Best ARMA'],\n",
    "#             x = df['date']\n",
    "#         )\n",
    "#     )\n"
   ]
  },
  {
   "cell_type": "code",
   "execution_count": 31,
   "metadata": {},
   "outputs": [
    {
     "data": {
      "text/html": [
       "<style>\n",
       ".output_wrapper, .output {\n",
       "    height:auto !important;\n",
       "    max-height:1000px;  /* your desired max-height here */\n",
       "}\n",
       ".output_scroll {\n",
       "    box-shadow:none !important;\n",
       "    webkit-box-shadow:none !important;\n",
       "}\n",
       "</style>\n",
       "\n",
       "\n"
      ],
      "text/plain": [
       "<IPython.core.display.HTML object>"
      ]
     },
     "metadata": {},
     "output_type": "display_data"
    }
   ],
   "source": [
    "%%html\n",
    "<style>\n",
    ".output_wrapper, .output {\n",
    "    height:auto !important;\n",
    "    max-height:1000px;  /* your desired max-height here */\n",
    "}\n",
    ".output_scroll {\n",
    "    box-shadow:none !important;\n",
    "    webkit-box-shadow:none !important;\n",
    "}\n",
    "</style>\n",
    "\n",
    "\n",
    "\n"
   ]
  },
  {
   "cell_type": "code",
   "execution_count": 32,
   "metadata": {},
   "outputs": [
    {
     "data": {
      "application/javascript": [
       "IPython.OutputArea.auto_scroll_threshold = 9999;"
      ],
      "text/plain": [
       "<IPython.core.display.Javascript object>"
      ]
     },
     "metadata": {},
     "output_type": "display_data"
    }
   ],
   "source": [
    "%%javascript \n",
    "IPython.OutputArea.auto_scroll_threshold = 9999;"
   ]
  },
  {
   "cell_type": "code",
   "execution_count": 33,
   "metadata": {},
   "outputs": [
    {
     "data": {
      "text/html": [
       "\n",
       "    <div class=\"bk-root\">\n",
       "        <a href=\"https://bokeh.pydata.org\" target=\"_blank\" class=\"bk-logo bk-logo-small bk-logo-notebook\"></a>\n",
       "        <span id=\"3019446f-f658-4205-9d69-999aaaefc3b6\">Loading BokehJS ...</span>\n",
       "    </div>"
      ]
     },
     "metadata": {},
     "output_type": "display_data"
    },
    {
     "data": {
      "application/javascript": [
       "\n",
       "(function(root) {\n",
       "  function now() {\n",
       "    return new Date();\n",
       "  }\n",
       "\n",
       "  var force = true;\n",
       "\n",
       "  if (typeof (root._bokeh_onload_callbacks) === \"undefined\" || force === true) {\n",
       "    root._bokeh_onload_callbacks = [];\n",
       "    root._bokeh_is_loading = undefined;\n",
       "  }\n",
       "\n",
       "\n",
       "  \n",
       "  if (typeof (root._bokeh_timeout) === \"undefined\" || force === true) {\n",
       "    root._bokeh_timeout = Date.now() + 5000;\n",
       "    root._bokeh_failed_load = false;\n",
       "  }\n",
       "\n",
       "  var NB_LOAD_WARNING = {'data': {'text/html':\n",
       "     \"<div style='background-color: #fdd'>\\n\"+\n",
       "     \"<p>\\n\"+\n",
       "     \"BokehJS does not appear to have successfully loaded. If loading BokehJS from CDN, this \\n\"+\n",
       "     \"may be due to a slow or bad network connection. Possible fixes:\\n\"+\n",
       "     \"</p>\\n\"+\n",
       "     \"<ul>\\n\"+\n",
       "     \"<li>re-rerun `output_notebook()` to attempt to load from CDN again, or</li>\\n\"+\n",
       "     \"<li>use INLINE resources instead, as so:</li>\\n\"+\n",
       "     \"</ul>\\n\"+\n",
       "     \"<code>\\n\"+\n",
       "     \"from bokeh.resources import INLINE\\n\"+\n",
       "     \"output_notebook(resources=INLINE)\\n\"+\n",
       "     \"</code>\\n\"+\n",
       "     \"</div>\"}};\n",
       "\n",
       "  function display_loaded() {\n",
       "    if (root.Bokeh !== undefined) {\n",
       "      var el = document.getElementById(\"3019446f-f658-4205-9d69-999aaaefc3b6\");\n",
       "      if (el != null) {\n",
       "        el.textContent = \"BokehJS \" + Bokeh.version + \" successfully loaded.\";\n",
       "      }\n",
       "    } else if (Date.now() < root._bokeh_timeout) {\n",
       "      setTimeout(display_loaded, 100)\n",
       "    }\n",
       "  }\n",
       "\n",
       "\n",
       "  function run_callbacks() {\n",
       "    try {\n",
       "      root._bokeh_onload_callbacks.forEach(function(callback) { callback() });\n",
       "    }\n",
       "    finally {\n",
       "      delete root._bokeh_onload_callbacks\n",
       "    }\n",
       "    console.info(\"Bokeh: all callbacks have finished\");\n",
       "  }\n",
       "\n",
       "  function load_libs(js_urls, callback) {\n",
       "    root._bokeh_onload_callbacks.push(callback);\n",
       "    if (root._bokeh_is_loading > 0) {\n",
       "      console.log(\"Bokeh: BokehJS is being loaded, scheduling callback at\", now());\n",
       "      return null;\n",
       "    }\n",
       "    if (js_urls == null || js_urls.length === 0) {\n",
       "      run_callbacks();\n",
       "      return null;\n",
       "    }\n",
       "    console.log(\"Bokeh: BokehJS not loaded, scheduling load and callback at\", now());\n",
       "    root._bokeh_is_loading = js_urls.length;\n",
       "    for (var i = 0; i < js_urls.length; i++) {\n",
       "      var url = js_urls[i];\n",
       "      var s = document.createElement('script');\n",
       "      s.src = url;\n",
       "      s.async = false;\n",
       "      s.onreadystatechange = s.onload = function() {\n",
       "        root._bokeh_is_loading--;\n",
       "        if (root._bokeh_is_loading === 0) {\n",
       "          console.log(\"Bokeh: all BokehJS libraries loaded\");\n",
       "          run_callbacks()\n",
       "        }\n",
       "      };\n",
       "      s.onerror = function() {\n",
       "        console.warn(\"failed to load library \" + url);\n",
       "      };\n",
       "      console.log(\"Bokeh: injecting script tag for BokehJS library: \", url);\n",
       "      document.getElementsByTagName(\"head\")[0].appendChild(s);\n",
       "    }\n",
       "  };var element = document.getElementById(\"3019446f-f658-4205-9d69-999aaaefc3b6\");\n",
       "  if (element == null) {\n",
       "    console.log(\"Bokeh: ERROR: autoload.js configured with elementid '3019446f-f658-4205-9d69-999aaaefc3b6' but no matching script tag was found. \")\n",
       "    return false;\n",
       "  }\n",
       "\n",
       "  var js_urls = [\"https://cdn.pydata.org/bokeh/release/bokeh-0.12.7.min.js\", \"https://cdn.pydata.org/bokeh/release/bokeh-widgets-0.12.7.min.js\", \"https://cdn.pydata.org/bokeh/release/bokeh-tables-0.12.7.min.js\", \"https://cdn.pydata.org/bokeh/release/bokeh-gl-0.12.7.min.js\"];\n",
       "\n",
       "  var inline_js = [\n",
       "    function(Bokeh) {\n",
       "      Bokeh.set_log_level(\"info\");\n",
       "    },\n",
       "    \n",
       "    function(Bokeh) {\n",
       "      \n",
       "    },\n",
       "    \n",
       "    function(Bokeh) {\n",
       "      \n",
       "      document.getElementById(\"3019446f-f658-4205-9d69-999aaaefc3b6\").textContent = \"BokehJS is loading...\";\n",
       "    },\n",
       "    function(Bokeh) {\n",
       "      console.log(\"Bokeh: injecting CSS: https://cdn.pydata.org/bokeh/release/bokeh-0.12.7.min.css\");\n",
       "      Bokeh.embed.inject_css(\"https://cdn.pydata.org/bokeh/release/bokeh-0.12.7.min.css\");\n",
       "      console.log(\"Bokeh: injecting CSS: https://cdn.pydata.org/bokeh/release/bokeh-widgets-0.12.7.min.css\");\n",
       "      Bokeh.embed.inject_css(\"https://cdn.pydata.org/bokeh/release/bokeh-widgets-0.12.7.min.css\");\n",
       "      console.log(\"Bokeh: injecting CSS: https://cdn.pydata.org/bokeh/release/bokeh-tables-0.12.7.min.css\");\n",
       "      Bokeh.embed.inject_css(\"https://cdn.pydata.org/bokeh/release/bokeh-tables-0.12.7.min.css\");\n",
       "    }\n",
       "  ];\n",
       "\n",
       "  function run_inline_js() {\n",
       "    \n",
       "    if ((root.Bokeh !== undefined) || (force === true)) {\n",
       "      for (var i = 0; i < inline_js.length; i++) {\n",
       "        inline_js[i].call(root, root.Bokeh);\n",
       "      }if (force === true) {\n",
       "        display_loaded();\n",
       "      }} else if (Date.now() < root._bokeh_timeout) {\n",
       "      setTimeout(run_inline_js, 100);\n",
       "    } else if (!root._bokeh_failed_load) {\n",
       "      console.log(\"Bokeh: BokehJS failed to load within specified timeout.\");\n",
       "      root._bokeh_failed_load = true;\n",
       "    } else if (force !== true) {\n",
       "      var cell = $(document.getElementById(\"3019446f-f658-4205-9d69-999aaaefc3b6\")).parents('.cell').data().cell;\n",
       "      cell.output_area.append_execute_result(NB_LOAD_WARNING)\n",
       "    }\n",
       "\n",
       "  }\n",
       "\n",
       "  if (root._bokeh_is_loading === 0) {\n",
       "    console.log(\"Bokeh: BokehJS loaded, going straight to plotting\");\n",
       "    run_inline_js();\n",
       "  } else {\n",
       "    load_libs(js_urls, function() {\n",
       "      console.log(\"Bokeh: BokehJS plotting callback run at\", now());\n",
       "      run_inline_js();\n",
       "    });\n",
       "  }\n",
       "}(window));"
      ]
     },
     "metadata": {},
     "output_type": "display_data"
    },
    {
     "data": {
      "text/html": [
       "\n",
       "    <div class=\"bk-root\">\n",
       "        <a href=\"https://bokeh.pydata.org\" target=\"_blank\" class=\"bk-logo bk-logo-small bk-logo-notebook\"></a>\n",
       "        <span id=\"7d7f5dfc-e2f8-43b9-9772-dfec313039a7\">Loading BokehJS ...</span>\n",
       "    </div>"
      ]
     },
     "metadata": {},
     "output_type": "display_data"
    },
    {
     "data": {
      "application/javascript": [
       "\n",
       "(function(root) {\n",
       "  function now() {\n",
       "    return new Date();\n",
       "  }\n",
       "\n",
       "  var force = true;\n",
       "\n",
       "  if (typeof (root._bokeh_onload_callbacks) === \"undefined\" || force === true) {\n",
       "    root._bokeh_onload_callbacks = [];\n",
       "    root._bokeh_is_loading = undefined;\n",
       "  }\n",
       "\n",
       "\n",
       "  \n",
       "  if (typeof (root._bokeh_timeout) === \"undefined\" || force === true) {\n",
       "    root._bokeh_timeout = Date.now() + 5000;\n",
       "    root._bokeh_failed_load = false;\n",
       "  }\n",
       "\n",
       "  var NB_LOAD_WARNING = {'data': {'text/html':\n",
       "     \"<div style='background-color: #fdd'>\\n\"+\n",
       "     \"<p>\\n\"+\n",
       "     \"BokehJS does not appear to have successfully loaded. If loading BokehJS from CDN, this \\n\"+\n",
       "     \"may be due to a slow or bad network connection. Possible fixes:\\n\"+\n",
       "     \"</p>\\n\"+\n",
       "     \"<ul>\\n\"+\n",
       "     \"<li>re-rerun `output_notebook()` to attempt to load from CDN again, or</li>\\n\"+\n",
       "     \"<li>use INLINE resources instead, as so:</li>\\n\"+\n",
       "     \"</ul>\\n\"+\n",
       "     \"<code>\\n\"+\n",
       "     \"from bokeh.resources import INLINE\\n\"+\n",
       "     \"output_notebook(resources=INLINE)\\n\"+\n",
       "     \"</code>\\n\"+\n",
       "     \"</div>\"}};\n",
       "\n",
       "  function display_loaded() {\n",
       "    if (root.Bokeh !== undefined) {\n",
       "      var el = document.getElementById(\"7d7f5dfc-e2f8-43b9-9772-dfec313039a7\");\n",
       "      if (el != null) {\n",
       "        el.textContent = \"BokehJS \" + Bokeh.version + \" successfully loaded.\";\n",
       "      }\n",
       "    } else if (Date.now() < root._bokeh_timeout) {\n",
       "      setTimeout(display_loaded, 100)\n",
       "    }\n",
       "  }\n",
       "\n",
       "\n",
       "  function run_callbacks() {\n",
       "    try {\n",
       "      root._bokeh_onload_callbacks.forEach(function(callback) { callback() });\n",
       "    }\n",
       "    finally {\n",
       "      delete root._bokeh_onload_callbacks\n",
       "    }\n",
       "    console.info(\"Bokeh: all callbacks have finished\");\n",
       "  }\n",
       "\n",
       "  function load_libs(js_urls, callback) {\n",
       "    root._bokeh_onload_callbacks.push(callback);\n",
       "    if (root._bokeh_is_loading > 0) {\n",
       "      console.log(\"Bokeh: BokehJS is being loaded, scheduling callback at\", now());\n",
       "      return null;\n",
       "    }\n",
       "    if (js_urls == null || js_urls.length === 0) {\n",
       "      run_callbacks();\n",
       "      return null;\n",
       "    }\n",
       "    console.log(\"Bokeh: BokehJS not loaded, scheduling load and callback at\", now());\n",
       "    root._bokeh_is_loading = js_urls.length;\n",
       "    for (var i = 0; i < js_urls.length; i++) {\n",
       "      var url = js_urls[i];\n",
       "      var s = document.createElement('script');\n",
       "      s.src = url;\n",
       "      s.async = false;\n",
       "      s.onreadystatechange = s.onload = function() {\n",
       "        root._bokeh_is_loading--;\n",
       "        if (root._bokeh_is_loading === 0) {\n",
       "          console.log(\"Bokeh: all BokehJS libraries loaded\");\n",
       "          run_callbacks()\n",
       "        }\n",
       "      };\n",
       "      s.onerror = function() {\n",
       "        console.warn(\"failed to load library \" + url);\n",
       "      };\n",
       "      console.log(\"Bokeh: injecting script tag for BokehJS library: \", url);\n",
       "      document.getElementsByTagName(\"head\")[0].appendChild(s);\n",
       "    }\n",
       "  };var element = document.getElementById(\"7d7f5dfc-e2f8-43b9-9772-dfec313039a7\");\n",
       "  if (element == null) {\n",
       "    console.log(\"Bokeh: ERROR: autoload.js configured with elementid '7d7f5dfc-e2f8-43b9-9772-dfec313039a7' but no matching script tag was found. \")\n",
       "    return false;\n",
       "  }\n",
       "\n",
       "  var js_urls = [\"https://cdn.pydata.org/bokeh/release/bokeh-0.12.7.min.js\", \"https://cdn.pydata.org/bokeh/release/bokeh-widgets-0.12.7.min.js\", \"https://cdn.pydata.org/bokeh/release/bokeh-tables-0.12.7.min.js\", \"https://cdn.pydata.org/bokeh/release/bokeh-gl-0.12.7.min.js\"];\n",
       "\n",
       "  var inline_js = [\n",
       "    function(Bokeh) {\n",
       "      Bokeh.set_log_level(\"info\");\n",
       "    },\n",
       "    \n",
       "    function(Bokeh) {\n",
       "      \n",
       "    },\n",
       "    \n",
       "    function(Bokeh) {\n",
       "      \n",
       "      document.getElementById(\"7d7f5dfc-e2f8-43b9-9772-dfec313039a7\").textContent = \"BokehJS is loading...\";\n",
       "    },\n",
       "    function(Bokeh) {\n",
       "      console.log(\"Bokeh: injecting CSS: https://cdn.pydata.org/bokeh/release/bokeh-0.12.7.min.css\");\n",
       "      Bokeh.embed.inject_css(\"https://cdn.pydata.org/bokeh/release/bokeh-0.12.7.min.css\");\n",
       "      console.log(\"Bokeh: injecting CSS: https://cdn.pydata.org/bokeh/release/bokeh-widgets-0.12.7.min.css\");\n",
       "      Bokeh.embed.inject_css(\"https://cdn.pydata.org/bokeh/release/bokeh-widgets-0.12.7.min.css\");\n",
       "      console.log(\"Bokeh: injecting CSS: https://cdn.pydata.org/bokeh/release/bokeh-tables-0.12.7.min.css\");\n",
       "      Bokeh.embed.inject_css(\"https://cdn.pydata.org/bokeh/release/bokeh-tables-0.12.7.min.css\");\n",
       "    }\n",
       "  ];\n",
       "\n",
       "  function run_inline_js() {\n",
       "    \n",
       "    if ((root.Bokeh !== undefined) || (force === true)) {\n",
       "      for (var i = 0; i < inline_js.length; i++) {\n",
       "        inline_js[i].call(root, root.Bokeh);\n",
       "      }if (force === true) {\n",
       "        display_loaded();\n",
       "      }} else if (Date.now() < root._bokeh_timeout) {\n",
       "      setTimeout(run_inline_js, 100);\n",
       "    } else if (!root._bokeh_failed_load) {\n",
       "      console.log(\"Bokeh: BokehJS failed to load within specified timeout.\");\n",
       "      root._bokeh_failed_load = true;\n",
       "    } else if (force !== true) {\n",
       "      var cell = $(document.getElementById(\"7d7f5dfc-e2f8-43b9-9772-dfec313039a7\")).parents('.cell').data().cell;\n",
       "      cell.output_area.append_execute_result(NB_LOAD_WARNING)\n",
       "    }\n",
       "\n",
       "  }\n",
       "\n",
       "  if (root._bokeh_is_loading === 0) {\n",
       "    console.log(\"Bokeh: BokehJS loaded, going straight to plotting\");\n",
       "    run_inline_js();\n",
       "  } else {\n",
       "    load_libs(js_urls, function() {\n",
       "      console.log(\"Bokeh: BokehJS plotting callback run at\", now());\n",
       "      run_inline_js();\n",
       "    });\n",
       "  }\n",
       "}(window));"
      ]
     },
     "metadata": {},
     "output_type": "display_data"
    },
    {
     "data": {
      "text/html": [
       "\n",
       "\n",
       "    <div class=\"bk-root\">\n",
       "        <div class=\"bk-plotdiv\" id=\"9081cc78-db94-4389-bff7-684e5efde766\"></div>\n",
       "    </div>\n",
       "<script type=\"text/javascript\">\n",
       "  \n",
       "  (function(root) {\n",
       "    function now() {\n",
       "      return new Date();\n",
       "    }\n",
       "  \n",
       "    var force = false;\n",
       "  \n",
       "    if (typeof (root._bokeh_onload_callbacks) === \"undefined\" || force === true) {\n",
       "      root._bokeh_onload_callbacks = [];\n",
       "      root._bokeh_is_loading = undefined;\n",
       "    }\n",
       "  \n",
       "  \n",
       "    \n",
       "    if (typeof (root._bokeh_timeout) === \"undefined\" || force === true) {\n",
       "      root._bokeh_timeout = Date.now() + 0;\n",
       "      root._bokeh_failed_load = false;\n",
       "    }\n",
       "  \n",
       "    var NB_LOAD_WARNING = {'data': {'text/html':\n",
       "       \"<div style='background-color: #fdd'>\\n\"+\n",
       "       \"<p>\\n\"+\n",
       "       \"BokehJS does not appear to have successfully loaded. If loading BokehJS from CDN, this \\n\"+\n",
       "       \"may be due to a slow or bad network connection. Possible fixes:\\n\"+\n",
       "       \"</p>\\n\"+\n",
       "       \"<ul>\\n\"+\n",
       "       \"<li>re-rerun `output_notebook()` to attempt to load from CDN again, or</li>\\n\"+\n",
       "       \"<li>use INLINE resources instead, as so:</li>\\n\"+\n",
       "       \"</ul>\\n\"+\n",
       "       \"<code>\\n\"+\n",
       "       \"from bokeh.resources import INLINE\\n\"+\n",
       "       \"output_notebook(resources=INLINE)\\n\"+\n",
       "       \"</code>\\n\"+\n",
       "       \"</div>\"}};\n",
       "  \n",
       "    function display_loaded() {\n",
       "      if (root.Bokeh !== undefined) {\n",
       "        var el = document.getElementById(\"9081cc78-db94-4389-bff7-684e5efde766\");\n",
       "        if (el != null) {\n",
       "          el.textContent = \"BokehJS \" + Bokeh.version + \" successfully loaded.\";\n",
       "        }\n",
       "      } else if (Date.now() < root._bokeh_timeout) {\n",
       "        setTimeout(display_loaded, 100)\n",
       "      }\n",
       "    }\n",
       "  \n",
       "  \n",
       "    function run_callbacks() {\n",
       "      try {\n",
       "        root._bokeh_onload_callbacks.forEach(function(callback) { callback() });\n",
       "      }\n",
       "      finally {\n",
       "        delete root._bokeh_onload_callbacks\n",
       "      }\n",
       "      console.info(\"Bokeh: all callbacks have finished\");\n",
       "    }\n",
       "  \n",
       "    function load_libs(js_urls, callback) {\n",
       "      root._bokeh_onload_callbacks.push(callback);\n",
       "      if (root._bokeh_is_loading > 0) {\n",
       "        console.log(\"Bokeh: BokehJS is being loaded, scheduling callback at\", now());\n",
       "        return null;\n",
       "      }\n",
       "      if (js_urls == null || js_urls.length === 0) {\n",
       "        run_callbacks();\n",
       "        return null;\n",
       "      }\n",
       "      console.log(\"Bokeh: BokehJS not loaded, scheduling load and callback at\", now());\n",
       "      root._bokeh_is_loading = js_urls.length;\n",
       "      for (var i = 0; i < js_urls.length; i++) {\n",
       "        var url = js_urls[i];\n",
       "        var s = document.createElement('script');\n",
       "        s.src = url;\n",
       "        s.async = false;\n",
       "        s.onreadystatechange = s.onload = function() {\n",
       "          root._bokeh_is_loading--;\n",
       "          if (root._bokeh_is_loading === 0) {\n",
       "            console.log(\"Bokeh: all BokehJS libraries loaded\");\n",
       "            run_callbacks()\n",
       "          }\n",
       "        };\n",
       "        s.onerror = function() {\n",
       "          console.warn(\"failed to load library \" + url);\n",
       "        };\n",
       "        console.log(\"Bokeh: injecting script tag for BokehJS library: \", url);\n",
       "        document.getElementsByTagName(\"head\")[0].appendChild(s);\n",
       "      }\n",
       "    };var element = document.getElementById(\"9081cc78-db94-4389-bff7-684e5efde766\");\n",
       "    if (element == null) {\n",
       "      console.log(\"Bokeh: ERROR: autoload.js configured with elementid '9081cc78-db94-4389-bff7-684e5efde766' but no matching script tag was found. \")\n",
       "      return false;\n",
       "    }\n",
       "  \n",
       "    var js_urls = [];\n",
       "  \n",
       "    var inline_js = [\n",
       "      function(Bokeh) {\n",
       "        (function() {\n",
       "          var fn = function() {\n",
       "            var docs_json = {\"2cb8b10b-ff0a-46ff-ba07-50b8c0680e98\":{\"roots\":{\"references\":[{\"attributes\":{\"callback\":null,\"column_names\":[\"Boston, MA metro area All Residential Median Sale Price Best ARMA\",\"Boston, MA metro area All Residential Median Sale Price Best ARMA Add\",\"Boston, MA metro area All Residential Median Sale Price Best SARMA\",\"Boston, MA metro area All Residential Median Sale Price Baseline Trend\",\"Boston, MA metro area All Residential Median Sale Price Trend Seasonality\",\"Boston, MA metro area All Residential Median Sale Price Trend Seasonality Additional\",\"Boston, MA metro area All Residential Median Sale Price Best ARMA Error\",\"Boston, MA metro area All Residential Median Sale Price Best ARMA Add Error\",\"Boston, MA metro area All Residential Median Sale Price Best SARMA Error\",\"Boston, MA metro area All Residential Median Sale Price Baseline Trend Error\",\"Boston, MA metro area All Residential Median Sale Price Trend Seasonality Error\",\"Boston, MA metro area All Residential Median Sale Price Trend Seasonality Additional Error\",\"date\",\"Boston, MA metro area All Residential Median Sale Price\",\"index\"],\"data\":{\"Boston, MA metro area All Residential Median Sale Price\":{\"__ndarray__\":\"AAAAAADgdUAAAAAAAHB3QAAAAAAAIHdAAAAAAACAdkAAAAAAAPB0QAAAAAAAoHRAAAAAAABAdUAAAAAAAJB1QAAAAAAAkHVAAAAAAABgdEAAAAAAAFB0QAAAAAAAIHVAAAAAAACAdkAAAAAAAMB3QAAAAAAAwHdAAAAAAACgd0AAAAAAAOB1QAAAAAAAgHVAAAAAAABQdkAAAAAAAOB1QAAAAAAA0HVAAAAAAAAAdEAAAAAAAJB1QAAAAAAAgHZAAAAAAAAgd0AAAAAAALB4QAAAAAAA0HhAAAAAAABgeEAAAAAAACB3QAAAAAAAgHZAAAAAAABwd0AAAAAAACB3QAAAAAAAIHdAAAAAAACAdUAAAAAAAAB3QAAAAAAAwHdAAAAAAAAAeUA=\",\"dtype\":\"float64\",\"shape\":[37]},\"Boston, MA metro area All Residential Median Sale Price Baseline Trend\":{\"__ndarray__\":\"u5p4VhQzdUC+mnhWFE91QBLwzatpZnVAZ0UjAb9zdUAQ8M2raXp1QLyaeFYUgXVAE/DNq2mOdUC8mnhWFKN1QBHwzatpvHVAEfDNq2ncdUC9mnhWFPF1QGZFIwG/+XVAZkUjAb8FdkBmRSMBvw92QGZFIwG/GXZAE/DNq2ksdkAT8M2raUJ2QGZFIwG/VXZAE/DNq2lqdkC8mnhWFHl2QL2aeFYUf3ZAZkUjAb99dkC8mnhWFId2QLyaeFYUo3ZAE/DNq2m4dkC8mnhWFMl2QBPwzatp3nZAZkUjAb/xdkC9mnhWFAd3QLyaeFYUH3dAZkUjAb81d0C8mnhWFE93QBHwzatpandAEfDNq2mId0BmRSMBv6d3QBPwzatpxHdAaUUjAb/ld0A=\",\"dtype\":\"float64\",\"shape\":[37]},\"Boston, MA metro area All Residential Median Sale Price Baseline Trend Error\":{\"__ndarray__\":\"gajsMHWdJUAXKjtMXQdBQN/+IENlmTtAkKnL7Q/EMEAAAr55NU0hwH9XE8+KIizAgQR882qaE8ABvJp4VhTzv38I+ObVNAbAEQHfvJrGN8Dfq4lnRRE6wOCsaCTgNyvAP6Yutz+QHkCQqcvtDwQ7QJCpy+0PZDpA3/4gQ2U5N0CBBHzzapoYwOCsaCTgtyrAABLwzatp+r9/VxPPiiIjwJ9XE8+K4iXAOCsaCfjtQ8B/VxPPiuIuwABeTTwrigHAgPuDDJXlGUBAVHaYum4+QN/+IENlGT9AkKnL7Q/kNkACQ2WHqev4P39XE8+K4iPAgExdbn8gDUAAXk08K4oHwEEEfPNqmhLAiIBvXk1DQMC/rGgk4PckwABIwDevptG/cKnL7Q+kMUA=\",\"dtype\":\"float64\",\"shape\":[37]},\"Boston, MA metro area All Residential Median Sale Price Best ARMA\":{\"__ndarray__\":\"70xif3zudUAFuTPC9zp3QKtoOJX0VndAIOYw3GYMd0BAlYFBIzV1QJoOZbtK5XRA0GYPUNTqdEDnGLTwAAt1QB07C3FxGHVABbFMgO9RdEC7nYi5dw11QFzx1JHCfnVAoFUZt8mjdkBeU0lnzul3QEk4kWHSkndAN4bfxwTudkCmWLxRXvZ1QAjh0NkAn3VAXW4ZmaokdkBRo0eaAJF2QC4bKqxQFHZA66/h9RbidEDq3/4O9390QHXXXHII9HVAjHqqY8mKd0BkVhT79qZ4QE5Lt/s7f3hAer9/1RZseECHvLz20dF2QD6QB3QyuXZAdP6uzixMd0DbywY8l9l2QH75mpDOyHZAlj+WOt7ZdUDC9sWKwoZ2QBRs082x0ndAYurZHoiheEA=\",\"dtype\":\"float64\",\"shape\":[37]},\"Boston, MA metro area All Residential Median Sale Price Best ARMA Add\":{\"__ndarray__\":\"Y+BPi8rYdUCI1sRRfTR3QGYIr689YndAqov704oKd0A1m/u7KVp1QHILMiOA8HRArL2l63fgdEBZVbfusSp1QMqWIUwwW3VARqEDfX1TdEDWym6/sDZ1QJ66n/bmjnVAXppuvqemdkAqyC/lauB3QO3BJPb2jHdA5yNqJKfadkBlSZ5m3OF1QLVCfVWPknVAqFUMS2zydUAJ7eTfy4l2QMA7O3jLJXZAK81BtSG+dEDxp/K2JGF0QGcqhTCz4HVADc73A5h1d0CkNhLTHIZ4QJS7rRY6bXhAwsw3uHVBeEDw8bE+kNZ2QOdp5e68qnZAW+pDlvgsd0AG0Uj10ct2QAaZA+sxw3ZA/0m8VLDzdUCpKdjuPX92QOa3p7hvz3dAAAAAAAAA+H8=\",\"dtype\":\"float64\",\"shape\":[37]},\"Boston, MA metro area All Residential Median Sale Price Best ARMA Add Error\":{\"__ndarray__\":\"AHh+wNLV3D//u5QdV8ENQIAZwutrjxDAQHVxf1pRIcB/zeb+booawH/cgswIIBTAAZWQFgXiF0ABqipShFMZQAGbNO/ZZwpAAHS9+AUF6T+fWtntF9YswECn7qe9uRvA/y5NN99TA8CAFeSXcjUAwAEJn+2EhAlAIYO7churKEABUJbkaca9vwC1Qn1Vj/K/AZbqPO1kF0D/oJ38ezklwEDwzg7echXAX6U5qDbEJ8DwgNWQtO0yQECzWu+Z6SNAQIPz/QBmFcCAruR2lvEEQAAbkVR6sRhA/z4zyEeK/j/Ag4NT8FsSQAD0tHJ3XgXAQGkFb9rBEECAvsutggsVQL++GT+FMxdAv38SLxXsHMDgyvokQhggQAHOb09x3+6/AAAAAAAA+H8=\",\"dtype\":\"float64\",\"shape\":[37]},\"Boston, MA metro area All Residential Median Sale Price Best ARMA Error\":{\"__ndarray__\":\"AdyZxP747L8AfSPmHoQKQABVNJxKegvAAMQchtuMIcAAUGVg0EgRwICmQ9muUhHAwEsm/OtKFUAg43zp4Z8gQH84Mb2j4x1AAPidZv8g7D9ftxMx964nwMFWPHWksBfAANCqjNvkAcAAr6mkM+cEwADbYzfPlgZAADkPBGc/JkAAp1i8UV72v/8F4dDZAP+/ANJIc7OqBUAgavRIEyAmwEDLhgorFBHAYP01vN5CLMBgARIQjwAxQEARZbTxfiFAAaOe6liyGsABOFPXCRLiP0AsLRIBMRRAAPR+/6ot6L+A3tBQgosTQAEfyAM6mQzAAcaAqJjpAUCACU3+MJoRQP+gQdlbzBVAgOWPpY53FsB/T4JOXU8eQAAVbNPNsfK/f2eFSfidF0A=\",\"dtype\":\"float64\",\"shape\":[37]},\"Boston, MA metro area All Residential Median Sale Price Best SARMA\":{\"__ndarray__\":\"mGB8+S8DdkAT8jE1TMd3QGe0KlY8WndADScmMvbgdkAxRbqh2Eh1QNH36lC5Y3RAa5XXqmkJdUB0YJ4hvh91QGJA4LdcoXRApX3XfkFBdEACcBXt3jx1QFd+r7GxmnVA7FBBB7xGdkAX5MnutAl4QHs1Kf31yXdAS+d8YKZrd0AMR5K8NDF2QIEfK8tZrXVA0vY25n/4dUDpma7BMCV2QNNawrkVXnVABHkyrAtydECst6GoxO50QMaE7HJPFnZAgQbWEECyd0ALan0Guvd4QB5vnjrhlnhAbODPqMZFeEBXL6yLEPx2QKg/ann2cHZAl/yh91EVd0BfLUmNZUJ3QEkzGF3G63ZAuV1EurHCdUAkQyBpqWl2QDsavUxKjHdATQrQ5gryeEA=\",\"dtype\":\"float64\",\"shape\":[37]},\"Boston, MA metro area All Residential Median Sale Price Best SARMA Error\":{\"__ndarray__\":\"AEwwvvyXAcDBhHxMDdMVwP8yWhUrHg3AAMOJiYw9GMCATJFuKDYWwH4XhIpXIw5AAEs1lCpLC0D/4meYdxAcQMHz9wNp1C1A/lmCKIG+/j8/AK6i3ZstwICV32tsrB7Af4lXX/yhDEDABXmyO20SwAD2alL66+O/gFqMwc8sCkDAwpEkL00UwP+/j5XlrAbAf0tCcgbgFUCAeqZrMEwRwEFLaY+RehxAAUGeDOuCHMCACsnraickQIHO3kQjbBpAANDAGgJIIsDAglqfge4RwIBwyLBijwxAAZQfMFc5+j8BVegpuvcBQACwgCsNE+4/QNqAF4KrFkCAr5akxjIBwIBb5nPRHApAQG4XkW6sEMCgm/fb0soiQADjcqHZ2glAAGbrXzLq6z8=\",\"dtype\":\"float64\",\"shape\":[37]},\"Boston, MA metro area All Residential Median Sale Price Trend Seasonality\":{\"__ndarray__\":\"oNMGOi3HdUAmNR/Azmh3QJ/TBjptPndA9ihcj8LtdkDP38lqeVd1QFZB4vDayXRAP7uA2FRYdUA/u4DYVD51QEp+seQX7XRAoNMGOu3Nc0Cj0wY6rbV0QEp+seQXiHVASn6x5NeZdkDR38lqeSl4QPYoXI/C8XdAn9MGOm2md0DQ38lqeR92QAHsjJuFnnVAP7uA2FQ0dkA/u4DYVBR2QPYoXI/Cr3VA9ihcj0JvdECg0wY6rUt1QKDTBjptMXZA9ihcj4JMd0AmNR/AzuJ4QJ/TBjpttnhA9ihcj8JreEB8inQVJOR2QFZB4vDaZ3ZAlBDWLar/dkA/u4DYVOp2QEp+seQXm3ZAoNMGOu15dUBKfrHkV2x2QPYoXI/CUndATH6x5Nd5eEA=\",\"dtype\":\"float64\",\"shape\":[37]},\"Boston, MA metro area All Residential Median Sale Price Trend Seasonality Additional\":{\"__ndarray__\":\"xggm+sPqdUAUOIETGIh3QHgoIaxrWHdAUt+Oh6L8dkByFSQOX2x1QDe89p5C2HRAt1loUotkdUAO6qAOgjF1QN1nFxBryXRA3o6HEpKBc0CCEziBy1J0QN+OhxLKInVAl60M/pM3dkD4xZJf9M93QF0FicOrqndAliPTy75nd0Cr5Y0RjOt1QHKfXUBUbnVAjdZojdZcdkA05NxnRzh2QLaBThtgx3VA+jtZLYendEBdQGwqTXJ1QI1ML1sJQnZAlBDWLXJAd0APJYR1uwt5QPMB7IwD4HhA9ihcj3qheEDIL5b8whB3QMrMzMxEmnZA8yhcj9Ixd0Bbj8L1wB53QPrsAmIbsXZA79p7ijRUdUDKzMzMnIx2QPTteChZg3dAAAAAAAAA+H8=\",\"dtype\":\"float64\",\"shape\":[37]},\"Boston, MA metro area All Residential Median Sale Price Trend Seasonality Additional Error\":{\"__ndarray__\":\"AIwRTPSH5b8AFDiBExj4vwA8lBDWNQzAwNS346EoH8CBXAWJwxcfwIAbXntPIQzAANwsNKlFAsDAfMVXfJ8XQIAEE/2d0ihAQSQOr73NK0AAEJzACVzGvwD4djyUUMa/gJrUfAAbEkAB8oslv+jvvwCk+nY8VPU/ATRuFpogDEAAVssbIxjnvwCOYKK/q/E/ABit0Rqt6b8ADTn32REWwP+V/GLJP+E/IX8nq+XwJMAAo7+T1bL9PwC5WWhS+w5AgUkI6xY5AMCCQwlh3e4WwADzAeyMA/C/QD0K16NeEMD/baDTBnruPwDLzMzMRPq/AIbrUbgWD0AAUArXo/CzP4DBRH8nuRtAf4gSwrrlBUBAzczMzNgcQIAFicNrUw5AAAAAAAAA+H8=\",\"dtype\":\"float64\",\"shape\":[37]},\"Boston, MA metro area All Residential Median Sale Price Trend Seasonality Error\":{\"__ndarray__\":\"AGEs+cXS+D8BZCuD/8TcPwCg0wY6bf6/QD0K16NwG8C/83eyWt4ZwACrIHF47QTAAD67gNhU+L+BMNHfyWoUQL820GkDXSRAIIwlv1hCIkCA6LSBTmsZwL6SXyz5BRrAAEp+seTX+b9A9HeyWl4awIF6FK5H4QjAAIBOG+i02b+A6O9ktbwPwAAB7Iybhf6/AMJEfyer+z8An11AbCoKwACF61G4HgBAQD0K16PQG8ABGEt+sRQRQAEYS36xpBNAgXoUrkdBBsABk5oPYGcJwABgLPnFkvk/AOpRuB6F578AwrpF9e0NQP+pvh0PJfg/QNt7inQVHEAAYaK/k9UKQMA20GkDnSBA/4Ox5BdL2D+/NtBpA3UiQIHC9ShcTxtAgDbQaQPFIEA=\",\"dtype\":\"float64\",\"shape\":[37]},\"date\":{\"__ndarray__\":\"AADANvlkdEIAAEAjoW50QgAAgHWbeHRCAADAx5WCdEIAAEC0PYx0QgAAgAY4lnRCAAAA89+fdEIAAEBF2ql0QgAAgJfUs3RCAACAuNe8dEIAAMAK0sZ0QgAAQPd50HRCAACASXTadEIAAAA2HOR0QgAAQIgW7nRCAACA2hD4dEIAAADHuAF1QgAAQBmzC3VCAADABVsVdUIAAABYVR91QgAAQKpPKXVCAAAAMaUydUIAAECDnzx1QgAAwG9HRnVCAAAAwkFQdUIAAICu6Vl1QgAAwADkY3VCAAAAU95tdUIAAIA/hnd1QgAAwJGAgXVCAABAfiiLdUIAAIDQIpV1QgAAwCIdn3VCAADAQyCodUIAAACWGrJ1QgAAgILCu3VCAADA1LzFdUI=\",\"dtype\":\"float64\",\"shape\":[37]},\"index\":[0,1,2,3,4,5,6,7,8,9,10,11,12,13,14,15,16,17,18,19,20,21,22,23,24,25,26,27,28,29,30,31,32,33,34,35,36]}},\"id\":\"6e481cc1-c089-4037-8c01-961944aaed7e\",\"type\":\"ColumnDataSource\"},{\"attributes\":{},\"id\":\"073f7201-15dd-440e-84eb-9dac58f812b8\",\"type\":\"BasicTickFormatter\"},{\"attributes\":{\"bottom_units\":\"screen\",\"fill_alpha\":{\"value\":0.5},\"fill_color\":{\"value\":\"lightgrey\"},\"left_units\":\"screen\",\"level\":\"overlay\",\"line_alpha\":{\"value\":1.0},\"line_color\":{\"value\":\"black\"},\"line_dash\":[4,4],\"line_width\":{\"value\":2},\"plot\":null,\"render_mode\":\"css\",\"right_units\":\"screen\",\"top_units\":\"screen\"},\"id\":\"69e0dbe8-6a5d-40d0-bea4-b270a3f782a9\",\"type\":\"BoxAnnotation\"},{\"attributes\":{\"data_source\":{\"id\":\"6e481cc1-c089-4037-8c01-961944aaed7e\",\"type\":\"ColumnDataSource\"},\"glyph\":{\"id\":\"906641b2-02b4-4b84-8089-ef509f768f5e\",\"type\":\"Line\"},\"hover_glyph\":null,\"muted_glyph\":null,\"nonselection_glyph\":{\"id\":\"8ae49b6d-3d27-479a-ad56-07655df85cc0\",\"type\":\"Line\"},\"selection_glyph\":null,\"view\":{\"id\":\"f75828a4-e660-44ab-90ec-c9342f134e04\",\"type\":\"CDSView\"}},\"id\":\"1a92375d-d475-4f4b-9b82-ba0058abd323\",\"type\":\"GlyphRenderer\"},{\"attributes\":{},\"id\":\"02bac55c-09a7-4c4a-be9c-9a2435c27d51\",\"type\":\"HelpTool\"},{\"attributes\":{\"months\":[0,2,4,6,8,10]},\"id\":\"985ecca9-f520-4e6e-aa93-72e2bb307f7a\",\"type\":\"MonthsTicker\"},{\"attributes\":{\"callback\":null,\"end\":30,\"start\":-30},\"id\":\"4959f4b5-b643-40ce-b61e-47fad8c20d57\",\"type\":\"Range1d\"},{\"attributes\":{\"months\":[0,4,8]},\"id\":\"95a0a232-4e2e-4f62-b259-9a0db7591a8e\",\"type\":\"MonthsTicker\"},{\"attributes\":{\"source\":{\"id\":\"6e481cc1-c089-4037-8c01-961944aaed7e\",\"type\":\"ColumnDataSource\"}},\"id\":\"f75828a4-e660-44ab-90ec-c9342f134e04\",\"type\":\"CDSView\"},{\"attributes\":{},\"id\":\"503e69aa-7344-4ad1-87b6-cb1f34e61e8d\",\"type\":\"DatetimeTickFormatter\"},{\"attributes\":{\"data_source\":{\"id\":\"6e481cc1-c089-4037-8c01-961944aaed7e\",\"type\":\"ColumnDataSource\"},\"glyph\":{\"id\":\"6ffb587e-dfb0-4932-b304-01ac30d3ad67\",\"type\":\"VBar\"},\"hover_glyph\":null,\"muted_glyph\":null,\"nonselection_glyph\":{\"id\":\"1c87a128-8182-4a6f-b677-2e2743b07418\",\"type\":\"VBar\"},\"selection_glyph\":null,\"view\":{\"id\":\"b2967f2b-7f57-4369-b3ea-5689e4262267\",\"type\":\"CDSView\"}},\"id\":\"1389e31d-4a67-4b3a-afb6-6a05b8a369d0\",\"type\":\"GlyphRenderer\"},{\"attributes\":{\"line_alpha\":{\"value\":0.1},\"line_color\":{\"value\":\"#1f77b4\"},\"line_width\":{\"value\":2},\"x\":{\"field\":\"date\"},\"y\":{\"field\":\"Boston, MA metro area All Residential Median Sale Price Trend Seasonality Additional\"}},\"id\":\"8ae49b6d-3d27-479a-ad56-07655df85cc0\",\"type\":\"Line\"},{\"attributes\":{\"label\":{\"value\":\"Best SARMA\"},\"renderers\":[{\"id\":\"475fea33-8c1e-4ce8-ab70-0307f4aab4ba\",\"type\":\"GlyphRenderer\"}]},\"id\":\"da18b304-900c-479c-a50b-c098f7a6459f\",\"type\":\"LegendItem\"},{\"attributes\":{\"source\":{\"id\":\"6e481cc1-c089-4037-8c01-961944aaed7e\",\"type\":\"ColumnDataSource\"}},\"id\":\"b2967f2b-7f57-4369-b3ea-5689e4262267\",\"type\":\"CDSView\"},{\"attributes\":{\"background_fill_alpha\":{\"value\":0.2},\"background_fill_color\":{\"value\":\"gray\"},\"below\":[{\"id\":\"a0735243-8436-4e73-b85f-71f3183d48f0\",\"type\":\"DatetimeAxis\"}],\"left\":[{\"id\":\"f393c953-a100-413c-ade5-ccd0eb105507\",\"type\":\"LinearAxis\"}],\"plot_height\":350,\"plot_width\":900,\"renderers\":[{\"id\":\"a0735243-8436-4e73-b85f-71f3183d48f0\",\"type\":\"DatetimeAxis\"},{\"id\":\"b2eca333-f752-4475-b6f8-a9eac4deed1f\",\"type\":\"Grid\"},{\"id\":\"f393c953-a100-413c-ade5-ccd0eb105507\",\"type\":\"LinearAxis\"},{\"id\":\"47a741c6-155c-4207-8366-3e8ab73d9f40\",\"type\":\"Grid\"},{\"id\":\"7f2791f3-f739-4d0c-96f4-bc49300f21fa\",\"type\":\"BoxAnnotation\"},{\"id\":\"c697e6c2-aba0-4360-84ef-34d863b81e15\",\"type\":\"Legend\"},{\"id\":\"88214f8f-20d2-4784-a0bc-ae387de445c6\",\"type\":\"GlyphRenderer\"},{\"id\":\"6a94ef40-fadf-406e-944b-22d680517d2e\",\"type\":\"GlyphRenderer\"},{\"id\":\"475fea33-8c1e-4ce8-ab70-0307f4aab4ba\",\"type\":\"GlyphRenderer\"},{\"id\":\"15b962e4-52c4-4472-960b-4cea7d08e385\",\"type\":\"GlyphRenderer\"},{\"id\":\"e79413d0-fafb-4a42-8ecb-19e71be79f64\",\"type\":\"GlyphRenderer\"},{\"id\":\"1a92375d-d475-4f4b-9b82-ba0058abd323\",\"type\":\"GlyphRenderer\"},{\"id\":\"bc9882b3-7a84-4477-a58b-7612306dbc71\",\"type\":\"GlyphRenderer\"}],\"title\":{\"id\":\"c5614a02-9915-4eb4-937e-07baed27da19\",\"type\":\"Title\"},\"toolbar\":{\"id\":\"d6df3b97-a0a5-450e-b867-8133cd3dfb62\",\"type\":\"Toolbar\"},\"toolbar_location\":null,\"x_range\":{\"id\":\"3ad9b869-87a0-45b6-a887-c3256461ab7a\",\"type\":\"DataRange1d\"},\"x_scale\":{\"id\":\"6b8d5b16-8106-4b1d-ba30-201acabb51c7\",\"type\":\"LinearScale\"},\"y_range\":{\"id\":\"1a2e838d-3b36-4371-b893-5fc0750106c5\",\"type\":\"DataRange1d\"},\"y_scale\":{\"id\":\"ce63623f-d3eb-46e3-9e39-40a999b3b632\",\"type\":\"LinearScale\"}},\"id\":\"e09d61a3-8d14-42a5-b582-1dd279edc312\",\"subtype\":\"Figure\",\"type\":\"Plot\"},{\"attributes\":{\"source\":{\"id\":\"6e481cc1-c089-4037-8c01-961944aaed7e\",\"type\":\"ColumnDataSource\"}},\"id\":\"90324bb2-dbe9-44f5-b025-9d02b67e25ba\",\"type\":\"CDSView\"},{\"attributes\":{},\"id\":\"57df7124-13a1-4fa8-90d9-8501b805b2c1\",\"type\":\"BasicTickFormatter\"},{\"attributes\":{\"fill_color\":{\"value\":\"#66a61e\"},\"line_color\":{\"value\":\"#66a61e\"},\"top\":{\"field\":\"Boston, MA metro area All Residential Median Sale Price Trend Seasonality Error\"},\"width\":{\"value\":0.5},\"x\":{\"field\":\"date\"}},\"id\":\"f2a3754b-c6d0-497d-b6f5-91b24feff27f\",\"type\":\"VBar\"},{\"attributes\":{\"click_policy\":\"hide\",\"items\":[{\"id\":\"4d0a1a15-905f-4161-ac4a-1922795154d6\",\"type\":\"LegendItem\"},{\"id\":\"eeced832-2cfb-45a3-a56f-bedcedcca0e7\",\"type\":\"LegendItem\"},{\"id\":\"fc4e4c79-9020-4f6b-9643-59c5f37824b8\",\"type\":\"LegendItem\"},{\"id\":\"a89d5692-04d5-42cf-9054-aef80b6bfe58\",\"type\":\"LegendItem\"},{\"id\":\"185dbb72-53cd-47bc-9174-07637efd4561\",\"type\":\"LegendItem\"},{\"id\":\"23db2851-317e-4ee2-be1b-5359964748ae\",\"type\":\"LegendItem\"}],\"location\":\"top_left\",\"plot\":{\"id\":\"e40f5590-be32-443c-b804-7c598e365270\",\"subtype\":\"Figure\",\"type\":\"Plot\"}},\"id\":\"a26dd622-f2a4-41a9-be8b-bcac2a356f31\",\"type\":\"Legend\"},{\"attributes\":{\"label\":{\"value\":\"Best ARMA Add\"},\"renderers\":[{\"id\":\"046f0575-8378-4774-ae41-3c58d025a383\",\"type\":\"GlyphRenderer\"}]},\"id\":\"eeced832-2cfb-45a3-a56f-bedcedcca0e7\",\"type\":\"LegendItem\"},{\"attributes\":{\"callback\":null},\"id\":\"3ad9b869-87a0-45b6-a887-c3256461ab7a\",\"type\":\"DataRange1d\"},{\"attributes\":{\"line_alpha\":{\"value\":0.1},\"line_color\":{\"value\":\"#1f77b4\"},\"line_width\":{\"value\":2},\"x\":{\"field\":\"date\"},\"y\":{\"field\":\"Boston, MA metro area All Residential Median Sale Price Best SARMA\"}},\"id\":\"91b2bc23-c3a7-4402-b9db-4c987a3f8e38\",\"type\":\"Line\"},{\"attributes\":{\"children\":[{\"id\":\"e09d61a3-8d14-42a5-b582-1dd279edc312\",\"subtype\":\"Figure\",\"type\":\"Plot\"}]},\"id\":\"e164d05d-288a-4756-97a4-3c98e21b9db6\",\"type\":\"Row\"},{\"attributes\":{\"plot\":null,\"text\":\"Boston, MA metro area Predictions\"},\"id\":\"c5614a02-9915-4eb4-937e-07baed27da19\",\"type\":\"Title\"},{\"attributes\":{\"data_source\":{\"id\":\"6e481cc1-c089-4037-8c01-961944aaed7e\",\"type\":\"ColumnDataSource\"},\"glyph\":{\"id\":\"a16aef66-9eb4-4be2-b277-dc2ce8ca55b0\",\"type\":\"Line\"},\"hover_glyph\":null,\"muted_glyph\":null,\"nonselection_glyph\":{\"id\":\"91b2bc23-c3a7-4402-b9db-4c987a3f8e38\",\"type\":\"Line\"},\"selection_glyph\":null,\"view\":{\"id\":\"90324bb2-dbe9-44f5-b025-9d02b67e25ba\",\"type\":\"CDSView\"}},\"id\":\"475fea33-8c1e-4ce8-ab70-0307f4aab4ba\",\"type\":\"GlyphRenderer\"},{\"attributes\":{\"days\":[1,8,15,22]},\"id\":\"e504a766-7c4a-43f6-94cb-db5e49345b85\",\"type\":\"DaysTicker\"},{\"attributes\":{\"active_drag\":\"auto\",\"active_inspect\":\"auto\",\"active_scroll\":\"auto\",\"active_tap\":\"auto\",\"tools\":[{\"id\":\"33405882-ee06-4ae9-b2f8-b7346364e6ad\",\"type\":\"PanTool\"},{\"id\":\"661c7ee7-146f-4a3f-b91b-f476f5819d8d\",\"type\":\"WheelZoomTool\"},{\"id\":\"83aee978-e39a-4ecf-adf6-353e5e896637\",\"type\":\"BoxZoomTool\"},{\"id\":\"ae235985-771d-4691-b141-61d918d3e289\",\"type\":\"SaveTool\"},{\"id\":\"08f4b206-8d23-4f3e-8d70-b8f7ea9a8e96\",\"type\":\"ResetTool\"},{\"id\":\"d169d841-ee7d-46f5-b5c6-fab242dd888b\",\"type\":\"HelpTool\"}]},\"id\":\"d6df3b97-a0a5-450e-b867-8133cd3dfb62\",\"type\":\"Toolbar\"},{\"attributes\":{\"days\":[1,15]},\"id\":\"f77d35c8-29cc-4dc3-a9c0-2650b87ccf18\",\"type\":\"DaysTicker\"},{\"attributes\":{\"line_color\":{\"value\":\"red\"},\"line_width\":{\"value\":2},\"x\":{\"field\":\"date\"},\"y\":{\"field\":\"Boston, MA metro area All Residential Median Sale Price\"}},\"id\":\"c78c9fc3-b39e-4236-b167-53610a023e13\",\"type\":\"Line\"},{\"attributes\":{\"months\":[0,6]},\"id\":\"971061cd-53c0-4db4-ad05-3dbdf8946e2a\",\"type\":\"MonthsTicker\"},{\"attributes\":{},\"id\":\"6b8d5b16-8106-4b1d-ba30-201acabb51c7\",\"type\":\"LinearScale\"},{\"attributes\":{\"months\":[0,1,2,3,4,5,6,7,8,9,10,11]},\"id\":\"dddcf0ab-30d1-44c8-baa7-1dff256b5e9e\",\"type\":\"MonthsTicker\"},{\"attributes\":{\"callback\":null},\"id\":\"1a2e838d-3b36-4371-b893-5fc0750106c5\",\"type\":\"DataRange1d\"},{\"attributes\":{\"line_color\":{\"value\":\"#e6ab02\"},\"line_width\":{\"value\":2},\"x\":{\"field\":\"date\"},\"y\":{\"field\":\"Boston, MA metro area All Residential Median Sale Price Trend Seasonality Additional\"}},\"id\":\"906641b2-02b4-4b84-8089-ef509f768f5e\",\"type\":\"Line\"},{\"attributes\":{},\"id\":\"ce63623f-d3eb-46e3-9e39-40a999b3b632\",\"type\":\"LinearScale\"},{\"attributes\":{\"days\":[1,2,3,4,5,6,7,8,9,10,11,12,13,14,15,16,17,18,19,20,21,22,23,24,25,26,27,28,29,30,31]},\"id\":\"b8fba5e2-4ee0-4360-9a08-e2731c3dd960\",\"type\":\"DaysTicker\"},{\"attributes\":{\"grid_line_color\":{\"value\":null},\"plot\":{\"id\":\"e09d61a3-8d14-42a5-b582-1dd279edc312\",\"subtype\":\"Figure\",\"type\":\"Plot\"},\"ticker\":{\"id\":\"78e57cb8-b8ca-4b39-aa7b-6f758df1090b\",\"type\":\"DatetimeTicker\"}},\"id\":\"b2eca333-f752-4475-b6f8-a9eac4deed1f\",\"type\":\"Grid\"},{\"attributes\":{\"active_drag\":\"auto\",\"active_inspect\":\"auto\",\"active_scroll\":\"auto\",\"active_tap\":\"auto\",\"tools\":[{\"id\":\"292c7954-d734-4095-841f-fa455d1fcb3b\",\"type\":\"PanTool\"},{\"id\":\"651ef9fd-ba8b-4d4a-90cb-529b6154f123\",\"type\":\"WheelZoomTool\"},{\"id\":\"ff09b457-d860-496c-b49a-ea563b35489f\",\"type\":\"BoxZoomTool\"},{\"id\":\"621f437a-82e5-46b9-bcd2-c47eba0b2b60\",\"type\":\"SaveTool\"},{\"id\":\"b844ca40-da3a-467e-9076-7f17034de9d4\",\"type\":\"ResetTool\"},{\"id\":\"02bac55c-09a7-4c4a-be9c-9a2435c27d51\",\"type\":\"HelpTool\"}]},\"id\":\"34d5d46e-936c-4841-a917-88e98c17bfa2\",\"type\":\"Toolbar\"},{\"attributes\":{\"formatter\":{\"id\":\"411aa5ed-ffa1-464b-9b37-814090b02b50\",\"type\":\"DatetimeTickFormatter\"},\"plot\":{\"id\":\"e09d61a3-8d14-42a5-b582-1dd279edc312\",\"subtype\":\"Figure\",\"type\":\"Plot\"},\"ticker\":{\"id\":\"78e57cb8-b8ca-4b39-aa7b-6f758df1090b\",\"type\":\"DatetimeTicker\"}},\"id\":\"a0735243-8436-4e73-b85f-71f3183d48f0\",\"type\":\"DatetimeAxis\"},{\"attributes\":{\"days\":[1,4,7,10,13,16,19,22,25,28]},\"id\":\"47f5ec5c-1ee8-41f6-99f7-74e1c2ba5206\",\"type\":\"DaysTicker\"},{\"attributes\":{\"num_minor_ticks\":5},\"id\":\"78e57cb8-b8ca-4b39-aa7b-6f758df1090b\",\"type\":\"DatetimeTicker\"},{\"attributes\":{\"days\":[1,8,15,22]},\"id\":\"c494cd57-bebe-43dc-bbee-30f048cde54b\",\"type\":\"DaysTicker\"},{\"attributes\":{},\"id\":\"a6f95d62-2023-46d0-9bb8-00a68f31952e\",\"type\":\"BasicTicker\"},{\"attributes\":{\"base\":60,\"mantissas\":[1,2,5,10,15,20,30],\"max_interval\":1800000.0,\"min_interval\":1000.0,\"num_minor_ticks\":0},\"id\":\"89bd2ebe-b68d-4b2a-a743-26dea8af4809\",\"type\":\"AdaptiveTicker\"},{\"attributes\":{\"dimension\":1,\"grid_line_alpha\":{\"value\":0.5},\"grid_line_color\":{\"value\":\"black\"},\"grid_line_dash\":[6,4],\"plot\":{\"id\":\"e09d61a3-8d14-42a5-b582-1dd279edc312\",\"subtype\":\"Figure\",\"type\":\"Plot\"},\"ticker\":{\"id\":\"a6f95d62-2023-46d0-9bb8-00a68f31952e\",\"type\":\"BasicTicker\"}},\"id\":\"47a741c6-155c-4207-8366-3e8ab73d9f40\",\"type\":\"Grid\"},{\"attributes\":{},\"id\":\"411aa5ed-ffa1-464b-9b37-814090b02b50\",\"type\":\"DatetimeTickFormatter\"},{\"attributes\":{\"base\":24,\"mantissas\":[1,2,4,6,8,12],\"max_interval\":43200000.0,\"min_interval\":3600000.0,\"num_minor_ticks\":0},\"id\":\"e00afda9-5627-4cd9-8216-4beea8c002cd\",\"type\":\"AdaptiveTicker\"},{\"attributes\":{\"data_source\":{\"id\":\"6e481cc1-c089-4037-8c01-961944aaed7e\",\"type\":\"ColumnDataSource\"},\"glyph\":{\"id\":\"b79b0db2-17fc-4c36-9777-06b533a6a78a\",\"type\":\"VBar\"},\"hover_glyph\":null,\"muted_glyph\":null,\"nonselection_glyph\":{\"id\":\"3db770dd-1c6b-4bd3-b93d-01497b57736f\",\"type\":\"VBar\"},\"selection_glyph\":null,\"view\":{\"id\":\"6e563d1e-cd0f-43f8-a249-eb9132029342\",\"type\":\"CDSView\"}},\"id\":\"2d2cd67d-ab72-406a-8f93-187094ff5392\",\"type\":\"GlyphRenderer\"},{\"attributes\":{},\"id\":\"1cc3c57b-9742-4339-bff8-a240fe63261f\",\"type\":\"YearsTicker\"},{\"attributes\":{\"formatter\":{\"id\":\"073f7201-15dd-440e-84eb-9dac58f812b8\",\"type\":\"BasicTickFormatter\"},\"plot\":{\"id\":\"e09d61a3-8d14-42a5-b582-1dd279edc312\",\"subtype\":\"Figure\",\"type\":\"Plot\"},\"ticker\":{\"id\":\"a6f95d62-2023-46d0-9bb8-00a68f31952e\",\"type\":\"BasicTicker\"}},\"id\":\"f393c953-a100-413c-ade5-ccd0eb105507\",\"type\":\"LinearAxis\"},{\"attributes\":{\"plot\":null,\"text\":\"Boston, MA metro area Errors\"},\"id\":\"0047d903-bcd8-4ee6-85bf-49e1bab863a9\",\"type\":\"Title\"},{\"attributes\":{\"fill_color\":{\"value\":\"#7570b3\"},\"line_color\":{\"value\":\"#7570b3\"},\"top\":{\"field\":\"Boston, MA metro area All Residential Median Sale Price Best SARMA Error\"},\"width\":{\"value\":0.5},\"x\":{\"field\":\"date\"}},\"id\":\"b79b0db2-17fc-4c36-9777-06b533a6a78a\",\"type\":\"VBar\"},{\"attributes\":{\"bottom_units\":\"screen\",\"fill_alpha\":{\"value\":0.5},\"fill_color\":{\"value\":\"lightgrey\"},\"left_units\":\"screen\",\"level\":\"overlay\",\"line_alpha\":{\"value\":1.0},\"line_color\":{\"value\":\"black\"},\"line_dash\":[4,4],\"line_width\":{\"value\":2},\"plot\":null,\"render_mode\":\"css\",\"right_units\":\"screen\",\"top_units\":\"screen\"},\"id\":\"7f2791f3-f739-4d0c-96f4-bc49300f21fa\",\"type\":\"BoxAnnotation\"},{\"attributes\":{},\"id\":\"33405882-ee06-4ae9-b2f8-b7346364e6ad\",\"type\":\"PanTool\"},{\"attributes\":{\"fill_alpha\":{\"value\":0.1},\"fill_color\":{\"value\":\"#1f77b4\"},\"line_alpha\":{\"value\":0.1},\"line_color\":{\"value\":\"#1f77b4\"},\"top\":{\"field\":\"Boston, MA metro area All Residential Median Sale Price Best ARMA Error\"},\"width\":{\"value\":0.5},\"x\":{\"field\":\"date\"}},\"id\":\"1c87a128-8182-4a6f-b677-2e2743b07418\",\"type\":\"VBar\"},{\"attributes\":{\"plot\":{\"id\":\"e40f5590-be32-443c-b804-7c598e365270\",\"subtype\":\"Figure\",\"type\":\"Plot\"},\"ticker\":{\"id\":\"dceae907-f87f-44ad-be97-b32878cffd5e\",\"type\":\"DatetimeTicker\"}},\"id\":\"3e91d51a-5415-4c7c-adaf-dc8f3409e413\",\"type\":\"Grid\"},{\"attributes\":{\"line_color\":{\"value\":\"#1b9e77\"},\"line_width\":{\"value\":2},\"x\":{\"field\":\"date\"},\"y\":{\"field\":\"Boston, MA metro area All Residential Median Sale Price Best ARMA\"}},\"id\":\"5d14880b-3b97-438d-be29-9d548d5fc370\",\"type\":\"Line\"},{\"attributes\":{\"label\":{\"value\":\"Best SARMA\"},\"renderers\":[{\"id\":\"2d2cd67d-ab72-406a-8f93-187094ff5392\",\"type\":\"GlyphRenderer\"}]},\"id\":\"fc4e4c79-9020-4f6b-9643-59c5f37824b8\",\"type\":\"LegendItem\"},{\"attributes\":{\"background_fill_alpha\":{\"value\":0.2},\"background_fill_color\":{\"value\":\"gray\"},\"below\":[{\"id\":\"50f55db6-1501-4eef-b48b-88f9f7972d43\",\"type\":\"DatetimeAxis\"}],\"left\":[{\"id\":\"eac357b0-11f7-4217-a135-5c3510fc611f\",\"type\":\"LinearAxis\"}],\"plot_height\":350,\"plot_width\":900,\"renderers\":[{\"id\":\"50f55db6-1501-4eef-b48b-88f9f7972d43\",\"type\":\"DatetimeAxis\"},{\"id\":\"3e91d51a-5415-4c7c-adaf-dc8f3409e413\",\"type\":\"Grid\"},{\"id\":\"eac357b0-11f7-4217-a135-5c3510fc611f\",\"type\":\"LinearAxis\"},{\"id\":\"88ae1cfc-d5ae-4871-a6aa-682e6ab4ea98\",\"type\":\"Grid\"},{\"id\":\"69e0dbe8-6a5d-40d0-bea4-b270a3f782a9\",\"type\":\"BoxAnnotation\"},{\"id\":\"a26dd622-f2a4-41a9-be8b-bcac2a356f31\",\"type\":\"Legend\"},{\"id\":\"1389e31d-4a67-4b3a-afb6-6a05b8a369d0\",\"type\":\"GlyphRenderer\"},{\"id\":\"046f0575-8378-4774-ae41-3c58d025a383\",\"type\":\"GlyphRenderer\"},{\"id\":\"2d2cd67d-ab72-406a-8f93-187094ff5392\",\"type\":\"GlyphRenderer\"},{\"id\":\"64dcdc45-ace2-43c9-b877-a8eee2e6dce9\",\"type\":\"GlyphRenderer\"},{\"id\":\"2c19154a-b7ba-4714-8450-cfe4d4e72cd2\",\"type\":\"GlyphRenderer\"},{\"id\":\"f2d40531-f397-4d63-8504-bf1b837b3f46\",\"type\":\"GlyphRenderer\"}],\"title\":{\"id\":\"0047d903-bcd8-4ee6-85bf-49e1bab863a9\",\"type\":\"Title\"},\"toolbar\":{\"id\":\"34d5d46e-936c-4841-a917-88e98c17bfa2\",\"type\":\"Toolbar\"},\"toolbar_location\":null,\"x_range\":{\"id\":\"3ad9b869-87a0-45b6-a887-c3256461ab7a\",\"type\":\"DataRange1d\"},\"x_scale\":{\"id\":\"74db70a9-00f5-4cd1-8056-1f315d3975f3\",\"type\":\"LinearScale\"},\"y_range\":{\"id\":\"4959f4b5-b643-40ce-b61e-47fad8c20d57\",\"type\":\"Range1d\"},\"y_scale\":{\"id\":\"b283e427-b6e3-4413-99d8-c3815a386234\",\"type\":\"LinearScale\"}},\"id\":\"e40f5590-be32-443c-b804-7c598e365270\",\"subtype\":\"Figure\",\"type\":\"Plot\"},{\"attributes\":{},\"id\":\"661c7ee7-146f-4a3f-b91b-f476f5819d8d\",\"type\":\"WheelZoomTool\"},{\"attributes\":{\"children\":[{\"id\":\"e40f5590-be32-443c-b804-7c598e365270\",\"subtype\":\"Figure\",\"type\":\"Plot\"}]},\"id\":\"d83051b4-8ff3-4aae-b271-69cc180042b3\",\"type\":\"Row\"},{\"attributes\":{\"overlay\":{\"id\":\"7f2791f3-f739-4d0c-96f4-bc49300f21fa\",\"type\":\"BoxAnnotation\"}},\"id\":\"83aee978-e39a-4ecf-adf6-353e5e896637\",\"type\":\"BoxZoomTool\"},{\"attributes\":{},\"id\":\"74db70a9-00f5-4cd1-8056-1f315d3975f3\",\"type\":\"LinearScale\"},{\"attributes\":{},\"id\":\"ae235985-771d-4691-b141-61d918d3e289\",\"type\":\"SaveTool\"},{\"attributes\":{\"line_color\":{\"value\":\"#e7298a\"},\"line_width\":{\"value\":2},\"x\":{\"field\":\"date\"},\"y\":{\"field\":\"Boston, MA metro area All Residential Median Sale Price Baseline Trend\"}},\"id\":\"ac9345ea-b6a0-4d5d-83ea-bff242736ba7\",\"type\":\"Line\"},{\"attributes\":{\"line_alpha\":{\"value\":0.1},\"line_color\":{\"value\":\"#1f77b4\"},\"line_width\":{\"value\":2},\"x\":{\"field\":\"date\"},\"y\":{\"field\":\"Boston, MA metro area All Residential Median Sale Price Baseline Trend\"}},\"id\":\"170241a5-9723-459b-b997-8cd0faa29704\",\"type\":\"Line\"},{\"attributes\":{},\"id\":\"08f4b206-8d23-4f3e-8d70-b8f7ea9a8e96\",\"type\":\"ResetTool\"},{\"attributes\":{},\"id\":\"d169d841-ee7d-46f5-b5c6-fab242dd888b\",\"type\":\"HelpTool\"},{\"attributes\":{\"formatter\":{\"id\":\"57df7124-13a1-4fa8-90d9-8501b805b2c1\",\"type\":\"BasicTickFormatter\"},\"plot\":{\"id\":\"e40f5590-be32-443c-b804-7c598e365270\",\"subtype\":\"Figure\",\"type\":\"Plot\"},\"ticker\":{\"id\":\"4b971045-4f8f-4682-94d4-bb88a6bad934\",\"type\":\"BasicTicker\"}},\"id\":\"eac357b0-11f7-4217-a135-5c3510fc611f\",\"type\":\"LinearAxis\"},{\"attributes\":{\"data_source\":{\"id\":\"6e481cc1-c089-4037-8c01-961944aaed7e\",\"type\":\"ColumnDataSource\"},\"glyph\":{\"id\":\"5d14880b-3b97-438d-be29-9d548d5fc370\",\"type\":\"Line\"},\"hover_glyph\":null,\"muted_glyph\":null,\"nonselection_glyph\":{\"id\":\"61595821-2b93-4e9e-9850-ba62c7944f01\",\"type\":\"Line\"},\"selection_glyph\":null,\"view\":{\"id\":\"22159b21-cf11-4d3d-9e50-c4c105525bbd\",\"type\":\"CDSView\"}},\"id\":\"88214f8f-20d2-4784-a0bc-ae387de445c6\",\"type\":\"GlyphRenderer\"},{\"attributes\":{\"label\":{\"value\":\"Trend Seasonality Additional\"},\"renderers\":[{\"id\":\"f2d40531-f397-4d63-8504-bf1b837b3f46\",\"type\":\"GlyphRenderer\"}]},\"id\":\"23db2851-317e-4ee2-be1b-5359964748ae\",\"type\":\"LegendItem\"},{\"attributes\":{\"data_source\":{\"id\":\"6e481cc1-c089-4037-8c01-961944aaed7e\",\"type\":\"ColumnDataSource\"},\"glyph\":{\"id\":\"ac9345ea-b6a0-4d5d-83ea-bff242736ba7\",\"type\":\"Line\"},\"hover_glyph\":null,\"muted_glyph\":null,\"nonselection_glyph\":{\"id\":\"170241a5-9723-459b-b997-8cd0faa29704\",\"type\":\"Line\"},\"selection_glyph\":null,\"view\":{\"id\":\"f7f28388-0e24-4ce2-aa7e-d9ca8642b377\",\"type\":\"CDSView\"}},\"id\":\"15b962e4-52c4-4472-960b-4cea7d08e385\",\"type\":\"GlyphRenderer\"},{\"attributes\":{\"base\":60,\"mantissas\":[1,2,5,10,15,20,30],\"max_interval\":1800000.0,\"min_interval\":1000.0,\"num_minor_ticks\":0},\"id\":\"0f319172-a5ac-4533-930e-22db33358505\",\"type\":\"AdaptiveTicker\"},{\"attributes\":{\"line_alpha\":{\"value\":0.1},\"line_color\":{\"value\":\"#1f77b4\"},\"line_width\":{\"value\":2},\"x\":{\"field\":\"date\"},\"y\":{\"field\":\"Boston, MA metro area All Residential Median Sale Price Best ARMA\"}},\"id\":\"61595821-2b93-4e9e-9850-ba62c7944f01\",\"type\":\"Line\"},{\"attributes\":{\"source\":{\"id\":\"6e481cc1-c089-4037-8c01-961944aaed7e\",\"type\":\"ColumnDataSource\"}},\"id\":\"f7f28388-0e24-4ce2-aa7e-d9ca8642b377\",\"type\":\"CDSView\"},{\"attributes\":{\"fill_color\":{\"value\":\"#e7298a\"},\"line_color\":{\"value\":\"#e7298a\"},\"top\":{\"field\":\"Boston, MA metro area All Residential Median Sale Price Baseline Trend Error\"},\"width\":{\"value\":0.5},\"x\":{\"field\":\"date\"}},\"id\":\"d321196a-c80e-4b3a-9aa2-076ec5e0521f\",\"type\":\"VBar\"},{\"attributes\":{\"data_source\":{\"id\":\"6e481cc1-c089-4037-8c01-961944aaed7e\",\"type\":\"ColumnDataSource\"},\"glyph\":{\"id\":\"d321196a-c80e-4b3a-9aa2-076ec5e0521f\",\"type\":\"VBar\"},\"hover_glyph\":null,\"muted_glyph\":null,\"nonselection_glyph\":{\"id\":\"9b444631-11fc-4ee0-a811-f7d58572c8d6\",\"type\":\"VBar\"},\"selection_glyph\":null,\"view\":{\"id\":\"573a9d33-2067-4edf-ab7a-07de94fbcf2c\",\"type\":\"CDSView\"}},\"id\":\"64dcdc45-ace2-43c9-b877-a8eee2e6dce9\",\"type\":\"GlyphRenderer\"},{\"attributes\":{},\"id\":\"b283e427-b6e3-4413-99d8-c3815a386234\",\"type\":\"LinearScale\"},{\"attributes\":{\"source\":{\"id\":\"6e481cc1-c089-4037-8c01-961944aaed7e\",\"type\":\"ColumnDataSource\"}},\"id\":\"22159b21-cf11-4d3d-9e50-c4c105525bbd\",\"type\":\"CDSView\"},{\"attributes\":{\"label\":{\"value\":\"Trend Seasonality\"},\"renderers\":[{\"id\":\"e79413d0-fafb-4a42-8ecb-19e71be79f64\",\"type\":\"GlyphRenderer\"}]},\"id\":\"9b2185b8-13b6-4b34-8f09-813b28f1c0b1\",\"type\":\"LegendItem\"},{\"attributes\":{\"fill_alpha\":{\"value\":0.1},\"fill_color\":{\"value\":\"#1f77b4\"},\"line_alpha\":{\"value\":0.1},\"line_color\":{\"value\":\"#1f77b4\"},\"top\":{\"field\":\"Boston, MA metro area All Residential Median Sale Price Trend Seasonality Additional Error\"},\"width\":{\"value\":0.5},\"x\":{\"field\":\"date\"}},\"id\":\"d85a164e-62c3-4607-9fdd-f8aee0952588\",\"type\":\"VBar\"},{\"attributes\":{\"days\":[1,15]},\"id\":\"f77cced7-7ae3-42a8-90cf-58294e4aa47f\",\"type\":\"DaysTicker\"},{\"attributes\":{\"source\":{\"id\":\"6e481cc1-c089-4037-8c01-961944aaed7e\",\"type\":\"ColumnDataSource\"}},\"id\":\"573a9d33-2067-4edf-ab7a-07de94fbcf2c\",\"type\":\"CDSView\"},{\"attributes\":{\"max_interval\":500.0,\"num_minor_ticks\":0},\"id\":\"4c7b6dc9-66b3-4bf9-99cd-5e43fbc4060b\",\"type\":\"AdaptiveTicker\"},{\"attributes\":{\"dimension\":1,\"plot\":{\"id\":\"e40f5590-be32-443c-b804-7c598e365270\",\"subtype\":\"Figure\",\"type\":\"Plot\"},\"ticker\":{\"id\":\"4b971045-4f8f-4682-94d4-bb88a6bad934\",\"type\":\"BasicTicker\"}},\"id\":\"88ae1cfc-d5ae-4871-a6aa-682e6ab4ea98\",\"type\":\"Grid\"},{\"attributes\":{\"fill_color\":{\"value\":\"#e6ab02\"},\"line_color\":{\"value\":\"#e6ab02\"},\"top\":{\"field\":\"Boston, MA metro area All Residential Median Sale Price Trend Seasonality Additional Error\"},\"width\":{\"value\":0.5},\"x\":{\"field\":\"date\"}},\"id\":\"8a13bbf6-3c13-41e6-a307-eb2352f0ee9b\",\"type\":\"VBar\"},{\"attributes\":{\"days\":[1,4,7,10,13,16,19,22,25,28]},\"id\":\"bd9fc48f-a8e8-4d56-9ed1-75794e701267\",\"type\":\"DaysTicker\"},{\"attributes\":{\"formatter\":{\"id\":\"503e69aa-7344-4ad1-87b6-cb1f34e61e8d\",\"type\":\"DatetimeTickFormatter\"},\"plot\":{\"id\":\"e40f5590-be32-443c-b804-7c598e365270\",\"subtype\":\"Figure\",\"type\":\"Plot\"},\"ticker\":{\"id\":\"dceae907-f87f-44ad-be97-b32878cffd5e\",\"type\":\"DatetimeTicker\"}},\"id\":\"50f55db6-1501-4eef-b48b-88f9f7972d43\",\"type\":\"DatetimeAxis\"},{\"attributes\":{\"fill_alpha\":{\"value\":0.1},\"fill_color\":{\"value\":\"#1f77b4\"},\"line_alpha\":{\"value\":0.1},\"line_color\":{\"value\":\"#1f77b4\"},\"top\":{\"field\":\"Boston, MA metro area All Residential Median Sale Price Baseline Trend Error\"},\"width\":{\"value\":0.5},\"x\":{\"field\":\"date\"}},\"id\":\"9b444631-11fc-4ee0-a811-f7d58572c8d6\",\"type\":\"VBar\"},{\"attributes\":{\"days\":[1,2,3,4,5,6,7,8,9,10,11,12,13,14,15,16,17,18,19,20,21,22,23,24,25,26,27,28,29,30,31]},\"id\":\"9599f309-f0b1-4197-a72a-c2d2751eef5e\",\"type\":\"DaysTicker\"},{\"attributes\":{\"line_color\":{\"value\":\"#66a61e\"},\"line_width\":{\"value\":2},\"x\":{\"field\":\"date\"},\"y\":{\"field\":\"Boston, MA metro area All Residential Median Sale Price Trend Seasonality\"}},\"id\":\"1f10f8d5-aa63-4a1c-8cb9-7ebb9958c290\",\"type\":\"Line\"},{\"attributes\":{\"num_minor_ticks\":5},\"id\":\"dceae907-f87f-44ad-be97-b32878cffd5e\",\"type\":\"DatetimeTicker\"},{\"attributes\":{},\"id\":\"4b971045-4f8f-4682-94d4-bb88a6bad934\",\"type\":\"BasicTicker\"},{\"attributes\":{\"base\":24,\"mantissas\":[1,2,4,6,8,12],\"max_interval\":43200000.0,\"min_interval\":3600000.0,\"num_minor_ticks\":0},\"id\":\"57c39d85-719a-42cf-9729-c1e52bcf677b\",\"type\":\"AdaptiveTicker\"},{\"attributes\":{\"label\":{\"value\":\"Baseline Trend\"},\"renderers\":[{\"id\":\"64dcdc45-ace2-43c9-b877-a8eee2e6dce9\",\"type\":\"GlyphRenderer\"}]},\"id\":\"a89d5692-04d5-42cf-9054-aef80b6bfe58\",\"type\":\"LegendItem\"},{\"attributes\":{\"source\":{\"id\":\"6e481cc1-c089-4037-8c01-961944aaed7e\",\"type\":\"ColumnDataSource\"}},\"id\":\"aed6cbae-bb3f-41d7-a324-1d5fb624b09c\",\"type\":\"CDSView\"},{\"attributes\":{\"source\":{\"id\":\"6e481cc1-c089-4037-8c01-961944aaed7e\",\"type\":\"ColumnDataSource\"}},\"id\":\"e0977305-2be6-4d51-9f44-7c0313f80391\",\"type\":\"CDSView\"},{\"attributes\":{\"months\":[0,1,2,3,4,5,6,7,8,9,10,11]},\"id\":\"1a7052bc-cc7a-4cda-8da5-6cff56e36103\",\"type\":\"MonthsTicker\"},{\"attributes\":{\"line_alpha\":{\"value\":0.1},\"line_color\":{\"value\":\"#1f77b4\"},\"line_width\":{\"value\":2},\"x\":{\"field\":\"date\"},\"y\":{\"field\":\"Boston, MA metro area All Residential Median Sale Price Trend Seasonality\"}},\"id\":\"4306a806-01b2-4f24-84f2-f49d8a557246\",\"type\":\"Line\"},{\"attributes\":{\"months\":[0,2,4,6,8,10]},\"id\":\"25b21801-ba51-4d0b-962c-c3d40f8cf2b2\",\"type\":\"MonthsTicker\"},{\"attributes\":{\"data_source\":{\"id\":\"6e481cc1-c089-4037-8c01-961944aaed7e\",\"type\":\"ColumnDataSource\"},\"glyph\":{\"id\":\"1f10f8d5-aa63-4a1c-8cb9-7ebb9958c290\",\"type\":\"Line\"},\"hover_glyph\":null,\"muted_glyph\":null,\"nonselection_glyph\":{\"id\":\"4306a806-01b2-4f24-84f2-f49d8a557246\",\"type\":\"Line\"},\"selection_glyph\":null,\"view\":{\"id\":\"aed6cbae-bb3f-41d7-a324-1d5fb624b09c\",\"type\":\"CDSView\"}},\"id\":\"e79413d0-fafb-4a42-8ecb-19e71be79f64\",\"type\":\"GlyphRenderer\"},{\"attributes\":{\"data_source\":{\"id\":\"6e481cc1-c089-4037-8c01-961944aaed7e\",\"type\":\"ColumnDataSource\"},\"glyph\":{\"id\":\"8a13bbf6-3c13-41e6-a307-eb2352f0ee9b\",\"type\":\"VBar\"},\"hover_glyph\":null,\"muted_glyph\":null,\"nonselection_glyph\":{\"id\":\"d85a164e-62c3-4607-9fdd-f8aee0952588\",\"type\":\"VBar\"},\"selection_glyph\":null,\"view\":{\"id\":\"e0977305-2be6-4d51-9f44-7c0313f80391\",\"type\":\"CDSView\"}},\"id\":\"f2d40531-f397-4d63-8504-bf1b837b3f46\",\"type\":\"GlyphRenderer\"},{\"attributes\":{\"months\":[0,4,8]},\"id\":\"b4860ea5-9409-4217-837e-60750e230551\",\"type\":\"MonthsTicker\"},{\"attributes\":{\"children\":[{\"id\":\"e164d05d-288a-4756-97a4-3c98e21b9db6\",\"type\":\"Row\"},{\"id\":\"d83051b4-8ff3-4aae-b271-69cc180042b3\",\"type\":\"Row\"}]},\"id\":\"9da77dff-7c89-428d-90ab-ca2d6afb0549\",\"type\":\"Column\"},{\"attributes\":{\"months\":[0,6]},\"id\":\"93b6b670-a125-47aa-bbac-930317160b76\",\"type\":\"MonthsTicker\"},{\"attributes\":{\"max_interval\":500.0,\"num_minor_ticks\":0},\"id\":\"7a808ce5-0190-4f9f-8d53-5897b4468f6a\",\"type\":\"AdaptiveTicker\"},{\"attributes\":{\"sizing_mode\":\"scale_width\",\"toolbar_location\":\"above\",\"tools\":[{\"id\":\"33405882-ee06-4ae9-b2f8-b7346364e6ad\",\"type\":\"PanTool\"},{\"id\":\"661c7ee7-146f-4a3f-b91b-f476f5819d8d\",\"type\":\"WheelZoomTool\"},{\"id\":\"83aee978-e39a-4ecf-adf6-353e5e896637\",\"type\":\"BoxZoomTool\"},{\"id\":\"ae235985-771d-4691-b141-61d918d3e289\",\"type\":\"SaveTool\"},{\"id\":\"08f4b206-8d23-4f3e-8d70-b8f7ea9a8e96\",\"type\":\"ResetTool\"},{\"id\":\"d169d841-ee7d-46f5-b5c6-fab242dd888b\",\"type\":\"HelpTool\"},{\"id\":\"292c7954-d734-4095-841f-fa455d1fcb3b\",\"type\":\"PanTool\"},{\"id\":\"651ef9fd-ba8b-4d4a-90cb-529b6154f123\",\"type\":\"WheelZoomTool\"},{\"id\":\"ff09b457-d860-496c-b49a-ea563b35489f\",\"type\":\"BoxZoomTool\"},{\"id\":\"621f437a-82e5-46b9-bcd2-c47eba0b2b60\",\"type\":\"SaveTool\"},{\"id\":\"b844ca40-da3a-467e-9076-7f17034de9d4\",\"type\":\"ResetTool\"},{\"id\":\"02bac55c-09a7-4c4a-be9c-9a2435c27d51\",\"type\":\"HelpTool\"}]},\"id\":\"6139f297-c688-448f-b85c-8779af4cb411\",\"type\":\"ToolbarBox\"},{\"attributes\":{\"label\":{\"value\":\"Baseline Trend\"},\"renderers\":[{\"id\":\"15b962e4-52c4-4472-960b-4cea7d08e385\",\"type\":\"GlyphRenderer\"}]},\"id\":\"55650047-a99d-4840-8f68-4ed8cc7a22f0\",\"type\":\"LegendItem\"},{\"attributes\":{},\"id\":\"bca4ff38-e27a-4c43-9fd5-938b07c76ad1\",\"type\":\"YearsTicker\"},{\"attributes\":{\"children\":[{\"id\":\"6139f297-c688-448f-b85c-8779af4cb411\",\"type\":\"ToolbarBox\"},{\"id\":\"9da77dff-7c89-428d-90ab-ca2d6afb0549\",\"type\":\"Column\"}]},\"id\":\"7e95f82a-791c-4a21-890f-3ebe5dbca9ac\",\"type\":\"Column\"},{\"attributes\":{\"click_policy\":\"hide\",\"items\":[{\"id\":\"07452134-a554-46fe-a1be-008ee4931f99\",\"type\":\"LegendItem\"},{\"id\":\"dea619af-8d23-456b-b3e7-8267c7c3129b\",\"type\":\"LegendItem\"},{\"id\":\"da18b304-900c-479c-a50b-c098f7a6459f\",\"type\":\"LegendItem\"},{\"id\":\"55650047-a99d-4840-8f68-4ed8cc7a22f0\",\"type\":\"LegendItem\"},{\"id\":\"9b2185b8-13b6-4b34-8f09-813b28f1c0b1\",\"type\":\"LegendItem\"},{\"id\":\"350714b9-751b-4f09-8db4-f8fbea8d4abf\",\"type\":\"LegendItem\"},{\"id\":\"1e1e8702-1101-4fba-b0f9-2577b513a326\",\"type\":\"LegendItem\"}],\"location\":\"top_left\",\"plot\":{\"id\":\"e09d61a3-8d14-42a5-b582-1dd279edc312\",\"subtype\":\"Figure\",\"type\":\"Plot\"}},\"id\":\"c697e6c2-aba0-4360-84ef-34d863b81e15\",\"type\":\"Legend\"},{\"attributes\":{\"overlay\":{\"id\":\"69e0dbe8-6a5d-40d0-bea4-b270a3f782a9\",\"type\":\"BoxAnnotation\"}},\"id\":\"ff09b457-d860-496c-b49a-ea563b35489f\",\"type\":\"BoxZoomTool\"},{\"attributes\":{\"label\":{\"value\":\"Best ARMA\"},\"renderers\":[{\"id\":\"88214f8f-20d2-4784-a0bc-ae387de445c6\",\"type\":\"GlyphRenderer\"}]},\"id\":\"07452134-a554-46fe-a1be-008ee4931f99\",\"type\":\"LegendItem\"},{\"attributes\":{\"label\":{\"value\":\"Best ARMA\"},\"renderers\":[{\"id\":\"1389e31d-4a67-4b3a-afb6-6a05b8a369d0\",\"type\":\"GlyphRenderer\"}]},\"id\":\"4d0a1a15-905f-4161-ac4a-1922795154d6\",\"type\":\"LegendItem\"},{\"attributes\":{\"fill_alpha\":{\"value\":0.1},\"fill_color\":{\"value\":\"#1f77b4\"},\"line_alpha\":{\"value\":0.1},\"line_color\":{\"value\":\"#1f77b4\"},\"top\":{\"field\":\"Boston, MA metro area All Residential Median Sale Price Best SARMA Error\"},\"width\":{\"value\":0.5},\"x\":{\"field\":\"date\"}},\"id\":\"3db770dd-1c6b-4bd3-b93d-01497b57736f\",\"type\":\"VBar\"},{\"attributes\":{\"fill_alpha\":{\"value\":0.1},\"fill_color\":{\"value\":\"#1f77b4\"},\"line_alpha\":{\"value\":0.1},\"line_color\":{\"value\":\"#1f77b4\"},\"top\":{\"field\":\"Boston, MA metro area All Residential Median Sale Price Trend Seasonality Error\"},\"width\":{\"value\":0.5},\"x\":{\"field\":\"date\"}},\"id\":\"7168fa2d-2bab-437b-9455-096ab7cfc732\",\"type\":\"VBar\"},{\"attributes\":{\"source\":{\"id\":\"6e481cc1-c089-4037-8c01-961944aaed7e\",\"type\":\"ColumnDataSource\"}},\"id\":\"2fe3c415-29e2-492e-a573-7eda1eea3432\",\"type\":\"CDSView\"},{\"attributes\":{\"source\":{\"id\":\"6e481cc1-c089-4037-8c01-961944aaed7e\",\"type\":\"ColumnDataSource\"}},\"id\":\"dd7c0e64-cd5b-44a2-bc8a-3c7e2c03d12c\",\"type\":\"CDSView\"},{\"attributes\":{\"data_source\":{\"id\":\"6e481cc1-c089-4037-8c01-961944aaed7e\",\"type\":\"ColumnDataSource\"},\"glyph\":{\"id\":\"c78c9fc3-b39e-4236-b167-53610a023e13\",\"type\":\"Line\"},\"hover_glyph\":null,\"muted_glyph\":null,\"nonselection_glyph\":{\"id\":\"eae57ae2-dd3f-4203-b1c0-0a7bd975c546\",\"type\":\"Line\"},\"selection_glyph\":null,\"view\":{\"id\":\"2e7720f8-4940-47f4-81a9-cacf1494d343\",\"type\":\"CDSView\"}},\"id\":\"bc9882b3-7a84-4477-a58b-7612306dbc71\",\"type\":\"GlyphRenderer\"},{\"attributes\":{\"data_source\":{\"id\":\"6e481cc1-c089-4037-8c01-961944aaed7e\",\"type\":\"ColumnDataSource\"},\"glyph\":{\"id\":\"f2a3754b-c6d0-497d-b6f5-91b24feff27f\",\"type\":\"VBar\"},\"hover_glyph\":null,\"muted_glyph\":null,\"nonselection_glyph\":{\"id\":\"7168fa2d-2bab-437b-9455-096ab7cfc732\",\"type\":\"VBar\"},\"selection_glyph\":null,\"view\":{\"id\":\"dd7c0e64-cd5b-44a2-bc8a-3c7e2c03d12c\",\"type\":\"CDSView\"}},\"id\":\"2c19154a-b7ba-4714-8450-cfe4d4e72cd2\",\"type\":\"GlyphRenderer\"},{\"attributes\":{},\"id\":\"621f437a-82e5-46b9-bcd2-c47eba0b2b60\",\"type\":\"SaveTool\"},{\"attributes\":{\"label\":{\"value\":\"Median Sale Price\"},\"renderers\":[{\"id\":\"bc9882b3-7a84-4477-a58b-7612306dbc71\",\"type\":\"GlyphRenderer\"}]},\"id\":\"1e1e8702-1101-4fba-b0f9-2577b513a326\",\"type\":\"LegendItem\"},{\"attributes\":{\"line_alpha\":{\"value\":0.1},\"line_color\":{\"value\":\"#1f77b4\"},\"line_width\":{\"value\":2},\"x\":{\"field\":\"date\"},\"y\":{\"field\":\"Boston, MA metro area All Residential Median Sale Price\"}},\"id\":\"eae57ae2-dd3f-4203-b1c0-0a7bd975c546\",\"type\":\"Line\"},{\"attributes\":{\"data_source\":{\"id\":\"6e481cc1-c089-4037-8c01-961944aaed7e\",\"type\":\"ColumnDataSource\"},\"glyph\":{\"id\":\"3fb68127-4a86-475e-b80e-14b8e7f087fb\",\"type\":\"VBar\"},\"hover_glyph\":null,\"muted_glyph\":null,\"nonselection_glyph\":{\"id\":\"f0105fe3-dbcd-4232-9a38-89b7946867a5\",\"type\":\"VBar\"},\"selection_glyph\":null,\"view\":{\"id\":\"2fe3c415-29e2-492e-a573-7eda1eea3432\",\"type\":\"CDSView\"}},\"id\":\"046f0575-8378-4774-ae41-3c58d025a383\",\"type\":\"GlyphRenderer\"},{\"attributes\":{\"label\":{\"value\":\"Trend Seasonality Additional\"},\"renderers\":[{\"id\":\"1a92375d-d475-4f4b-9b82-ba0058abd323\",\"type\":\"GlyphRenderer\"}]},\"id\":\"350714b9-751b-4f09-8db4-f8fbea8d4abf\",\"type\":\"LegendItem\"},{\"attributes\":{\"fill_color\":{\"value\":\"#d95f02\"},\"line_color\":{\"value\":\"#d95f02\"},\"top\":{\"field\":\"Boston, MA metro area All Residential Median Sale Price Best ARMA Add Error\"},\"width\":{\"value\":0.5},\"x\":{\"field\":\"date\"}},\"id\":\"3fb68127-4a86-475e-b80e-14b8e7f087fb\",\"type\":\"VBar\"},{\"attributes\":{\"source\":{\"id\":\"6e481cc1-c089-4037-8c01-961944aaed7e\",\"type\":\"ColumnDataSource\"}},\"id\":\"2e7720f8-4940-47f4-81a9-cacf1494d343\",\"type\":\"CDSView\"},{\"attributes\":{\"fill_color\":{\"value\":\"#1b9e77\"},\"line_color\":{\"value\":\"#1b9e77\"},\"top\":{\"field\":\"Boston, MA metro area All Residential Median Sale Price Best ARMA Error\"},\"width\":{\"value\":0.5},\"x\":{\"field\":\"date\"}},\"id\":\"6ffb587e-dfb0-4932-b304-01ac30d3ad67\",\"type\":\"VBar\"},{\"attributes\":{\"line_color\":{\"value\":\"#7570b3\"},\"line_width\":{\"value\":2},\"x\":{\"field\":\"date\"},\"y\":{\"field\":\"Boston, MA metro area All Residential Median Sale Price Best SARMA\"}},\"id\":\"a16aef66-9eb4-4be2-b277-dc2ce8ca55b0\",\"type\":\"Line\"},{\"attributes\":{\"source\":{\"id\":\"6e481cc1-c089-4037-8c01-961944aaed7e\",\"type\":\"ColumnDataSource\"}},\"id\":\"6e563d1e-cd0f-43f8-a249-eb9132029342\",\"type\":\"CDSView\"},{\"attributes\":{\"fill_alpha\":{\"value\":0.1},\"fill_color\":{\"value\":\"#1f77b4\"},\"line_alpha\":{\"value\":0.1},\"line_color\":{\"value\":\"#1f77b4\"},\"top\":{\"field\":\"Boston, MA metro area All Residential Median Sale Price Best ARMA Add Error\"},\"width\":{\"value\":0.5},\"x\":{\"field\":\"date\"}},\"id\":\"f0105fe3-dbcd-4232-9a38-89b7946867a5\",\"type\":\"VBar\"},{\"attributes\":{\"line_color\":{\"value\":\"#d95f02\"},\"line_width\":{\"value\":2},\"x\":{\"field\":\"date\"},\"y\":{\"field\":\"Boston, MA metro area All Residential Median Sale Price Best ARMA Add\"}},\"id\":\"1613034d-1ce5-4008-903c-210e986680b1\",\"type\":\"Line\"},{\"attributes\":{},\"id\":\"292c7954-d734-4095-841f-fa455d1fcb3b\",\"type\":\"PanTool\"},{\"attributes\":{},\"id\":\"b844ca40-da3a-467e-9076-7f17034de9d4\",\"type\":\"ResetTool\"},{\"attributes\":{\"label\":{\"value\":\"Best ARMA Add\"},\"renderers\":[{\"id\":\"6a94ef40-fadf-406e-944b-22d680517d2e\",\"type\":\"GlyphRenderer\"}]},\"id\":\"dea619af-8d23-456b-b3e7-8267c7c3129b\",\"type\":\"LegendItem\"},{\"attributes\":{\"label\":{\"value\":\"Trend Seasonality\"},\"renderers\":[{\"id\":\"2c19154a-b7ba-4714-8450-cfe4d4e72cd2\",\"type\":\"GlyphRenderer\"}]},\"id\":\"185dbb72-53cd-47bc-9174-07637efd4561\",\"type\":\"LegendItem\"},{\"attributes\":{},\"id\":\"651ef9fd-ba8b-4d4a-90cb-529b6154f123\",\"type\":\"WheelZoomTool\"},{\"attributes\":{\"line_alpha\":{\"value\":0.1},\"line_color\":{\"value\":\"#1f77b4\"},\"line_width\":{\"value\":2},\"x\":{\"field\":\"date\"},\"y\":{\"field\":\"Boston, MA metro area All Residential Median Sale Price Best ARMA Add\"}},\"id\":\"23eacd68-62b7-4c9a-84e3-1eed6cdd219a\",\"type\":\"Line\"},{\"attributes\":{\"data_source\":{\"id\":\"6e481cc1-c089-4037-8c01-961944aaed7e\",\"type\":\"ColumnDataSource\"},\"glyph\":{\"id\":\"1613034d-1ce5-4008-903c-210e986680b1\",\"type\":\"Line\"},\"hover_glyph\":null,\"muted_glyph\":null,\"nonselection_glyph\":{\"id\":\"23eacd68-62b7-4c9a-84e3-1eed6cdd219a\",\"type\":\"Line\"},\"selection_glyph\":null,\"view\":{\"id\":\"0ca24645-81b5-40f2-88d7-89557c7fd0a4\",\"type\":\"CDSView\"}},\"id\":\"6a94ef40-fadf-406e-944b-22d680517d2e\",\"type\":\"GlyphRenderer\"},{\"attributes\":{\"source\":{\"id\":\"6e481cc1-c089-4037-8c01-961944aaed7e\",\"type\":\"ColumnDataSource\"}},\"id\":\"0ca24645-81b5-40f2-88d7-89557c7fd0a4\",\"type\":\"CDSView\"}],\"root_ids\":[\"7e95f82a-791c-4a21-890f-3ebe5dbca9ac\"]},\"title\":\"Bokeh Application\",\"version\":\"0.12.7\"}};\n",
       "            var render_items = [{\"docid\":\"2cb8b10b-ff0a-46ff-ba07-50b8c0680e98\",\"elementid\":\"9081cc78-db94-4389-bff7-684e5efde766\",\"modelid\":\"7e95f82a-791c-4a21-890f-3ebe5dbca9ac\"}];\n",
       "            \n",
       "            Bokeh.embed.embed_items(docs_json, render_items);\n",
       "          };\n",
       "          if (document.readyState != \"loading\") fn();\n",
       "          else document.addEventListener(\"DOMContentLoaded\", fn);\n",
       "        })();\n",
       "      },\n",
       "      function(Bokeh) {\n",
       "      }\n",
       "    ];\n",
       "  \n",
       "    function run_inline_js() {\n",
       "      \n",
       "      if ((root.Bokeh !== undefined) || (force === true)) {\n",
       "        for (var i = 0; i < inline_js.length; i++) {\n",
       "          inline_js[i].call(root, root.Bokeh);\n",
       "        }if (force === true) {\n",
       "          display_loaded();\n",
       "        }} else if (Date.now() < root._bokeh_timeout) {\n",
       "        setTimeout(run_inline_js, 100);\n",
       "      } else if (!root._bokeh_failed_load) {\n",
       "        console.log(\"Bokeh: BokehJS failed to load within specified timeout.\");\n",
       "        root._bokeh_failed_load = true;\n",
       "      } else if (force !== true) {\n",
       "        var cell = $(document.getElementById(\"9081cc78-db94-4389-bff7-684e5efde766\")).parents('.cell').data().cell;\n",
       "        cell.output_area.append_execute_result(NB_LOAD_WARNING)\n",
       "      }\n",
       "  \n",
       "    }\n",
       "  \n",
       "    if (root._bokeh_is_loading === 0) {\n",
       "      console.log(\"Bokeh: BokehJS loaded, going straight to plotting\");\n",
       "      run_inline_js();\n",
       "    } else {\n",
       "      load_libs(js_urls, function() {\n",
       "        console.log(\"Bokeh: BokehJS plotting callback run at\", now());\n",
       "        run_inline_js();\n",
       "      });\n",
       "    }\n",
       "  }(window));\n",
       "</script>"
      ]
     },
     "metadata": {},
     "output_type": "display_data"
    }
   ],
   "source": [
    "from bokeh.charts import TimeSeries\n",
    "from bokeh.models import ColumnDataSource, DataRange1d, Range1d\n",
    "from bokeh.io import gridplot, output_file, output_notebook, show\n",
    "from bokeh.plotting import figure\n",
    "from bokeh.models.widgets import Dropdown\n",
    "from bokeh.models.widgets import Select\n",
    "from bokeh.layouts import widgetbox\n",
    "from bokeh.palettes import Spectral7, Dark2_7, Category10, Viridis7, Category10_7, Set2_7\n",
    "from bokeh.models import Legend\n",
    "output_notebook()\n",
    "\n",
    "# city\n",
    "city = 'Boston, MA metro area'\n",
    "\n",
    "#top line chart y_range=Range1d(300, 510)\n",
    "p = figure(plot_width=900, plot_height=350, title=city+' Predictions', x_axis_type=\"datetime\")\n",
    "for model_pred_col,leg,color in zip(model_pred_cols,model_legs,Dark2_7):\n",
    "    #print(model_pred_col)\n",
    "    p.line('date',model_pred_col, source=source, legend=leg, color=color, line_width=2)\n",
    "#draw the target\n",
    "p.line('date','Boston, MA metro area All Residential Median Sale Price', \n",
    "       source=source, legend='Median Sale Price',color='red', line_width=2)\n",
    "\n",
    "\n",
    "ydr = DataRange1d()\n",
    "\n",
    "#bottom chart\n",
    "q = figure(plot_width=900, plot_height=350, x_range=p.x_range, y_range=Range1d(-30, 30), title=city+' Errors', x_axis_type=\"datetime\")\n",
    "for model_error_col,leg,color in zip(model_error_cols,model_legs,Dark2_7):\n",
    "    q.vbar('date', top=model_error_col, width=.5, source=source, legend=leg, color=color)\n",
    "\n",
    "#p.line(,'Boston, MA metro area All Residential Median Sale Price Trend Seasonality Additional Error')\n",
    "#p.circle('x', 'a', size=4, source=source)\n",
    "\n",
    " #main plot\n",
    "p.background_fill_color = \"gray\"\n",
    "p.background_fill_alpha = .2\n",
    "\n",
    "p.xgrid.grid_line_color = None\n",
    "p.ygrid.grid_line_color = 'black'\n",
    "p.ygrid.grid_line_alpha = 0.5\n",
    "p.ygrid.grid_line_dash = [6, 4]\n",
    "\n",
    "q.background_fill_color = \"gray\"\n",
    "q.background_fill_alpha = .2\n",
    "\n",
    "# q.xgrid.grid_line_color = None\n",
    "# q.ygrid.grid_line_color = 'black'\n",
    "# q.ygrid.grid_line_alpha = 0.5\n",
    "# q.ygrid.grid_line_dash = [6, 4]\n",
    "\n",
    "\n",
    "#move legend outside\n",
    "# legend = Legend((items=models), location=(0, -30))\n",
    "\n",
    "# p.add_layout(legend, 'right')\n",
    "\n",
    "# put all the plots in a grid layout\n",
    "r = gridplot([[p], [q]])\n",
    "\n",
    "p.legend.location = \"top_left\"\n",
    "p.legend.click_policy = \"hide\"\n",
    "\n",
    "q.legend.location = \"top_left\"\n",
    "q.legend.click_policy = \"hide\"\n",
    "\n",
    "output_notebook()\n",
    "\n",
    "show(r)"
   ]
  },
  {
   "cell_type": "markdown",
   "metadata": {},
   "source": [
    "# What models predict housing prices the best, and why?\n",
    "\n",
    "<img src=\"/files/seasonality.png\" style=\"float: left; height: 510px\">\n",
    "Redfin housing data of ~30 major metro regions in the USA\n",
    "\n",
    "# Key Findings:\n",
    "- Each housing market has a unique seasonal trends\n",
    "    - Assuming the quality of housing stock is equal throughout the season, it is key to base purchasing decisions off of the local market trend, not the national\n",
    "        - __Boston__, buy in _Feb_, sell _July through August_, range of __65k__\n",
    "        - __San Jose__, buy in _Jan_, sell _April through July_, range of __100k__\n",
    "- Seasonal Decomposition models perform best across all cities\n",
    "    - 57% better than trend baseline\n",
    "    - 27-56% better than best SARIMA\n",
    "    - 37-52% better than best ARIMA\n"
   ]
  },
  {
   "cell_type": "markdown",
   "metadata": {
    "collapsed": true
   },
   "source": [
    "<img src=\"/files/seasonality.png\" style=\"float: left; height: 510px\">"
   ]
  },
  {
   "cell_type": "markdown",
   "metadata": {},
   "source": [
    "<img src=\"/files/hists_t1.png\" style=\"float: left; height: 800px\">"
   ]
  },
  {
   "cell_type": "markdown",
   "metadata": {},
   "source": [
    "<img src=\"/files/a.png\" style=\"float: left; height: 150px\">"
   ]
  },
  {
   "cell_type": "code",
   "execution_count": null,
   "metadata": {
    "collapsed": true
   },
   "outputs": [],
   "source": []
  },
  {
   "cell_type": "code",
   "execution_count": null,
   "metadata": {
    "collapsed": true
   },
   "outputs": [],
   "source": []
  }
 ],
 "metadata": {
  "kernelspec": {
   "display_name": "Python 3",
   "language": "python",
   "name": "python3"
  },
  "language_info": {
   "codemirror_mode": {
    "name": "ipython",
    "version": 3
   },
   "file_extension": ".py",
   "mimetype": "text/x-python",
   "name": "python",
   "nbconvert_exporter": "python",
   "pygments_lexer": "ipython3",
   "version": "3.6.2"
  }
 },
 "nbformat": 4,
 "nbformat_minor": 2
}
